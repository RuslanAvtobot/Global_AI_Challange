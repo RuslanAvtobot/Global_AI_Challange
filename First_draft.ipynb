{
 "cells": [
  {
   "cell_type": "code",
   "execution_count": 246,
   "id": "8d9238e3",
   "metadata": {},
   "outputs": [],
   "source": [
    "import pandas as pd\n",
    "import numpy as np"
   ]
  },
  {
   "cell_type": "code",
   "execution_count": 247,
   "id": "570276c6",
   "metadata": {},
   "outputs": [],
   "source": [
    "test = pd.read_csv('Task/test.csv')\n",
    "test.drop(['Unnamed: 0'], axis = 1, inplace = True)"
   ]
  },
  {
   "cell_type": "code",
   "execution_count": 248,
   "id": "eb20633a",
   "metadata": {},
   "outputs": [
    {
     "name": "stdout",
     "output_type": "stream",
     "text": [
      "<class 'pandas.core.frame.DataFrame'>\n",
      "RangeIndex: 1614 entries, 0 to 1613\n",
      "Data columns (total 1 columns):\n",
      " #   Column  Non-Null Count  Dtype \n",
      "---  ------  --------------  ----- \n",
      " 0   Smiles  1614 non-null   object\n",
      "dtypes: object(1)\n",
      "memory usage: 12.7+ KB\n"
     ]
    }
   ],
   "source": [
    "test.info()"
   ]
  },
  {
   "cell_type": "code",
   "execution_count": 249,
   "id": "336b15e5",
   "metadata": {},
   "outputs": [
    {
     "data": {
      "text/html": [
       "<div>\n",
       "<style scoped>\n",
       "    .dataframe tbody tr th:only-of-type {\n",
       "        vertical-align: middle;\n",
       "    }\n",
       "\n",
       "    .dataframe tbody tr th {\n",
       "        vertical-align: top;\n",
       "    }\n",
       "\n",
       "    .dataframe thead th {\n",
       "        text-align: right;\n",
       "    }\n",
       "</style>\n",
       "<table border=\"1\" class=\"dataframe\">\n",
       "  <thead>\n",
       "    <tr style=\"text-align: right;\">\n",
       "      <th></th>\n",
       "      <th>Smiles</th>\n",
       "    </tr>\n",
       "  </thead>\n",
       "  <tbody>\n",
       "    <tr>\n",
       "      <th>42</th>\n",
       "      <td>Cc1cc(C(=O)Nc2cccc(C(=O)Nc3cccc(C(F)(F)F)c3)c2...</td>\n",
       "    </tr>\n",
       "    <tr>\n",
       "      <th>64</th>\n",
       "      <td>NC(=O)c1cnc(N[C@@H]2CCCC[C@@H]2N)nc1Nc1cccc(-n...</td>\n",
       "    </tr>\n",
       "    <tr>\n",
       "      <th>1050</th>\n",
       "      <td>N[C@@H](CC(=O)NO)C(=O)O</td>\n",
       "    </tr>\n",
       "  </tbody>\n",
       "</table>\n",
       "</div>"
      ],
      "text/plain": [
       "                                                 Smiles\n",
       "42    Cc1cc(C(=O)Nc2cccc(C(=O)Nc3cccc(C(F)(F)F)c3)c2...\n",
       "64    NC(=O)c1cnc(N[C@@H]2CCCC[C@@H]2N)nc1Nc1cccc(-n...\n",
       "1050                            N[C@@H](CC(=O)NO)C(=O)O"
      ]
     },
     "execution_count": 249,
     "metadata": {},
     "output_type": "execute_result"
    }
   ],
   "source": [
    "test.sample(3)"
   ]
  },
  {
   "cell_type": "code",
   "execution_count": 250,
   "id": "add82b7b",
   "metadata": {},
   "outputs": [],
   "source": [
    "train = pd.read_csv('Task/train.csv')\n",
    "train.drop(['Unnamed: 0'], axis = 1, inplace = True)"
   ]
  },
  {
   "cell_type": "code",
   "execution_count": 251,
   "id": "89d19e39",
   "metadata": {},
   "outputs": [
    {
     "name": "stdout",
     "output_type": "stream",
     "text": [
      "<class 'pandas.core.frame.DataFrame'>\n",
      "RangeIndex: 5557 entries, 0 to 5556\n",
      "Data columns (total 2 columns):\n",
      " #   Column  Non-Null Count  Dtype \n",
      "---  ------  --------------  ----- \n",
      " 0   Smiles  5557 non-null   object\n",
      " 1   Active  5557 non-null   bool  \n",
      "dtypes: bool(1), object(1)\n",
      "memory usage: 49.0+ KB\n"
     ]
    }
   ],
   "source": [
    "train.info()"
   ]
  },
  {
   "cell_type": "code",
   "execution_count": 252,
   "id": "0215a653",
   "metadata": {
    "scrolled": true
   },
   "outputs": [
    {
     "data": {
      "text/html": [
       "<div>\n",
       "<style scoped>\n",
       "    .dataframe tbody tr th:only-of-type {\n",
       "        vertical-align: middle;\n",
       "    }\n",
       "\n",
       "    .dataframe tbody tr th {\n",
       "        vertical-align: top;\n",
       "    }\n",
       "\n",
       "    .dataframe thead th {\n",
       "        text-align: right;\n",
       "    }\n",
       "</style>\n",
       "<table border=\"1\" class=\"dataframe\">\n",
       "  <thead>\n",
       "    <tr style=\"text-align: right;\">\n",
       "      <th></th>\n",
       "      <th>Smiles</th>\n",
       "      <th>Active</th>\n",
       "    </tr>\n",
       "  </thead>\n",
       "  <tbody>\n",
       "    <tr>\n",
       "      <th>3930</th>\n",
       "      <td>CCS(=O)(=O)N(Cc1cccnc1)c1cccc(-c2ccc(C#N)cc2)c1</td>\n",
       "      <td>False</td>\n",
       "    </tr>\n",
       "    <tr>\n",
       "      <th>1458</th>\n",
       "      <td>Cc1ncc([N+](=O)[O-])n1C</td>\n",
       "      <td>False</td>\n",
       "    </tr>\n",
       "    <tr>\n",
       "      <th>312</th>\n",
       "      <td>CCN(CC)Cc1ccc2cc(COC(=O)Nc3ccc(C(=O)NO)cc3)ccc2c1</td>\n",
       "      <td>False</td>\n",
       "    </tr>\n",
       "  </tbody>\n",
       "</table>\n",
       "</div>"
      ],
      "text/plain": [
       "                                                 Smiles  Active\n",
       "3930    CCS(=O)(=O)N(Cc1cccnc1)c1cccc(-c2ccc(C#N)cc2)c1   False\n",
       "1458                            Cc1ncc([N+](=O)[O-])n1C   False\n",
       "312   CCN(CC)Cc1ccc2cc(COC(=O)Nc3ccc(C(=O)NO)cc3)ccc2c1   False"
      ]
     },
     "execution_count": 252,
     "metadata": {},
     "output_type": "execute_result"
    }
   ],
   "source": [
    "train.sample(3)"
   ]
  },
  {
   "cell_type": "code",
   "execution_count": 253,
   "id": "cef19160",
   "metadata": {},
   "outputs": [
    {
     "data": {
      "text/plain": [
       "[False, True]"
      ]
     },
     "execution_count": 253,
     "metadata": {},
     "output_type": "execute_result"
    }
   ],
   "source": [
    "list(train['Active'].unique())"
   ]
  },
  {
   "cell_type": "code",
   "execution_count": 254,
   "id": "9016b0c1",
   "metadata": {},
   "outputs": [],
   "source": [
    "list_active = {False: 0, True: 1}"
   ]
  },
  {
   "cell_type": "code",
   "execution_count": 255,
   "id": "e152f229",
   "metadata": {},
   "outputs": [],
   "source": [
    "train['Active'] = train['Active'].map(list_active)"
   ]
  },
  {
   "cell_type": "code",
   "execution_count": 256,
   "id": "22f771b4",
   "metadata": {},
   "outputs": [
    {
     "data": {
      "text/html": [
       "<div>\n",
       "<style scoped>\n",
       "    .dataframe tbody tr th:only-of-type {\n",
       "        vertical-align: middle;\n",
       "    }\n",
       "\n",
       "    .dataframe tbody tr th {\n",
       "        vertical-align: top;\n",
       "    }\n",
       "\n",
       "    .dataframe thead th {\n",
       "        text-align: right;\n",
       "    }\n",
       "</style>\n",
       "<table border=\"1\" class=\"dataframe\">\n",
       "  <thead>\n",
       "    <tr style=\"text-align: right;\">\n",
       "      <th></th>\n",
       "      <th>Smiles</th>\n",
       "      <th>Active</th>\n",
       "    </tr>\n",
       "  </thead>\n",
       "  <tbody>\n",
       "    <tr>\n",
       "      <th>4701</th>\n",
       "      <td>COCCNC(=O)Cn1cnc([N+](=O)[O-])n1</td>\n",
       "      <td>0</td>\n",
       "    </tr>\n",
       "  </tbody>\n",
       "</table>\n",
       "</div>"
      ],
      "text/plain": [
       "                                Smiles  Active\n",
       "4701  COCCNC(=O)Cn1cnc([N+](=O)[O-])n1       0"
      ]
     },
     "execution_count": 256,
     "metadata": {},
     "output_type": "execute_result"
    }
   ],
   "source": [
    "train.sample()"
   ]
  },
  {
   "cell_type": "code",
   "execution_count": 257,
   "id": "035c4ea5",
   "metadata": {},
   "outputs": [],
   "source": [
    "train['train'] = 1\n",
    "test['train'] = 0"
   ]
  },
  {
   "cell_type": "code",
   "execution_count": 258,
   "id": "db842ff6",
   "metadata": {},
   "outputs": [],
   "source": [
    "df = pd.concat([train, test], ignore_index=True)"
   ]
  },
  {
   "cell_type": "code",
   "execution_count": 259,
   "id": "306fe409",
   "metadata": {},
   "outputs": [
    {
     "name": "stdout",
     "output_type": "stream",
     "text": [
      "<class 'pandas.core.frame.DataFrame'>\n",
      "RangeIndex: 7171 entries, 0 to 7170\n",
      "Data columns (total 3 columns):\n",
      " #   Column  Non-Null Count  Dtype  \n",
      "---  ------  --------------  -----  \n",
      " 0   Smiles  7171 non-null   object \n",
      " 1   Active  5557 non-null   float64\n",
      " 2   train   7171 non-null   int64  \n",
      "dtypes: float64(1), int64(1), object(1)\n",
      "memory usage: 168.2+ KB\n"
     ]
    }
   ],
   "source": [
    "df.info()"
   ]
  },
  {
   "cell_type": "code",
   "execution_count": 260,
   "id": "37361ff3",
   "metadata": {},
   "outputs": [
    {
     "data": {
      "text/plain": [
       "array([1, 0], dtype=int64)"
      ]
     },
     "execution_count": 260,
     "metadata": {},
     "output_type": "execute_result"
    }
   ],
   "source": [
    "df['train'].unique()"
   ]
  },
  {
   "cell_type": "code",
   "execution_count": 261,
   "id": "3159d184",
   "metadata": {},
   "outputs": [
    {
     "data": {
      "text/plain": [
       "0.0    5351\n",
       "1.0     206\n",
       "Name: Active, dtype: int64"
      ]
     },
     "execution_count": 261,
     "metadata": {},
     "output_type": "execute_result"
    }
   ],
   "source": [
    "df[df['train'] == 1]['Active'].value_counts()"
   ]
  },
  {
   "cell_type": "code",
   "execution_count": 262,
   "id": "f1d183ae",
   "metadata": {},
   "outputs": [],
   "source": [
    "from collections import Counter\n",
    "\n",
    "atoms = Counter()\n",
    "for i in df['Smiles'].unique():\n",
    "    for j in i:\n",
    "        atoms[j] += 1"
   ]
  },
  {
   "cell_type": "code",
   "execution_count": 263,
   "id": "0b83d9ee",
   "metadata": {},
   "outputs": [
    {
     "data": {
      "text/plain": [
       "67272"
      ]
     },
     "execution_count": 263,
     "metadata": {},
     "output_type": "execute_result"
    }
   ],
   "source": [
    "atoms['C']"
   ]
  },
  {
   "cell_type": "code",
   "execution_count": 264,
   "id": "ef57d4bd",
   "metadata": {},
   "outputs": [],
   "source": [
    "new_columnes = list(atoms.keys())"
   ]
  },
  {
   "cell_type": "code",
   "execution_count": 265,
   "id": "37c3984b",
   "metadata": {},
   "outputs": [
    {
     "name": "stdout",
     "output_type": "stream",
     "text": [
      "['C', 'O', 'c', '1', '2', '[', 'n', 'H', ']', '(', 'N', ')', '@', '.', 'l', '=', 'S', '3', '4', 'F', '-', 's', '/', '5', 'o', 'a', '+', '#', 'I', 'P', 'B', 'r', '\\\\', 'Z', '6', '7', '8', 'e', 'A', 'K', 'M', 'g', 'i', 'L', '9']\n"
     ]
    }
   ],
   "source": [
    "print(new_columnes)"
   ]
  },
  {
   "cell_type": "code",
   "execution_count": 266,
   "id": "471c21ce",
   "metadata": {},
   "outputs": [],
   "source": [
    "df['len_smiles'] = df['Smiles'].apply(lambda x: len(x))"
   ]
  },
  {
   "cell_type": "code",
   "execution_count": 267,
   "id": "a3e8d6f0",
   "metadata": {},
   "outputs": [
    {
     "data": {
      "text/plain": [
       "707"
      ]
     },
     "execution_count": 267,
     "metadata": {},
     "output_type": "execute_result"
    }
   ],
   "source": [
    "df['len_smiles'].max()"
   ]
  },
  {
   "cell_type": "code",
   "execution_count": 268,
   "id": "6a3463c4",
   "metadata": {},
   "outputs": [
    {
     "data": {
      "text/plain": [
       "count    7171.000000\n",
       "mean       51.122438\n",
       "std        31.876511\n",
       "min         6.000000\n",
       "25%        34.000000\n",
       "50%        46.000000\n",
       "75%        60.000000\n",
       "max       707.000000\n",
       "Name: len_smiles, dtype: float64"
      ]
     },
     "execution_count": 268,
     "metadata": {},
     "output_type": "execute_result"
    }
   ],
   "source": [
    "df['len_smiles'].describe()"
   ]
  },
  {
   "cell_type": "code",
   "execution_count": 269,
   "id": "56a81e81",
   "metadata": {},
   "outputs": [
    {
     "data": {
      "text/plain": [
       "1732"
      ]
     },
     "execution_count": 269,
     "metadata": {},
     "output_type": "execute_result"
    }
   ],
   "source": [
    "df[df['len_smiles'] > 60]['Smiles'].count()"
   ]
  },
  {
   "cell_type": "code",
   "execution_count": 270,
   "id": "4831e24d",
   "metadata": {},
   "outputs": [],
   "source": [
    "df['smiles_list'] = df['Smiles'].apply(lambda x: list(x))"
   ]
  },
  {
   "cell_type": "code",
   "execution_count": 271,
   "id": "18c46507",
   "metadata": {},
   "outputs": [],
   "source": [
    "df['smiles_list'] = df['smiles_list'].apply(lambda x: count_i(x))"
   ]
  },
  {
   "cell_type": "code",
   "execution_count": 272,
   "id": "7f214bab",
   "metadata": {},
   "outputs": [],
   "source": [
    "for i in new_columnes:\n",
    "    df[i] = df['smiles_list'].apply(lambda x: x[i])"
   ]
  },
  {
   "cell_type": "code",
   "execution_count": 273,
   "id": "ca822fcd",
   "metadata": {},
   "outputs": [],
   "source": [
    "def count_i(x):\n",
    "    atoms = Counter()\n",
    "    for i in x:\n",
    "        atoms[i] += 1\n",
    "    return atoms"
   ]
  },
  {
   "cell_type": "code",
   "execution_count": 274,
   "id": "6b1c2f48",
   "metadata": {},
   "outputs": [
    {
     "data": {
      "text/html": [
       "<div>\n",
       "<style scoped>\n",
       "    .dataframe tbody tr th:only-of-type {\n",
       "        vertical-align: middle;\n",
       "    }\n",
       "\n",
       "    .dataframe tbody tr th {\n",
       "        vertical-align: top;\n",
       "    }\n",
       "\n",
       "    .dataframe thead th {\n",
       "        text-align: right;\n",
       "    }\n",
       "</style>\n",
       "<table border=\"1\" class=\"dataframe\">\n",
       "  <thead>\n",
       "    <tr style=\"text-align: right;\">\n",
       "      <th></th>\n",
       "      <th>Smiles</th>\n",
       "      <th>Active</th>\n",
       "      <th>train</th>\n",
       "      <th>len_smiles</th>\n",
       "      <th>smiles_list</th>\n",
       "      <th>C</th>\n",
       "      <th>O</th>\n",
       "      <th>c</th>\n",
       "      <th>1</th>\n",
       "      <th>2</th>\n",
       "      <th>...</th>\n",
       "      <th>7</th>\n",
       "      <th>8</th>\n",
       "      <th>e</th>\n",
       "      <th>A</th>\n",
       "      <th>K</th>\n",
       "      <th>M</th>\n",
       "      <th>g</th>\n",
       "      <th>i</th>\n",
       "      <th>L</th>\n",
       "      <th>9</th>\n",
       "    </tr>\n",
       "  </thead>\n",
       "  <tbody>\n",
       "    <tr>\n",
       "      <th>365</th>\n",
       "      <td>CCOC(=O)C1=C(COCCN)NC(C)=C(C(=O)OC)C1c1ccccc1C...</td>\n",
       "      <td>0.0</td>\n",
       "      <td>1</td>\n",
       "      <td>66</td>\n",
       "      <td>{'C': 15, 'O': 8, '(': 7, '=': 6, ')': 7, '1':...</td>\n",
       "      <td>15</td>\n",
       "      <td>8</td>\n",
       "      <td>12</td>\n",
       "      <td>6</td>\n",
       "      <td>0</td>\n",
       "      <td>...</td>\n",
       "      <td>0</td>\n",
       "      <td>0</td>\n",
       "      <td>0</td>\n",
       "      <td>0</td>\n",
       "      <td>0</td>\n",
       "      <td>0</td>\n",
       "      <td>0</td>\n",
       "      <td>0</td>\n",
       "      <td>0</td>\n",
       "      <td>0</td>\n",
       "    </tr>\n",
       "    <tr>\n",
       "      <th>6353</th>\n",
       "      <td>Nc1ccc(-c2ccc3ccccc3n2)cc1</td>\n",
       "      <td>NaN</td>\n",
       "      <td>0</td>\n",
       "      <td>26</td>\n",
       "      <td>{'N': 1, 'c': 15, '1': 2, '(': 1, '-': 1, '2':...</td>\n",
       "      <td>0</td>\n",
       "      <td>0</td>\n",
       "      <td>15</td>\n",
       "      <td>2</td>\n",
       "      <td>2</td>\n",
       "      <td>...</td>\n",
       "      <td>0</td>\n",
       "      <td>0</td>\n",
       "      <td>0</td>\n",
       "      <td>0</td>\n",
       "      <td>0</td>\n",
       "      <td>0</td>\n",
       "      <td>0</td>\n",
       "      <td>0</td>\n",
       "      <td>0</td>\n",
       "      <td>0</td>\n",
       "    </tr>\n",
       "    <tr>\n",
       "      <th>4</th>\n",
       "      <td>Fc1ccccc1CNCc1ccc(-c2ccnc3[nH]ccc23)cc1</td>\n",
       "      <td>0.0</td>\n",
       "      <td>1</td>\n",
       "      <td>39</td>\n",
       "      <td>{'F': 1, 'c': 19, '1': 4, 'C': 2, 'N': 1, '(':...</td>\n",
       "      <td>2</td>\n",
       "      <td>0</td>\n",
       "      <td>19</td>\n",
       "      <td>4</td>\n",
       "      <td>2</td>\n",
       "      <td>...</td>\n",
       "      <td>0</td>\n",
       "      <td>0</td>\n",
       "      <td>0</td>\n",
       "      <td>0</td>\n",
       "      <td>0</td>\n",
       "      <td>0</td>\n",
       "      <td>0</td>\n",
       "      <td>0</td>\n",
       "      <td>0</td>\n",
       "      <td>0</td>\n",
       "    </tr>\n",
       "  </tbody>\n",
       "</table>\n",
       "<p>3 rows × 50 columns</p>\n",
       "</div>"
      ],
      "text/plain": [
       "                                                 Smiles  Active  train  \\\n",
       "365   CCOC(=O)C1=C(COCCN)NC(C)=C(C(=O)OC)C1c1ccccc1C...     0.0      1   \n",
       "6353                         Nc1ccc(-c2ccc3ccccc3n2)cc1     NaN      0   \n",
       "4               Fc1ccccc1CNCc1ccc(-c2ccnc3[nH]ccc23)cc1     0.0      1   \n",
       "\n",
       "      len_smiles                                        smiles_list   C  O  \\\n",
       "365           66  {'C': 15, 'O': 8, '(': 7, '=': 6, ')': 7, '1':...  15  8   \n",
       "6353          26  {'N': 1, 'c': 15, '1': 2, '(': 1, '-': 1, '2':...   0  0   \n",
       "4             39  {'F': 1, 'c': 19, '1': 4, 'C': 2, 'N': 1, '(':...   2  0   \n",
       "\n",
       "       c  1  2  ...  7  8  e  A  K  M  g  i  L  9  \n",
       "365   12  6  0  ...  0  0  0  0  0  0  0  0  0  0  \n",
       "6353  15  2  2  ...  0  0  0  0  0  0  0  0  0  0  \n",
       "4     19  4  2  ...  0  0  0  0  0  0  0  0  0  0  \n",
       "\n",
       "[3 rows x 50 columns]"
      ]
     },
     "execution_count": 274,
     "metadata": {},
     "output_type": "execute_result"
    }
   ],
   "source": [
    "df.sample(3)"
   ]
  },
  {
   "cell_type": "code",
   "execution_count": 275,
   "id": "9652df54",
   "metadata": {},
   "outputs": [
    {
     "data": {
      "text/html": [
       "<div>\n",
       "<style scoped>\n",
       "    .dataframe tbody tr th:only-of-type {\n",
       "        vertical-align: middle;\n",
       "    }\n",
       "\n",
       "    .dataframe tbody tr th {\n",
       "        vertical-align: top;\n",
       "    }\n",
       "\n",
       "    .dataframe thead th {\n",
       "        text-align: right;\n",
       "    }\n",
       "</style>\n",
       "<table border=\"1\" class=\"dataframe\">\n",
       "  <thead>\n",
       "    <tr style=\"text-align: right;\">\n",
       "      <th></th>\n",
       "      <th>Smiles</th>\n",
       "      <th>Active</th>\n",
       "      <th>train</th>\n",
       "      <th>len_smiles</th>\n",
       "      <th>smiles_list</th>\n",
       "      <th>C</th>\n",
       "      <th>O</th>\n",
       "      <th>c</th>\n",
       "      <th>1</th>\n",
       "      <th>2</th>\n",
       "      <th>...</th>\n",
       "      <th>7</th>\n",
       "      <th>8</th>\n",
       "      <th>e</th>\n",
       "      <th>A</th>\n",
       "      <th>K</th>\n",
       "      <th>M</th>\n",
       "      <th>g</th>\n",
       "      <th>i</th>\n",
       "      <th>L</th>\n",
       "      <th>9</th>\n",
       "    </tr>\n",
       "  </thead>\n",
       "  <tbody>\n",
       "    <tr>\n",
       "      <th>3175</th>\n",
       "      <td>CCOC(=O)[C@H](CCc1ccccc1)N[C@@H](C)C(=O)N1[C@H...</td>\n",
       "      <td>0.0</td>\n",
       "      <td>1</td>\n",
       "      <td>74</td>\n",
       "      <td>{'C': 18, 'O': 5, '(': 6, '=': 3, ')': 6, '[':...</td>\n",
       "      <td>18</td>\n",
       "      <td>5</td>\n",
       "      <td>6</td>\n",
       "      <td>4</td>\n",
       "      <td>2</td>\n",
       "      <td>...</td>\n",
       "      <td>0</td>\n",
       "      <td>0</td>\n",
       "      <td>0</td>\n",
       "      <td>0</td>\n",
       "      <td>0</td>\n",
       "      <td>0</td>\n",
       "      <td>0</td>\n",
       "      <td>0</td>\n",
       "      <td>0</td>\n",
       "      <td>0</td>\n",
       "    </tr>\n",
       "    <tr>\n",
       "      <th>4376</th>\n",
       "      <td>CN[C@@H](C)C(=O)N[C@H](C(=O)N1CCC[C@H]1c1nc(C(...</td>\n",
       "      <td>0.0</td>\n",
       "      <td>1</td>\n",
       "      <td>73</td>\n",
       "      <td>{'C': 17, 'N': 3, '[': 3, '@': 4, 'H': 3, ']':...</td>\n",
       "      <td>17</td>\n",
       "      <td>3</td>\n",
       "      <td>9</td>\n",
       "      <td>6</td>\n",
       "      <td>2</td>\n",
       "      <td>...</td>\n",
       "      <td>0</td>\n",
       "      <td>0</td>\n",
       "      <td>0</td>\n",
       "      <td>0</td>\n",
       "      <td>0</td>\n",
       "      <td>0</td>\n",
       "      <td>0</td>\n",
       "      <td>0</td>\n",
       "      <td>0</td>\n",
       "      <td>0</td>\n",
       "    </tr>\n",
       "    <tr>\n",
       "      <th>3457</th>\n",
       "      <td>C[C@]1(Cn2ccnn2)[C@H](C(=O)O)N2C(=O)C[C@H]2S1(...</td>\n",
       "      <td>0.0</td>\n",
       "      <td>1</td>\n",
       "      <td>51</td>\n",
       "      <td>{'C': 8, '[': 3, '@': 3, ']': 3, '1': 2, '(': ...</td>\n",
       "      <td>8</td>\n",
       "      <td>5</td>\n",
       "      <td>2</td>\n",
       "      <td>2</td>\n",
       "      <td>4</td>\n",
       "      <td>...</td>\n",
       "      <td>0</td>\n",
       "      <td>0</td>\n",
       "      <td>0</td>\n",
       "      <td>0</td>\n",
       "      <td>0</td>\n",
       "      <td>0</td>\n",
       "      <td>0</td>\n",
       "      <td>0</td>\n",
       "      <td>0</td>\n",
       "      <td>0</td>\n",
       "    </tr>\n",
       "  </tbody>\n",
       "</table>\n",
       "<p>3 rows × 50 columns</p>\n",
       "</div>"
      ],
      "text/plain": [
       "                                                 Smiles  Active  train  \\\n",
       "3175  CCOC(=O)[C@H](CCc1ccccc1)N[C@@H](C)C(=O)N1[C@H...     0.0      1   \n",
       "4376  CN[C@@H](C)C(=O)N[C@H](C(=O)N1CCC[C@H]1c1nc(C(...     0.0      1   \n",
       "3457  C[C@]1(Cn2ccnn2)[C@H](C(=O)O)N2C(=O)C[C@H]2S1(...     0.0      1   \n",
       "\n",
       "      len_smiles                                        smiles_list   C  O  c  \\\n",
       "3175          74  {'C': 18, 'O': 5, '(': 6, '=': 3, ')': 6, '[':...  18  5  6   \n",
       "4376          73  {'C': 17, 'N': 3, '[': 3, '@': 4, 'H': 3, ']':...  17  3  9   \n",
       "3457          51  {'C': 8, '[': 3, '@': 3, ']': 3, '1': 2, '(': ...   8  5  2   \n",
       "\n",
       "      1  2  ...  7  8  e  A  K  M  g  i  L  9  \n",
       "3175  4  2  ...  0  0  0  0  0  0  0  0  0  0  \n",
       "4376  6  2  ...  0  0  0  0  0  0  0  0  0  0  \n",
       "3457  2  4  ...  0  0  0  0  0  0  0  0  0  0  \n",
       "\n",
       "[3 rows x 50 columns]"
      ]
     },
     "execution_count": 275,
     "metadata": {},
     "output_type": "execute_result"
    }
   ],
   "source": [
    "df.sample(3)"
   ]
  },
  {
   "cell_type": "code",
   "execution_count": 276,
   "id": "358d57f0",
   "metadata": {},
   "outputs": [],
   "source": [
    "df.drop(['smiles_list'], axis = 1, inplace = True)"
   ]
  },
  {
   "cell_type": "code",
   "execution_count": 277,
   "id": "e1ad5ed7",
   "metadata": {},
   "outputs": [],
   "source": [
    "df.set_index(['Smiles'], inplace = True)"
   ]
  },
  {
   "cell_type": "code",
   "execution_count": 278,
   "id": "9a99c8a9",
   "metadata": {},
   "outputs": [
    {
     "data": {
      "text/html": [
       "<div>\n",
       "<style scoped>\n",
       "    .dataframe tbody tr th:only-of-type {\n",
       "        vertical-align: middle;\n",
       "    }\n",
       "\n",
       "    .dataframe tbody tr th {\n",
       "        vertical-align: top;\n",
       "    }\n",
       "\n",
       "    .dataframe thead th {\n",
       "        text-align: right;\n",
       "    }\n",
       "</style>\n",
       "<table border=\"1\" class=\"dataframe\">\n",
       "  <thead>\n",
       "    <tr style=\"text-align: right;\">\n",
       "      <th></th>\n",
       "      <th>Active</th>\n",
       "      <th>train</th>\n",
       "      <th>len_smiles</th>\n",
       "      <th>C</th>\n",
       "      <th>O</th>\n",
       "      <th>c</th>\n",
       "      <th>1</th>\n",
       "      <th>2</th>\n",
       "      <th>[</th>\n",
       "      <th>n</th>\n",
       "      <th>...</th>\n",
       "      <th>7</th>\n",
       "      <th>8</th>\n",
       "      <th>e</th>\n",
       "      <th>A</th>\n",
       "      <th>K</th>\n",
       "      <th>M</th>\n",
       "      <th>g</th>\n",
       "      <th>i</th>\n",
       "      <th>L</th>\n",
       "      <th>9</th>\n",
       "    </tr>\n",
       "    <tr>\n",
       "      <th>Smiles</th>\n",
       "      <th></th>\n",
       "      <th></th>\n",
       "      <th></th>\n",
       "      <th></th>\n",
       "      <th></th>\n",
       "      <th></th>\n",
       "      <th></th>\n",
       "      <th></th>\n",
       "      <th></th>\n",
       "      <th></th>\n",
       "      <th></th>\n",
       "      <th></th>\n",
       "      <th></th>\n",
       "      <th></th>\n",
       "      <th></th>\n",
       "      <th></th>\n",
       "      <th></th>\n",
       "      <th></th>\n",
       "      <th></th>\n",
       "      <th></th>\n",
       "      <th></th>\n",
       "    </tr>\n",
       "  </thead>\n",
       "  <tbody>\n",
       "    <tr>\n",
       "      <th>O=C1/C(=C/c2ccccc2)C[C@@]2(O)C3Cc4ccc(O)c5c4[C@@]2(CCN3CC2CC2)[C@H]1O5</th>\n",
       "      <td>0.0</td>\n",
       "      <td>1</td>\n",
       "      <td>70</td>\n",
       "      <td>15</td>\n",
       "      <td>4</td>\n",
       "      <td>12</td>\n",
       "      <td>2</td>\n",
       "      <td>6</td>\n",
       "      <td>3</td>\n",
       "      <td>0</td>\n",
       "      <td>...</td>\n",
       "      <td>0</td>\n",
       "      <td>0</td>\n",
       "      <td>0</td>\n",
       "      <td>0</td>\n",
       "      <td>0</td>\n",
       "      <td>0</td>\n",
       "      <td>0</td>\n",
       "      <td>0</td>\n",
       "      <td>0</td>\n",
       "      <td>0</td>\n",
       "    </tr>\n",
       "    <tr>\n",
       "      <th>Cc1cc(-c2ccc(/N=N/c3ccc4c(S(=O)(=O)[O-])cc(S(=O)(=O)[O-])c(N)c4c3O)c(C)c2)ccc1/N=N/c1ccc2c(S(=O)(=O)[O-])cc(S(=O)(=O)[O-])c(N)c2c1O.[Na+].[Na+].[Na+].[Na+]</th>\n",
       "      <td>1.0</td>\n",
       "      <td>1</td>\n",
       "      <td>155</td>\n",
       "      <td>2</td>\n",
       "      <td>14</td>\n",
       "      <td>32</td>\n",
       "      <td>4</td>\n",
       "      <td>4</td>\n",
       "      <td>8</td>\n",
       "      <td>0</td>\n",
       "      <td>...</td>\n",
       "      <td>0</td>\n",
       "      <td>0</td>\n",
       "      <td>0</td>\n",
       "      <td>0</td>\n",
       "      <td>0</td>\n",
       "      <td>0</td>\n",
       "      <td>0</td>\n",
       "      <td>0</td>\n",
       "      <td>0</td>\n",
       "      <td>0</td>\n",
       "    </tr>\n",
       "    <tr>\n",
       "      <th>CC1=C(C)C(=O)C([C@@H](CCCCCC(=O)O)c2ccccc2)=C(C)C1=O</th>\n",
       "      <td>0.0</td>\n",
       "      <td>1</td>\n",
       "      <td>52</td>\n",
       "      <td>16</td>\n",
       "      <td>4</td>\n",
       "      <td>6</td>\n",
       "      <td>2</td>\n",
       "      <td>2</td>\n",
       "      <td>1</td>\n",
       "      <td>0</td>\n",
       "      <td>...</td>\n",
       "      <td>0</td>\n",
       "      <td>0</td>\n",
       "      <td>0</td>\n",
       "      <td>0</td>\n",
       "      <td>0</td>\n",
       "      <td>0</td>\n",
       "      <td>0</td>\n",
       "      <td>0</td>\n",
       "      <td>0</td>\n",
       "      <td>0</td>\n",
       "    </tr>\n",
       "  </tbody>\n",
       "</table>\n",
       "<p>3 rows × 48 columns</p>\n",
       "</div>"
      ],
      "text/plain": [
       "                                                    Active  train  len_smiles  \\\n",
       "Smiles                                                                          \n",
       "O=C1/C(=C/c2ccccc2)C[C@@]2(O)C3Cc4ccc(O)c5c4[C@...     0.0      1          70   \n",
       "Cc1cc(-c2ccc(/N=N/c3ccc4c(S(=O)(=O)[O-])cc(S(=O...     1.0      1         155   \n",
       "CC1=C(C)C(=O)C([C@@H](CCCCCC(=O)O)c2ccccc2)=C(C...     0.0      1          52   \n",
       "\n",
       "                                                     C   O   c  1  2  [  n  \\\n",
       "Smiles                                                                       \n",
       "O=C1/C(=C/c2ccccc2)C[C@@]2(O)C3Cc4ccc(O)c5c4[C@...  15   4  12  2  6  3  0   \n",
       "Cc1cc(-c2ccc(/N=N/c3ccc4c(S(=O)(=O)[O-])cc(S(=O...   2  14  32  4  4  8  0   \n",
       "CC1=C(C)C(=O)C([C@@H](CCCCCC(=O)O)c2ccccc2)=C(C...  16   4   6  2  2  1  0   \n",
       "\n",
       "                                                    ...  7  8  e  A  K  M  g  \\\n",
       "Smiles                                              ...                        \n",
       "O=C1/C(=C/c2ccccc2)C[C@@]2(O)C3Cc4ccc(O)c5c4[C@...  ...  0  0  0  0  0  0  0   \n",
       "Cc1cc(-c2ccc(/N=N/c3ccc4c(S(=O)(=O)[O-])cc(S(=O...  ...  0  0  0  0  0  0  0   \n",
       "CC1=C(C)C(=O)C([C@@H](CCCCCC(=O)O)c2ccccc2)=C(C...  ...  0  0  0  0  0  0  0   \n",
       "\n",
       "                                                    i  L  9  \n",
       "Smiles                                                       \n",
       "O=C1/C(=C/c2ccccc2)C[C@@]2(O)C3Cc4ccc(O)c5c4[C@...  0  0  0  \n",
       "Cc1cc(-c2ccc(/N=N/c3ccc4c(S(=O)(=O)[O-])cc(S(=O...  0  0  0  \n",
       "CC1=C(C)C(=O)C([C@@H](CCCCCC(=O)O)c2ccccc2)=C(C...  0  0  0  \n",
       "\n",
       "[3 rows x 48 columns]"
      ]
     },
     "execution_count": 278,
     "metadata": {},
     "output_type": "execute_result"
    }
   ],
   "source": [
    "df.sample(3)"
   ]
  },
  {
   "cell_type": "code",
   "execution_count": 279,
   "id": "0931a3c1",
   "metadata": {},
   "outputs": [],
   "source": [
    "train_new = df[df['train'] == 1]\n",
    "test_new = df[df['train'] == 0]"
   ]
  },
  {
   "cell_type": "code",
   "execution_count": 280,
   "id": "ebeb5ce0",
   "metadata": {},
   "outputs": [
    {
     "name": "stdout",
     "output_type": "stream",
     "text": [
      "<class 'pandas.core.frame.DataFrame'>\n",
      "Index: 5557 entries, COc1ccc2[nH]cc(CCN)c2c1 to CCCCNc1ccc(C(=O)OCCN(C)C)cc1.Cl\n",
      "Data columns (total 48 columns):\n",
      " #   Column      Non-Null Count  Dtype  \n",
      "---  ------      --------------  -----  \n",
      " 0   Active      5557 non-null   float64\n",
      " 1   train       5557 non-null   int64  \n",
      " 2   len_smiles  5557 non-null   int64  \n",
      " 3   C           5557 non-null   int64  \n",
      " 4   O           5557 non-null   int64  \n",
      " 5   c           5557 non-null   int64  \n",
      " 6   1           5557 non-null   int64  \n",
      " 7   2           5557 non-null   int64  \n",
      " 8   [           5557 non-null   int64  \n",
      " 9   n           5557 non-null   int64  \n",
      " 10  H           5557 non-null   int64  \n",
      " 11  ]           5557 non-null   int64  \n",
      " 12  (           5557 non-null   int64  \n",
      " 13  N           5557 non-null   int64  \n",
      " 14  )           5557 non-null   int64  \n",
      " 15  @           5557 non-null   int64  \n",
      " 16  .           5557 non-null   int64  \n",
      " 17  l           5557 non-null   int64  \n",
      " 18  =           5557 non-null   int64  \n",
      " 19  S           5557 non-null   int64  \n",
      " 20  3           5557 non-null   int64  \n",
      " 21  4           5557 non-null   int64  \n",
      " 22  F           5557 non-null   int64  \n",
      " 23  -           5557 non-null   int64  \n",
      " 24  s           5557 non-null   int64  \n",
      " 25  /           5557 non-null   int64  \n",
      " 26  5           5557 non-null   int64  \n",
      " 27  o           5557 non-null   int64  \n",
      " 28  a           5557 non-null   int64  \n",
      " 29  +           5557 non-null   int64  \n",
      " 30  #           5557 non-null   int64  \n",
      " 31  I           5557 non-null   int64  \n",
      " 32  P           5557 non-null   int64  \n",
      " 33  B           5557 non-null   int64  \n",
      " 34  r           5557 non-null   int64  \n",
      " 35  \\           5557 non-null   int64  \n",
      " 36  Z           5557 non-null   int64  \n",
      " 37  6           5557 non-null   int64  \n",
      " 38  7           5557 non-null   int64  \n",
      " 39  8           5557 non-null   int64  \n",
      " 40  e           5557 non-null   int64  \n",
      " 41  A           5557 non-null   int64  \n",
      " 42  K           5557 non-null   int64  \n",
      " 43  M           5557 non-null   int64  \n",
      " 44  g           5557 non-null   int64  \n",
      " 45  i           5557 non-null   int64  \n",
      " 46  L           5557 non-null   int64  \n",
      " 47  9           5557 non-null   int64  \n",
      "dtypes: float64(1), int64(47)\n",
      "memory usage: 2.1+ MB\n"
     ]
    }
   ],
   "source": [
    "train_new.info()"
   ]
  },
  {
   "cell_type": "code",
   "execution_count": 281,
   "id": "c5ef898c",
   "metadata": {},
   "outputs": [],
   "source": [
    "X = train_new.drop(['Active'], axis = 1)\n",
    "y = train_new['Active']"
   ]
  },
  {
   "cell_type": "code",
   "execution_count": 283,
   "id": "f1cfff00",
   "metadata": {},
   "outputs": [],
   "source": [
    "from sklearn import model_selection, datasets, metrics, tree "
   ]
  },
  {
   "cell_type": "code",
   "execution_count": 284,
   "id": "c414f87c",
   "metadata": {},
   "outputs": [],
   "source": [
    "train_data, test_data, train_labels, test_labels = model_selection.train_test_split(X, y, \n",
    "                                                                                    test_size=0.30, random_state=42)"
   ]
  },
  {
   "cell_type": "code",
   "execution_count": 285,
   "id": "71ec7abd",
   "metadata": {},
   "outputs": [],
   "source": [
    "from sklearn.ensemble import BaggingClassifier, RandomForestClassifier"
   ]
  },
  {
   "cell_type": "code",
   "execution_count": 302,
   "id": "0087ac93",
   "metadata": {},
   "outputs": [
    {
     "data": {
      "text/plain": [
       "DecisionTreeClassifier()"
      ]
     },
     "execution_count": 302,
     "metadata": {},
     "output_type": "execute_result"
    }
   ],
   "source": [
    "clf = tree.DecisionTreeClassifier()\n",
    "clf.fit(train_data, train_labels)"
   ]
  },
  {
   "cell_type": "code",
   "execution_count": 303,
   "id": "99a82aa7",
   "metadata": {},
   "outputs": [
    {
     "data": {
      "text/plain": [
       "0.1605839416058394"
      ]
     },
     "execution_count": 303,
     "metadata": {},
     "output_type": "execute_result"
    }
   ],
   "source": [
    "predictions_clf = clf.predict(test_data)\n",
    "metrics.f1_score(test_labels, predictions_clf)"
   ]
  },
  {
   "cell_type": "code",
   "execution_count": 297,
   "id": "2997bba4",
   "metadata": {},
   "outputs": [],
   "source": [
    "bagging_trees = BaggingClassifier(clf, n_estimators = 1500)\n",
    "bagging_trees.fit(train_data,train_labels)\n",
    "predictions_bg = bagging_trees.predict(test_data)"
   ]
  },
  {
   "cell_type": "code",
   "execution_count": 298,
   "id": "667d7f1a",
   "metadata": {},
   "outputs": [
    {
     "data": {
      "text/plain": [
       "0.027027027027027025"
      ]
     },
     "execution_count": 298,
     "metadata": {},
     "output_type": "execute_result"
    }
   ],
   "source": [
    "metrics.f1_score(test_labels, predictions_bg)"
   ]
  },
  {
   "cell_type": "code",
   "execution_count": 299,
   "id": "3ce77813",
   "metadata": {},
   "outputs": [
    {
     "name": "stderr",
     "output_type": "stream",
     "text": [
      "C:\\Users\\Rusla\\AppData\\Roaming\\Python\\Python38\\site-packages\\sklearn\\utils\\deprecation.py:143: FutureWarning: The sklearn.utils.testing module is  deprecated in version 0.22 and will be removed in version 0.24. The corresponding classes / functions should instead be imported from sklearn.utils. Anything that cannot be imported from sklearn.utils is now part of the private API.\n",
      "  warnings.warn(message, FutureWarning)\n"
     ]
    }
   ],
   "source": [
    "from lazypredict.Supervised import LazyClassifier"
   ]
  },
  {
   "cell_type": "code",
   "execution_count": 300,
   "id": "fac7ae69",
   "metadata": {},
   "outputs": [
    {
     "name": "stderr",
     "output_type": "stream",
     "text": [
      "100%|██████████████████████████████████████████████████████████████████████████████████| 29/29 [00:19<00:00,  1.48it/s]\n"
     ]
    }
   ],
   "source": [
    "clf_lc = LazyClassifier(verbose=0,ignore_warnings=True, custom_metric=None)\n",
    "models,predictions = clf_lc.fit(train_data, test_data, train_labels, test_labels)"
   ]
  },
  {
   "cell_type": "code",
   "execution_count": 301,
   "id": "57a4e4f4",
   "metadata": {},
   "outputs": [
    {
     "name": "stdout",
     "output_type": "stream",
     "text": [
      "                               Accuracy  Balanced Accuracy  ROC AUC  F1 Score  \\\n",
      "Model                                                                           \n",
      "DecisionTreeClassifier             0.93               0.55     0.55      0.93   \n",
      "NearestCentroid                    0.75               0.54     0.54      0.83   \n",
      "ExtraTreeClassifier                0.93               0.53     0.53      0.93   \n",
      "LabelSpreading                     0.94               0.52     0.52      0.93   \n",
      "LabelPropagation                   0.94               0.52     0.52      0.93   \n",
      "XGBClassifier                      0.96               0.52     0.52      0.94   \n",
      "Perceptron                         0.94               0.51     0.51      0.93   \n",
      "BaggingClassifier                  0.95               0.51     0.51      0.94   \n",
      "SGDClassifier                      0.95               0.51     0.51      0.94   \n",
      "LinearDiscriminantAnalysis         0.95               0.51     0.51      0.94   \n",
      "QuadraticDiscriminantAnalysis      0.10               0.51     0.51      0.12   \n",
      "RandomForestClassifier             0.96               0.51     0.51      0.94   \n",
      "LogisticRegression                 0.96               0.51     0.51      0.94   \n",
      "LGBMClassifier                     0.96               0.51     0.51      0.94   \n",
      "ExtraTreesClassifier               0.96               0.51     0.51      0.94   \n",
      "BernoulliNB                        0.95               0.50     0.50      0.94   \n",
      "KNeighborsClassifier               0.95               0.50     0.50      0.94   \n",
      "PassiveAggressiveClassifier        0.95               0.50     0.50      0.94   \n",
      "SVC                                0.96               0.50     0.50      0.94   \n",
      "CalibratedClassifierCV             0.96               0.50     0.50      0.94   \n",
      "RidgeClassifier                    0.96               0.50     0.50      0.94   \n",
      "RidgeClassifierCV                  0.96               0.50     0.50      0.94   \n",
      "AdaBoostClassifier                 0.96               0.50     0.50      0.94   \n",
      "LinearSVC                          0.96               0.50     0.50      0.94   \n",
      "DummyClassifier                    0.92               0.50     0.50      0.92   \n",
      "GaussianNB                         0.11               0.47     0.47      0.14   \n",
      "\n",
      "                               Time Taken  \n",
      "Model                                      \n",
      "DecisionTreeClassifier               0.12  \n",
      "NearestCentroid                      0.07  \n",
      "ExtraTreeClassifier                  0.06  \n",
      "LabelSpreading                       2.58  \n",
      "LabelPropagation                     2.16  \n",
      "XGBClassifier                        1.28  \n",
      "Perceptron                           0.10  \n",
      "BaggingClassifier                    0.49  \n",
      "SGDClassifier                        0.11  \n",
      "LinearDiscriminantAnalysis           0.19  \n",
      "QuadraticDiscriminantAnalysis        0.10  \n",
      "RandomForestClassifier               1.02  \n",
      "LogisticRegression                   0.18  \n",
      "LGBMClassifier                       0.40  \n",
      "ExtraTreesClassifier                 0.94  \n",
      "BernoulliNB                          0.27  \n",
      "KNeighborsClassifier                 1.22  \n",
      "PassiveAggressiveClassifier          0.09  \n",
      "SVC                                  0.73  \n",
      "CalibratedClassifierCV               4.98  \n",
      "RidgeClassifier                      0.10  \n",
      "RidgeClassifierCV                    0.10  \n",
      "AdaBoostClassifier                   0.61  \n",
      "LinearSVC                            1.46  \n",
      "DummyClassifier                      0.07  \n",
      "GaussianNB                           0.07  \n"
     ]
    }
   ],
   "source": [
    "print(models)"
   ]
  },
  {
   "cell_type": "code",
   "execution_count": null,
   "id": "f017a50b",
   "metadata": {},
   "outputs": [],
   "source": []
  }
 ],
 "metadata": {
  "kernelspec": {
   "display_name": "Python 3 (ipykernel)",
   "language": "python",
   "name": "python3"
  },
  "language_info": {
   "codemirror_mode": {
    "name": "ipython",
    "version": 3
   },
   "file_extension": ".py",
   "mimetype": "text/x-python",
   "name": "python",
   "nbconvert_exporter": "python",
   "pygments_lexer": "ipython3",
   "version": "3.8.11"
  }
 },
 "nbformat": 4,
 "nbformat_minor": 5
}
