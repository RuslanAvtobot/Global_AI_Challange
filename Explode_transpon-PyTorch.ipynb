{
 "cells": [
  {
   "cell_type": "code",
   "execution_count": 90,
   "id": "7ea6b1dc",
   "metadata": {},
   "outputs": [],
   "source": [
    "import pandas as pd\n",
    "import numpy as np\n",
    "import math\n",
    "\n",
    "from tqdm import tqdm\n",
    "import time\n",
    "\n",
    "from sklearn import model_selection, datasets, metrics, tree \n",
    "\n",
    "import matplotlib.pyplot as plt\n",
    "\n",
    "import torch\n",
    "import torch.nn as nn\n",
    "from torch.autograd import Variable\n",
    "\n",
    "import torchvision\n",
    "import torchvision.transforms as transforms\n",
    "from torch.utils.data import Dataset, DataLoader\n",
    "from sklearn.metrics import confusion_matrix"
   ]
  },
  {
   "cell_type": "code",
   "execution_count": 91,
   "id": "a8eef7ee",
   "metadata": {},
   "outputs": [],
   "source": [
    "RANDOM_SEED = 2022022"
   ]
  },
  {
   "cell_type": "code",
   "execution_count": 92,
   "id": "f2c4e210",
   "metadata": {},
   "outputs": [],
   "source": [
    "test = pd.read_csv('Task/test.csv')\n",
    "test.drop(['Unnamed: 0'], axis = 1, inplace = True)"
   ]
  },
  {
   "cell_type": "code",
   "execution_count": 93,
   "id": "cf03cb8b",
   "metadata": {},
   "outputs": [
    {
     "name": "stdout",
     "output_type": "stream",
     "text": [
      "<class 'pandas.core.frame.DataFrame'>\n",
      "RangeIndex: 1614 entries, 0 to 1613\n",
      "Data columns (total 1 columns):\n",
      " #   Column  Non-Null Count  Dtype \n",
      "---  ------  --------------  ----- \n",
      " 0   Smiles  1614 non-null   object\n",
      "dtypes: object(1)\n",
      "memory usage: 12.7+ KB\n"
     ]
    }
   ],
   "source": [
    "test.info()"
   ]
  },
  {
   "cell_type": "code",
   "execution_count": 94,
   "id": "9ea40621",
   "metadata": {},
   "outputs": [
    {
     "data": {
      "text/html": [
       "<div>\n",
       "<style scoped>\n",
       "    .dataframe tbody tr th:only-of-type {\n",
       "        vertical-align: middle;\n",
       "    }\n",
       "\n",
       "    .dataframe tbody tr th {\n",
       "        vertical-align: top;\n",
       "    }\n",
       "\n",
       "    .dataframe thead th {\n",
       "        text-align: right;\n",
       "    }\n",
       "</style>\n",
       "<table border=\"1\" class=\"dataframe\">\n",
       "  <thead>\n",
       "    <tr style=\"text-align: right;\">\n",
       "      <th></th>\n",
       "      <th>Smiles</th>\n",
       "    </tr>\n",
       "  </thead>\n",
       "  <tbody>\n",
       "    <tr>\n",
       "      <th>250</th>\n",
       "      <td>C=C1/C(=C\\C=C2/CCC[C@@]3(C)[C@H]2CC[C@@H]3[C@H...</td>\n",
       "    </tr>\n",
       "    <tr>\n",
       "      <th>326</th>\n",
       "      <td>FC(F)(F)c1c(N2CCC(c3ccccc3)CC2)ccn2c(CC3CC3)nnc12</td>\n",
       "    </tr>\n",
       "    <tr>\n",
       "      <th>1346</th>\n",
       "      <td>O=C(C[S+]([O-])Cc1ccco1)NC/C=C\\COc1cc(CN2CCCCC...</td>\n",
       "    </tr>\n",
       "  </tbody>\n",
       "</table>\n",
       "</div>"
      ],
      "text/plain": [
       "                                                 Smiles\n",
       "250   C=C1/C(=C\\C=C2/CCC[C@@]3(C)[C@H]2CC[C@@H]3[C@H...\n",
       "326   FC(F)(F)c1c(N2CCC(c3ccccc3)CC2)ccn2c(CC3CC3)nnc12\n",
       "1346  O=C(C[S+]([O-])Cc1ccco1)NC/C=C\\COc1cc(CN2CCCCC..."
      ]
     },
     "execution_count": 94,
     "metadata": {},
     "output_type": "execute_result"
    }
   ],
   "source": [
    "test.sample(3)"
   ]
  },
  {
   "cell_type": "code",
   "execution_count": 95,
   "id": "74c668b9",
   "metadata": {},
   "outputs": [],
   "source": [
    "train = pd.read_csv('Task/train.csv')\n",
    "train.drop(['Unnamed: 0'], axis = 1, inplace = True)"
   ]
  },
  {
   "cell_type": "code",
   "execution_count": 96,
   "id": "ac798eed",
   "metadata": {},
   "outputs": [
    {
     "name": "stdout",
     "output_type": "stream",
     "text": [
      "<class 'pandas.core.frame.DataFrame'>\n",
      "RangeIndex: 5557 entries, 0 to 5556\n",
      "Data columns (total 2 columns):\n",
      " #   Column  Non-Null Count  Dtype \n",
      "---  ------  --------------  ----- \n",
      " 0   Smiles  5557 non-null   object\n",
      " 1   Active  5557 non-null   bool  \n",
      "dtypes: bool(1), object(1)\n",
      "memory usage: 49.0+ KB\n"
     ]
    }
   ],
   "source": [
    "train.info()"
   ]
  },
  {
   "cell_type": "code",
   "execution_count": 97,
   "id": "8572c95c",
   "metadata": {
    "scrolled": true
   },
   "outputs": [
    {
     "data": {
      "text/html": [
       "<div>\n",
       "<style scoped>\n",
       "    .dataframe tbody tr th:only-of-type {\n",
       "        vertical-align: middle;\n",
       "    }\n",
       "\n",
       "    .dataframe tbody tr th {\n",
       "        vertical-align: top;\n",
       "    }\n",
       "\n",
       "    .dataframe thead th {\n",
       "        text-align: right;\n",
       "    }\n",
       "</style>\n",
       "<table border=\"1\" class=\"dataframe\">\n",
       "  <thead>\n",
       "    <tr style=\"text-align: right;\">\n",
       "      <th></th>\n",
       "      <th>Smiles</th>\n",
       "      <th>Active</th>\n",
       "    </tr>\n",
       "  </thead>\n",
       "  <tbody>\n",
       "    <tr>\n",
       "      <th>4468</th>\n",
       "      <td>CC(=O)OC1CN2CCC1CC2</td>\n",
       "      <td>False</td>\n",
       "    </tr>\n",
       "    <tr>\n",
       "      <th>4372</th>\n",
       "      <td>Cl.Nc1c2c(nc3ccccc13)CCCC2</td>\n",
       "      <td>False</td>\n",
       "    </tr>\n",
       "    <tr>\n",
       "      <th>47</th>\n",
       "      <td>CC[C@H](CC[C@@H](C)[C@H]1CC[C@H]2[C@@H]3CC=C4C...</td>\n",
       "      <td>False</td>\n",
       "    </tr>\n",
       "  </tbody>\n",
       "</table>\n",
       "</div>"
      ],
      "text/plain": [
       "                                                 Smiles  Active\n",
       "4468                                CC(=O)OC1CN2CCC1CC2   False\n",
       "4372                         Cl.Nc1c2c(nc3ccccc13)CCCC2   False\n",
       "47    CC[C@H](CC[C@@H](C)[C@H]1CC[C@H]2[C@@H]3CC=C4C...   False"
      ]
     },
     "execution_count": 97,
     "metadata": {},
     "output_type": "execute_result"
    }
   ],
   "source": [
    "train.sample(3)"
   ]
  },
  {
   "cell_type": "code",
   "execution_count": 98,
   "id": "ead5500f",
   "metadata": {},
   "outputs": [
    {
     "data": {
      "text/plain": [
       "[False, True]"
      ]
     },
     "execution_count": 98,
     "metadata": {},
     "output_type": "execute_result"
    }
   ],
   "source": [
    "list(train['Active'].unique())"
   ]
  },
  {
   "cell_type": "code",
   "execution_count": 99,
   "id": "3491251b",
   "metadata": {},
   "outputs": [],
   "source": [
    "list_active = {False: 0, True: 1}"
   ]
  },
  {
   "cell_type": "code",
   "execution_count": 100,
   "id": "dadd7a65",
   "metadata": {},
   "outputs": [],
   "source": [
    "train['Active'] = train['Active'].map(list_active)"
   ]
  },
  {
   "cell_type": "code",
   "execution_count": 101,
   "id": "1167926a",
   "metadata": {},
   "outputs": [
    {
     "data": {
      "text/html": [
       "<div>\n",
       "<style scoped>\n",
       "    .dataframe tbody tr th:only-of-type {\n",
       "        vertical-align: middle;\n",
       "    }\n",
       "\n",
       "    .dataframe tbody tr th {\n",
       "        vertical-align: top;\n",
       "    }\n",
       "\n",
       "    .dataframe thead th {\n",
       "        text-align: right;\n",
       "    }\n",
       "</style>\n",
       "<table border=\"1\" class=\"dataframe\">\n",
       "  <thead>\n",
       "    <tr style=\"text-align: right;\">\n",
       "      <th></th>\n",
       "      <th>Smiles</th>\n",
       "      <th>Active</th>\n",
       "    </tr>\n",
       "  </thead>\n",
       "  <tbody>\n",
       "    <tr>\n",
       "      <th>914</th>\n",
       "      <td>Nc1nc(Nc2ccc3c(c2)CC[C@@H](N2CCCC2)CC3)nn1-c1c...</td>\n",
       "      <td>0</td>\n",
       "    </tr>\n",
       "  </tbody>\n",
       "</table>\n",
       "</div>"
      ],
      "text/plain": [
       "                                                Smiles  Active\n",
       "914  Nc1nc(Nc2ccc3c(c2)CC[C@@H](N2CCCC2)CC3)nn1-c1c...       0"
      ]
     },
     "execution_count": 101,
     "metadata": {},
     "output_type": "execute_result"
    }
   ],
   "source": [
    "train.sample()"
   ]
  },
  {
   "cell_type": "code",
   "execution_count": 102,
   "id": "5d85f4a5",
   "metadata": {},
   "outputs": [],
   "source": [
    "#train['text'] = train['Smiles'].apply(lambda x: list(x))"
   ]
  },
  {
   "cell_type": "code",
   "execution_count": 103,
   "id": "d78142b0",
   "metadata": {},
   "outputs": [],
   "source": [
    "#train.set_index(['Smiles'], inplace = True)"
   ]
  },
  {
   "cell_type": "code",
   "execution_count": 104,
   "id": "497f6f01",
   "metadata": {
    "scrolled": true
   },
   "outputs": [
    {
     "data": {
      "text/html": [
       "<div>\n",
       "<style scoped>\n",
       "    .dataframe tbody tr th:only-of-type {\n",
       "        vertical-align: middle;\n",
       "    }\n",
       "\n",
       "    .dataframe tbody tr th {\n",
       "        vertical-align: top;\n",
       "    }\n",
       "\n",
       "    .dataframe thead th {\n",
       "        text-align: right;\n",
       "    }\n",
       "</style>\n",
       "<table border=\"1\" class=\"dataframe\">\n",
       "  <thead>\n",
       "    <tr style=\"text-align: right;\">\n",
       "      <th></th>\n",
       "      <th>Smiles</th>\n",
       "      <th>Active</th>\n",
       "    </tr>\n",
       "  </thead>\n",
       "  <tbody>\n",
       "    <tr>\n",
       "      <th>1069</th>\n",
       "      <td>Nc1nc(O)c2ncn(COC(CO)CO)c2n1</td>\n",
       "      <td>0</td>\n",
       "    </tr>\n",
       "  </tbody>\n",
       "</table>\n",
       "</div>"
      ],
      "text/plain": [
       "                            Smiles  Active\n",
       "1069  Nc1nc(O)c2ncn(COC(CO)CO)c2n1       0"
      ]
     },
     "execution_count": 104,
     "metadata": {},
     "output_type": "execute_result"
    }
   ],
   "source": [
    "train.sample()"
   ]
  },
  {
   "cell_type": "code",
   "execution_count": 105,
   "id": "11d9e1bf",
   "metadata": {},
   "outputs": [],
   "source": [
    "train['train'] = 1\n",
    "test['train'] = 0"
   ]
  },
  {
   "cell_type": "code",
   "execution_count": 106,
   "id": "f286d1f9",
   "metadata": {},
   "outputs": [],
   "source": [
    "df = pd.concat([train, test], ignore_index=True)"
   ]
  },
  {
   "cell_type": "code",
   "execution_count": 107,
   "id": "980a2a31",
   "metadata": {},
   "outputs": [],
   "source": [
    "from collections import Counter\n",
    "\n",
    "atoms = Counter()\n",
    "for i in df['Smiles'].unique():\n",
    "    for j in i:\n",
    "        atoms[j] += 1"
   ]
  },
  {
   "cell_type": "code",
   "execution_count": 108,
   "id": "c2afb024",
   "metadata": {},
   "outputs": [
    {
     "data": {
      "text/plain": [
       "Counter({'C': 67272,\n",
       "         'O': 23771,\n",
       "         'c': 70791,\n",
       "         '1': 19434,\n",
       "         '2': 14166,\n",
       "         '[': 11223,\n",
       "         'n': 7749,\n",
       "         'H': 8613,\n",
       "         ']': 11223,\n",
       "         '(': 34223,\n",
       "         'N': 12096,\n",
       "         ')': 34223,\n",
       "         '@': 13220,\n",
       "         '.': 1245,\n",
       "         'l': 2149,\n",
       "         '=': 13520,\n",
       "         'S': 1647,\n",
       "         '3': 6745,\n",
       "         '4': 2446,\n",
       "         'F': 2484,\n",
       "         '-': 2347,\n",
       "         's': 551,\n",
       "         '/': 1517,\n",
       "         '5': 650,\n",
       "         'o': 479,\n",
       "         'a': 161,\n",
       "         '+': 669,\n",
       "         '#': 390,\n",
       "         'I': 174,\n",
       "         'P': 192,\n",
       "         'B': 299,\n",
       "         'r': 281,\n",
       "         '\\\\': 373,\n",
       "         'Z': 6,\n",
       "         '6': 142,\n",
       "         '7': 42,\n",
       "         '8': 22,\n",
       "         'e': 3,\n",
       "         'A': 25,\n",
       "         'K': 11,\n",
       "         'M': 4,\n",
       "         'g': 5,\n",
       "         'i': 10,\n",
       "         'L': 4,\n",
       "         '9': 2})"
      ]
     },
     "execution_count": 108,
     "metadata": {},
     "output_type": "execute_result"
    }
   ],
   "source": [
    "atoms"
   ]
  },
  {
   "cell_type": "code",
   "execution_count": 109,
   "id": "9f6ec1bc",
   "metadata": {},
   "outputs": [],
   "source": [
    "atoms_voc = {}\n",
    "cont = 0\n",
    "for i in atoms.keys():\n",
    "    new_value = len(atoms.keys())+10 - cont\n",
    "    atoms_voc[i] = new_value\n",
    "    cont += 1"
   ]
  },
  {
   "cell_type": "code",
   "execution_count": 110,
   "id": "8c08a088",
   "metadata": {},
   "outputs": [
    {
     "data": {
      "text/plain": [
       "{'C': 55,\n",
       " 'O': 54,\n",
       " 'c': 53,\n",
       " '1': 52,\n",
       " '2': 51,\n",
       " '[': 50,\n",
       " 'n': 49,\n",
       " 'H': 48,\n",
       " ']': 47,\n",
       " '(': 46,\n",
       " 'N': 45,\n",
       " ')': 44,\n",
       " '@': 43,\n",
       " '.': 42,\n",
       " 'l': 41,\n",
       " '=': 40,\n",
       " 'S': 39,\n",
       " '3': 38,\n",
       " '4': 37,\n",
       " 'F': 36,\n",
       " '-': 35,\n",
       " 's': 34,\n",
       " '/': 33,\n",
       " '5': 32,\n",
       " 'o': 31,\n",
       " 'a': 30,\n",
       " '+': 29,\n",
       " '#': 28,\n",
       " 'I': 27,\n",
       " 'P': 26,\n",
       " 'B': 25,\n",
       " 'r': 24,\n",
       " '\\\\': 23,\n",
       " 'Z': 22,\n",
       " '6': 21,\n",
       " '7': 20,\n",
       " '8': 19,\n",
       " 'e': 18,\n",
       " 'A': 17,\n",
       " 'K': 16,\n",
       " 'M': 15,\n",
       " 'g': 14,\n",
       " 'i': 13,\n",
       " 'L': 12,\n",
       " '9': 11}"
      ]
     },
     "execution_count": 110,
     "metadata": {},
     "output_type": "execute_result"
    }
   ],
   "source": [
    "atoms_voc"
   ]
  },
  {
   "cell_type": "code",
   "execution_count": 111,
   "id": "7e551ed4",
   "metadata": {},
   "outputs": [],
   "source": [
    "num_list = {}\n",
    "for i in range(1,10):\n",
    "    num_list[str(i)] = i"
   ]
  },
  {
   "cell_type": "code",
   "execution_count": 112,
   "id": "de428fd6",
   "metadata": {},
   "outputs": [
    {
     "data": {
      "text/plain": [
       "{'1': 1, '2': 2, '3': 3, '4': 4, '5': 5, '6': 6, '7': 7, '8': 8, '9': 9}"
      ]
     },
     "execution_count": 112,
     "metadata": {},
     "output_type": "execute_result"
    }
   ],
   "source": [
    "num_list"
   ]
  },
  {
   "cell_type": "code",
   "execution_count": 113,
   "id": "ee4bcd26",
   "metadata": {},
   "outputs": [],
   "source": [
    "for i in range(1,10):\n",
    "    del atoms_voc[str(i)]"
   ]
  },
  {
   "cell_type": "code",
   "execution_count": 114,
   "id": "0552cdb4",
   "metadata": {},
   "outputs": [
    {
     "data": {
      "text/plain": [
       "{'C': 55,\n",
       " 'O': 54,\n",
       " 'c': 53,\n",
       " '[': 50,\n",
       " 'n': 49,\n",
       " 'H': 48,\n",
       " ']': 47,\n",
       " '(': 46,\n",
       " 'N': 45,\n",
       " ')': 44,\n",
       " '@': 43,\n",
       " '.': 42,\n",
       " 'l': 41,\n",
       " '=': 40,\n",
       " 'S': 39,\n",
       " 'F': 36,\n",
       " '-': 35,\n",
       " 's': 34,\n",
       " '/': 33,\n",
       " 'o': 31,\n",
       " 'a': 30,\n",
       " '+': 29,\n",
       " '#': 28,\n",
       " 'I': 27,\n",
       " 'P': 26,\n",
       " 'B': 25,\n",
       " 'r': 24,\n",
       " '\\\\': 23,\n",
       " 'Z': 22,\n",
       " 'e': 18,\n",
       " 'A': 17,\n",
       " 'K': 16,\n",
       " 'M': 15,\n",
       " 'g': 14,\n",
       " 'i': 13,\n",
       " 'L': 12}"
      ]
     },
     "execution_count": 114,
     "metadata": {},
     "output_type": "execute_result"
    }
   ],
   "source": [
    "atoms_voc"
   ]
  },
  {
   "cell_type": "code",
   "execution_count": 115,
   "id": "447d01d3",
   "metadata": {},
   "outputs": [],
   "source": [
    "df['text'] = df['Smiles'].apply(lambda x: str(x))"
   ]
  },
  {
   "cell_type": "code",
   "execution_count": 116,
   "id": "25d87778",
   "metadata": {
    "scrolled": false
   },
   "outputs": [
    {
     "data": {
      "text/html": [
       "<div>\n",
       "<style scoped>\n",
       "    .dataframe tbody tr th:only-of-type {\n",
       "        vertical-align: middle;\n",
       "    }\n",
       "\n",
       "    .dataframe tbody tr th {\n",
       "        vertical-align: top;\n",
       "    }\n",
       "\n",
       "    .dataframe thead th {\n",
       "        text-align: right;\n",
       "    }\n",
       "</style>\n",
       "<table border=\"1\" class=\"dataframe\">\n",
       "  <thead>\n",
       "    <tr style=\"text-align: right;\">\n",
       "      <th></th>\n",
       "      <th>Smiles</th>\n",
       "      <th>Active</th>\n",
       "      <th>train</th>\n",
       "      <th>text</th>\n",
       "    </tr>\n",
       "  </thead>\n",
       "  <tbody>\n",
       "    <tr>\n",
       "      <th>2029</th>\n",
       "      <td>CN(C)[C@@H]1C(O)=C(C(N)=O)C(=O)[C@@]2(O)C(O)=C...</td>\n",
       "      <td>0.0</td>\n",
       "      <td>1</td>\n",
       "      <td>CN(C)[C@@H]1C(O)=C(C(N)=O)C(=O)[C@@]2(O)C(O)=C...</td>\n",
       "    </tr>\n",
       "  </tbody>\n",
       "</table>\n",
       "</div>"
      ],
      "text/plain": [
       "                                                 Smiles  Active  train  \\\n",
       "2029  CN(C)[C@@H]1C(O)=C(C(N)=O)C(=O)[C@@]2(O)C(O)=C...     0.0      1   \n",
       "\n",
       "                                                   text  \n",
       "2029  CN(C)[C@@H]1C(O)=C(C(N)=O)C(=O)[C@@]2(O)C(O)=C...  "
      ]
     },
     "execution_count": 116,
     "metadata": {},
     "output_type": "execute_result"
    }
   ],
   "source": [
    "df.sample()"
   ]
  },
  {
   "cell_type": "code",
   "execution_count": 117,
   "id": "5845b4d3",
   "metadata": {},
   "outputs": [],
   "source": [
    "for k,v in num_list.items():\n",
    "    v = str(v)\n",
    "    df['text'] = df['text'].str.replace(k,v+',')"
   ]
  },
  {
   "cell_type": "code",
   "execution_count": 118,
   "id": "228d48fc",
   "metadata": {},
   "outputs": [],
   "source": [
    "for k,v in atoms_voc.items():\n",
    "    v = str(v)\n",
    "    df['text'] = df['text'].str.replace(k,v+',')"
   ]
  },
  {
   "cell_type": "code",
   "execution_count": 119,
   "id": "335e5120",
   "metadata": {},
   "outputs": [
    {
     "data": {
      "text/html": [
       "<div>\n",
       "<style scoped>\n",
       "    .dataframe tbody tr th:only-of-type {\n",
       "        vertical-align: middle;\n",
       "    }\n",
       "\n",
       "    .dataframe tbody tr th {\n",
       "        vertical-align: top;\n",
       "    }\n",
       "\n",
       "    .dataframe thead th {\n",
       "        text-align: right;\n",
       "    }\n",
       "</style>\n",
       "<table border=\"1\" class=\"dataframe\">\n",
       "  <thead>\n",
       "    <tr style=\"text-align: right;\">\n",
       "      <th></th>\n",
       "      <th>Smiles</th>\n",
       "      <th>Active</th>\n",
       "      <th>train</th>\n",
       "      <th>text</th>\n",
       "    </tr>\n",
       "  </thead>\n",
       "  <tbody>\n",
       "    <tr>\n",
       "      <th>6148</th>\n",
       "      <td>c1coc(CNc2ncnc3[nH]cnc23)c1</td>\n",
       "      <td>NaN</td>\n",
       "      <td>0</td>\n",
       "      <td>53,1,53,31,53,46,55,45,53,2,49,53,49,53,3,50,4...</td>\n",
       "    </tr>\n",
       "  </tbody>\n",
       "</table>\n",
       "</div>"
      ],
      "text/plain": [
       "                           Smiles  Active  train  \\\n",
       "6148  c1coc(CNc2ncnc3[nH]cnc23)c1     NaN      0   \n",
       "\n",
       "                                                   text  \n",
       "6148  53,1,53,31,53,46,55,45,53,2,49,53,49,53,3,50,4...  "
      ]
     },
     "execution_count": 119,
     "metadata": {},
     "output_type": "execute_result"
    }
   ],
   "source": [
    "df.sample()"
   ]
  },
  {
   "cell_type": "code",
   "execution_count": 120,
   "id": "d29babde",
   "metadata": {},
   "outputs": [],
   "source": [
    "df['text'] = df['text'].apply(lambda x: x[:-1])"
   ]
  },
  {
   "cell_type": "code",
   "execution_count": 121,
   "id": "5193b7ca",
   "metadata": {},
   "outputs": [
    {
     "data": {
      "text/html": [
       "<div>\n",
       "<style scoped>\n",
       "    .dataframe tbody tr th:only-of-type {\n",
       "        vertical-align: middle;\n",
       "    }\n",
       "\n",
       "    .dataframe tbody tr th {\n",
       "        vertical-align: top;\n",
       "    }\n",
       "\n",
       "    .dataframe thead th {\n",
       "        text-align: right;\n",
       "    }\n",
       "</style>\n",
       "<table border=\"1\" class=\"dataframe\">\n",
       "  <thead>\n",
       "    <tr style=\"text-align: right;\">\n",
       "      <th></th>\n",
       "      <th>Smiles</th>\n",
       "      <th>Active</th>\n",
       "      <th>train</th>\n",
       "      <th>text</th>\n",
       "    </tr>\n",
       "  </thead>\n",
       "  <tbody>\n",
       "    <tr>\n",
       "      <th>5134</th>\n",
       "      <td>OCCCCO</td>\n",
       "      <td>0.0</td>\n",
       "      <td>1</td>\n",
       "      <td>54,55,55,55,55,54</td>\n",
       "    </tr>\n",
       "  </tbody>\n",
       "</table>\n",
       "</div>"
      ],
      "text/plain": [
       "      Smiles  Active  train               text\n",
       "5134  OCCCCO     0.0      1  54,55,55,55,55,54"
      ]
     },
     "execution_count": 121,
     "metadata": {},
     "output_type": "execute_result"
    }
   ],
   "source": [
    "df[df.index == 5134]"
   ]
  },
  {
   "cell_type": "code",
   "execution_count": 122,
   "id": "659a9097",
   "metadata": {},
   "outputs": [],
   "source": [
    "df['Active'] = df['Active'].fillna(0)"
   ]
  },
  {
   "cell_type": "code",
   "execution_count": 123,
   "id": "9b136c1d",
   "metadata": {},
   "outputs": [],
   "source": [
    "df['Active'] = df['Active'].apply(lambda x: int(x))"
   ]
  },
  {
   "cell_type": "code",
   "execution_count": 124,
   "id": "baf3f8c0",
   "metadata": {
    "scrolled": false
   },
   "outputs": [
    {
     "name": "stdout",
     "output_type": "stream",
     "text": [
      "<class 'pandas.core.frame.DataFrame'>\n",
      "RangeIndex: 7171 entries, 0 to 7170\n",
      "Data columns (total 4 columns):\n",
      " #   Column  Non-Null Count  Dtype \n",
      "---  ------  --------------  ----- \n",
      " 0   Smiles  7171 non-null   object\n",
      " 1   Active  7171 non-null   int64 \n",
      " 2   train   7171 non-null   int64 \n",
      " 3   text    7171 non-null   object\n",
      "dtypes: int64(2), object(2)\n",
      "memory usage: 224.2+ KB\n"
     ]
    }
   ],
   "source": [
    "df.info()                              "
   ]
  },
  {
   "cell_type": "code",
   "execution_count": 125,
   "id": "bdc2ef46",
   "metadata": {},
   "outputs": [],
   "source": [
    "df['text'] = df['text'].apply(lambda x: x.split(','))"
   ]
  },
  {
   "cell_type": "code",
   "execution_count": 126,
   "id": "61733b84",
   "metadata": {
    "scrolled": true
   },
   "outputs": [
    {
     "data": {
      "text/html": [
       "<div>\n",
       "<style scoped>\n",
       "    .dataframe tbody tr th:only-of-type {\n",
       "        vertical-align: middle;\n",
       "    }\n",
       "\n",
       "    .dataframe tbody tr th {\n",
       "        vertical-align: top;\n",
       "    }\n",
       "\n",
       "    .dataframe thead th {\n",
       "        text-align: right;\n",
       "    }\n",
       "</style>\n",
       "<table border=\"1\" class=\"dataframe\">\n",
       "  <thead>\n",
       "    <tr style=\"text-align: right;\">\n",
       "      <th></th>\n",
       "      <th>Smiles</th>\n",
       "      <th>Active</th>\n",
       "      <th>train</th>\n",
       "      <th>text</th>\n",
       "    </tr>\n",
       "  </thead>\n",
       "  <tbody>\n",
       "    <tr>\n",
       "      <th>3258</th>\n",
       "      <td>O=C1c2ccccc2C(=O)c2oc(-c3ccccc3)nc21</td>\n",
       "      <td>0</td>\n",
       "      <td>1</td>\n",
       "      <td>[54, 40, 55, 1, 53, 2, 53, 53, 53, 53, 53, 2, ...</td>\n",
       "    </tr>\n",
       "  </tbody>\n",
       "</table>\n",
       "</div>"
      ],
      "text/plain": [
       "                                    Smiles  Active  train  \\\n",
       "3258  O=C1c2ccccc2C(=O)c2oc(-c3ccccc3)nc21       0      1   \n",
       "\n",
       "                                                   text  \n",
       "3258  [54, 40, 55, 1, 53, 2, 53, 53, 53, 53, 53, 2, ...  "
      ]
     },
     "execution_count": 126,
     "metadata": {},
     "output_type": "execute_result"
    }
   ],
   "source": [
    "df.sample()"
   ]
  },
  {
   "cell_type": "code",
   "execution_count": 127,
   "id": "c1ae2616",
   "metadata": {},
   "outputs": [
    {
     "data": {
      "text/html": [
       "<div>\n",
       "<style scoped>\n",
       "    .dataframe tbody tr th:only-of-type {\n",
       "        vertical-align: middle;\n",
       "    }\n",
       "\n",
       "    .dataframe tbody tr th {\n",
       "        vertical-align: top;\n",
       "    }\n",
       "\n",
       "    .dataframe thead th {\n",
       "        text-align: right;\n",
       "    }\n",
       "</style>\n",
       "<table border=\"1\" class=\"dataframe\">\n",
       "  <thead>\n",
       "    <tr style=\"text-align: right;\">\n",
       "      <th></th>\n",
       "      <th>Smiles</th>\n",
       "      <th>Active</th>\n",
       "      <th>train</th>\n",
       "      <th>text</th>\n",
       "    </tr>\n",
       "  </thead>\n",
       "  <tbody>\n",
       "    <tr>\n",
       "      <th>5134</th>\n",
       "      <td>OCCCCO</td>\n",
       "      <td>0</td>\n",
       "      <td>1</td>\n",
       "      <td>[54, 55, 55, 55, 55, 54]</td>\n",
       "    </tr>\n",
       "  </tbody>\n",
       "</table>\n",
       "</div>"
      ],
      "text/plain": [
       "      Smiles  Active  train                      text\n",
       "5134  OCCCCO       0      1  [54, 55, 55, 55, 55, 54]"
      ]
     },
     "execution_count": 127,
     "metadata": {},
     "output_type": "execute_result"
    }
   ],
   "source": [
    "df[df.index == 5134]"
   ]
  },
  {
   "cell_type": "code",
   "execution_count": 128,
   "id": "a523faa1",
   "metadata": {},
   "outputs": [],
   "source": [
    "df['text'] = df['text'].apply(lambda x: [int(i) for i in x])"
   ]
  },
  {
   "cell_type": "code",
   "execution_count": 129,
   "id": "680915a1",
   "metadata": {
    "scrolled": true
   },
   "outputs": [
    {
     "name": "stdout",
     "output_type": "stream",
     "text": [
      "<class 'pandas.core.frame.DataFrame'>\n",
      "RangeIndex: 7171 entries, 0 to 7170\n",
      "Data columns (total 4 columns):\n",
      " #   Column  Non-Null Count  Dtype \n",
      "---  ------  --------------  ----- \n",
      " 0   Smiles  7171 non-null   object\n",
      " 1   Active  7171 non-null   int64 \n",
      " 2   train   7171 non-null   int64 \n",
      " 3   text    7171 non-null   object\n",
      "dtypes: int64(2), object(2)\n",
      "memory usage: 224.2+ KB\n"
     ]
    }
   ],
   "source": [
    "df.info()"
   ]
  },
  {
   "cell_type": "code",
   "execution_count": 130,
   "id": "6eb69159",
   "metadata": {},
   "outputs": [],
   "source": [
    "new_df = df.copy()"
   ]
  },
  {
   "cell_type": "code",
   "execution_count": 131,
   "id": "833cb2a9",
   "metadata": {},
   "outputs": [],
   "source": [
    "new_df.reset_index(inplace = True)\n",
    "new_df.set_index(['Smiles'], inplace = True)"
   ]
  },
  {
   "cell_type": "code",
   "execution_count": 132,
   "id": "82177979",
   "metadata": {
    "scrolled": true
   },
   "outputs": [
    {
     "data": {
      "text/html": [
       "<div>\n",
       "<style scoped>\n",
       "    .dataframe tbody tr th:only-of-type {\n",
       "        vertical-align: middle;\n",
       "    }\n",
       "\n",
       "    .dataframe tbody tr th {\n",
       "        vertical-align: top;\n",
       "    }\n",
       "\n",
       "    .dataframe thead th {\n",
       "        text-align: right;\n",
       "    }\n",
       "</style>\n",
       "<table border=\"1\" class=\"dataframe\">\n",
       "  <thead>\n",
       "    <tr style=\"text-align: right;\">\n",
       "      <th></th>\n",
       "      <th>index</th>\n",
       "      <th>Active</th>\n",
       "      <th>train</th>\n",
       "      <th>text</th>\n",
       "    </tr>\n",
       "    <tr>\n",
       "      <th>Smiles</th>\n",
       "      <th></th>\n",
       "      <th></th>\n",
       "      <th></th>\n",
       "      <th></th>\n",
       "    </tr>\n",
       "  </thead>\n",
       "  <tbody>\n",
       "    <tr>\n",
       "      <th>O=C(O)C(F)(F)C(F)(F)C(F)(F)C(F)(F)C(F)(F)C(F)(F)C(F)(F)F</th>\n",
       "      <td>1312</td>\n",
       "      <td>0</td>\n",
       "      <td>1</td>\n",
       "      <td>[54, 40, 55, 46, 54, 44, 55, 46, 36, 44, 46, 3...</td>\n",
       "    </tr>\n",
       "  </tbody>\n",
       "</table>\n",
       "</div>"
      ],
      "text/plain": [
       "                                                    index  Active  train  \\\n",
       "Smiles                                                                     \n",
       "O=C(O)C(F)(F)C(F)(F)C(F)(F)C(F)(F)C(F)(F)C(F)(F...   1312       0      1   \n",
       "\n",
       "                                                                                                 text  \n",
       "Smiles                                                                                                 \n",
       "O=C(O)C(F)(F)C(F)(F)C(F)(F)C(F)(F)C(F)(F)C(F)(F...  [54, 40, 55, 46, 54, 44, 55, 46, 36, 44, 46, 3...  "
      ]
     },
     "execution_count": 132,
     "metadata": {},
     "output_type": "execute_result"
    }
   ],
   "source": [
    "new_df.sample()"
   ]
  },
  {
   "cell_type": "code",
   "execution_count": 133,
   "id": "0235ab33",
   "metadata": {},
   "outputs": [],
   "source": [
    "new_df.drop(['index'], axis = 1, inplace = True)"
   ]
  },
  {
   "cell_type": "code",
   "execution_count": 134,
   "id": "174b02e3",
   "metadata": {},
   "outputs": [],
   "source": [
    "train_new = new_df[new_df['train'] == 1]\n",
    "test_new =new_df[new_df['train'] == 0]"
   ]
  },
  {
   "cell_type": "code",
   "execution_count": 135,
   "id": "3a080520",
   "metadata": {},
   "outputs": [],
   "source": [
    "X = train_new.drop(['Active', 'train'], axis = 1)\n",
    "y = train_new['Active']"
   ]
  },
  {
   "cell_type": "code",
   "execution_count": 137,
   "id": "ae63a1c1",
   "metadata": {},
   "outputs": [
    {
     "data": {
      "text/html": [
       "<div>\n",
       "<style scoped>\n",
       "    .dataframe tbody tr th:only-of-type {\n",
       "        vertical-align: middle;\n",
       "    }\n",
       "\n",
       "    .dataframe tbody tr th {\n",
       "        vertical-align: top;\n",
       "    }\n",
       "\n",
       "    .dataframe thead th {\n",
       "        text-align: right;\n",
       "    }\n",
       "</style>\n",
       "<table border=\"1\" class=\"dataframe\">\n",
       "  <thead>\n",
       "    <tr style=\"text-align: right;\">\n",
       "      <th></th>\n",
       "      <th>text</th>\n",
       "    </tr>\n",
       "    <tr>\n",
       "      <th>Smiles</th>\n",
       "      <th></th>\n",
       "    </tr>\n",
       "  </thead>\n",
       "  <tbody>\n",
       "    <tr>\n",
       "      <th>O=C1CC(c2c[nH]c3ccc(F)cc23)C(=O)N1</th>\n",
       "      <td>[54, 40, 55, 1, 55, 55, 46, 53, 2, 53, 50, 49,...</td>\n",
       "    </tr>\n",
       "  </tbody>\n",
       "</table>\n",
       "</div>"
      ],
      "text/plain": [
       "                                                                                 text\n",
       "Smiles                                                                               \n",
       "O=C1CC(c2c[nH]c3ccc(F)cc23)C(=O)N1  [54, 40, 55, 1, 55, 55, 46, 53, 2, 53, 50, 49,..."
      ]
     },
     "execution_count": 137,
     "metadata": {},
     "output_type": "execute_result"
    }
   ],
   "source": [
    "X.sample()"
   ]
  },
  {
   "cell_type": "code",
   "execution_count": 89,
   "id": "f6ff5bce",
   "metadata": {},
   "outputs": [
    {
     "ename": "TypeError",
     "evalue": "expected str, bytes or os.PathLike object, not DataFrame",
     "output_type": "error",
     "traceback": [
      "\u001b[1;31m---------------------------------------------------------------------------\u001b[0m",
      "\u001b[1;31mTypeError\u001b[0m                                 Traceback (most recent call last)",
      "\u001b[1;32m~\\AppData\\Local\\Temp/ipykernel_31724/757777320.py\u001b[0m in \u001b[0;36m<module>\u001b[1;34m\u001b[0m\n\u001b[1;32m----> 1\u001b[1;33m train_set = torchvision.datasets.FashionMNIST(X, download=True, \n\u001b[0m\u001b[0;32m      2\u001b[0m                                               transform=transforms.Compose([transforms.ToTensor()]))\n",
      "\u001b[1;32m~\\anaconda3\\lib\\site-packages\\torchvision\\datasets\\mnist.py\u001b[0m in \u001b[0;36m__init__\u001b[1;34m(self, root, train, transform, target_transform, download)\u001b[0m\n\u001b[0;32m     80\u001b[0m         \u001b[0mself\u001b[0m\u001b[1;33m.\u001b[0m\u001b[0mtrain\u001b[0m \u001b[1;33m=\u001b[0m \u001b[0mtrain\u001b[0m  \u001b[1;31m# training set or test set\u001b[0m\u001b[1;33m\u001b[0m\u001b[1;33m\u001b[0m\u001b[0m\n\u001b[0;32m     81\u001b[0m \u001b[1;33m\u001b[0m\u001b[0m\n\u001b[1;32m---> 82\u001b[1;33m         \u001b[1;32mif\u001b[0m \u001b[0mself\u001b[0m\u001b[1;33m.\u001b[0m\u001b[0m_check_legacy_exist\u001b[0m\u001b[1;33m(\u001b[0m\u001b[1;33m)\u001b[0m\u001b[1;33m:\u001b[0m\u001b[1;33m\u001b[0m\u001b[1;33m\u001b[0m\u001b[0m\n\u001b[0m\u001b[0;32m     83\u001b[0m             \u001b[0mself\u001b[0m\u001b[1;33m.\u001b[0m\u001b[0mdata\u001b[0m\u001b[1;33m,\u001b[0m \u001b[0mself\u001b[0m\u001b[1;33m.\u001b[0m\u001b[0mtargets\u001b[0m \u001b[1;33m=\u001b[0m \u001b[0mself\u001b[0m\u001b[1;33m.\u001b[0m\u001b[0m_load_legacy_data\u001b[0m\u001b[1;33m(\u001b[0m\u001b[1;33m)\u001b[0m\u001b[1;33m\u001b[0m\u001b[1;33m\u001b[0m\u001b[0m\n\u001b[0;32m     84\u001b[0m             \u001b[1;32mreturn\u001b[0m\u001b[1;33m\u001b[0m\u001b[1;33m\u001b[0m\u001b[0m\n",
      "\u001b[1;32m~\\anaconda3\\lib\\site-packages\\torchvision\\datasets\\mnist.py\u001b[0m in \u001b[0;36m_check_legacy_exist\u001b[1;34m(self)\u001b[0m\n\u001b[0;32m     94\u001b[0m \u001b[1;33m\u001b[0m\u001b[0m\n\u001b[0;32m     95\u001b[0m     \u001b[1;32mdef\u001b[0m \u001b[0m_check_legacy_exist\u001b[0m\u001b[1;33m(\u001b[0m\u001b[0mself\u001b[0m\u001b[1;33m)\u001b[0m\u001b[1;33m:\u001b[0m\u001b[1;33m\u001b[0m\u001b[1;33m\u001b[0m\u001b[0m\n\u001b[1;32m---> 96\u001b[1;33m         \u001b[0mprocessed_folder_exists\u001b[0m \u001b[1;33m=\u001b[0m \u001b[0mos\u001b[0m\u001b[1;33m.\u001b[0m\u001b[0mpath\u001b[0m\u001b[1;33m.\u001b[0m\u001b[0mexists\u001b[0m\u001b[1;33m(\u001b[0m\u001b[0mself\u001b[0m\u001b[1;33m.\u001b[0m\u001b[0mprocessed_folder\u001b[0m\u001b[1;33m)\u001b[0m\u001b[1;33m\u001b[0m\u001b[1;33m\u001b[0m\u001b[0m\n\u001b[0m\u001b[0;32m     97\u001b[0m         \u001b[1;32mif\u001b[0m \u001b[1;32mnot\u001b[0m \u001b[0mprocessed_folder_exists\u001b[0m\u001b[1;33m:\u001b[0m\u001b[1;33m\u001b[0m\u001b[1;33m\u001b[0m\u001b[0m\n\u001b[0;32m     98\u001b[0m             \u001b[1;32mreturn\u001b[0m \u001b[1;32mFalse\u001b[0m\u001b[1;33m\u001b[0m\u001b[1;33m\u001b[0m\u001b[0m\n",
      "\u001b[1;32m~\\anaconda3\\lib\\site-packages\\torchvision\\datasets\\mnist.py\u001b[0m in \u001b[0;36mprocessed_folder\u001b[1;34m(self)\u001b[0m\n\u001b[0;32m    148\u001b[0m     \u001b[1;33m@\u001b[0m\u001b[0mproperty\u001b[0m\u001b[1;33m\u001b[0m\u001b[1;33m\u001b[0m\u001b[0m\n\u001b[0;32m    149\u001b[0m     \u001b[1;32mdef\u001b[0m \u001b[0mprocessed_folder\u001b[0m\u001b[1;33m(\u001b[0m\u001b[0mself\u001b[0m\u001b[1;33m)\u001b[0m \u001b[1;33m->\u001b[0m \u001b[0mstr\u001b[0m\u001b[1;33m:\u001b[0m\u001b[1;33m\u001b[0m\u001b[1;33m\u001b[0m\u001b[0m\n\u001b[1;32m--> 150\u001b[1;33m         \u001b[1;32mreturn\u001b[0m \u001b[0mos\u001b[0m\u001b[1;33m.\u001b[0m\u001b[0mpath\u001b[0m\u001b[1;33m.\u001b[0m\u001b[0mjoin\u001b[0m\u001b[1;33m(\u001b[0m\u001b[0mself\u001b[0m\u001b[1;33m.\u001b[0m\u001b[0mroot\u001b[0m\u001b[1;33m,\u001b[0m \u001b[0mself\u001b[0m\u001b[1;33m.\u001b[0m\u001b[0m__class__\u001b[0m\u001b[1;33m.\u001b[0m\u001b[0m__name__\u001b[0m\u001b[1;33m,\u001b[0m \u001b[1;34m'processed'\u001b[0m\u001b[1;33m)\u001b[0m\u001b[1;33m\u001b[0m\u001b[1;33m\u001b[0m\u001b[0m\n\u001b[0m\u001b[0;32m    151\u001b[0m \u001b[1;33m\u001b[0m\u001b[0m\n\u001b[0;32m    152\u001b[0m     \u001b[1;33m@\u001b[0m\u001b[0mproperty\u001b[0m\u001b[1;33m\u001b[0m\u001b[1;33m\u001b[0m\u001b[0m\n",
      "\u001b[1;32m~\\anaconda3\\lib\\ntpath.py\u001b[0m in \u001b[0;36mjoin\u001b[1;34m(path, *paths)\u001b[0m\n\u001b[0;32m     76\u001b[0m \u001b[1;31m# Join two (or more) paths.\u001b[0m\u001b[1;33m\u001b[0m\u001b[1;33m\u001b[0m\u001b[1;33m\u001b[0m\u001b[0m\n\u001b[0;32m     77\u001b[0m \u001b[1;32mdef\u001b[0m \u001b[0mjoin\u001b[0m\u001b[1;33m(\u001b[0m\u001b[0mpath\u001b[0m\u001b[1;33m,\u001b[0m \u001b[1;33m*\u001b[0m\u001b[0mpaths\u001b[0m\u001b[1;33m)\u001b[0m\u001b[1;33m:\u001b[0m\u001b[1;33m\u001b[0m\u001b[1;33m\u001b[0m\u001b[0m\n\u001b[1;32m---> 78\u001b[1;33m     \u001b[0mpath\u001b[0m \u001b[1;33m=\u001b[0m \u001b[0mos\u001b[0m\u001b[1;33m.\u001b[0m\u001b[0mfspath\u001b[0m\u001b[1;33m(\u001b[0m\u001b[0mpath\u001b[0m\u001b[1;33m)\u001b[0m\u001b[1;33m\u001b[0m\u001b[1;33m\u001b[0m\u001b[0m\n\u001b[0m\u001b[0;32m     79\u001b[0m     \u001b[1;32mif\u001b[0m \u001b[0misinstance\u001b[0m\u001b[1;33m(\u001b[0m\u001b[0mpath\u001b[0m\u001b[1;33m,\u001b[0m \u001b[0mbytes\u001b[0m\u001b[1;33m)\u001b[0m\u001b[1;33m:\u001b[0m\u001b[1;33m\u001b[0m\u001b[1;33m\u001b[0m\u001b[0m\n\u001b[0;32m     80\u001b[0m         \u001b[0msep\u001b[0m \u001b[1;33m=\u001b[0m \u001b[1;34mb'\\\\'\u001b[0m\u001b[1;33m\u001b[0m\u001b[1;33m\u001b[0m\u001b[0m\n",
      "\u001b[1;31mTypeError\u001b[0m: expected str, bytes or os.PathLike object, not DataFrame"
     ]
    }
   ],
   "source": [
    "batch_size = 100\n",
    "train_loader = torch.utils.data.DataLoader(X, batch_size=batch_size)\n",
    "test_loader = torch.utils.data.DataLoader(test_set, batch_size=batch_size)"
   ]
  }
 ],
 "metadata": {
  "kernelspec": {
   "display_name": "Python 3 (ipykernel)",
   "language": "python",
   "name": "python3"
  },
  "language_info": {
   "codemirror_mode": {
    "name": "ipython",
    "version": 3
   },
   "file_extension": ".py",
   "mimetype": "text/x-python",
   "name": "python",
   "nbconvert_exporter": "python",
   "pygments_lexer": "ipython3",
   "version": "3.8.11"
  }
 },
 "nbformat": 4,
 "nbformat_minor": 5
}
