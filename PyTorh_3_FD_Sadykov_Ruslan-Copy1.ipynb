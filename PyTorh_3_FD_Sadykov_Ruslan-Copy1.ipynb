{
 "cells": [
  {
   "cell_type": "code",
   "execution_count": 12,
   "id": "7ea6b1dc",
   "metadata": {},
   "outputs": [],
   "source": [
    "import pandas as pd\n",
    "import numpy as np\n",
    "import math\n",
    "\n",
    "from tqdm import tqdm\n",
    "import time\n",
    "\n",
    "import matplotlib.pyplot as plt\n",
    "\n",
    "import torch\n",
    "import torch.nn as nn\n",
    "from torch.autograd import Variable\n",
    "\n",
    "import torchvision\n",
    "import torchvision.transforms as transforms\n",
    "from torch.utils.data import Dataset, DataLoader\n",
    "from sklearn.metrics import confusion_matrix"
   ]
  },
  {
   "cell_type": "code",
   "execution_count": 13,
   "id": "a8eef7ee",
   "metadata": {},
   "outputs": [],
   "source": [
    "RANDOM_SEED = 13022022"
   ]
  },
  {
   "cell_type": "code",
   "execution_count": 14,
   "id": "d878b67f",
   "metadata": {},
   "outputs": [],
   "source": [
    "new_df = pd.read_csv('df_first_draft.csv')"
   ]
  },
  {
   "cell_type": "code",
   "execution_count": 15,
   "id": "d6e989fc",
   "metadata": {},
   "outputs": [
    {
     "data": {
      "text/html": [
       "<div>\n",
       "<style scoped>\n",
       "    .dataframe tbody tr th:only-of-type {\n",
       "        vertical-align: middle;\n",
       "    }\n",
       "\n",
       "    .dataframe tbody tr th {\n",
       "        vertical-align: top;\n",
       "    }\n",
       "\n",
       "    .dataframe thead th {\n",
       "        text-align: right;\n",
       "    }\n",
       "</style>\n",
       "<table border=\"1\" class=\"dataframe\">\n",
       "  <thead>\n",
       "    <tr style=\"text-align: right;\">\n",
       "      <th></th>\n",
       "      <th>Smiles</th>\n",
       "      <th>Active</th>\n",
       "      <th>train</th>\n",
       "      <th>len_smiles</th>\n",
       "      <th>C</th>\n",
       "      <th>O</th>\n",
       "      <th>c</th>\n",
       "      <th>1</th>\n",
       "      <th>2</th>\n",
       "      <th>[</th>\n",
       "      <th>...</th>\n",
       "      <th>7</th>\n",
       "      <th>8</th>\n",
       "      <th>e</th>\n",
       "      <th>A</th>\n",
       "      <th>K</th>\n",
       "      <th>M</th>\n",
       "      <th>g</th>\n",
       "      <th>i</th>\n",
       "      <th>L</th>\n",
       "      <th>9</th>\n",
       "    </tr>\n",
       "  </thead>\n",
       "  <tbody>\n",
       "    <tr>\n",
       "      <th>3030</th>\n",
       "      <td>COc1cn(-c2ccc(-n3cccn3)cc2F)nc(-c2ccnn2-c2cccc...</td>\n",
       "      <td>0.0</td>\n",
       "      <td>1</td>\n",
       "      <td>53</td>\n",
       "      <td>1</td>\n",
       "      <td>2</td>\n",
       "      <td>22</td>\n",
       "      <td>2</td>\n",
       "      <td>6</td>\n",
       "      <td>0</td>\n",
       "      <td>...</td>\n",
       "      <td>0</td>\n",
       "      <td>0</td>\n",
       "      <td>0</td>\n",
       "      <td>0</td>\n",
       "      <td>0</td>\n",
       "      <td>0</td>\n",
       "      <td>0</td>\n",
       "      <td>0</td>\n",
       "      <td>0</td>\n",
       "      <td>0</td>\n",
       "    </tr>\n",
       "  </tbody>\n",
       "</table>\n",
       "<p>1 rows × 49 columns</p>\n",
       "</div>"
      ],
      "text/plain": [
       "                                                 Smiles  Active  train  \\\n",
       "3030  COc1cn(-c2ccc(-n3cccn3)cc2F)nc(-c2ccnn2-c2cccc...     0.0      1   \n",
       "\n",
       "      len_smiles  C  O   c  1  2  [  ...  7  8  e  A  K  M  g  i  L  9  \n",
       "3030          53  1  2  22  2  6  0  ...  0  0  0  0  0  0  0  0  0  0  \n",
       "\n",
       "[1 rows x 49 columns]"
      ]
     },
     "execution_count": 15,
     "metadata": {},
     "output_type": "execute_result"
    }
   ],
   "source": [
    "new_df.sample()"
   ]
  },
  {
   "cell_type": "code",
   "execution_count": 16,
   "id": "174b02e3",
   "metadata": {},
   "outputs": [],
   "source": [
    "train_new = new_df[new_df['train'] == 1]\n",
    "test_new =new_df[new_df['train'] == 0]"
   ]
  },
  {
   "cell_type": "code",
   "execution_count": 17,
   "id": "3a080520",
   "metadata": {},
   "outputs": [],
   "source": [
    "X = train_new.drop(['Active', 'train', 'Smiles'], axis = 1)\n",
    "y = train_new['Active']"
   ]
  },
  {
   "cell_type": "code",
   "execution_count": 18,
   "id": "4a76874f",
   "metadata": {},
   "outputs": [],
   "source": [
    "X_test = test_new.drop(['Active', 'train', 'Smiles'], axis = 1)"
   ]
  },
  {
   "cell_type": "code",
   "execution_count": 19,
   "id": "c4c859e0",
   "metadata": {},
   "outputs": [
    {
     "data": {
      "text/html": [
       "<div>\n",
       "<style scoped>\n",
       "    .dataframe tbody tr th:only-of-type {\n",
       "        vertical-align: middle;\n",
       "    }\n",
       "\n",
       "    .dataframe tbody tr th {\n",
       "        vertical-align: top;\n",
       "    }\n",
       "\n",
       "    .dataframe thead th {\n",
       "        text-align: right;\n",
       "    }\n",
       "</style>\n",
       "<table border=\"1\" class=\"dataframe\">\n",
       "  <thead>\n",
       "    <tr style=\"text-align: right;\">\n",
       "      <th></th>\n",
       "      <th>len_smiles</th>\n",
       "      <th>C</th>\n",
       "      <th>O</th>\n",
       "      <th>c</th>\n",
       "      <th>1</th>\n",
       "      <th>2</th>\n",
       "      <th>[</th>\n",
       "      <th>n</th>\n",
       "      <th>H</th>\n",
       "      <th>]</th>\n",
       "      <th>...</th>\n",
       "      <th>7</th>\n",
       "      <th>8</th>\n",
       "      <th>e</th>\n",
       "      <th>A</th>\n",
       "      <th>K</th>\n",
       "      <th>M</th>\n",
       "      <th>g</th>\n",
       "      <th>i</th>\n",
       "      <th>L</th>\n",
       "      <th>9</th>\n",
       "    </tr>\n",
       "  </thead>\n",
       "  <tbody>\n",
       "    <tr>\n",
       "      <th>358</th>\n",
       "      <td>40</td>\n",
       "      <td>13</td>\n",
       "      <td>0</td>\n",
       "      <td>11</td>\n",
       "      <td>2</td>\n",
       "      <td>2</td>\n",
       "      <td>0</td>\n",
       "      <td>1</td>\n",
       "      <td>0</td>\n",
       "      <td>0</td>\n",
       "      <td>...</td>\n",
       "      <td>0</td>\n",
       "      <td>0</td>\n",
       "      <td>0</td>\n",
       "      <td>0</td>\n",
       "      <td>0</td>\n",
       "      <td>0</td>\n",
       "      <td>0</td>\n",
       "      <td>0</td>\n",
       "      <td>0</td>\n",
       "      <td>0</td>\n",
       "    </tr>\n",
       "  </tbody>\n",
       "</table>\n",
       "<p>1 rows × 46 columns</p>\n",
       "</div>"
      ],
      "text/plain": [
       "     len_smiles   C  O   c  1  2  [  n  H  ]  ...  7  8  e  A  K  M  g  i  L  \\\n",
       "358          40  13  0  11  2  2  0  1  0  0  ...  0  0  0  0  0  0  0  0  0   \n",
       "\n",
       "     9  \n",
       "358  0  \n",
       "\n",
       "[1 rows x 46 columns]"
      ]
     },
     "execution_count": 19,
     "metadata": {},
     "output_type": "execute_result"
    }
   ],
   "source": [
    "X.sample()"
   ]
  },
  {
   "cell_type": "code",
   "execution_count": 20,
   "id": "11d5b040",
   "metadata": {},
   "outputs": [],
   "source": [
    "features = np.array(X)"
   ]
  },
  {
   "cell_type": "code",
   "execution_count": 21,
   "id": "d4ff9ffd",
   "metadata": {},
   "outputs": [],
   "source": [
    "test_features = np.array(X_test)"
   ]
  },
  {
   "cell_type": "code",
   "execution_count": 22,
   "id": "13a0a145",
   "metadata": {},
   "outputs": [
    {
     "data": {
      "text/plain": [
       "torch.Size([1614, 46])"
      ]
     },
     "execution_count": 22,
     "metadata": {},
     "output_type": "execute_result"
    }
   ],
   "source": [
    "x_test = torch.tensor(test_features)\n",
    "x_test = x_test.type(torch.FloatTensor)\n",
    "x_test.size()"
   ]
  },
  {
   "cell_type": "code",
   "execution_count": 23,
   "id": "25cb72ac",
   "metadata": {},
   "outputs": [
    {
     "data": {
      "text/plain": [
       "torch.Size([5557, 46])"
      ]
     },
     "execution_count": 23,
     "metadata": {},
     "output_type": "execute_result"
    }
   ],
   "source": [
    "x_train = torch.tensor(features)\n",
    "x_train = x_train.type(torch.FloatTensor)\n",
    "x_train.size()"
   ]
  },
  {
   "cell_type": "code",
   "execution_count": 24,
   "id": "2b3b7417",
   "metadata": {},
   "outputs": [
    {
     "data": {
      "text/plain": [
       "torch.Size([5557])"
      ]
     },
     "execution_count": 24,
     "metadata": {},
     "output_type": "execute_result"
    }
   ],
   "source": [
    "x_labels = torch.tensor(y)\n",
    "x_labels = x_labels.type(torch.FloatTensor)\n",
    "x_labels.size()"
   ]
  },
  {
   "cell_type": "code",
   "execution_count": 221,
   "id": "c77aac7e",
   "metadata": {},
   "outputs": [],
   "source": [
    "nX = 46\n",
    "nH1 = 23\n",
    "nH2 = 5\n",
    "nY = 1\n",
    " \n",
    "class TwoLayersNet(nn.Module):\n",
    "    def __init__(self, nX, nH1, nH2, nY):        \n",
    "        super(TwoLayersNet, self).__init__()     # конструктор предка с этим именем\n",
    "         \n",
    "        self.fc1 = nn.Linear(nX, nH1)             # создаём параметры модели\n",
    "        self.fc2 = nn.Linear(nH1, nH2)             # создаём параметры модели\n",
    "        self.fc3 = nn.Linear(nH2, nY)             # в полносвязных слоях\n",
    "          \n",
    "    def forward(self, x):                        # задаётся прямой проход\n",
    "        x = self.fc1(x)                          # выход первого слоя\n",
    "        x = nn.Sigmoid()(x)                      # пропускаем через Sigmoid\n",
    "        x = self.fc2(x)                          # выход второго слоя\n",
    "        x = nn.Sigmoid()(x)                      # пропускаем через сигмоид \n",
    "        x = self.fc3(x)                          # выход второго слоя\n",
    "        x = nn.Sigmoid()(x)\n",
    "\n",
    "        return x\n",
    "          \n",
    "model = TwoLayersNet(nX, nH1, nH2, nY)"
   ]
  },
  {
   "cell_type": "code",
   "execution_count": 222,
   "id": "44709df5",
   "metadata": {},
   "outputs": [],
   "source": [
    "model = TwoLayersNet(nX, nH1, nH2, nY)                           # экземпляр сети        \n",
    " \n",
    "loss      = nn.BCELoss()\n",
    "optimizer = torch.optim.SGD(model.parameters(),          # параметры модели\n",
    "                            lr=0.5, momentum=0.8) "
   ]
  },
  {
   "cell_type": "code",
   "execution_count": 223,
   "id": "f8fdcff6",
   "metadata": {},
   "outputs": [],
   "source": [
    "def fit(model, x_train,x_labels, batch_size=100, train=True):    \n",
    "    model.train(train)                                 # важно для Dropout, BatchNorm\n",
    "    sumL, sumA, numB = 0, 0, int( len(x_train)/batch_size )  # ошибка, точность, батчей\n",
    "       \n",
    "    for i in range(0, numB*batch_size, batch_size):          \n",
    "        xb = x_train[i: i+batch_size]                          # текущий батч,\n",
    "        yb = x_labels[i: i+batch_size]                          # X,Y - torch тензоры\n",
    "              \n",
    "        y = model(xb)[:,0]                                    # прямое распространение\n",
    "\n",
    "        L = loss(y, yb)                                  # вычисляем ошибку\n",
    "  \n",
    "        if train:                                        # в режиме обучения\n",
    "            optimizer.zero_grad()                        # обнуляем градиенты        \n",
    "            L.backward()                                 # вычисляем градиенты            \n",
    "            optimizer.step()                             # подправляем параметры\n",
    "                                     \n",
    "        sumL += L.item()                                 # суммарная ошибка (item из графа)\n",
    "        sumA += (y.round() == yb).float().mean()         # точность определения класса\n",
    "         \n",
    "    return sumL/numB,  sumA/numB "
   ]
  },
  {
   "cell_type": "code",
   "execution_count": 224,
   "id": "a4d25697",
   "metadata": {
    "scrolled": true
   },
   "outputs": [
    {
     "name": "stderr",
     "output_type": "stream",
     "text": [
      "100%|████████████████████████████████████████████████████████████████████████████████████| 1/1 [00:00<00:00, 12.46it/s]"
     ]
    },
    {
     "name": "stdout",
     "output_type": "stream",
     "text": [
      "before:      loss: 0.6447 accuracy: 0.9629\n",
      "epoch:     0 loss: 0.1783 accuracy: 0.9629\n"
     ]
    },
    {
     "name": "stderr",
     "output_type": "stream",
     "text": [
      "\n"
     ]
    }
   ],
   "source": [
    "print( \"before:      loss: %.4f accuracy: %.4f\" %  fit(model, x_train,x_labels, train=False) )\n",
    " \n",
    "epochs = 1                                            # число эпох\n",
    "for epoch in tqdm(range(epochs)):                              # эпоха - проход по всем примерам\n",
    "    L,A = fit(model, x_train, x_labels)                               # одна эпоха\n",
    "     \n",
    "    if epoch % 500 == 0 or epoch == epochs-1:                 \n",
    "        print(f'epoch: {epoch:5d} loss: {L:.4f} accuracy: {A:.4f}' ) "
   ]
  },
  {
   "cell_type": "code",
   "execution_count": 225,
   "id": "374cd621",
   "metadata": {},
   "outputs": [],
   "source": [
    "y_pred = model(x_test)"
   ]
  },
  {
   "cell_type": "code",
   "execution_count": 226,
   "id": "18dff706",
   "metadata": {},
   "outputs": [],
   "source": [
    "y_pred = y_pred[:,0]"
   ]
  },
  {
   "cell_type": "code",
   "execution_count": 227,
   "id": "a56e8f56",
   "metadata": {},
   "outputs": [
    {
     "data": {
      "text/plain": [
       "tensor([0.0446, 0.0448, 0.0447,  ..., 0.0446, 0.0448, 0.0449],\n",
       "       grad_fn=<SelectBackward0>)"
      ]
     },
     "execution_count": 227,
     "metadata": {},
     "output_type": "execute_result"
    }
   ],
   "source": [
    "y_pred"
   ]
  },
  {
   "cell_type": "code",
   "execution_count": 164,
   "id": "f25b6090",
   "metadata": {},
   "outputs": [],
   "source": [
    "test = pd.read_csv('Task/test.csv')\n",
    "test.drop(['Unnamed: 0'], axis = 1, inplace = True)"
   ]
  },
  {
   "cell_type": "code",
   "execution_count": 228,
   "id": "f1bcd819",
   "metadata": {},
   "outputs": [],
   "source": [
    "test['Active'] = y_pred.detach().numpy()"
   ]
  },
  {
   "cell_type": "code",
   "execution_count": 229,
   "id": "552372ec",
   "metadata": {},
   "outputs": [
    {
     "data": {
      "text/html": [
       "<div>\n",
       "<style scoped>\n",
       "    .dataframe tbody tr th:only-of-type {\n",
       "        vertical-align: middle;\n",
       "    }\n",
       "\n",
       "    .dataframe tbody tr th {\n",
       "        vertical-align: top;\n",
       "    }\n",
       "\n",
       "    .dataframe thead th {\n",
       "        text-align: right;\n",
       "    }\n",
       "</style>\n",
       "<table border=\"1\" class=\"dataframe\">\n",
       "  <thead>\n",
       "    <tr style=\"text-align: right;\">\n",
       "      <th></th>\n",
       "      <th>Smiles</th>\n",
       "      <th>Active</th>\n",
       "    </tr>\n",
       "  </thead>\n",
       "  <tbody>\n",
       "    <tr>\n",
       "      <th>293</th>\n",
       "      <td>CCC[C@@H]1C[C@@H](C(=O)N[C@H]([C@H](C)Cl)[C@H]...</td>\n",
       "      <td>0.044618</td>\n",
       "    </tr>\n",
       "  </tbody>\n",
       "</table>\n",
       "</div>"
      ],
      "text/plain": [
       "                                                Smiles    Active\n",
       "293  CCC[C@@H]1C[C@@H](C(=O)N[C@H]([C@H](C)Cl)[C@H]...  0.044618"
      ]
     },
     "execution_count": 229,
     "metadata": {},
     "output_type": "execute_result"
    }
   ],
   "source": [
    "test.sample()"
   ]
  },
  {
   "cell_type": "code",
   "execution_count": 231,
   "id": "cb4e498d",
   "metadata": {},
   "outputs": [],
   "source": [
    "test['Active'] = test['Active'].apply(lambda x: x*10000-446)"
   ]
  },
  {
   "cell_type": "code",
   "execution_count": 216,
   "id": "ccff84bf",
   "metadata": {},
   "outputs": [],
   "source": [
    "test['Active'] = test['Active'].apply(lambda x: int(abs(round(x, 0))))"
   ]
  },
  {
   "cell_type": "code",
   "execution_count": 210,
   "id": "8439122d",
   "metadata": {},
   "outputs": [],
   "source": [
    "test['Active'] = test['Active'].apply(lambda x: 1 if x > 1 else x)"
   ]
  },
  {
   "cell_type": "code",
   "execution_count": 230,
   "id": "64ec4070",
   "metadata": {},
   "outputs": [
    {
     "data": {
      "text/plain": [
       "0.044614    10\n",
       "0.044614     7\n",
       "0.044616     3\n",
       "0.044671     3\n",
       "0.044614     3\n",
       "            ..\n",
       "0.044639     1\n",
       "0.044751     1\n",
       "0.044474     1\n",
       "0.044639     1\n",
       "0.044678     1\n",
       "Name: Active, Length: 1520, dtype: int64"
      ]
     },
     "execution_count": 230,
     "metadata": {},
     "output_type": "execute_result"
    }
   ],
   "source": [
    "test['Active'].value_counts()"
   ]
  },
  {
   "cell_type": "code",
   "execution_count": 212,
   "id": "102682de",
   "metadata": {},
   "outputs": [
    {
     "data": {
      "text/html": [
       "<div>\n",
       "<style scoped>\n",
       "    .dataframe tbody tr th:only-of-type {\n",
       "        vertical-align: middle;\n",
       "    }\n",
       "\n",
       "    .dataframe tbody tr th {\n",
       "        vertical-align: top;\n",
       "    }\n",
       "\n",
       "    .dataframe thead th {\n",
       "        text-align: right;\n",
       "    }\n",
       "</style>\n",
       "<table border=\"1\" class=\"dataframe\">\n",
       "  <thead>\n",
       "    <tr style=\"text-align: right;\">\n",
       "      <th></th>\n",
       "      <th>Smiles</th>\n",
       "      <th>Active</th>\n",
       "    </tr>\n",
       "  </thead>\n",
       "  <tbody>\n",
       "    <tr>\n",
       "      <th>1377</th>\n",
       "      <td>NC(N)=NS(=O)(=O)c1ccc(N)cc1</td>\n",
       "      <td>1</td>\n",
       "    </tr>\n",
       "    <tr>\n",
       "      <th>1409</th>\n",
       "      <td>CN(C)CC[C@@H](c1ccc(Cl)cc1)c1ccccn1.O=C(O)/C=C...</td>\n",
       "      <td>0</td>\n",
       "    </tr>\n",
       "    <tr>\n",
       "      <th>563</th>\n",
       "      <td>C/C(=C(\\CCOP(=O)(O)O)SC(=O)c1ccccc1)N(C=O)Cc1c...</td>\n",
       "      <td>0</td>\n",
       "    </tr>\n",
       "    <tr>\n",
       "      <th>1571</th>\n",
       "      <td>CC[C@@H](NC(=O)c1cc(C(=O)N2CCC[C@@H]2C)n2c1COC...</td>\n",
       "      <td>0</td>\n",
       "    </tr>\n",
       "    <tr>\n",
       "      <th>1552</th>\n",
       "      <td>CC(C)(C)c1cc(C(C)(C)C)c2c(c1)C(O)(C(F)(F)F)C(=...</td>\n",
       "      <td>1</td>\n",
       "    </tr>\n",
       "  </tbody>\n",
       "</table>\n",
       "</div>"
      ],
      "text/plain": [
       "                                                 Smiles  Active\n",
       "1377                        NC(N)=NS(=O)(=O)c1ccc(N)cc1       1\n",
       "1409  CN(C)CC[C@@H](c1ccc(Cl)cc1)c1ccccn1.O=C(O)/C=C...       0\n",
       "563   C/C(=C(\\CCOP(=O)(O)O)SC(=O)c1ccccc1)N(C=O)Cc1c...       0\n",
       "1571  CC[C@@H](NC(=O)c1cc(C(=O)N2CCC[C@@H]2C)n2c1COC...       0\n",
       "1552  CC(C)(C)c1cc(C(C)(C)C)c2c(c1)C(O)(C(F)(F)F)C(=...       1"
      ]
     },
     "execution_count": 212,
     "metadata": {},
     "output_type": "execute_result"
    }
   ],
   "source": [
    "test.sample(5)"
   ]
  },
  {
   "cell_type": "code",
   "execution_count": 213,
   "id": "cfb54bf6",
   "metadata": {},
   "outputs": [],
   "source": [
    "test.to_csv('test2.csv', index=False)"
   ]
  },
  {
   "cell_type": "code",
   "execution_count": null,
   "id": "ad73f8ad",
   "metadata": {},
   "outputs": [],
   "source": []
  }
 ],
 "metadata": {
  "kernelspec": {
   "display_name": "Python 3 (ipykernel)",
   "language": "python",
   "name": "python3"
  },
  "language_info": {
   "codemirror_mode": {
    "name": "ipython",
    "version": 3
   },
   "file_extension": ".py",
   "mimetype": "text/x-python",
   "name": "python",
   "nbconvert_exporter": "python",
   "pygments_lexer": "ipython3",
   "version": "3.8.11"
  }
 },
 "nbformat": 4,
 "nbformat_minor": 5
}
