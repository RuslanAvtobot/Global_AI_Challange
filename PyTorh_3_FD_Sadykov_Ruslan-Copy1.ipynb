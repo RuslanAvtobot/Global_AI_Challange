{
 "cells": [
  {
   "cell_type": "code",
   "execution_count": 259,
   "id": "7ea6b1dc",
   "metadata": {},
   "outputs": [],
   "source": [
    "import pandas as pd\n",
    "import numpy as np\n",
    "import math\n",
    "\n",
    "from tqdm import tqdm\n",
    "import time\n",
    "\n",
    "import matplotlib.pyplot as plt\n",
    "\n",
    "import torch\n",
    "import torch.nn as nn\n",
    "from torch.autograd import Variable\n",
    "\n",
    "import torchvision\n",
    "import torchvision.transforms as transforms\n",
    "from torch.utils.data import Dataset, DataLoader\n",
    "from sklearn.metrics import confusion_matrix"
   ]
  },
  {
   "cell_type": "code",
   "execution_count": 260,
   "id": "a8eef7ee",
   "metadata": {},
   "outputs": [],
   "source": [
    "RANDOM_SEED = 13022022"
   ]
  },
  {
   "cell_type": "code",
   "execution_count": 261,
   "id": "d878b67f",
   "metadata": {},
   "outputs": [],
   "source": [
    "new_df = pd.read_csv('df_first_draft.csv')"
   ]
  },
  {
   "cell_type": "code",
   "execution_count": 262,
   "id": "d6e989fc",
   "metadata": {},
   "outputs": [
    {
     "data": {
      "text/html": [
       "<div>\n",
       "<style scoped>\n",
       "    .dataframe tbody tr th:only-of-type {\n",
       "        vertical-align: middle;\n",
       "    }\n",
       "\n",
       "    .dataframe tbody tr th {\n",
       "        vertical-align: top;\n",
       "    }\n",
       "\n",
       "    .dataframe thead th {\n",
       "        text-align: right;\n",
       "    }\n",
       "</style>\n",
       "<table border=\"1\" class=\"dataframe\">\n",
       "  <thead>\n",
       "    <tr style=\"text-align: right;\">\n",
       "      <th></th>\n",
       "      <th>Smiles</th>\n",
       "      <th>Active</th>\n",
       "      <th>train</th>\n",
       "      <th>len_smiles</th>\n",
       "      <th>C</th>\n",
       "      <th>O</th>\n",
       "      <th>c</th>\n",
       "      <th>1</th>\n",
       "      <th>2</th>\n",
       "      <th>[</th>\n",
       "      <th>...</th>\n",
       "      <th>7</th>\n",
       "      <th>8</th>\n",
       "      <th>e</th>\n",
       "      <th>A</th>\n",
       "      <th>K</th>\n",
       "      <th>M</th>\n",
       "      <th>g</th>\n",
       "      <th>i</th>\n",
       "      <th>L</th>\n",
       "      <th>9</th>\n",
       "    </tr>\n",
       "  </thead>\n",
       "  <tbody>\n",
       "    <tr>\n",
       "      <th>6868</th>\n",
       "      <td>O=C1CCc2cc(OCCCCc3nnnn3C3CCCCC3)ccc2N1</td>\n",
       "      <td>NaN</td>\n",
       "      <td>0</td>\n",
       "      <td>38</td>\n",
       "      <td>13</td>\n",
       "      <td>2</td>\n",
       "      <td>7</td>\n",
       "      <td>2</td>\n",
       "      <td>2</td>\n",
       "      <td>0</td>\n",
       "      <td>...</td>\n",
       "      <td>0</td>\n",
       "      <td>0</td>\n",
       "      <td>0</td>\n",
       "      <td>0</td>\n",
       "      <td>0</td>\n",
       "      <td>0</td>\n",
       "      <td>0</td>\n",
       "      <td>0</td>\n",
       "      <td>0</td>\n",
       "      <td>0</td>\n",
       "    </tr>\n",
       "  </tbody>\n",
       "</table>\n",
       "<p>1 rows × 49 columns</p>\n",
       "</div>"
      ],
      "text/plain": [
       "                                      Smiles  Active  train  len_smiles   C  \\\n",
       "6868  O=C1CCc2cc(OCCCCc3nnnn3C3CCCCC3)ccc2N1     NaN      0          38  13   \n",
       "\n",
       "      O  c  1  2  [  ...  7  8  e  A  K  M  g  i  L  9  \n",
       "6868  2  7  2  2  0  ...  0  0  0  0  0  0  0  0  0  0  \n",
       "\n",
       "[1 rows x 49 columns]"
      ]
     },
     "execution_count": 262,
     "metadata": {},
     "output_type": "execute_result"
    }
   ],
   "source": [
    "new_df.sample()"
   ]
  },
  {
   "cell_type": "code",
   "execution_count": 263,
   "id": "174b02e3",
   "metadata": {},
   "outputs": [],
   "source": [
    "train_new = new_df[new_df['train'] == 1]\n",
    "test_new =new_df[new_df['train'] == 0]"
   ]
  },
  {
   "cell_type": "code",
   "execution_count": 264,
   "id": "3a080520",
   "metadata": {},
   "outputs": [],
   "source": [
    "X = train_new.drop(['Active', 'train', 'Smiles'], axis = 1)\n",
    "y = train_new['Active']"
   ]
  },
  {
   "cell_type": "code",
   "execution_count": 265,
   "id": "4a76874f",
   "metadata": {},
   "outputs": [],
   "source": [
    "X_test = test_new.drop(['Active', 'train', 'Smiles'], axis = 1)"
   ]
  },
  {
   "cell_type": "code",
   "execution_count": 266,
   "id": "c4c859e0",
   "metadata": {},
   "outputs": [
    {
     "data": {
      "text/html": [
       "<div>\n",
       "<style scoped>\n",
       "    .dataframe tbody tr th:only-of-type {\n",
       "        vertical-align: middle;\n",
       "    }\n",
       "\n",
       "    .dataframe tbody tr th {\n",
       "        vertical-align: top;\n",
       "    }\n",
       "\n",
       "    .dataframe thead th {\n",
       "        text-align: right;\n",
       "    }\n",
       "</style>\n",
       "<table border=\"1\" class=\"dataframe\">\n",
       "  <thead>\n",
       "    <tr style=\"text-align: right;\">\n",
       "      <th></th>\n",
       "      <th>len_smiles</th>\n",
       "      <th>C</th>\n",
       "      <th>O</th>\n",
       "      <th>c</th>\n",
       "      <th>1</th>\n",
       "      <th>2</th>\n",
       "      <th>[</th>\n",
       "      <th>n</th>\n",
       "      <th>H</th>\n",
       "      <th>]</th>\n",
       "      <th>...</th>\n",
       "      <th>7</th>\n",
       "      <th>8</th>\n",
       "      <th>e</th>\n",
       "      <th>A</th>\n",
       "      <th>K</th>\n",
       "      <th>M</th>\n",
       "      <th>g</th>\n",
       "      <th>i</th>\n",
       "      <th>L</th>\n",
       "      <th>9</th>\n",
       "    </tr>\n",
       "  </thead>\n",
       "  <tbody>\n",
       "    <tr>\n",
       "      <th>4687</th>\n",
       "      <td>37</td>\n",
       "      <td>4</td>\n",
       "      <td>3</td>\n",
       "      <td>12</td>\n",
       "      <td>2</td>\n",
       "      <td>2</td>\n",
       "      <td>0</td>\n",
       "      <td>0</td>\n",
       "      <td>0</td>\n",
       "      <td>0</td>\n",
       "      <td>...</td>\n",
       "      <td>0</td>\n",
       "      <td>0</td>\n",
       "      <td>0</td>\n",
       "      <td>0</td>\n",
       "      <td>0</td>\n",
       "      <td>0</td>\n",
       "      <td>0</td>\n",
       "      <td>0</td>\n",
       "      <td>0</td>\n",
       "      <td>0</td>\n",
       "    </tr>\n",
       "  </tbody>\n",
       "</table>\n",
       "<p>1 rows × 46 columns</p>\n",
       "</div>"
      ],
      "text/plain": [
       "      len_smiles  C  O   c  1  2  [  n  H  ]  ...  7  8  e  A  K  M  g  i  L  \\\n",
       "4687          37  4  3  12  2  2  0  0  0  0  ...  0  0  0  0  0  0  0  0  0   \n",
       "\n",
       "      9  \n",
       "4687  0  \n",
       "\n",
       "[1 rows x 46 columns]"
      ]
     },
     "execution_count": 266,
     "metadata": {},
     "output_type": "execute_result"
    }
   ],
   "source": [
    "X.sample()"
   ]
  },
  {
   "cell_type": "code",
   "execution_count": 267,
   "id": "11d5b040",
   "metadata": {},
   "outputs": [],
   "source": [
    "features = np.array(X)"
   ]
  },
  {
   "cell_type": "code",
   "execution_count": 268,
   "id": "d4ff9ffd",
   "metadata": {},
   "outputs": [],
   "source": [
    "test_features = np.array(X_test)"
   ]
  },
  {
   "cell_type": "code",
   "execution_count": 269,
   "id": "13a0a145",
   "metadata": {},
   "outputs": [
    {
     "data": {
      "text/plain": [
       "torch.Size([1614, 46])"
      ]
     },
     "execution_count": 269,
     "metadata": {},
     "output_type": "execute_result"
    }
   ],
   "source": [
    "x_test = torch.tensor(test_features)\n",
    "x_test = x_test.type(torch.FloatTensor)\n",
    "x_test.size()"
   ]
  },
  {
   "cell_type": "code",
   "execution_count": 270,
   "id": "25cb72ac",
   "metadata": {},
   "outputs": [
    {
     "data": {
      "text/plain": [
       "torch.Size([5557, 46])"
      ]
     },
     "execution_count": 270,
     "metadata": {},
     "output_type": "execute_result"
    }
   ],
   "source": [
    "x_train = torch.tensor(features)\n",
    "x_train = x_train.type(torch.FloatTensor)\n",
    "x_train.size()"
   ]
  },
  {
   "cell_type": "code",
   "execution_count": 331,
   "id": "2b3b7417",
   "metadata": {},
   "outputs": [
    {
     "data": {
      "text/plain": [
       "torch.Size([5557])"
      ]
     },
     "execution_count": 331,
     "metadata": {},
     "output_type": "execute_result"
    }
   ],
   "source": [
    "x_labels = torch.tensor(y)\n",
    "x_labels = x_labels.type(torch.FloatTensor)\n",
    "x_labels.size()"
   ]
  },
  {
   "cell_type": "markdown",
   "id": "5e26963a",
   "metadata": {},
   "source": [
    "nX = 46\n",
    "nH1 = 23\n",
    "nH2 = 5\n",
    "nY = 1\n",
    " \n",
    "class TwoLayersNet(nn.Module):\n",
    "    def __init__(self, nX, nH1, nH2, nY):        \n",
    "        super(TwoLayersNet, self).__init__()     # конструктор предка с этим именем\n",
    "         \n",
    "        self.fc1 = nn.Linear(nX, nH1)             # создаём параметры модели\n",
    "        #self.fc2 = nn.Linear(nH1, nH2)             # создаём параметры модели\n",
    "        self.fc3 = nn.Linear(nH1, nY)             # в полносвязных слоях\n",
    "          \n",
    "    def forward(self, x):                        # задаётся прямой проход\n",
    "        x = self.fc1(x)                          # выход первого слоя\n",
    "                          # пропускаем через Sigmoid\n",
    "        #x = self.fc2(x)                          # выход второго слоя\n",
    "        x = nn.ReLU()(x)                   # пропускаем через сигмоид \n",
    "        x = self.fc3(x)                          # выход второго слоя\n",
    "        x = nn.Sigmoid()(x)\n",
    "\n",
    "        return x\n",
    "          \n",
    "model = TwoLayersNet(nX, nH1, nH2, nY)"
   ]
  },
  {
   "cell_type": "code",
   "execution_count": 344,
   "id": "ba900014",
   "metadata": {},
   "outputs": [
    {
     "ename": "ModuleNotFoundError",
     "evalue": "No module named 'torch_geometric'",
     "output_type": "error",
     "traceback": [
      "\u001b[1;31m---------------------------------------------------------------------------\u001b[0m",
      "\u001b[1;31mModuleNotFoundError\u001b[0m                       Traceback (most recent call last)",
      "\u001b[1;32m~\\AppData\\Local\\Temp/ipykernel_32132/4249308598.py\u001b[0m in \u001b[0;36m<module>\u001b[1;34m\u001b[0m\n\u001b[0;32m      1\u001b[0m \u001b[1;32mimport\u001b[0m \u001b[0mtorch\u001b[0m\u001b[1;33m\u001b[0m\u001b[1;33m\u001b[0m\u001b[0m\n\u001b[0;32m      2\u001b[0m \u001b[1;32mimport\u001b[0m \u001b[0mtorch\u001b[0m\u001b[1;33m.\u001b[0m\u001b[0mnn\u001b[0m \u001b[1;32mas\u001b[0m \u001b[0mnn\u001b[0m\u001b[1;33m\u001b[0m\u001b[1;33m\u001b[0m\u001b[0m\n\u001b[1;32m----> 3\u001b[1;33m \u001b[1;32mimport\u001b[0m \u001b[0mtorch_geometric\u001b[0m\u001b[1;33m\u001b[0m\u001b[1;33m\u001b[0m\u001b[0m\n\u001b[0m\u001b[0;32m      4\u001b[0m \u001b[1;33m\u001b[0m\u001b[0m\n\u001b[0;32m      5\u001b[0m \u001b[1;32mfrom\u001b[0m \u001b[0mtorch_geometric\u001b[0m\u001b[1;33m.\u001b[0m\u001b[0mnn\u001b[0m \u001b[1;32mimport\u001b[0m \u001b[0mglobal_add_pool\u001b[0m\u001b[1;33m,\u001b[0m \u001b[0mradius\u001b[0m\u001b[1;33m\u001b[0m\u001b[1;33m\u001b[0m\u001b[0m\n",
      "\u001b[1;31mModuleNotFoundError\u001b[0m: No module named 'torch_geometric'"
     ]
    }
   ],
   "source": [
    "import torch\n",
    "import torch.nn as nn\n",
    "\n",
    "from torch_geometric.nn import global_add_pool, radius\n",
    "from torch_geometric.utils import remove_self_loops\n",
    "from torch_sparse import SparseTensor\n",
    "from torch_scatter import scatter\n",
    "\n",
    "from layers import Global_MP, Local_MP\n",
    "from utils import BesselBasisLayer, SphericalBasisLayer, MLP\n",
    "\n",
    "class Config(object):\n",
    "    def __init__(self, dim, n_layer, cutoff):\n",
    "        self.dim = dim\n",
    "        self.n_layer = n_layer\n",
    "        self.cutoff = cutoff\n",
    "\n",
    "class MXMNet(nn.Module):\n",
    "    def __init__(self, config: Config, num_spherical=7, num_radial=6, envelope_exponent=5):\n",
    "        super(MXMNet, self).__init__()\n",
    "\n",
    "        self.dim = config.dim\n",
    "        self.n_layer = config.n_layer\n",
    "        self.cutoff = config.cutoff\n",
    "\n",
    "        self.embeddings = nn.Parameter(torch.ones((5, self.dim)))\n",
    "\n",
    "        self.rbf_l = BesselBasisLayer(16, 5, envelope_exponent)\n",
    "        self.rbf_g = BesselBasisLayer(16, self.cutoff, envelope_exponent)\n",
    "        self.sbf = SphericalBasisLayer(num_spherical, num_radial, 5, envelope_exponent)\n",
    "\n",
    "        self.rbf_g_mlp = MLP([16, self.dim])\n",
    "        self.rbf_l_mlp = MLP([16, self.dim])\n",
    "\n",
    "        self.sbf_1_mlp = MLP([num_spherical * num_radial, self.dim])\n",
    "        self.sbf_2_mlp = MLP([num_spherical * num_radial, self.dim])\n",
    "\n",
    "        self.global_layers = torch.nn.ModuleList()\n",
    "        for layer in range(config.n_layer):\n",
    "            self.global_layers.append(Global_MP(config))\n",
    "\n",
    "        self.local_layers = torch.nn.ModuleList()\n",
    "        for layer in range(config.n_layer):\n",
    "            self.local_layers.append(Local_MP(config))\n",
    "        \n",
    "        self.init()\n",
    "\n",
    "    def init(self):\n",
    "        stdv = math.sqrt(3)\n",
    "        self.embeddings.data.uniform_(-stdv, stdv)\n",
    "\n",
    "    def indices(self, edge_index, num_nodes):\n",
    "        row, col = edge_index\n",
    "\n",
    "        value = torch.arange(row.size(0), device=row.device)\n",
    "        adj_t = SparseTensor(row=col, col=row, value=value,\n",
    "                             sparse_sizes=(num_nodes, num_nodes))\n",
    "        \n",
    "        #Compute the node indices for two-hop angles\n",
    "        adj_t_row = adj_t[row]\n",
    "        num_triplets = adj_t_row.set_value(None).sum(dim=1).to(torch.long)\n",
    "\n",
    "        idx_i = col.repeat_interleave(num_triplets)\n",
    "        idx_j = row.repeat_interleave(num_triplets)\n",
    "        idx_k = adj_t_row.storage.col()\n",
    "        mask = idx_i != idx_k\n",
    "        idx_i_1, idx_j, idx_k = idx_i[mask], idx_j[mask], idx_k[mask]\n",
    "\n",
    "        idx_kj = adj_t_row.storage.value()[mask]\n",
    "        idx_ji_1 = adj_t_row.storage.row()[mask]\n",
    "\n",
    "        #Compute the node indices for one-hop angles\n",
    "        adj_t_col = adj_t[col]\n",
    "\n",
    "        num_pairs = adj_t_col.set_value(None).sum(dim=1).to(torch.long)\n",
    "        idx_i_2 = row.repeat_interleave(num_pairs)\n",
    "        idx_j1 = col.repeat_interleave(num_pairs)\n",
    "        idx_j2 = adj_t_col.storage.col()\n",
    "\n",
    "        idx_ji_2 = adj_t_col.storage.row()\n",
    "        idx_jj = adj_t_col.storage.value()\n",
    "\n",
    "        return idx_i_1, idx_j, idx_k, idx_kj, idx_ji_1, idx_i_2, idx_j1, idx_j2, idx_jj, idx_ji_2\n",
    "\n",
    "\n",
    "    def forward(self, data):\n",
    "        x = data.x\n",
    "        edge_index = data.edge_index\n",
    "        pos = data.pos\n",
    "        batch = data.batch\n",
    "        # Initialize node embeddings\n",
    "        h = torch.index_select(self.embeddings, 0, x.long())\n",
    "\n",
    "        # Get the edges and pairwise distances in the local layer\n",
    "        edge_index_l, _ = remove_self_loops(edge_index)\n",
    "        j_l, i_l = edge_index_l\n",
    "        dist_l = (pos[i_l] - pos[j_l]).pow(2).sum(dim=-1).sqrt()\n",
    "        \n",
    "        # Get the edges pairwise distances in the global layer\n",
    "        row, col = radius(pos, pos, self.cutoff, batch, batch, max_num_neighbors=500)\n",
    "        edge_index_g = torch.stack([row, col], dim=0)\n",
    "        edge_index_g, _ = remove_self_loops(edge_index_g)\n",
    "        j_g, i_g = edge_index_g\n",
    "        dist_g = (pos[i_g] - pos[j_g]).pow(2).sum(dim=-1).sqrt()\n",
    "        \n",
    "        # Compute the node indices for defining the angles\n",
    "        idx_i_1, idx_j, idx_k, idx_kj, idx_ji, idx_i_2, idx_j1, idx_j2, idx_jj, idx_ji_2 = self.indices(edge_index_l, num_nodes=h.size(0))\n",
    "\n",
    "        # Compute the two-hop angles\n",
    "        pos_ji_1, pos_kj = pos[idx_j] - pos[idx_i_1], pos[idx_k] - pos[idx_j]\n",
    "        a = (pos_ji_1 * pos_kj).sum(dim=-1)\n",
    "        b = torch.cross(pos_ji_1, pos_kj).norm(dim=-1)\n",
    "        angle_1 = torch.atan2(b, a)\n",
    "\n",
    "        # Compute the one-hop angles\n",
    "        pos_ji_2, pos_jj = pos[idx_j1] - pos[idx_i_2], pos[idx_j2] - pos[idx_j1]\n",
    "        a = (pos_ji_2 * pos_jj).sum(dim=-1)\n",
    "        b = torch.cross(pos_ji_2, pos_jj).norm(dim=-1)\n",
    "        angle_2 = torch.atan2(b, a)\n",
    "\n",
    "        # Get the RBF and SBF embeddings\n",
    "        rbf_g = self.rbf_g(dist_g)\n",
    "        rbf_l = self.rbf_l(dist_l)\n",
    "        sbf_1 = self.sbf(dist_l, angle_1, idx_kj)\n",
    "        sbf_2 = self.sbf(dist_l, angle_2, idx_jj)\n",
    "        \n",
    "        rbf_g = self.rbf_g_mlp(rbf_g)\n",
    "        rbf_l = self.rbf_l_mlp(rbf_l)\n",
    "        sbf_1 = self.sbf_1_mlp(sbf_1)\n",
    "        sbf_2 = self.sbf_2_mlp(sbf_2)\n",
    "        \n",
    "        # Perform the message passing schemes\n",
    "        node_sum = 0\n",
    "\n",
    "        for layer in range(self.n_layer):\n",
    "            h = self.global_layers[layer](h, rbf_g, edge_index_g)\n",
    "            h, t = self.local_layers[layer](h, rbf_l, sbf_1, sbf_2, idx_kj, idx_ji, idx_jj, idx_ji_2, edge_index_l)\n",
    "            node_sum += t\n",
    "        \n",
    "        # Readout\n",
    "        output = global_add_pool(node_sum, batch)\n",
    "        return output.view(-1)"
   ]
  },
  {
   "cell_type": "code",
   "execution_count": 342,
   "id": "67618c14",
   "metadata": {},
   "outputs": [
    {
     "ename": "ModuleNotFoundError",
     "evalue": "No module named 'torch_geometric'",
     "output_type": "error",
     "traceback": [
      "\u001b[1;31m---------------------------------------------------------------------------\u001b[0m",
      "\u001b[1;31mModuleNotFoundError\u001b[0m                       Traceback (most recent call last)",
      "\u001b[1;32m~\\AppData\\Local\\Temp/ipykernel_32132/2058332336.py\u001b[0m in \u001b[0;36m<module>\u001b[1;34m\u001b[0m\n\u001b[1;32m----> 1\u001b[1;33m \u001b[1;32mfrom\u001b[0m \u001b[0mtorch_geometric\u001b[0m\u001b[1;33m.\u001b[0m\u001b[0mutils\u001b[0m \u001b[1;32mimport\u001b[0m \u001b[0madd_self_loops\u001b[0m\u001b[1;33m\u001b[0m\u001b[1;33m\u001b[0m\u001b[0m\n\u001b[0m\u001b[0;32m      2\u001b[0m \u001b[1;32mfrom\u001b[0m \u001b[0mtorch_scatter\u001b[0m \u001b[1;32mimport\u001b[0m \u001b[0mscatter\u001b[0m\u001b[1;33m\u001b[0m\u001b[1;33m\u001b[0m\u001b[0m\n\u001b[0;32m      3\u001b[0m \u001b[1;33m\u001b[0m\u001b[0m\n\u001b[0;32m      4\u001b[0m \u001b[1;32mfrom\u001b[0m \u001b[0mutils\u001b[0m \u001b[1;32mimport\u001b[0m \u001b[0mMLP\u001b[0m\u001b[1;33m,\u001b[0m \u001b[0mRes\u001b[0m\u001b[1;33m,\u001b[0m \u001b[0mMessagePassing\u001b[0m\u001b[1;33m\u001b[0m\u001b[1;33m\u001b[0m\u001b[0m\n\u001b[0;32m      5\u001b[0m \u001b[1;33m\u001b[0m\u001b[0m\n",
      "\u001b[1;31mModuleNotFoundError\u001b[0m: No module named 'torch_geometric'"
     ]
    }
   ],
   "source": [
    "from torch_geometric.utils import add_self_loops\n",
    "from torch_scatter import scatter\n",
    "\n",
    "from utils import MLP, Res, MessagePassing\n",
    "\n",
    "class Global_MP(MessagePassing):\n",
    "\n",
    "    def __init__(self, config):\n",
    "        super(Global_MP, self).__init__()\n",
    "        self.dim = config.dim\n",
    "\n",
    "        self.h_mlp = MLP([self.dim, self.dim])\n",
    "\n",
    "        self.res1 = Res(self.dim)\n",
    "        self.res2 = Res(self.dim)\n",
    "        self.res3 = Res(self.dim)\n",
    "        self.mlp = MLP([self.dim, self.dim])\n",
    "\n",
    "        self.x_edge_mlp = MLP([self.dim * 3, self.dim])\n",
    "        self.linear = nn.Linear(self.dim, self.dim, bias=False)\n",
    "\n",
    "    def forward(self, h, edge_attr, edge_index):\n",
    "        edge_index, _ = add_self_loops(edge_index, num_nodes=h.size(0))\n",
    "\n",
    "        res_h = h\n",
    "        \n",
    "        # Integrate the Cross Layer Mapping inside the Global Message Passing\n",
    "        h = self.h_mlp(h)\n",
    "        \n",
    "        # Message Passing operation\n",
    "        h = self.propagate(edge_index, x=h, num_nodes=h.size(0), edge_attr=edge_attr)\n",
    "\n",
    "        # Update function f_u\n",
    "        h = self.res1(h)\n",
    "        h = self.mlp(h) + res_h\n",
    "        h = self.res2(h)\n",
    "        h = self.res3(h)\n",
    "        \n",
    "        # Message Passing operation\n",
    "        h = self.propagate(edge_index, x=h, num_nodes=h.size(0), edge_attr=edge_attr)\n",
    "\n",
    "        return h\n",
    "\n",
    "    def message(self, x_i, x_j, edge_attr, edge_index, num_nodes):\n",
    "        num_edge = edge_attr.size()[0]\n",
    "\n",
    "        x_edge = torch.cat((x_i[:num_edge], x_j[:num_edge], edge_attr), -1)\n",
    "        x_edge = self.x_edge_mlp(x_edge)\n",
    "\n",
    "        x_j = torch.cat((self.linear(edge_attr) * x_edge, x_j[num_edge:]), dim=0)\n",
    "\n",
    "        return x_j\n",
    "\n",
    "    def update(self, aggr_out):\n",
    "\n",
    "        return aggr_out\n",
    "\n",
    "\n",
    "class Local_MP(torch.nn.Module):\n",
    "    def __init__(self, config):\n",
    "        super(Local_MP, self).__init__()\n",
    "        self.dim = config.dim\n",
    "\n",
    "        self.h_mlp = MLP([self.dim, self.dim])\n",
    "\n",
    "        self.mlp_kj = MLP([3 * self.dim, self.dim])\n",
    "        self.mlp_ji_1 = MLP([3 * self.dim, self.dim])\n",
    "        self.mlp_ji_2 = MLP([self.dim, self.dim])\n",
    "        self.mlp_jj = MLP([self.dim, self.dim])\n",
    "\n",
    "        self.mlp_sbf1 = MLP([self.dim, self.dim, self.dim])\n",
    "        self.mlp_sbf2 = MLP([self.dim, self.dim, self.dim])\n",
    "        self.lin_rbf1 = nn.Linear(self.dim, self.dim, bias=False)\n",
    "        self.lin_rbf2 = nn.Linear(self.dim, self.dim, bias=False)\n",
    "\n",
    "        self.res1 = Res(self.dim)\n",
    "        self.res2 = Res(self.dim)\n",
    "        self.res3 = Res(self.dim)\n",
    "\n",
    "        self.lin_rbf_out = nn.Linear(self.dim, self.dim, bias=False)\n",
    "\n",
    "        self.h_mlp = MLP([self.dim, self.dim])\n",
    "\n",
    "        self.y_mlp = MLP([self.dim, self.dim, self.dim, self.dim])\n",
    "        self.y_W = nn.Linear(self.dim, 1)\n",
    "\n",
    "    def forward(self, h, rbf, sbf1, sbf2, idx_kj, idx_ji_1, idx_jj, idx_ji_2, edge_index, num_nodes=None):\n",
    "        res_h = h\n",
    "        \n",
    "        # Integrate the Cross Layer Mapping inside the Local Message Passing\n",
    "        h = self.h_mlp(h)\n",
    "        \n",
    "        # Message Passing 1\n",
    "        j, i = edge_index\n",
    "        m = torch.cat([h[i], h[j], rbf], dim=-1)\n",
    "\n",
    "        m_kj = self.mlp_kj(m)\n",
    "        m_kj = m_kj * self.lin_rbf1(rbf)\n",
    "        m_kj = m_kj[idx_kj] * self.mlp_sbf1(sbf1)\n",
    "        m_kj = scatter(m_kj, idx_ji_1, dim=0, dim_size=m.size(0), reduce='add')\n",
    "        \n",
    "        m_ji_1 = self.mlp_ji_1(m)\n",
    "\n",
    "        m = m_ji_1 + m_kj\n",
    "\n",
    "        # Message Passing 2       (index jj denotes j'i in the main paper)\n",
    "        m_jj = self.mlp_jj(m)\n",
    "        m_jj = m_jj * self.lin_rbf2(rbf)\n",
    "        m_jj = m_jj[idx_jj] * self.mlp_sbf2(sbf2)\n",
    "        m_jj = scatter(m_jj, idx_ji_2, dim=0, dim_size=m.size(0), reduce='add')\n",
    "        \n",
    "        m_ji_2 = self.mlp_ji_2(m)\n",
    "\n",
    "        m = m_ji_2 + m_jj\n",
    "\n",
    "        # Aggregation\n",
    "        m = self.lin_rbf_out(rbf) * m\n",
    "        h = scatter(m, i, dim=0, dim_size=h.size(0), reduce='add')\n",
    "        \n",
    "        # Update function f_u\n",
    "        h = self.res1(h)\n",
    "        h = self.h_mlp(h) + res_h\n",
    "        h = self.res2(h)\n",
    "        h = self.res3(h)\n",
    "\n",
    "        # Output Module\n",
    "        y = self.y_mlp(h)\n",
    "        y = self.y_W(y)\n",
    "\n",
    "        return h, y"
   ]
  },
  {
   "cell_type": "code",
   "execution_count": 343,
   "id": "44709df5",
   "metadata": {},
   "outputs": [],
   "source": [
    "model = TwoLayersNet(nX, nH1, nH2, nY)                           # экземпляр сети        \n",
    " \n",
    "loss      = nn.BCELoss()\n",
    "optimizer = torch.optim.SGD(model.parameters(),          # параметры модели\n",
    "                            lr=0.5, momentum=0.8) "
   ]
  },
  {
   "cell_type": "code",
   "execution_count": 334,
   "id": "f8fdcff6",
   "metadata": {},
   "outputs": [],
   "source": [
    "def fit(model, x_train,x_labels, batch_size=100, train=True):    \n",
    "    model.train(train)                                 # важно для Dropout, BatchNorm\n",
    "    sumL, sumA, numB = 0, 0, int( len(x_train)/batch_size )  # ошибка, точность, батчей\n",
    "       \n",
    "    for i in range(0, numB*batch_size, batch_size):          \n",
    "        xb = x_train[i: i+batch_size]                          # текущий батч,\n",
    "        yb = x_labels[i: i+batch_size]                          # X,Y - torch тензоры\n",
    "              \n",
    "        y = model(xb)[:,0]                                    # прямое распространение\n",
    "\n",
    "        L = loss(y, yb)                                  # вычисляем ошибку\n",
    "  \n",
    "        if train:                                        # в режиме обучения\n",
    "            optimizer.zero_grad()                        # обнуляем градиенты        \n",
    "            L.backward()                                 # вычисляем градиенты            \n",
    "            optimizer.step()                             # подправляем параметры\n",
    "                                     \n",
    "        sumL += L.item()                                 # суммарная ошибка (item из графа)\n",
    "        sumA += (y.round() == yb).float().mean()         # точность определения класса\n",
    "         \n",
    "    return sumL/numB,  sumA/numB "
   ]
  },
  {
   "cell_type": "code",
   "execution_count": 335,
   "id": "a4d25697",
   "metadata": {
    "scrolled": true
   },
   "outputs": [
    {
     "name": "stderr",
     "output_type": "stream",
     "text": [
      "100%|████████████████████████████████████████████████████████████████████████████████████| 1/1 [00:00<00:00, 11.36it/s]"
     ]
    },
    {
     "name": "stdout",
     "output_type": "stream",
     "text": [
      "before:      loss: 0.7721 accuracy: 0.3035\n",
      "epoch:     0 loss: 3.6688 accuracy: 0.9496\n"
     ]
    },
    {
     "name": "stderr",
     "output_type": "stream",
     "text": [
      "\n"
     ]
    }
   ],
   "source": [
    "print( \"before:      loss: %.4f accuracy: %.4f\" %  fit(model, x_train,x_labels, train=False) )\n",
    " \n",
    "epochs = 1                                            # число эпох\n",
    "for epoch in tqdm(range(epochs)):                              # эпоха - проход по всем примерам\n",
    "    L,A = fit(model, x_train, x_labels)                               # одна эпоха\n",
    "     \n",
    "    if epoch % 500 == 0 or epoch == epochs-1:                 \n",
    "        print(f'epoch: {epoch:5d} loss: {L:.4f} accuracy: {A:.4f}' ) "
   ]
  },
  {
   "cell_type": "code",
   "execution_count": 336,
   "id": "374cd621",
   "metadata": {},
   "outputs": [],
   "source": [
    "y_pred = model(x_test)"
   ]
  },
  {
   "cell_type": "code",
   "execution_count": 337,
   "id": "18dff706",
   "metadata": {},
   "outputs": [],
   "source": [
    "y_pred = y_pred[:,0]"
   ]
  },
  {
   "cell_type": "code",
   "execution_count": 338,
   "id": "a56e8f56",
   "metadata": {},
   "outputs": [
    {
     "data": {
      "text/plain": [
       "tensor([0., 0., 0.,  ..., 0., 0., 0.], grad_fn=<SelectBackward0>)"
      ]
     },
     "execution_count": 338,
     "metadata": {},
     "output_type": "execute_result"
    }
   ],
   "source": [
    "y_pred"
   ]
  },
  {
   "cell_type": "code",
   "execution_count": 283,
   "id": "f25b6090",
   "metadata": {},
   "outputs": [],
   "source": [
    "test = pd.read_csv('Task/test.csv')\n",
    "test.drop(['Unnamed: 0'], axis = 1, inplace = True)"
   ]
  },
  {
   "cell_type": "code",
   "execution_count": 324,
   "id": "f1bcd819",
   "metadata": {},
   "outputs": [],
   "source": [
    "test['Active'] = y_pred.detach().numpy()"
   ]
  },
  {
   "cell_type": "code",
   "execution_count": 325,
   "id": "552372ec",
   "metadata": {},
   "outputs": [
    {
     "data": {
      "text/html": [
       "<div>\n",
       "<style scoped>\n",
       "    .dataframe tbody tr th:only-of-type {\n",
       "        vertical-align: middle;\n",
       "    }\n",
       "\n",
       "    .dataframe tbody tr th {\n",
       "        vertical-align: top;\n",
       "    }\n",
       "\n",
       "    .dataframe thead th {\n",
       "        text-align: right;\n",
       "    }\n",
       "</style>\n",
       "<table border=\"1\" class=\"dataframe\">\n",
       "  <thead>\n",
       "    <tr style=\"text-align: right;\">\n",
       "      <th></th>\n",
       "      <th>Smiles</th>\n",
       "      <th>Active</th>\n",
       "    </tr>\n",
       "  </thead>\n",
       "  <tbody>\n",
       "    <tr>\n",
       "      <th>25</th>\n",
       "      <td>O=c1c2ccccc2nc2n1CCc1c-2[nH]c2ccccc12</td>\n",
       "      <td>0.0</td>\n",
       "    </tr>\n",
       "  </tbody>\n",
       "</table>\n",
       "</div>"
      ],
      "text/plain": [
       "                                   Smiles  Active\n",
       "25  O=c1c2ccccc2nc2n1CCc1c-2[nH]c2ccccc12     0.0"
      ]
     },
     "execution_count": 325,
     "metadata": {},
     "output_type": "execute_result"
    }
   ],
   "source": [
    "test.sample()"
   ]
  },
  {
   "cell_type": "code",
   "execution_count": 253,
   "id": "cb4e498d",
   "metadata": {},
   "outputs": [],
   "source": [
    "test['Active'] = test['Active'].apply(lambda x: x*1000-33)"
   ]
  },
  {
   "cell_type": "code",
   "execution_count": 254,
   "id": "ccff84bf",
   "metadata": {},
   "outputs": [],
   "source": [
    "test['Active'] = test['Active'].apply(lambda x: int(abs(round(x, 0))))"
   ]
  },
  {
   "cell_type": "code",
   "execution_count": 255,
   "id": "accc15a9",
   "metadata": {},
   "outputs": [],
   "source": [
    "test['Active'] = test['Active'].apply(lambda x: 1 if x > 1 else x)"
   ]
  },
  {
   "cell_type": "code",
   "execution_count": 296,
   "id": "64ec4070",
   "metadata": {},
   "outputs": [
    {
     "data": {
      "text/plain": [
       "0.0    1614\n",
       "Name: Active, dtype: int64"
      ]
     },
     "execution_count": 296,
     "metadata": {},
     "output_type": "execute_result"
    }
   ],
   "source": [
    "test['Active'].value_counts()"
   ]
  },
  {
   "cell_type": "code",
   "execution_count": 257,
   "id": "102682de",
   "metadata": {},
   "outputs": [
    {
     "data": {
      "text/html": [
       "<div>\n",
       "<style scoped>\n",
       "    .dataframe tbody tr th:only-of-type {\n",
       "        vertical-align: middle;\n",
       "    }\n",
       "\n",
       "    .dataframe tbody tr th {\n",
       "        vertical-align: top;\n",
       "    }\n",
       "\n",
       "    .dataframe thead th {\n",
       "        text-align: right;\n",
       "    }\n",
       "</style>\n",
       "<table border=\"1\" class=\"dataframe\">\n",
       "  <thead>\n",
       "    <tr style=\"text-align: right;\">\n",
       "      <th></th>\n",
       "      <th>Smiles</th>\n",
       "      <th>Active</th>\n",
       "    </tr>\n",
       "  </thead>\n",
       "  <tbody>\n",
       "    <tr>\n",
       "      <th>570</th>\n",
       "      <td>N=C1N[C@@H]2[C@H](CCCCC(=O)O)SC[C@@H]2N1</td>\n",
       "      <td>0</td>\n",
       "    </tr>\n",
       "    <tr>\n",
       "      <th>1266</th>\n",
       "      <td>N[C@@H](Cc1cc(-c2ccc(Cl)cc2Cl)cc(CP(=O)(O)O)c1...</td>\n",
       "      <td>1</td>\n",
       "    </tr>\n",
       "    <tr>\n",
       "      <th>1336</th>\n",
       "      <td>CC[C@@H]1C(C)=NN=C(c2ccc(OC)c(OC)c2)c2cc(OC)c(...</td>\n",
       "      <td>1</td>\n",
       "    </tr>\n",
       "    <tr>\n",
       "      <th>618</th>\n",
       "      <td>CN1CCN(CCCN2c3ccccc3Sc3ccc(S(=O)(=O)N(C)C)cc32...</td>\n",
       "      <td>1</td>\n",
       "    </tr>\n",
       "    <tr>\n",
       "      <th>1389</th>\n",
       "      <td>COc1ccccc1N1CCN(CCCCN2C(=O)c3ccccc3C2=O)CC1</td>\n",
       "      <td>1</td>\n",
       "    </tr>\n",
       "  </tbody>\n",
       "</table>\n",
       "</div>"
      ],
      "text/plain": [
       "                                                 Smiles  Active\n",
       "570            N=C1N[C@@H]2[C@H](CCCCC(=O)O)SC[C@@H]2N1       0\n",
       "1266  N[C@@H](Cc1cc(-c2ccc(Cl)cc2Cl)cc(CP(=O)(O)O)c1...       1\n",
       "1336  CC[C@@H]1C(C)=NN=C(c2ccc(OC)c(OC)c2)c2cc(OC)c(...       1\n",
       "618   CN1CCN(CCCN2c3ccccc3Sc3ccc(S(=O)(=O)N(C)C)cc32...       1\n",
       "1389        COc1ccccc1N1CCN(CCCCN2C(=O)c3ccccc3C2=O)CC1       1"
      ]
     },
     "execution_count": 257,
     "metadata": {},
     "output_type": "execute_result"
    }
   ],
   "source": [
    "test.sample(5)"
   ]
  },
  {
   "cell_type": "code",
   "execution_count": 258,
   "id": "cfb54bf6",
   "metadata": {},
   "outputs": [],
   "source": [
    "test.to_csv('test2.csv', index=False)"
   ]
  },
  {
   "cell_type": "code",
   "execution_count": null,
   "id": "ad73f8ad",
   "metadata": {},
   "outputs": [],
   "source": []
  }
 ],
 "metadata": {
  "kernelspec": {
   "display_name": "Python 3 (ipykernel)",
   "language": "python",
   "name": "python3"
  },
  "language_info": {
   "codemirror_mode": {
    "name": "ipython",
    "version": 3
   },
   "file_extension": ".py",
   "mimetype": "text/x-python",
   "name": "python",
   "nbconvert_exporter": "python",
   "pygments_lexer": "ipython3",
   "version": "3.8.11"
  }
 },
 "nbformat": 4,
 "nbformat_minor": 5
}
