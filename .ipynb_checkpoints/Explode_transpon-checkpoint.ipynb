{
 "cells": [
  {
   "cell_type": "code",
   "execution_count": 54,
   "id": "7ea6b1dc",
   "metadata": {},
   "outputs": [],
   "source": [
    "import pandas as pd\n",
    "import numpy as np\n",
    "import math"
   ]
  },
  {
   "cell_type": "code",
   "execution_count": 55,
   "id": "a8eef7ee",
   "metadata": {},
   "outputs": [],
   "source": [
    "RANDOM_SEED = 13022022"
   ]
  },
  {
   "cell_type": "code",
   "execution_count": 56,
   "id": "f2c4e210",
   "metadata": {},
   "outputs": [],
   "source": [
    "test = pd.read_csv('Task/test.csv')\n",
    "test.drop(['Unnamed: 0'], axis = 1, inplace = True)"
   ]
  },
  {
   "cell_type": "code",
   "execution_count": 57,
   "id": "cf03cb8b",
   "metadata": {},
   "outputs": [
    {
     "name": "stdout",
     "output_type": "stream",
     "text": [
      "<class 'pandas.core.frame.DataFrame'>\n",
      "RangeIndex: 1614 entries, 0 to 1613\n",
      "Data columns (total 1 columns):\n",
      " #   Column  Non-Null Count  Dtype \n",
      "---  ------  --------------  ----- \n",
      " 0   Smiles  1614 non-null   object\n",
      "dtypes: object(1)\n",
      "memory usage: 12.7+ KB\n"
     ]
    }
   ],
   "source": [
    "test.info()"
   ]
  },
  {
   "cell_type": "code",
   "execution_count": 58,
   "id": "9ea40621",
   "metadata": {},
   "outputs": [
    {
     "data": {
      "text/html": [
       "<div>\n",
       "<style scoped>\n",
       "    .dataframe tbody tr th:only-of-type {\n",
       "        vertical-align: middle;\n",
       "    }\n",
       "\n",
       "    .dataframe tbody tr th {\n",
       "        vertical-align: top;\n",
       "    }\n",
       "\n",
       "    .dataframe thead th {\n",
       "        text-align: right;\n",
       "    }\n",
       "</style>\n",
       "<table border=\"1\" class=\"dataframe\">\n",
       "  <thead>\n",
       "    <tr style=\"text-align: right;\">\n",
       "      <th></th>\n",
       "      <th>Smiles</th>\n",
       "    </tr>\n",
       "  </thead>\n",
       "  <tbody>\n",
       "    <tr>\n",
       "      <th>945</th>\n",
       "      <td>CCCc1nn(C)c2c(=O)[nH]c(-c3cc(S(=O)(=O)N4CCN(C)...</td>\n",
       "    </tr>\n",
       "    <tr>\n",
       "      <th>336</th>\n",
       "      <td>O=[N+]([O-])c1cc(O)c(O)c([N+](=O)[O-])c1</td>\n",
       "    </tr>\n",
       "    <tr>\n",
       "      <th>922</th>\n",
       "      <td>COc1ccc(CC(C)NCC(O)c2ccc(O)c(NC=O)c2)cc1</td>\n",
       "    </tr>\n",
       "  </tbody>\n",
       "</table>\n",
       "</div>"
      ],
      "text/plain": [
       "                                                Smiles\n",
       "945  CCCc1nn(C)c2c(=O)[nH]c(-c3cc(S(=O)(=O)N4CCN(C)...\n",
       "336           O=[N+]([O-])c1cc(O)c(O)c([N+](=O)[O-])c1\n",
       "922           COc1ccc(CC(C)NCC(O)c2ccc(O)c(NC=O)c2)cc1"
      ]
     },
     "execution_count": 58,
     "metadata": {},
     "output_type": "execute_result"
    }
   ],
   "source": [
    "test.sample(3)"
   ]
  },
  {
   "cell_type": "code",
   "execution_count": 59,
   "id": "74c668b9",
   "metadata": {},
   "outputs": [],
   "source": [
    "train = pd.read_csv('Task/train.csv')\n",
    "train.drop(['Unnamed: 0'], axis = 1, inplace = True)"
   ]
  },
  {
   "cell_type": "code",
   "execution_count": 60,
   "id": "ac798eed",
   "metadata": {},
   "outputs": [
    {
     "name": "stdout",
     "output_type": "stream",
     "text": [
      "<class 'pandas.core.frame.DataFrame'>\n",
      "RangeIndex: 5557 entries, 0 to 5556\n",
      "Data columns (total 2 columns):\n",
      " #   Column  Non-Null Count  Dtype \n",
      "---  ------  --------------  ----- \n",
      " 0   Smiles  5557 non-null   object\n",
      " 1   Active  5557 non-null   bool  \n",
      "dtypes: bool(1), object(1)\n",
      "memory usage: 49.0+ KB\n"
     ]
    }
   ],
   "source": [
    "train.info()"
   ]
  },
  {
   "cell_type": "code",
   "execution_count": 61,
   "id": "8572c95c",
   "metadata": {
    "scrolled": true
   },
   "outputs": [
    {
     "data": {
      "text/html": [
       "<div>\n",
       "<style scoped>\n",
       "    .dataframe tbody tr th:only-of-type {\n",
       "        vertical-align: middle;\n",
       "    }\n",
       "\n",
       "    .dataframe tbody tr th {\n",
       "        vertical-align: top;\n",
       "    }\n",
       "\n",
       "    .dataframe thead th {\n",
       "        text-align: right;\n",
       "    }\n",
       "</style>\n",
       "<table border=\"1\" class=\"dataframe\">\n",
       "  <thead>\n",
       "    <tr style=\"text-align: right;\">\n",
       "      <th></th>\n",
       "      <th>Smiles</th>\n",
       "      <th>Active</th>\n",
       "    </tr>\n",
       "  </thead>\n",
       "  <tbody>\n",
       "    <tr>\n",
       "      <th>3289</th>\n",
       "      <td>N=C(N)c1ccc(/C=C/c2ccc(C(=N)N)cc2O)cc1</td>\n",
       "      <td>False</td>\n",
       "    </tr>\n",
       "    <tr>\n",
       "      <th>3836</th>\n",
       "      <td>CNC(=O)c1c(I)c(NC(C)=O)c(I)c(C(=O)O)c1I</td>\n",
       "      <td>False</td>\n",
       "    </tr>\n",
       "    <tr>\n",
       "      <th>971</th>\n",
       "      <td>C[C@]12CCC3[C@@H](CC[C@]4(O)C[C@@H](O)CC[C@]34...</td>\n",
       "      <td>False</td>\n",
       "    </tr>\n",
       "  </tbody>\n",
       "</table>\n",
       "</div>"
      ],
      "text/plain": [
       "                                                 Smiles  Active\n",
       "3289             N=C(N)c1ccc(/C=C/c2ccc(C(=N)N)cc2O)cc1   False\n",
       "3836            CNC(=O)c1c(I)c(NC(C)=O)c(I)c(C(=O)O)c1I   False\n",
       "971   C[C@]12CCC3[C@@H](CC[C@]4(O)C[C@@H](O)CC[C@]34...   False"
      ]
     },
     "execution_count": 61,
     "metadata": {},
     "output_type": "execute_result"
    }
   ],
   "source": [
    "train.sample(3)"
   ]
  },
  {
   "cell_type": "code",
   "execution_count": 62,
   "id": "ead5500f",
   "metadata": {},
   "outputs": [
    {
     "data": {
      "text/plain": [
       "[False, True]"
      ]
     },
     "execution_count": 62,
     "metadata": {},
     "output_type": "execute_result"
    }
   ],
   "source": [
    "list(train['Active'].unique())"
   ]
  },
  {
   "cell_type": "code",
   "execution_count": 63,
   "id": "3491251b",
   "metadata": {},
   "outputs": [],
   "source": [
    "list_active = {False: 0, True: 1}"
   ]
  },
  {
   "cell_type": "code",
   "execution_count": 64,
   "id": "dadd7a65",
   "metadata": {},
   "outputs": [],
   "source": [
    "train['Active'] = train['Active'].map(list_active)"
   ]
  },
  {
   "cell_type": "code",
   "execution_count": 65,
   "id": "1167926a",
   "metadata": {},
   "outputs": [
    {
     "data": {
      "text/html": [
       "<div>\n",
       "<style scoped>\n",
       "    .dataframe tbody tr th:only-of-type {\n",
       "        vertical-align: middle;\n",
       "    }\n",
       "\n",
       "    .dataframe tbody tr th {\n",
       "        vertical-align: top;\n",
       "    }\n",
       "\n",
       "    .dataframe thead th {\n",
       "        text-align: right;\n",
       "    }\n",
       "</style>\n",
       "<table border=\"1\" class=\"dataframe\">\n",
       "  <thead>\n",
       "    <tr style=\"text-align: right;\">\n",
       "      <th></th>\n",
       "      <th>Smiles</th>\n",
       "      <th>Active</th>\n",
       "    </tr>\n",
       "  </thead>\n",
       "  <tbody>\n",
       "    <tr>\n",
       "      <th>3470</th>\n",
       "      <td>CN(C)S(=O)(=O)c1cccc(-n2sc3ccccc3c2=O)c1</td>\n",
       "      <td>1</td>\n",
       "    </tr>\n",
       "  </tbody>\n",
       "</table>\n",
       "</div>"
      ],
      "text/plain": [
       "                                        Smiles  Active\n",
       "3470  CN(C)S(=O)(=O)c1cccc(-n2sc3ccccc3c2=O)c1       1"
      ]
     },
     "execution_count": 65,
     "metadata": {},
     "output_type": "execute_result"
    }
   ],
   "source": [
    "train.sample()"
   ]
  },
  {
   "cell_type": "code",
   "execution_count": 66,
   "id": "28d5cece",
   "metadata": {},
   "outputs": [],
   "source": [
    "train['train'] = 1\n",
    "test['train'] = 0"
   ]
  },
  {
   "cell_type": "code",
   "execution_count": 67,
   "id": "2d933d18",
   "metadata": {},
   "outputs": [],
   "source": [
    "df = pd.concat([train, test], ignore_index=True)"
   ]
  },
  {
   "cell_type": "code",
   "execution_count": 68,
   "id": "913866ad",
   "metadata": {},
   "outputs": [
    {
     "name": "stdout",
     "output_type": "stream",
     "text": [
      "<class 'pandas.core.frame.DataFrame'>\n",
      "RangeIndex: 7171 entries, 0 to 7170\n",
      "Data columns (total 3 columns):\n",
      " #   Column  Non-Null Count  Dtype  \n",
      "---  ------  --------------  -----  \n",
      " 0   Smiles  7171 non-null   object \n",
      " 1   Active  5557 non-null   float64\n",
      " 2   train   7171 non-null   int64  \n",
      "dtypes: float64(1), int64(1), object(1)\n",
      "memory usage: 168.2+ KB\n"
     ]
    }
   ],
   "source": [
    "df.info()"
   ]
  },
  {
   "cell_type": "code",
   "execution_count": 69,
   "id": "af577982",
   "metadata": {},
   "outputs": [
    {
     "data": {
      "text/plain": [
       "array([1, 0], dtype=int64)"
      ]
     },
     "execution_count": 69,
     "metadata": {},
     "output_type": "execute_result"
    }
   ],
   "source": [
    "df['train'].unique()"
   ]
  },
  {
   "cell_type": "code",
   "execution_count": 70,
   "id": "5d9289e6",
   "metadata": {},
   "outputs": [
    {
     "data": {
      "text/plain": [
       "0.0    5351\n",
       "1.0     206\n",
       "Name: Active, dtype: int64"
      ]
     },
     "execution_count": 70,
     "metadata": {},
     "output_type": "execute_result"
    }
   ],
   "source": [
    "df[df['train'] == 1]['Active'].value_counts()"
   ]
  },
  {
   "cell_type": "code",
   "execution_count": 71,
   "id": "34837a92",
   "metadata": {},
   "outputs": [],
   "source": [
    "from collections import Counter\n",
    "\n",
    "atoms = Counter()\n",
    "for i in df['Smiles'].unique():\n",
    "    for j in i:\n",
    "        atoms[j] += 1"
   ]
  },
  {
   "cell_type": "code",
   "execution_count": 72,
   "id": "2f46e1da",
   "metadata": {},
   "outputs": [
    {
     "data": {
      "text/plain": [
       "67272"
      ]
     },
     "execution_count": 72,
     "metadata": {},
     "output_type": "execute_result"
    }
   ],
   "source": [
    "atoms['C']"
   ]
  },
  {
   "cell_type": "code",
   "execution_count": 73,
   "id": "abaa9e4a",
   "metadata": {},
   "outputs": [],
   "source": [
    "new_columnes = list(atoms.keys())"
   ]
  },
  {
   "cell_type": "code",
   "execution_count": 74,
   "id": "f7f4a75f",
   "metadata": {},
   "outputs": [
    {
     "name": "stdout",
     "output_type": "stream",
     "text": [
      "['C', 'O', 'c', '1', '2', '[', 'n', 'H', ']', '(', 'N', ')', '@', '.', 'l', '=', 'S', '3', '4', 'F', '-', 's', '/', '5', 'o', 'a', '+', '#', 'I', 'P', 'B', 'r', '\\\\', 'Z', '6', '7', '8', 'e', 'A', 'K', 'M', 'g', 'i', 'L', '9']\n"
     ]
    }
   ],
   "source": [
    "print(new_columnes)"
   ]
  },
  {
   "cell_type": "code",
   "execution_count": 75,
   "id": "c590d4c4",
   "metadata": {},
   "outputs": [],
   "source": [
    "df['len_smiles'] = df['Smiles'].apply(lambda x: len(x))"
   ]
  },
  {
   "cell_type": "code",
   "execution_count": 76,
   "id": "a636dde9",
   "metadata": {},
   "outputs": [
    {
     "data": {
      "text/plain": [
       "707"
      ]
     },
     "execution_count": 76,
     "metadata": {},
     "output_type": "execute_result"
    }
   ],
   "source": [
    "df['len_smiles'].max()"
   ]
  },
  {
   "cell_type": "code",
   "execution_count": 77,
   "id": "e774278c",
   "metadata": {},
   "outputs": [
    {
     "data": {
      "text/plain": [
       "count    7171.000000\n",
       "mean       51.122438\n",
       "std        31.876511\n",
       "min         6.000000\n",
       "25%        34.000000\n",
       "50%        46.000000\n",
       "75%        60.000000\n",
       "max       707.000000\n",
       "Name: len_smiles, dtype: float64"
      ]
     },
     "execution_count": 77,
     "metadata": {},
     "output_type": "execute_result"
    }
   ],
   "source": [
    "df['len_smiles'].describe()"
   ]
  },
  {
   "cell_type": "code",
   "execution_count": 78,
   "id": "ef27885a",
   "metadata": {},
   "outputs": [
    {
     "data": {
      "text/plain": [
       "1732"
      ]
     },
     "execution_count": 78,
     "metadata": {},
     "output_type": "execute_result"
    }
   ],
   "source": [
    "df[df['len_smiles'] > 60]['Smiles'].count()"
   ]
  },
  {
   "cell_type": "code",
   "execution_count": 79,
   "id": "81534fd1",
   "metadata": {},
   "outputs": [],
   "source": [
    "df['smiles_list'] = df['Smiles'].apply(lambda x: list(x))"
   ]
  },
  {
   "cell_type": "code",
   "execution_count": 80,
   "id": "767c37cc",
   "metadata": {},
   "outputs": [],
   "source": [
    "def count_i(x):\n",
    "    atoms = Counter()\n",
    "    for i in x:\n",
    "        atoms[i] += 1\n",
    "    return atoms"
   ]
  },
  {
   "cell_type": "code",
   "execution_count": 81,
   "id": "40f20050",
   "metadata": {},
   "outputs": [],
   "source": [
    "df['smiles_list'] = df['smiles_list'].apply(lambda x: count_i(x))"
   ]
  },
  {
   "cell_type": "code",
   "execution_count": 82,
   "id": "d3fd367b",
   "metadata": {},
   "outputs": [],
   "source": [
    "for i in new_columnes:\n",
    "    df[i] = df['smiles_list'].apply(lambda x: x[i])"
   ]
  },
  {
   "cell_type": "code",
   "execution_count": 83,
   "id": "8a599987",
   "metadata": {},
   "outputs": [
    {
     "data": {
      "text/html": [
       "<div>\n",
       "<style scoped>\n",
       "    .dataframe tbody tr th:only-of-type {\n",
       "        vertical-align: middle;\n",
       "    }\n",
       "\n",
       "    .dataframe tbody tr th {\n",
       "        vertical-align: top;\n",
       "    }\n",
       "\n",
       "    .dataframe thead th {\n",
       "        text-align: right;\n",
       "    }\n",
       "</style>\n",
       "<table border=\"1\" class=\"dataframe\">\n",
       "  <thead>\n",
       "    <tr style=\"text-align: right;\">\n",
       "      <th></th>\n",
       "      <th>Smiles</th>\n",
       "      <th>Active</th>\n",
       "      <th>train</th>\n",
       "      <th>len_smiles</th>\n",
       "      <th>smiles_list</th>\n",
       "      <th>C</th>\n",
       "      <th>O</th>\n",
       "      <th>c</th>\n",
       "      <th>1</th>\n",
       "      <th>2</th>\n",
       "      <th>...</th>\n",
       "      <th>7</th>\n",
       "      <th>8</th>\n",
       "      <th>e</th>\n",
       "      <th>A</th>\n",
       "      <th>K</th>\n",
       "      <th>M</th>\n",
       "      <th>g</th>\n",
       "      <th>i</th>\n",
       "      <th>L</th>\n",
       "      <th>9</th>\n",
       "    </tr>\n",
       "  </thead>\n",
       "  <tbody>\n",
       "    <tr>\n",
       "      <th>5015</th>\n",
       "      <td>Cc1nc2ccc(Oc3ccc(F)cc3)cc2c(=O)n1C[C@H]1CCCN(C...</td>\n",
       "      <td>0.0</td>\n",
       "      <td>1</td>\n",
       "      <td>53</td>\n",
       "      <td>{'C': 10, 'c': 14, '1': 4, 'n': 2, '2': 2, '('...</td>\n",
       "      <td>10</td>\n",
       "      <td>2</td>\n",
       "      <td>14</td>\n",
       "      <td>4</td>\n",
       "      <td>2</td>\n",
       "      <td>...</td>\n",
       "      <td>0</td>\n",
       "      <td>0</td>\n",
       "      <td>0</td>\n",
       "      <td>0</td>\n",
       "      <td>0</td>\n",
       "      <td>0</td>\n",
       "      <td>0</td>\n",
       "      <td>0</td>\n",
       "      <td>0</td>\n",
       "      <td>0</td>\n",
       "    </tr>\n",
       "    <tr>\n",
       "      <th>121</th>\n",
       "      <td>Cc1ccccc1C(=O)Nc1ccc(C(=O)N2CCCC(O)c3cc(Cl)ccc...</td>\n",
       "      <td>0.0</td>\n",
       "      <td>1</td>\n",
       "      <td>55</td>\n",
       "      <td>{'C': 9, 'c': 18, '1': 4, '(': 6, '=': 2, 'O':...</td>\n",
       "      <td>9</td>\n",
       "      <td>3</td>\n",
       "      <td>18</td>\n",
       "      <td>4</td>\n",
       "      <td>2</td>\n",
       "      <td>...</td>\n",
       "      <td>0</td>\n",
       "      <td>0</td>\n",
       "      <td>0</td>\n",
       "      <td>0</td>\n",
       "      <td>0</td>\n",
       "      <td>0</td>\n",
       "      <td>0</td>\n",
       "      <td>0</td>\n",
       "      <td>0</td>\n",
       "      <td>0</td>\n",
       "    </tr>\n",
       "    <tr>\n",
       "      <th>1845</th>\n",
       "      <td>O=C(NNC(=O)c1ccc(CNS(=O)(=O)c2ccc(F)c(Cl)c2)cc...</td>\n",
       "      <td>0.0</td>\n",
       "      <td>1</td>\n",
       "      <td>56</td>\n",
       "      <td>{'O': 4, '=': 4, 'C': 4, '(': 7, 'N': 3, ')': ...</td>\n",
       "      <td>4</td>\n",
       "      <td>4</td>\n",
       "      <td>18</td>\n",
       "      <td>4</td>\n",
       "      <td>2</td>\n",
       "      <td>...</td>\n",
       "      <td>0</td>\n",
       "      <td>0</td>\n",
       "      <td>0</td>\n",
       "      <td>0</td>\n",
       "      <td>0</td>\n",
       "      <td>0</td>\n",
       "      <td>0</td>\n",
       "      <td>0</td>\n",
       "      <td>0</td>\n",
       "      <td>0</td>\n",
       "    </tr>\n",
       "  </tbody>\n",
       "</table>\n",
       "<p>3 rows × 50 columns</p>\n",
       "</div>"
      ],
      "text/plain": [
       "                                                 Smiles  Active  train  \\\n",
       "5015  Cc1nc2ccc(Oc3ccc(F)cc3)cc2c(=O)n1C[C@H]1CCCN(C...     0.0      1   \n",
       "121   Cc1ccccc1C(=O)Nc1ccc(C(=O)N2CCCC(O)c3cc(Cl)ccc...     0.0      1   \n",
       "1845  O=C(NNC(=O)c1ccc(CNS(=O)(=O)c2ccc(F)c(Cl)c2)cc...     0.0      1   \n",
       "\n",
       "      len_smiles                                        smiles_list   C  O  \\\n",
       "5015          53  {'C': 10, 'c': 14, '1': 4, 'n': 2, '2': 2, '('...  10  2   \n",
       "121           55  {'C': 9, 'c': 18, '1': 4, '(': 6, '=': 2, 'O':...   9  3   \n",
       "1845          56  {'O': 4, '=': 4, 'C': 4, '(': 7, 'N': 3, ')': ...   4  4   \n",
       "\n",
       "       c  1  2  ...  7  8  e  A  K  M  g  i  L  9  \n",
       "5015  14  4  2  ...  0  0  0  0  0  0  0  0  0  0  \n",
       "121   18  4  2  ...  0  0  0  0  0  0  0  0  0  0  \n",
       "1845  18  4  2  ...  0  0  0  0  0  0  0  0  0  0  \n",
       "\n",
       "[3 rows x 50 columns]"
      ]
     },
     "execution_count": 83,
     "metadata": {},
     "output_type": "execute_result"
    }
   ],
   "source": [
    "df.sample(3)"
   ]
  },
  {
   "cell_type": "code",
   "execution_count": 84,
   "id": "7e4a8106",
   "metadata": {},
   "outputs": [
    {
     "data": {
      "text/html": [
       "<div>\n",
       "<style scoped>\n",
       "    .dataframe tbody tr th:only-of-type {\n",
       "        vertical-align: middle;\n",
       "    }\n",
       "\n",
       "    .dataframe tbody tr th {\n",
       "        vertical-align: top;\n",
       "    }\n",
       "\n",
       "    .dataframe thead th {\n",
       "        text-align: right;\n",
       "    }\n",
       "</style>\n",
       "<table border=\"1\" class=\"dataframe\">\n",
       "  <thead>\n",
       "    <tr style=\"text-align: right;\">\n",
       "      <th></th>\n",
       "      <th>Smiles</th>\n",
       "      <th>Active</th>\n",
       "      <th>train</th>\n",
       "      <th>len_smiles</th>\n",
       "      <th>smiles_list</th>\n",
       "      <th>C</th>\n",
       "      <th>O</th>\n",
       "      <th>c</th>\n",
       "      <th>1</th>\n",
       "      <th>2</th>\n",
       "      <th>...</th>\n",
       "      <th>7</th>\n",
       "      <th>8</th>\n",
       "      <th>e</th>\n",
       "      <th>A</th>\n",
       "      <th>K</th>\n",
       "      <th>M</th>\n",
       "      <th>g</th>\n",
       "      <th>i</th>\n",
       "      <th>L</th>\n",
       "      <th>9</th>\n",
       "    </tr>\n",
       "  </thead>\n",
       "  <tbody>\n",
       "    <tr>\n",
       "      <th>1501</th>\n",
       "      <td>c1ccc(OCc2ccc(CCCN3CCOCC3)cc2)cc1</td>\n",
       "      <td>0.0</td>\n",
       "      <td>1</td>\n",
       "      <td>33</td>\n",
       "      <td>{'c': 12, '1': 2, '(': 2, 'O': 2, 'C': 8, '2':...</td>\n",
       "      <td>8</td>\n",
       "      <td>2</td>\n",
       "      <td>12</td>\n",
       "      <td>2</td>\n",
       "      <td>2</td>\n",
       "      <td>...</td>\n",
       "      <td>0</td>\n",
       "      <td>0</td>\n",
       "      <td>0</td>\n",
       "      <td>0</td>\n",
       "      <td>0</td>\n",
       "      <td>0</td>\n",
       "      <td>0</td>\n",
       "      <td>0</td>\n",
       "      <td>0</td>\n",
       "      <td>0</td>\n",
       "    </tr>\n",
       "    <tr>\n",
       "      <th>3064</th>\n",
       "      <td>NC(=O)CN1CC(O)CC1=O</td>\n",
       "      <td>0.0</td>\n",
       "      <td>1</td>\n",
       "      <td>19</td>\n",
       "      <td>{'N': 2, 'C': 6, '(': 2, '=': 2, 'O': 3, ')': ...</td>\n",
       "      <td>6</td>\n",
       "      <td>3</td>\n",
       "      <td>0</td>\n",
       "      <td>2</td>\n",
       "      <td>0</td>\n",
       "      <td>...</td>\n",
       "      <td>0</td>\n",
       "      <td>0</td>\n",
       "      <td>0</td>\n",
       "      <td>0</td>\n",
       "      <td>0</td>\n",
       "      <td>0</td>\n",
       "      <td>0</td>\n",
       "      <td>0</td>\n",
       "      <td>0</td>\n",
       "      <td>0</td>\n",
       "    </tr>\n",
       "    <tr>\n",
       "      <th>215</th>\n",
       "      <td>COc1cccc(OC)c1-c1cc(C(=O)NC2(C(=O)O)C3CC4CC(C3...</td>\n",
       "      <td>0.0</td>\n",
       "      <td>1</td>\n",
       "      <td>75</td>\n",
       "      <td>{'C': 15, 'O': 5, 'c': 18, '1': 6, '(': 7, ')'...</td>\n",
       "      <td>15</td>\n",
       "      <td>5</td>\n",
       "      <td>18</td>\n",
       "      <td>6</td>\n",
       "      <td>4</td>\n",
       "      <td>...</td>\n",
       "      <td>0</td>\n",
       "      <td>0</td>\n",
       "      <td>0</td>\n",
       "      <td>0</td>\n",
       "      <td>0</td>\n",
       "      <td>0</td>\n",
       "      <td>0</td>\n",
       "      <td>0</td>\n",
       "      <td>0</td>\n",
       "      <td>0</td>\n",
       "    </tr>\n",
       "  </tbody>\n",
       "</table>\n",
       "<p>3 rows × 50 columns</p>\n",
       "</div>"
      ],
      "text/plain": [
       "                                                 Smiles  Active  train  \\\n",
       "1501                  c1ccc(OCc2ccc(CCCN3CCOCC3)cc2)cc1     0.0      1   \n",
       "3064                                NC(=O)CN1CC(O)CC1=O     0.0      1   \n",
       "215   COc1cccc(OC)c1-c1cc(C(=O)NC2(C(=O)O)C3CC4CC(C3...     0.0      1   \n",
       "\n",
       "      len_smiles                                        smiles_list   C  O  \\\n",
       "1501          33  {'c': 12, '1': 2, '(': 2, 'O': 2, 'C': 8, '2':...   8  2   \n",
       "3064          19  {'N': 2, 'C': 6, '(': 2, '=': 2, 'O': 3, ')': ...   6  3   \n",
       "215           75  {'C': 15, 'O': 5, 'c': 18, '1': 6, '(': 7, ')'...  15  5   \n",
       "\n",
       "       c  1  2  ...  7  8  e  A  K  M  g  i  L  9  \n",
       "1501  12  2  2  ...  0  0  0  0  0  0  0  0  0  0  \n",
       "3064   0  2  0  ...  0  0  0  0  0  0  0  0  0  0  \n",
       "215   18  6  4  ...  0  0  0  0  0  0  0  0  0  0  \n",
       "\n",
       "[3 rows x 50 columns]"
      ]
     },
     "execution_count": 84,
     "metadata": {},
     "output_type": "execute_result"
    }
   ],
   "source": [
    "df.sample(3)"
   ]
  },
  {
   "cell_type": "code",
   "execution_count": 85,
   "id": "bd2321a0",
   "metadata": {},
   "outputs": [],
   "source": [
    "df.drop(['smiles_list'], axis = 1, inplace = True)"
   ]
  },
  {
   "cell_type": "code",
   "execution_count": 86,
   "id": "c3e07d0a",
   "metadata": {},
   "outputs": [],
   "source": [
    "df.set_index(['Smiles'], inplace = True)"
   ]
  },
  {
   "cell_type": "code",
   "execution_count": 87,
   "id": "f173727b",
   "metadata": {},
   "outputs": [
    {
     "data": {
      "text/html": [
       "<div>\n",
       "<style scoped>\n",
       "    .dataframe tbody tr th:only-of-type {\n",
       "        vertical-align: middle;\n",
       "    }\n",
       "\n",
       "    .dataframe tbody tr th {\n",
       "        vertical-align: top;\n",
       "    }\n",
       "\n",
       "    .dataframe thead th {\n",
       "        text-align: right;\n",
       "    }\n",
       "</style>\n",
       "<table border=\"1\" class=\"dataframe\">\n",
       "  <thead>\n",
       "    <tr style=\"text-align: right;\">\n",
       "      <th></th>\n",
       "      <th>Active</th>\n",
       "      <th>train</th>\n",
       "      <th>len_smiles</th>\n",
       "      <th>C</th>\n",
       "      <th>O</th>\n",
       "      <th>c</th>\n",
       "      <th>1</th>\n",
       "      <th>2</th>\n",
       "      <th>[</th>\n",
       "      <th>n</th>\n",
       "      <th>...</th>\n",
       "      <th>7</th>\n",
       "      <th>8</th>\n",
       "      <th>e</th>\n",
       "      <th>A</th>\n",
       "      <th>K</th>\n",
       "      <th>M</th>\n",
       "      <th>g</th>\n",
       "      <th>i</th>\n",
       "      <th>L</th>\n",
       "      <th>9</th>\n",
       "    </tr>\n",
       "    <tr>\n",
       "      <th>Smiles</th>\n",
       "      <th></th>\n",
       "      <th></th>\n",
       "      <th></th>\n",
       "      <th></th>\n",
       "      <th></th>\n",
       "      <th></th>\n",
       "      <th></th>\n",
       "      <th></th>\n",
       "      <th></th>\n",
       "      <th></th>\n",
       "      <th></th>\n",
       "      <th></th>\n",
       "      <th></th>\n",
       "      <th></th>\n",
       "      <th></th>\n",
       "      <th></th>\n",
       "      <th></th>\n",
       "      <th></th>\n",
       "      <th></th>\n",
       "      <th></th>\n",
       "      <th></th>\n",
       "    </tr>\n",
       "  </thead>\n",
       "  <tbody>\n",
       "    <tr>\n",
       "      <th>CC(C)OC(=O)C(C(=O)OC(C)C)=C1SC=CS1</th>\n",
       "      <td>0.0</td>\n",
       "      <td>1</td>\n",
       "      <td>34</td>\n",
       "      <td>12</td>\n",
       "      <td>4</td>\n",
       "      <td>0</td>\n",
       "      <td>2</td>\n",
       "      <td>0</td>\n",
       "      <td>0</td>\n",
       "      <td>0</td>\n",
       "      <td>...</td>\n",
       "      <td>0</td>\n",
       "      <td>0</td>\n",
       "      <td>0</td>\n",
       "      <td>0</td>\n",
       "      <td>0</td>\n",
       "      <td>0</td>\n",
       "      <td>0</td>\n",
       "      <td>0</td>\n",
       "      <td>0</td>\n",
       "      <td>0</td>\n",
       "    </tr>\n",
       "    <tr>\n",
       "      <th>NC(=O)[C@@H](CCC(F)(F)F)N(Cc1ccc(-c2ncon2)cc1F)S(=O)(=O)c1ccc(Cl)cc1</th>\n",
       "      <td>NaN</td>\n",
       "      <td>0</td>\n",
       "      <td>68</td>\n",
       "      <td>7</td>\n",
       "      <td>3</td>\n",
       "      <td>14</td>\n",
       "      <td>4</td>\n",
       "      <td>2</td>\n",
       "      <td>1</td>\n",
       "      <td>2</td>\n",
       "      <td>...</td>\n",
       "      <td>0</td>\n",
       "      <td>0</td>\n",
       "      <td>0</td>\n",
       "      <td>0</td>\n",
       "      <td>0</td>\n",
       "      <td>0</td>\n",
       "      <td>0</td>\n",
       "      <td>0</td>\n",
       "      <td>0</td>\n",
       "      <td>0</td>\n",
       "    </tr>\n",
       "    <tr>\n",
       "      <th>Cc1onc(-c2ccc(F)cc2)c1COc1ccc(C(=O)N2CCS(=O)(=O)CC2)cn1</th>\n",
       "      <td>NaN</td>\n",
       "      <td>0</td>\n",
       "      <td>55</td>\n",
       "      <td>7</td>\n",
       "      <td>4</td>\n",
       "      <td>14</td>\n",
       "      <td>4</td>\n",
       "      <td>4</td>\n",
       "      <td>0</td>\n",
       "      <td>2</td>\n",
       "      <td>...</td>\n",
       "      <td>0</td>\n",
       "      <td>0</td>\n",
       "      <td>0</td>\n",
       "      <td>0</td>\n",
       "      <td>0</td>\n",
       "      <td>0</td>\n",
       "      <td>0</td>\n",
       "      <td>0</td>\n",
       "      <td>0</td>\n",
       "      <td>0</td>\n",
       "    </tr>\n",
       "  </tbody>\n",
       "</table>\n",
       "<p>3 rows × 48 columns</p>\n",
       "</div>"
      ],
      "text/plain": [
       "                                                    Active  train  len_smiles  \\\n",
       "Smiles                                                                          \n",
       "CC(C)OC(=O)C(C(=O)OC(C)C)=C1SC=CS1                     0.0      1          34   \n",
       "NC(=O)[C@@H](CCC(F)(F)F)N(Cc1ccc(-c2ncon2)cc1F)...     NaN      0          68   \n",
       "Cc1onc(-c2ccc(F)cc2)c1COc1ccc(C(=O)N2CCS(=O)(=O...     NaN      0          55   \n",
       "\n",
       "                                                     C  O   c  1  2  [  n  \\\n",
       "Smiles                                                                      \n",
       "CC(C)OC(=O)C(C(=O)OC(C)C)=C1SC=CS1                  12  4   0  2  0  0  0   \n",
       "NC(=O)[C@@H](CCC(F)(F)F)N(Cc1ccc(-c2ncon2)cc1F)...   7  3  14  4  2  1  2   \n",
       "Cc1onc(-c2ccc(F)cc2)c1COc1ccc(C(=O)N2CCS(=O)(=O...   7  4  14  4  4  0  2   \n",
       "\n",
       "                                                    ...  7  8  e  A  K  M  g  \\\n",
       "Smiles                                              ...                        \n",
       "CC(C)OC(=O)C(C(=O)OC(C)C)=C1SC=CS1                  ...  0  0  0  0  0  0  0   \n",
       "NC(=O)[C@@H](CCC(F)(F)F)N(Cc1ccc(-c2ncon2)cc1F)...  ...  0  0  0  0  0  0  0   \n",
       "Cc1onc(-c2ccc(F)cc2)c1COc1ccc(C(=O)N2CCS(=O)(=O...  ...  0  0  0  0  0  0  0   \n",
       "\n",
       "                                                    i  L  9  \n",
       "Smiles                                                       \n",
       "CC(C)OC(=O)C(C(=O)OC(C)C)=C1SC=CS1                  0  0  0  \n",
       "NC(=O)[C@@H](CCC(F)(F)F)N(Cc1ccc(-c2ncon2)cc1F)...  0  0  0  \n",
       "Cc1onc(-c2ccc(F)cc2)c1COc1ccc(C(=O)N2CCS(=O)(=O...  0  0  0  \n",
       "\n",
       "[3 rows x 48 columns]"
      ]
     },
     "execution_count": 87,
     "metadata": {},
     "output_type": "execute_result"
    }
   ],
   "source": [
    "df.sample(3)"
   ]
  },
  {
   "cell_type": "code",
   "execution_count": 88,
   "id": "174b02e3",
   "metadata": {},
   "outputs": [],
   "source": [
    "train_new = df[df['train'] == 1]\n",
    "test_new = df[df['train'] == 0]"
   ]
  },
  {
   "cell_type": "code",
   "execution_count": 89,
   "id": "910f7b77",
   "metadata": {},
   "outputs": [
    {
     "name": "stdout",
     "output_type": "stream",
     "text": [
      "<class 'pandas.core.frame.DataFrame'>\n",
      "Index: 5557 entries, COc1ccc2[nH]cc(CCN)c2c1 to CCCCNc1ccc(C(=O)OCCN(C)C)cc1.Cl\n",
      "Data columns (total 48 columns):\n",
      " #   Column      Non-Null Count  Dtype  \n",
      "---  ------      --------------  -----  \n",
      " 0   Active      5557 non-null   float64\n",
      " 1   train       5557 non-null   int64  \n",
      " 2   len_smiles  5557 non-null   int64  \n",
      " 3   C           5557 non-null   int64  \n",
      " 4   O           5557 non-null   int64  \n",
      " 5   c           5557 non-null   int64  \n",
      " 6   1           5557 non-null   int64  \n",
      " 7   2           5557 non-null   int64  \n",
      " 8   [           5557 non-null   int64  \n",
      " 9   n           5557 non-null   int64  \n",
      " 10  H           5557 non-null   int64  \n",
      " 11  ]           5557 non-null   int64  \n",
      " 12  (           5557 non-null   int64  \n",
      " 13  N           5557 non-null   int64  \n",
      " 14  )           5557 non-null   int64  \n",
      " 15  @           5557 non-null   int64  \n",
      " 16  .           5557 non-null   int64  \n",
      " 17  l           5557 non-null   int64  \n",
      " 18  =           5557 non-null   int64  \n",
      " 19  S           5557 non-null   int64  \n",
      " 20  3           5557 non-null   int64  \n",
      " 21  4           5557 non-null   int64  \n",
      " 22  F           5557 non-null   int64  \n",
      " 23  -           5557 non-null   int64  \n",
      " 24  s           5557 non-null   int64  \n",
      " 25  /           5557 non-null   int64  \n",
      " 26  5           5557 non-null   int64  \n",
      " 27  o           5557 non-null   int64  \n",
      " 28  a           5557 non-null   int64  \n",
      " 29  +           5557 non-null   int64  \n",
      " 30  #           5557 non-null   int64  \n",
      " 31  I           5557 non-null   int64  \n",
      " 32  P           5557 non-null   int64  \n",
      " 33  B           5557 non-null   int64  \n",
      " 34  r           5557 non-null   int64  \n",
      " 35  \\           5557 non-null   int64  \n",
      " 36  Z           5557 non-null   int64  \n",
      " 37  6           5557 non-null   int64  \n",
      " 38  7           5557 non-null   int64  \n",
      " 39  8           5557 non-null   int64  \n",
      " 40  e           5557 non-null   int64  \n",
      " 41  A           5557 non-null   int64  \n",
      " 42  K           5557 non-null   int64  \n",
      " 43  M           5557 non-null   int64  \n",
      " 44  g           5557 non-null   int64  \n",
      " 45  i           5557 non-null   int64  \n",
      " 46  L           5557 non-null   int64  \n",
      " 47  9           5557 non-null   int64  \n",
      "dtypes: float64(1), int64(47)\n",
      "memory usage: 2.1+ MB\n"
     ]
    }
   ],
   "source": [
    "train_new.info()"
   ]
  },
  {
   "cell_type": "code",
   "execution_count": 90,
   "id": "3a080520",
   "metadata": {},
   "outputs": [],
   "source": [
    "X = train_new.drop(['Active'], axis = 1)\n",
    "y = train_new['Active']"
   ]
  },
  {
   "cell_type": "code",
   "execution_count": 91,
   "id": "287144e0",
   "metadata": {},
   "outputs": [],
   "source": [
    "from sklearn import model_selection, datasets, metrics, tree "
   ]
  },
  {
   "cell_type": "code",
   "execution_count": 92,
   "id": "f7664a15",
   "metadata": {},
   "outputs": [],
   "source": [
    "train_data, test_data, train_labels, test_labels = model_selection.train_test_split(X, y, \n",
    "                                                                                    test_size=0.30, random_state=RANDOM_SEED)"
   ]
  },
  {
   "cell_type": "code",
   "execution_count": 98,
   "id": "a6563bd0",
   "metadata": {},
   "outputs": [],
   "source": [
    "from sklearn.ensemble import BaggingClassifier, RandomForestClassifier"
   ]
  },
  {
   "cell_type": "code",
   "execution_count": 101,
   "id": "e24fe1a4",
   "metadata": {},
   "outputs": [
    {
     "data": {
      "text/plain": [
       "DecisionTreeClassifier()"
      ]
     },
     "execution_count": 101,
     "metadata": {},
     "output_type": "execute_result"
    }
   ],
   "source": [
    "clf = tree.DecisionTreeClassifier()\n",
    "clf.fit(train_data, train_labels)"
   ]
  },
  {
   "cell_type": "code",
   "execution_count": 102,
   "id": "bbcc603a",
   "metadata": {},
   "outputs": [
    {
     "data": {
      "text/plain": [
       "0.16793893129770993"
      ]
     },
     "execution_count": 102,
     "metadata": {},
     "output_type": "execute_result"
    }
   ],
   "source": [
    "predictions_clf = clf.predict(test_data)\n",
    "metrics.f1_score(test_labels, predictions_clf)"
   ]
  },
  {
   "cell_type": "code",
   "execution_count": 97,
   "id": "2b817378",
   "metadata": {},
   "outputs": [
    {
     "name": "stdout",
     "output_type": "stream",
     "text": [
      "0.9642584192712726 {'max_depth': 3}\n"
     ]
    }
   ],
   "source": [
    "from sklearn.model_selection import GridSearchCV\n",
    "\n",
    "parameters = {'max_depth':range(3,20)}\n",
    "clf = GridSearchCV(tree.DecisionTreeClassifier(), parameters, n_jobs=4)\n",
    "clf.fit(X=train_data, y=train_labels)\n",
    "tree_model = clf.best_estimator_\n",
    "print (clf.best_score_, clf.best_params_)"
   ]
  },
  {
   "cell_type": "code",
   "execution_count": 105,
   "id": "fe1bcc74",
   "metadata": {},
   "outputs": [],
   "source": [
    "bagging_trees = BaggingClassifier(clf, n_estimators = 150)\n",
    "bagging_trees.fit(train_data,train_labels)\n",
    "predictions_bg = bagging_trees.predict(test_data)"
   ]
  },
  {
   "cell_type": "code",
   "execution_count": 106,
   "id": "0da4893b",
   "metadata": {},
   "outputs": [
    {
     "data": {
      "text/plain": [
       "0.07894736842105261"
      ]
     },
     "execution_count": 106,
     "metadata": {},
     "output_type": "execute_result"
    }
   ],
   "source": [
    "metrics.f1_score(test_labels, predictions_bg)"
   ]
  },
  {
   "cell_type": "code",
   "execution_count": 107,
   "id": "02f2305d",
   "metadata": {},
   "outputs": [],
   "source": [
    "from lazypredict.Supervised import LazyClassifier"
   ]
  },
  {
   "cell_type": "code",
   "execution_count": 108,
   "id": "f2ada51c",
   "metadata": {},
   "outputs": [
    {
     "name": "stderr",
     "output_type": "stream",
     "text": [
      "100%|██████████████████████████████████████████████████████████████████████████████████| 29/29 [00:21<00:00,  1.37it/s]\n"
     ]
    }
   ],
   "source": [
    "clf_lc = LazyClassifier(verbose=0,ignore_warnings=True, custom_metric=None)\n",
    "models,predictions = clf_lc.fit(train_data, test_data, train_labels, test_labels)"
   ]
  },
  {
   "cell_type": "code",
   "execution_count": 109,
   "id": "94975a61",
   "metadata": {},
   "outputs": [
    {
     "name": "stdout",
     "output_type": "stream",
     "text": [
      "                               Accuracy  Balanced Accuracy  ROC AUC  F1 Score  \\\n",
      "Model                                                                           \n",
      "DecisionTreeClassifier             0.93               0.55     0.55      0.93   \n",
      "NearestCentroid                    0.75               0.54     0.54      0.83   \n",
      "ExtraTreeClassifier                0.93               0.53     0.53      0.93   \n",
      "LabelSpreading                     0.94               0.52     0.52      0.93   \n",
      "LabelPropagation                   0.94               0.52     0.52      0.93   \n",
      "XGBClassifier                      0.96               0.52     0.52      0.94   \n",
      "Perceptron                         0.94               0.51     0.51      0.93   \n",
      "BaggingClassifier                  0.95               0.51     0.51      0.94   \n",
      "SGDClassifier                      0.95               0.51     0.51      0.94   \n",
      "LinearDiscriminantAnalysis         0.95               0.51     0.51      0.94   \n",
      "QuadraticDiscriminantAnalysis      0.10               0.51     0.51      0.12   \n",
      "RandomForestClassifier             0.96               0.51     0.51      0.94   \n",
      "LogisticRegression                 0.96               0.51     0.51      0.94   \n",
      "LGBMClassifier                     0.96               0.51     0.51      0.94   \n",
      "ExtraTreesClassifier               0.96               0.51     0.51      0.94   \n",
      "BernoulliNB                        0.95               0.50     0.50      0.94   \n",
      "KNeighborsClassifier               0.95               0.50     0.50      0.94   \n",
      "PassiveAggressiveClassifier        0.95               0.50     0.50      0.94   \n",
      "SVC                                0.96               0.50     0.50      0.94   \n",
      "CalibratedClassifierCV             0.96               0.50     0.50      0.94   \n",
      "RidgeClassifier                    0.96               0.50     0.50      0.94   \n",
      "RidgeClassifierCV                  0.96               0.50     0.50      0.94   \n",
      "AdaBoostClassifier                 0.96               0.50     0.50      0.94   \n",
      "LinearSVC                          0.96               0.50     0.50      0.94   \n",
      "DummyClassifier                    0.92               0.50     0.50      0.92   \n",
      "GaussianNB                         0.11               0.47     0.47      0.14   \n",
      "\n",
      "                               Time Taken  \n",
      "Model                                      \n",
      "DecisionTreeClassifier               0.14  \n",
      "NearestCentroid                      0.05  \n",
      "ExtraTreeClassifier                  0.06  \n",
      "LabelSpreading                       2.67  \n",
      "LabelPropagation                     1.78  \n",
      "XGBClassifier                        2.49  \n",
      "Perceptron                           0.06  \n",
      "BaggingClassifier                    0.58  \n",
      "SGDClassifier                        0.08  \n",
      "LinearDiscriminantAnalysis           0.12  \n",
      "QuadraticDiscriminantAnalysis        0.06  \n",
      "RandomForestClassifier               0.82  \n",
      "LogisticRegression                   0.13  \n",
      "LGBMClassifier                       0.47  \n",
      "ExtraTreesClassifier                 0.88  \n",
      "BernoulliNB                          0.21  \n",
      "KNeighborsClassifier                 1.25  \n",
      "PassiveAggressiveClassifier          0.06  \n",
      "SVC                                  0.95  \n",
      "CalibratedClassifierCV               5.94  \n",
      "RidgeClassifier                      0.05  \n",
      "RidgeClassifierCV                    0.08  \n",
      "AdaBoostClassifier                   0.60  \n",
      "LinearSVC                            1.46  \n",
      "DummyClassifier                      0.05  \n",
      "GaussianNB                           0.07  \n"
     ]
    }
   ],
   "source": [
    "print(models)"
   ]
  },
  {
   "cell_type": "code",
   "execution_count": 99,
   "id": "33b4765d",
   "metadata": {},
   "outputs": [],
   "source": [
    "from sklearn.neighbors import NearestCentroid"
   ]
  },
  {
   "cell_type": "code",
   "execution_count": 100,
   "id": "f0ac0b6f",
   "metadata": {},
   "outputs": [],
   "source": [
    "NC_model = NearestCentroid()"
   ]
  },
  {
   "cell_type": "code",
   "execution_count": 101,
   "id": "bff3def7",
   "metadata": {},
   "outputs": [
    {
     "data": {
      "text/plain": [
       "0.10037174721189593"
      ]
     },
     "execution_count": 101,
     "metadata": {},
     "output_type": "execute_result"
    }
   ],
   "source": [
    "train_data, test_data, train_labels, test_labels\n",
    "NC_model.fit(train_data, train_labels)\n",
    "predictions_clf_tree = NC_model.predict(test_data)\n",
    "metrics.f1_score(test_labels, predictions_clf_tree)"
   ]
  },
  {
   "cell_type": "code",
   "execution_count": 102,
   "id": "be873189",
   "metadata": {},
   "outputs": [],
   "source": [
    "from sklearn.ensemble import RandomForestClassifier\n",
    "\n",
    "clf_rf = RandomForestClassifier()\n"
   ]
  },
  {
   "cell_type": "code",
   "execution_count": 103,
   "id": "49bec648",
   "metadata": {},
   "outputs": [
    {
     "data": {
      "text/plain": [
       "0.0273972602739726"
      ]
     },
     "execution_count": 103,
     "metadata": {},
     "output_type": "execute_result"
    }
   ],
   "source": [
    "clf_rf.fit(train_data, train_labels)\n",
    "predictions_clf_rf = clf_rf.predict(test_data)\n",
    "metrics.f1_score(test_labels, predictions_clf_rf)"
   ]
  },
  {
   "cell_type": "code",
   "execution_count": 103,
   "id": "4ab5358c",
   "metadata": {},
   "outputs": [],
   "source": [
    "test_new_data = test_new.drop(['Active'], axis = 1) "
   ]
  },
  {
   "cell_type": "code",
   "execution_count": 105,
   "id": "3c136c3a",
   "metadata": {},
   "outputs": [],
   "source": [
    "predictions = clf.predict(test_new_data)"
   ]
  },
  {
   "cell_type": "code",
   "execution_count": 106,
   "id": "b4227802",
   "metadata": {},
   "outputs": [],
   "source": [
    "test_new_data['Active'] = predictions"
   ]
  },
  {
   "cell_type": "code",
   "execution_count": 107,
   "id": "d4059e62",
   "metadata": {},
   "outputs": [
    {
     "data": {
      "text/html": [
       "<div>\n",
       "<style scoped>\n",
       "    .dataframe tbody tr th:only-of-type {\n",
       "        vertical-align: middle;\n",
       "    }\n",
       "\n",
       "    .dataframe tbody tr th {\n",
       "        vertical-align: top;\n",
       "    }\n",
       "\n",
       "    .dataframe thead th {\n",
       "        text-align: right;\n",
       "    }\n",
       "</style>\n",
       "<table border=\"1\" class=\"dataframe\">\n",
       "  <thead>\n",
       "    <tr style=\"text-align: right;\">\n",
       "      <th></th>\n",
       "      <th>train</th>\n",
       "      <th>len_smiles</th>\n",
       "      <th>C</th>\n",
       "      <th>O</th>\n",
       "      <th>c</th>\n",
       "      <th>1</th>\n",
       "      <th>2</th>\n",
       "      <th>[</th>\n",
       "      <th>n</th>\n",
       "      <th>H</th>\n",
       "      <th>...</th>\n",
       "      <th>8</th>\n",
       "      <th>e</th>\n",
       "      <th>A</th>\n",
       "      <th>K</th>\n",
       "      <th>M</th>\n",
       "      <th>g</th>\n",
       "      <th>i</th>\n",
       "      <th>L</th>\n",
       "      <th>9</th>\n",
       "      <th>Active</th>\n",
       "    </tr>\n",
       "    <tr>\n",
       "      <th>Smiles</th>\n",
       "      <th></th>\n",
       "      <th></th>\n",
       "      <th></th>\n",
       "      <th></th>\n",
       "      <th></th>\n",
       "      <th></th>\n",
       "      <th></th>\n",
       "      <th></th>\n",
       "      <th></th>\n",
       "      <th></th>\n",
       "      <th></th>\n",
       "      <th></th>\n",
       "      <th></th>\n",
       "      <th></th>\n",
       "      <th></th>\n",
       "      <th></th>\n",
       "      <th></th>\n",
       "      <th></th>\n",
       "      <th></th>\n",
       "      <th></th>\n",
       "      <th></th>\n",
       "    </tr>\n",
       "  </thead>\n",
       "  <tbody>\n",
       "    <tr>\n",
       "      <th>Nc1c2c(nc3ccccc13)CCCC2O.O=C(O)/C=C\\C(=O)O</th>\n",
       "      <td>0</td>\n",
       "      <td>42</td>\n",
       "      <td>8</td>\n",
       "      <td>5</td>\n",
       "      <td>9</td>\n",
       "      <td>2</td>\n",
       "      <td>2</td>\n",
       "      <td>0</td>\n",
       "      <td>1</td>\n",
       "      <td>0</td>\n",
       "      <td>...</td>\n",
       "      <td>0</td>\n",
       "      <td>0</td>\n",
       "      <td>0</td>\n",
       "      <td>0</td>\n",
       "      <td>0</td>\n",
       "      <td>0</td>\n",
       "      <td>0</td>\n",
       "      <td>0</td>\n",
       "      <td>0</td>\n",
       "      <td>0.0</td>\n",
       "    </tr>\n",
       "    <tr>\n",
       "      <th>CN(C)CCCN1c2ccccc2Sc2ccc(C(F)(F)F)cc21.Cl</th>\n",
       "      <td>0</td>\n",
       "      <td>41</td>\n",
       "      <td>7</td>\n",
       "      <td>0</td>\n",
       "      <td>12</td>\n",
       "      <td>2</td>\n",
       "      <td>4</td>\n",
       "      <td>0</td>\n",
       "      <td>0</td>\n",
       "      <td>0</td>\n",
       "      <td>...</td>\n",
       "      <td>0</td>\n",
       "      <td>0</td>\n",
       "      <td>0</td>\n",
       "      <td>0</td>\n",
       "      <td>0</td>\n",
       "      <td>0</td>\n",
       "      <td>0</td>\n",
       "      <td>0</td>\n",
       "      <td>0</td>\n",
       "      <td>1.0</td>\n",
       "    </tr>\n",
       "    <tr>\n",
       "      <th>CCC(NC(C)C)C(O)c1ccc(O)c2[nH]c(=O)ccc12</th>\n",
       "      <td>0</td>\n",
       "      <td>39</td>\n",
       "      <td>7</td>\n",
       "      <td>3</td>\n",
       "      <td>9</td>\n",
       "      <td>2</td>\n",
       "      <td>2</td>\n",
       "      <td>1</td>\n",
       "      <td>1</td>\n",
       "      <td>1</td>\n",
       "      <td>...</td>\n",
       "      <td>0</td>\n",
       "      <td>0</td>\n",
       "      <td>0</td>\n",
       "      <td>0</td>\n",
       "      <td>0</td>\n",
       "      <td>0</td>\n",
       "      <td>0</td>\n",
       "      <td>0</td>\n",
       "      <td>0</td>\n",
       "      <td>0.0</td>\n",
       "    </tr>\n",
       "    <tr>\n",
       "      <th>Cn1c(=O)cnn(CCCCN2CCN(c3ncccn3)CC2)c1=O</th>\n",
       "      <td>0</td>\n",
       "      <td>39</td>\n",
       "      <td>9</td>\n",
       "      <td>2</td>\n",
       "      <td>7</td>\n",
       "      <td>2</td>\n",
       "      <td>2</td>\n",
       "      <td>0</td>\n",
       "      <td>5</td>\n",
       "      <td>0</td>\n",
       "      <td>...</td>\n",
       "      <td>0</td>\n",
       "      <td>0</td>\n",
       "      <td>0</td>\n",
       "      <td>0</td>\n",
       "      <td>0</td>\n",
       "      <td>0</td>\n",
       "      <td>0</td>\n",
       "      <td>0</td>\n",
       "      <td>0</td>\n",
       "      <td>0.0</td>\n",
       "    </tr>\n",
       "    <tr>\n",
       "      <th>COc1ccc(O)c(C(C)(C)C)c1</th>\n",
       "      <td>0</td>\n",
       "      <td>23</td>\n",
       "      <td>5</td>\n",
       "      <td>2</td>\n",
       "      <td>6</td>\n",
       "      <td>2</td>\n",
       "      <td>0</td>\n",
       "      <td>0</td>\n",
       "      <td>0</td>\n",
       "      <td>0</td>\n",
       "      <td>...</td>\n",
       "      <td>0</td>\n",
       "      <td>0</td>\n",
       "      <td>0</td>\n",
       "      <td>0</td>\n",
       "      <td>0</td>\n",
       "      <td>0</td>\n",
       "      <td>0</td>\n",
       "      <td>0</td>\n",
       "      <td>0</td>\n",
       "      <td>0.0</td>\n",
       "    </tr>\n",
       "  </tbody>\n",
       "</table>\n",
       "<p>5 rows × 48 columns</p>\n",
       "</div>"
      ],
      "text/plain": [
       "                                            train  len_smiles  C  O   c  1  2  \\\n",
       "Smiles                                                                          \n",
       "Nc1c2c(nc3ccccc13)CCCC2O.O=C(O)/C=C\\C(=O)O      0          42  8  5   9  2  2   \n",
       "CN(C)CCCN1c2ccccc2Sc2ccc(C(F)(F)F)cc21.Cl       0          41  7  0  12  2  4   \n",
       "CCC(NC(C)C)C(O)c1ccc(O)c2[nH]c(=O)ccc12         0          39  7  3   9  2  2   \n",
       "Cn1c(=O)cnn(CCCCN2CCN(c3ncccn3)CC2)c1=O         0          39  9  2   7  2  2   \n",
       "COc1ccc(O)c(C(C)(C)C)c1                         0          23  5  2   6  2  0   \n",
       "\n",
       "                                            [  n  H  ...  8  e  A  K  M  g  i  \\\n",
       "Smiles                                               ...                        \n",
       "Nc1c2c(nc3ccccc13)CCCC2O.O=C(O)/C=C\\C(=O)O  0  1  0  ...  0  0  0  0  0  0  0   \n",
       "CN(C)CCCN1c2ccccc2Sc2ccc(C(F)(F)F)cc21.Cl   0  0  0  ...  0  0  0  0  0  0  0   \n",
       "CCC(NC(C)C)C(O)c1ccc(O)c2[nH]c(=O)ccc12     1  1  1  ...  0  0  0  0  0  0  0   \n",
       "Cn1c(=O)cnn(CCCCN2CCN(c3ncccn3)CC2)c1=O     0  5  0  ...  0  0  0  0  0  0  0   \n",
       "COc1ccc(O)c(C(C)(C)C)c1                     0  0  0  ...  0  0  0  0  0  0  0   \n",
       "\n",
       "                                            L  9  Active  \n",
       "Smiles                                                    \n",
       "Nc1c2c(nc3ccccc13)CCCC2O.O=C(O)/C=C\\C(=O)O  0  0     0.0  \n",
       "CN(C)CCCN1c2ccccc2Sc2ccc(C(F)(F)F)cc21.Cl   0  0     1.0  \n",
       "CCC(NC(C)C)C(O)c1ccc(O)c2[nH]c(=O)ccc12     0  0     0.0  \n",
       "Cn1c(=O)cnn(CCCCN2CCN(c3ncccn3)CC2)c1=O     0  0     0.0  \n",
       "COc1ccc(O)c(C(C)(C)C)c1                     0  0     0.0  \n",
       "\n",
       "[5 rows x 48 columns]"
      ]
     },
     "execution_count": 107,
     "metadata": {},
     "output_type": "execute_result"
    }
   ],
   "source": [
    "test_new_data.sample(5)"
   ]
  },
  {
   "cell_type": "code",
   "execution_count": 108,
   "id": "4726510a",
   "metadata": {},
   "outputs": [],
   "source": [
    "test_new_data.reset_index(inplace = True)"
   ]
  },
  {
   "cell_type": "code",
   "execution_count": 109,
   "id": "0393c149",
   "metadata": {},
   "outputs": [
    {
     "data": {
      "text/html": [
       "<div>\n",
       "<style scoped>\n",
       "    .dataframe tbody tr th:only-of-type {\n",
       "        vertical-align: middle;\n",
       "    }\n",
       "\n",
       "    .dataframe tbody tr th {\n",
       "        vertical-align: top;\n",
       "    }\n",
       "\n",
       "    .dataframe thead th {\n",
       "        text-align: right;\n",
       "    }\n",
       "</style>\n",
       "<table border=\"1\" class=\"dataframe\">\n",
       "  <thead>\n",
       "    <tr style=\"text-align: right;\">\n",
       "      <th></th>\n",
       "      <th>Smiles</th>\n",
       "      <th>train</th>\n",
       "      <th>len_smiles</th>\n",
       "      <th>C</th>\n",
       "      <th>O</th>\n",
       "      <th>c</th>\n",
       "      <th>1</th>\n",
       "      <th>2</th>\n",
       "      <th>[</th>\n",
       "      <th>n</th>\n",
       "      <th>...</th>\n",
       "      <th>8</th>\n",
       "      <th>e</th>\n",
       "      <th>A</th>\n",
       "      <th>K</th>\n",
       "      <th>M</th>\n",
       "      <th>g</th>\n",
       "      <th>i</th>\n",
       "      <th>L</th>\n",
       "      <th>9</th>\n",
       "      <th>Active</th>\n",
       "    </tr>\n",
       "  </thead>\n",
       "  <tbody>\n",
       "    <tr>\n",
       "      <th>279</th>\n",
       "      <td>CC[C@H](CO)Nc1nc(Nc2cccc(-c3ccccn3)c2)c2ncn(C(...</td>\n",
       "      <td>0</td>\n",
       "      <td>54</td>\n",
       "      <td>7</td>\n",
       "      <td>1</td>\n",
       "      <td>16</td>\n",
       "      <td>2</td>\n",
       "      <td>4</td>\n",
       "      <td>1</td>\n",
       "      <td>5</td>\n",
       "      <td>...</td>\n",
       "      <td>0</td>\n",
       "      <td>0</td>\n",
       "      <td>0</td>\n",
       "      <td>0</td>\n",
       "      <td>0</td>\n",
       "      <td>0</td>\n",
       "      <td>0</td>\n",
       "      <td>0</td>\n",
       "      <td>0</td>\n",
       "      <td>1.0</td>\n",
       "    </tr>\n",
       "    <tr>\n",
       "      <th>1189</th>\n",
       "      <td>CCC(=O)O[C@H]1[C@H](O[C@@H]2[C@@H](C)[C@H](O[C...</td>\n",
       "      <td>0</td>\n",
       "      <td>206</td>\n",
       "      <td>52</td>\n",
       "      <td>18</td>\n",
       "      <td>0</td>\n",
       "      <td>2</td>\n",
       "      <td>2</td>\n",
       "      <td>18</td>\n",
       "      <td>0</td>\n",
       "      <td>...</td>\n",
       "      <td>0</td>\n",
       "      <td>0</td>\n",
       "      <td>0</td>\n",
       "      <td>0</td>\n",
       "      <td>0</td>\n",
       "      <td>0</td>\n",
       "      <td>0</td>\n",
       "      <td>0</td>\n",
       "      <td>0</td>\n",
       "      <td>0.0</td>\n",
       "    </tr>\n",
       "    <tr>\n",
       "      <th>1517</th>\n",
       "      <td>COc1ccc(-c2c[nH]c3nccc(-c4ccsc4)c23)c(OC)c1</td>\n",
       "      <td>0</td>\n",
       "      <td>43</td>\n",
       "      <td>2</td>\n",
       "      <td>2</td>\n",
       "      <td>17</td>\n",
       "      <td>2</td>\n",
       "      <td>2</td>\n",
       "      <td>1</td>\n",
       "      <td>2</td>\n",
       "      <td>...</td>\n",
       "      <td>0</td>\n",
       "      <td>0</td>\n",
       "      <td>0</td>\n",
       "      <td>0</td>\n",
       "      <td>0</td>\n",
       "      <td>0</td>\n",
       "      <td>0</td>\n",
       "      <td>0</td>\n",
       "      <td>0</td>\n",
       "      <td>0.0</td>\n",
       "    </tr>\n",
       "    <tr>\n",
       "      <th>280</th>\n",
       "      <td>CNC(=O)c1cc2c(cn1)[nH]c1ccccc12</td>\n",
       "      <td>0</td>\n",
       "      <td>31</td>\n",
       "      <td>2</td>\n",
       "      <td>1</td>\n",
       "      <td>11</td>\n",
       "      <td>4</td>\n",
       "      <td>2</td>\n",
       "      <td>1</td>\n",
       "      <td>2</td>\n",
       "      <td>...</td>\n",
       "      <td>0</td>\n",
       "      <td>0</td>\n",
       "      <td>0</td>\n",
       "      <td>0</td>\n",
       "      <td>0</td>\n",
       "      <td>0</td>\n",
       "      <td>0</td>\n",
       "      <td>0</td>\n",
       "      <td>0</td>\n",
       "      <td>0.0</td>\n",
       "    </tr>\n",
       "    <tr>\n",
       "      <th>60</th>\n",
       "      <td>CN(C)C(=O)Oc1cc(OC(=O)N(C)C)cc(C(O)CNC(C)(C)C)c1</td>\n",
       "      <td>0</td>\n",
       "      <td>48</td>\n",
       "      <td>12</td>\n",
       "      <td>5</td>\n",
       "      <td>6</td>\n",
       "      <td>2</td>\n",
       "      <td>0</td>\n",
       "      <td>0</td>\n",
       "      <td>0</td>\n",
       "      <td>...</td>\n",
       "      <td>0</td>\n",
       "      <td>0</td>\n",
       "      <td>0</td>\n",
       "      <td>0</td>\n",
       "      <td>0</td>\n",
       "      <td>0</td>\n",
       "      <td>0</td>\n",
       "      <td>0</td>\n",
       "      <td>0</td>\n",
       "      <td>0.0</td>\n",
       "    </tr>\n",
       "  </tbody>\n",
       "</table>\n",
       "<p>5 rows × 49 columns</p>\n",
       "</div>"
      ],
      "text/plain": [
       "                                                 Smiles  train  len_smiles  \\\n",
       "279   CC[C@H](CO)Nc1nc(Nc2cccc(-c3ccccn3)c2)c2ncn(C(...      0          54   \n",
       "1189  CCC(=O)O[C@H]1[C@H](O[C@@H]2[C@@H](C)[C@H](O[C...      0         206   \n",
       "1517        COc1ccc(-c2c[nH]c3nccc(-c4ccsc4)c23)c(OC)c1      0          43   \n",
       "280                     CNC(=O)c1cc2c(cn1)[nH]c1ccccc12      0          31   \n",
       "60     CN(C)C(=O)Oc1cc(OC(=O)N(C)C)cc(C(O)CNC(C)(C)C)c1      0          48   \n",
       "\n",
       "       C   O   c  1  2   [  n  ...  8  e  A  K  M  g  i  L  9  Active  \n",
       "279    7   1  16  2  4   1  5  ...  0  0  0  0  0  0  0  0  0     1.0  \n",
       "1189  52  18   0  2  2  18  0  ...  0  0  0  0  0  0  0  0  0     0.0  \n",
       "1517   2   2  17  2  2   1  2  ...  0  0  0  0  0  0  0  0  0     0.0  \n",
       "280    2   1  11  4  2   1  2  ...  0  0  0  0  0  0  0  0  0     0.0  \n",
       "60    12   5   6  2  0   0  0  ...  0  0  0  0  0  0  0  0  0     0.0  \n",
       "\n",
       "[5 rows x 49 columns]"
      ]
     },
     "execution_count": 109,
     "metadata": {},
     "output_type": "execute_result"
    }
   ],
   "source": [
    "test_new_data.sample(5)"
   ]
  },
  {
   "cell_type": "code",
   "execution_count": 110,
   "id": "f0dbb6e9",
   "metadata": {},
   "outputs": [],
   "source": [
    "submission = test_new_data[['Smiles', 'Active']]"
   ]
  },
  {
   "cell_type": "code",
   "execution_count": 111,
   "id": "e228a40a",
   "metadata": {},
   "outputs": [
    {
     "data": {
      "text/html": [
       "<div>\n",
       "<style scoped>\n",
       "    .dataframe tbody tr th:only-of-type {\n",
       "        vertical-align: middle;\n",
       "    }\n",
       "\n",
       "    .dataframe tbody tr th {\n",
       "        vertical-align: top;\n",
       "    }\n",
       "\n",
       "    .dataframe thead th {\n",
       "        text-align: right;\n",
       "    }\n",
       "</style>\n",
       "<table border=\"1\" class=\"dataframe\">\n",
       "  <thead>\n",
       "    <tr style=\"text-align: right;\">\n",
       "      <th></th>\n",
       "      <th>Smiles</th>\n",
       "      <th>Active</th>\n",
       "    </tr>\n",
       "  </thead>\n",
       "  <tbody>\n",
       "    <tr>\n",
       "      <th>1504</th>\n",
       "      <td>Oc1ccc2[nH]c(-c3ccccc3)nc2c1CN1CCCCC1</td>\n",
       "      <td>0.0</td>\n",
       "    </tr>\n",
       "    <tr>\n",
       "      <th>1069</th>\n",
       "      <td>CCN(Cc1ccc(Cl)nc1)/C(=C/[N+](=O)[O-])NC</td>\n",
       "      <td>0.0</td>\n",
       "    </tr>\n",
       "    <tr>\n",
       "      <th>396</th>\n",
       "      <td>C[C@@H]1[C@H]2C3=CC[C@@H]4[C@@]5(C)CC[C@H](O)C...</td>\n",
       "      <td>0.0</td>\n",
       "    </tr>\n",
       "    <tr>\n",
       "      <th>41</th>\n",
       "      <td>COc1ccnc(C[S+]([O-])c2nc3cc(OC(F)F)ccc3[nH]2)c1OC</td>\n",
       "      <td>1.0</td>\n",
       "    </tr>\n",
       "  </tbody>\n",
       "</table>\n",
       "</div>"
      ],
      "text/plain": [
       "                                                 Smiles  Active\n",
       "1504              Oc1ccc2[nH]c(-c3ccccc3)nc2c1CN1CCCCC1     0.0\n",
       "1069            CCN(Cc1ccc(Cl)nc1)/C(=C/[N+](=O)[O-])NC     0.0\n",
       "396   C[C@@H]1[C@H]2C3=CC[C@@H]4[C@@]5(C)CC[C@H](O)C...     0.0\n",
       "41    COc1ccnc(C[S+]([O-])c2nc3cc(OC(F)F)ccc3[nH]2)c1OC     1.0"
      ]
     },
     "execution_count": 111,
     "metadata": {},
     "output_type": "execute_result"
    }
   ],
   "source": [
    "submission.sample(4)"
   ]
  },
  {
   "cell_type": "code",
   "execution_count": 112,
   "id": "e9ea1fbf",
   "metadata": {},
   "outputs": [
    {
     "name": "stderr",
     "output_type": "stream",
     "text": [
      "C:\\Users\\Rusla\\AppData\\Local\\Temp/ipykernel_4936/2085481574.py:1: SettingWithCopyWarning: \n",
      "A value is trying to be set on a copy of a slice from a DataFrame.\n",
      "Try using .loc[row_indexer,col_indexer] = value instead\n",
      "\n",
      "See the caveats in the documentation: https://pandas.pydata.org/pandas-docs/stable/user_guide/indexing.html#returning-a-view-versus-a-copy\n",
      "  submission['Active'] = submission['Active'].apply(lambda x: int(x))\n"
     ]
    }
   ],
   "source": [
    "submission['Active'] = submission['Active'].apply(lambda x: int(x))"
   ]
  },
  {
   "cell_type": "code",
   "execution_count": 113,
   "id": "22bb7e78",
   "metadata": {},
   "outputs": [],
   "source": [
    "submission.to_csv('submission.csv', index=False)"
   ]
  }
 ],
 "metadata": {
  "kernelspec": {
   "display_name": "Python 3 (ipykernel)",
   "language": "python",
   "name": "python3"
  },
  "language_info": {
   "codemirror_mode": {
    "name": "ipython",
    "version": 3
   },
   "file_extension": ".py",
   "mimetype": "text/x-python",
   "name": "python",
   "nbconvert_exporter": "python",
   "pygments_lexer": "ipython3",
   "version": "3.8.11"
  }
 },
 "nbformat": 4,
 "nbformat_minor": 5
}
