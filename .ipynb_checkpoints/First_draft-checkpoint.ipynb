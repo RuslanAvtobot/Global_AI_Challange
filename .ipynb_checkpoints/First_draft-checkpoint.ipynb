{
 "cells": [
  {
   "cell_type": "code",
   "execution_count": 420,
   "id": "7ea6b1dc",
   "metadata": {},
   "outputs": [],
   "source": [
    "import pandas as pd\n",
    "import numpy as np"
   ]
  },
  {
   "cell_type": "code",
   "execution_count": 421,
   "id": "a8eef7ee",
   "metadata": {},
   "outputs": [],
   "source": [
    "RANDOM_SEED = 13022022"
   ]
  },
  {
   "cell_type": "code",
   "execution_count": 422,
   "id": "f2c4e210",
   "metadata": {},
   "outputs": [],
   "source": [
    "test = pd.read_csv('Task/test.csv')\n",
    "test.drop(['Unnamed: 0'], axis = 1, inplace = True)"
   ]
  },
  {
   "cell_type": "code",
   "execution_count": 423,
   "id": "cf03cb8b",
   "metadata": {},
   "outputs": [
    {
     "name": "stdout",
     "output_type": "stream",
     "text": [
      "<class 'pandas.core.frame.DataFrame'>\n",
      "RangeIndex: 1614 entries, 0 to 1613\n",
      "Data columns (total 1 columns):\n",
      " #   Column  Non-Null Count  Dtype \n",
      "---  ------  --------------  ----- \n",
      " 0   Smiles  1614 non-null   object\n",
      "dtypes: object(1)\n",
      "memory usage: 12.7+ KB\n"
     ]
    }
   ],
   "source": [
    "test.info()"
   ]
  },
  {
   "cell_type": "code",
   "execution_count": 424,
   "id": "9ea40621",
   "metadata": {},
   "outputs": [
    {
     "data": {
      "text/html": [
       "<div>\n",
       "<style scoped>\n",
       "    .dataframe tbody tr th:only-of-type {\n",
       "        vertical-align: middle;\n",
       "    }\n",
       "\n",
       "    .dataframe tbody tr th {\n",
       "        vertical-align: top;\n",
       "    }\n",
       "\n",
       "    .dataframe thead th {\n",
       "        text-align: right;\n",
       "    }\n",
       "</style>\n",
       "<table border=\"1\" class=\"dataframe\">\n",
       "  <thead>\n",
       "    <tr style=\"text-align: right;\">\n",
       "      <th></th>\n",
       "      <th>Smiles</th>\n",
       "    </tr>\n",
       "  </thead>\n",
       "  <tbody>\n",
       "    <tr>\n",
       "      <th>89</th>\n",
       "      <td>O=C(NCCN1CCC(n2c(=O)[nH]c3ccccc32)CC1)c1cc2cc(...</td>\n",
       "    </tr>\n",
       "    <tr>\n",
       "      <th>481</th>\n",
       "      <td>C[C@]12CC[C@H]3[C@@H](C=CC4=CC(=O)CC[C@@]43C)[...</td>\n",
       "    </tr>\n",
       "    <tr>\n",
       "      <th>616</th>\n",
       "      <td>CO[C@@]1(NC(=O)C2SC(=C(C(N)=O)C(=O)O)S2)C(=O)N...</td>\n",
       "    </tr>\n",
       "  </tbody>\n",
       "</table>\n",
       "</div>"
      ],
      "text/plain": [
       "                                                Smiles\n",
       "89   O=C(NCCN1CCC(n2c(=O)[nH]c3ccccc32)CC1)c1cc2cc(...\n",
       "481  C[C@]12CC[C@H]3[C@@H](C=CC4=CC(=O)CC[C@@]43C)[...\n",
       "616  CO[C@@]1(NC(=O)C2SC(=C(C(N)=O)C(=O)O)S2)C(=O)N..."
      ]
     },
     "execution_count": 424,
     "metadata": {},
     "output_type": "execute_result"
    }
   ],
   "source": [
    "test.sample(3)"
   ]
  },
  {
   "cell_type": "code",
   "execution_count": 425,
   "id": "74c668b9",
   "metadata": {},
   "outputs": [],
   "source": [
    "train = pd.read_csv('Task/train.csv')\n",
    "train.drop(['Unnamed: 0'], axis = 1, inplace = True)"
   ]
  },
  {
   "cell_type": "code",
   "execution_count": 426,
   "id": "ac798eed",
   "metadata": {},
   "outputs": [
    {
     "name": "stdout",
     "output_type": "stream",
     "text": [
      "<class 'pandas.core.frame.DataFrame'>\n",
      "RangeIndex: 5557 entries, 0 to 5556\n",
      "Data columns (total 2 columns):\n",
      " #   Column  Non-Null Count  Dtype \n",
      "---  ------  --------------  ----- \n",
      " 0   Smiles  5557 non-null   object\n",
      " 1   Active  5557 non-null   bool  \n",
      "dtypes: bool(1), object(1)\n",
      "memory usage: 49.0+ KB\n"
     ]
    }
   ],
   "source": [
    "train.info()"
   ]
  },
  {
   "cell_type": "code",
   "execution_count": 427,
   "id": "8572c95c",
   "metadata": {
    "scrolled": true
   },
   "outputs": [
    {
     "data": {
      "text/html": [
       "<div>\n",
       "<style scoped>\n",
       "    .dataframe tbody tr th:only-of-type {\n",
       "        vertical-align: middle;\n",
       "    }\n",
       "\n",
       "    .dataframe tbody tr th {\n",
       "        vertical-align: top;\n",
       "    }\n",
       "\n",
       "    .dataframe thead th {\n",
       "        text-align: right;\n",
       "    }\n",
       "</style>\n",
       "<table border=\"1\" class=\"dataframe\">\n",
       "  <thead>\n",
       "    <tr style=\"text-align: right;\">\n",
       "      <th></th>\n",
       "      <th>Smiles</th>\n",
       "      <th>Active</th>\n",
       "    </tr>\n",
       "  </thead>\n",
       "  <tbody>\n",
       "    <tr>\n",
       "      <th>4497</th>\n",
       "      <td>Clc1ccc2c(NCCNc3ccnc4cc(Cl)ccc34)ccnc2c1</td>\n",
       "      <td>False</td>\n",
       "    </tr>\n",
       "    <tr>\n",
       "      <th>1577</th>\n",
       "      <td>Cn1c(=O)c2c(ncn2CCO)n(C)c1=O</td>\n",
       "      <td>False</td>\n",
       "    </tr>\n",
       "    <tr>\n",
       "      <th>1964</th>\n",
       "      <td>CC(C)(C(=O)O)c1ccc(C(=O)CCCN2CCC(OC(c3ccccc3)c...</td>\n",
       "      <td>False</td>\n",
       "    </tr>\n",
       "  </tbody>\n",
       "</table>\n",
       "</div>"
      ],
      "text/plain": [
       "                                                 Smiles  Active\n",
       "4497           Clc1ccc2c(NCCNc3ccnc4cc(Cl)ccc34)ccnc2c1   False\n",
       "1577                       Cn1c(=O)c2c(ncn2CCO)n(C)c1=O   False\n",
       "1964  CC(C)(C(=O)O)c1ccc(C(=O)CCCN2CCC(OC(c3ccccc3)c...   False"
      ]
     },
     "execution_count": 427,
     "metadata": {},
     "output_type": "execute_result"
    }
   ],
   "source": [
    "train.sample(3)"
   ]
  },
  {
   "cell_type": "code",
   "execution_count": 428,
   "id": "ead5500f",
   "metadata": {},
   "outputs": [
    {
     "data": {
      "text/plain": [
       "[False, True]"
      ]
     },
     "execution_count": 428,
     "metadata": {},
     "output_type": "execute_result"
    }
   ],
   "source": [
    "list(train['Active'].unique())"
   ]
  },
  {
   "cell_type": "code",
   "execution_count": 429,
   "id": "3491251b",
   "metadata": {},
   "outputs": [],
   "source": [
    "list_active = {False: 0, True: 1}"
   ]
  },
  {
   "cell_type": "code",
   "execution_count": 430,
   "id": "dadd7a65",
   "metadata": {},
   "outputs": [],
   "source": [
    "train['Active'] = train['Active'].map(list_active)"
   ]
  },
  {
   "cell_type": "code",
   "execution_count": 431,
   "id": "1167926a",
   "metadata": {},
   "outputs": [
    {
     "data": {
      "text/html": [
       "<div>\n",
       "<style scoped>\n",
       "    .dataframe tbody tr th:only-of-type {\n",
       "        vertical-align: middle;\n",
       "    }\n",
       "\n",
       "    .dataframe tbody tr th {\n",
       "        vertical-align: top;\n",
       "    }\n",
       "\n",
       "    .dataframe thead th {\n",
       "        text-align: right;\n",
       "    }\n",
       "</style>\n",
       "<table border=\"1\" class=\"dataframe\">\n",
       "  <thead>\n",
       "    <tr style=\"text-align: right;\">\n",
       "      <th></th>\n",
       "      <th>Smiles</th>\n",
       "      <th>Active</th>\n",
       "    </tr>\n",
       "  </thead>\n",
       "  <tbody>\n",
       "    <tr>\n",
       "      <th>5174</th>\n",
       "      <td>CN(C)c1ccc2c(c1)Sc1cc(N(C)C)ccc1N2.CS(=O)(=O)O...</td>\n",
       "      <td>0</td>\n",
       "    </tr>\n",
       "  </tbody>\n",
       "</table>\n",
       "</div>"
      ],
      "text/plain": [
       "                                                 Smiles  Active\n",
       "5174  CN(C)c1ccc2c(c1)Sc1cc(N(C)C)ccc1N2.CS(=O)(=O)O...       0"
      ]
     },
     "execution_count": 431,
     "metadata": {},
     "output_type": "execute_result"
    }
   ],
   "source": [
    "train.sample()"
   ]
  },
  {
   "cell_type": "code",
   "execution_count": 432,
   "id": "28d5cece",
   "metadata": {},
   "outputs": [],
   "source": [
    "train['train'] = 1\n",
    "test['train'] = 0"
   ]
  },
  {
   "cell_type": "code",
   "execution_count": 433,
   "id": "2d933d18",
   "metadata": {},
   "outputs": [],
   "source": [
    "df = pd.concat([train, test], ignore_index=True)"
   ]
  },
  {
   "cell_type": "code",
   "execution_count": 434,
   "id": "913866ad",
   "metadata": {},
   "outputs": [
    {
     "name": "stdout",
     "output_type": "stream",
     "text": [
      "<class 'pandas.core.frame.DataFrame'>\n",
      "RangeIndex: 7171 entries, 0 to 7170\n",
      "Data columns (total 3 columns):\n",
      " #   Column  Non-Null Count  Dtype  \n",
      "---  ------  --------------  -----  \n",
      " 0   Smiles  7171 non-null   object \n",
      " 1   Active  5557 non-null   float64\n",
      " 2   train   7171 non-null   int64  \n",
      "dtypes: float64(1), int64(1), object(1)\n",
      "memory usage: 168.2+ KB\n"
     ]
    }
   ],
   "source": [
    "df.info()"
   ]
  },
  {
   "cell_type": "code",
   "execution_count": 435,
   "id": "af577982",
   "metadata": {},
   "outputs": [
    {
     "data": {
      "text/plain": [
       "array([1, 0], dtype=int64)"
      ]
     },
     "execution_count": 435,
     "metadata": {},
     "output_type": "execute_result"
    }
   ],
   "source": [
    "df['train'].unique()"
   ]
  },
  {
   "cell_type": "code",
   "execution_count": 436,
   "id": "5d9289e6",
   "metadata": {},
   "outputs": [
    {
     "data": {
      "text/plain": [
       "0.00    5351\n",
       "1.00     206\n",
       "Name: Active, dtype: int64"
      ]
     },
     "execution_count": 436,
     "metadata": {},
     "output_type": "execute_result"
    }
   ],
   "source": [
    "df[df['train'] == 1]['Active'].value_counts()"
   ]
  },
  {
   "cell_type": "code",
   "execution_count": 437,
   "id": "34837a92",
   "metadata": {},
   "outputs": [],
   "source": [
    "from collections import Counter\n",
    "\n",
    "atoms = Counter()\n",
    "for i in df['Smiles'].unique():\n",
    "    for j in i:\n",
    "        atoms[j] += 1"
   ]
  },
  {
   "cell_type": "code",
   "execution_count": 438,
   "id": "2f46e1da",
   "metadata": {},
   "outputs": [
    {
     "data": {
      "text/plain": [
       "67272"
      ]
     },
     "execution_count": 438,
     "metadata": {},
     "output_type": "execute_result"
    }
   ],
   "source": [
    "atoms['C']"
   ]
  },
  {
   "cell_type": "code",
   "execution_count": 439,
   "id": "abaa9e4a",
   "metadata": {},
   "outputs": [],
   "source": [
    "new_columnes = list(atoms.keys())"
   ]
  },
  {
   "cell_type": "code",
   "execution_count": 440,
   "id": "f7f4a75f",
   "metadata": {},
   "outputs": [
    {
     "name": "stdout",
     "output_type": "stream",
     "text": [
      "['C', 'O', 'c', '1', '2', '[', 'n', 'H', ']', '(', 'N', ')', '@', '.', 'l', '=', 'S', '3', '4', 'F', '-', 's', '/', '5', 'o', 'a', '+', '#', 'I', 'P', 'B', 'r', '\\\\', 'Z', '6', '7', '8', 'e', 'A', 'K', 'M', 'g', 'i', 'L', '9']\n"
     ]
    }
   ],
   "source": [
    "print(new_columnes)"
   ]
  },
  {
   "cell_type": "code",
   "execution_count": 441,
   "id": "c590d4c4",
   "metadata": {},
   "outputs": [],
   "source": [
    "df['len_smiles'] = df['Smiles'].apply(lambda x: len(x))"
   ]
  },
  {
   "cell_type": "code",
   "execution_count": 442,
   "id": "a636dde9",
   "metadata": {},
   "outputs": [
    {
     "data": {
      "text/plain": [
       "707"
      ]
     },
     "execution_count": 442,
     "metadata": {},
     "output_type": "execute_result"
    }
   ],
   "source": [
    "df['len_smiles'].max()"
   ]
  },
  {
   "cell_type": "code",
   "execution_count": 443,
   "id": "e774278c",
   "metadata": {},
   "outputs": [
    {
     "data": {
      "text/plain": [
       "count   7171.00\n",
       "mean      51.12\n",
       "std       31.88\n",
       "min        6.00\n",
       "25%       34.00\n",
       "50%       46.00\n",
       "75%       60.00\n",
       "max      707.00\n",
       "Name: len_smiles, dtype: float64"
      ]
     },
     "execution_count": 443,
     "metadata": {},
     "output_type": "execute_result"
    }
   ],
   "source": [
    "df['len_smiles'].describe()"
   ]
  },
  {
   "cell_type": "code",
   "execution_count": 444,
   "id": "ef27885a",
   "metadata": {},
   "outputs": [
    {
     "data": {
      "text/plain": [
       "1732"
      ]
     },
     "execution_count": 444,
     "metadata": {},
     "output_type": "execute_result"
    }
   ],
   "source": [
    "df[df['len_smiles'] > 60]['Smiles'].count()"
   ]
  },
  {
   "cell_type": "code",
   "execution_count": 445,
   "id": "81534fd1",
   "metadata": {},
   "outputs": [],
   "source": [
    "df['smiles_list'] = df['Smiles'].apply(lambda x: list(x))"
   ]
  },
  {
   "cell_type": "code",
   "execution_count": 446,
   "id": "40f20050",
   "metadata": {},
   "outputs": [],
   "source": [
    "df['smiles_list'] = df['smiles_list'].apply(lambda x: count_i(x))"
   ]
  },
  {
   "cell_type": "code",
   "execution_count": 447,
   "id": "d3fd367b",
   "metadata": {},
   "outputs": [],
   "source": [
    "for i in new_columnes:\n",
    "    df[i] = df['smiles_list'].apply(lambda x: x[i])"
   ]
  },
  {
   "cell_type": "code",
   "execution_count": 448,
   "id": "800a64f6",
   "metadata": {},
   "outputs": [],
   "source": [
    "def count_i(x):\n",
    "    atoms = Counter()\n",
    "    for i in x:\n",
    "        atoms[i] += 1\n",
    "    return atoms"
   ]
  },
  {
   "cell_type": "code",
   "execution_count": 449,
   "id": "8a599987",
   "metadata": {},
   "outputs": [
    {
     "data": {
      "text/html": [
       "<div>\n",
       "<style scoped>\n",
       "    .dataframe tbody tr th:only-of-type {\n",
       "        vertical-align: middle;\n",
       "    }\n",
       "\n",
       "    .dataframe tbody tr th {\n",
       "        vertical-align: top;\n",
       "    }\n",
       "\n",
       "    .dataframe thead th {\n",
       "        text-align: right;\n",
       "    }\n",
       "</style>\n",
       "<table border=\"1\" class=\"dataframe\">\n",
       "  <thead>\n",
       "    <tr style=\"text-align: right;\">\n",
       "      <th></th>\n",
       "      <th>Smiles</th>\n",
       "      <th>Active</th>\n",
       "      <th>train</th>\n",
       "      <th>len_smiles</th>\n",
       "      <th>smiles_list</th>\n",
       "      <th>C</th>\n",
       "      <th>O</th>\n",
       "      <th>c</th>\n",
       "      <th>1</th>\n",
       "      <th>2</th>\n",
       "      <th>...</th>\n",
       "      <th>7</th>\n",
       "      <th>8</th>\n",
       "      <th>e</th>\n",
       "      <th>A</th>\n",
       "      <th>K</th>\n",
       "      <th>M</th>\n",
       "      <th>g</th>\n",
       "      <th>i</th>\n",
       "      <th>L</th>\n",
       "      <th>9</th>\n",
       "    </tr>\n",
       "  </thead>\n",
       "  <tbody>\n",
       "    <tr>\n",
       "      <th>2722</th>\n",
       "      <td>COc1cccc([C@@H](C)NCCCc2ccccc2Cl)c1.Cl</td>\n",
       "      <td>0.00</td>\n",
       "      <td>1</td>\n",
       "      <td>38</td>\n",
       "      <td>{'C': 8, 'O': 1, 'c': 12, '1': 2, '(': 2, '[':...</td>\n",
       "      <td>8</td>\n",
       "      <td>1</td>\n",
       "      <td>12</td>\n",
       "      <td>2</td>\n",
       "      <td>2</td>\n",
       "      <td>...</td>\n",
       "      <td>0</td>\n",
       "      <td>0</td>\n",
       "      <td>0</td>\n",
       "      <td>0</td>\n",
       "      <td>0</td>\n",
       "      <td>0</td>\n",
       "      <td>0</td>\n",
       "      <td>0</td>\n",
       "      <td>0</td>\n",
       "      <td>0</td>\n",
       "    </tr>\n",
       "    <tr>\n",
       "      <th>3041</th>\n",
       "      <td>CCN1C(C)(C)CC(Oc2ccc(C(=O)Nc3ccc(NC(=O)Nc4cc(C...</td>\n",
       "      <td>0.00</td>\n",
       "      <td>1</td>\n",
       "      <td>73</td>\n",
       "      <td>{'C': 17, 'N': 4, '1': 2, '(': 11, ')': 11, 'O...</td>\n",
       "      <td>17</td>\n",
       "      <td>3</td>\n",
       "      <td>14</td>\n",
       "      <td>2</td>\n",
       "      <td>2</td>\n",
       "      <td>...</td>\n",
       "      <td>0</td>\n",
       "      <td>0</td>\n",
       "      <td>0</td>\n",
       "      <td>0</td>\n",
       "      <td>0</td>\n",
       "      <td>0</td>\n",
       "      <td>0</td>\n",
       "      <td>0</td>\n",
       "      <td>0</td>\n",
       "      <td>0</td>\n",
       "    </tr>\n",
       "    <tr>\n",
       "      <th>5897</th>\n",
       "      <td>Oc1ccnc2cc(Cl)ccc12</td>\n",
       "      <td>nan</td>\n",
       "      <td>0</td>\n",
       "      <td>19</td>\n",
       "      <td>{'O': 1, 'c': 9, '1': 2, 'n': 1, '2': 2, '(': ...</td>\n",
       "      <td>1</td>\n",
       "      <td>1</td>\n",
       "      <td>9</td>\n",
       "      <td>2</td>\n",
       "      <td>2</td>\n",
       "      <td>...</td>\n",
       "      <td>0</td>\n",
       "      <td>0</td>\n",
       "      <td>0</td>\n",
       "      <td>0</td>\n",
       "      <td>0</td>\n",
       "      <td>0</td>\n",
       "      <td>0</td>\n",
       "      <td>0</td>\n",
       "      <td>0</td>\n",
       "      <td>0</td>\n",
       "    </tr>\n",
       "  </tbody>\n",
       "</table>\n",
       "<p>3 rows × 50 columns</p>\n",
       "</div>"
      ],
      "text/plain": [
       "                                                 Smiles  Active  train  \\\n",
       "2722             COc1cccc([C@@H](C)NCCCc2ccccc2Cl)c1.Cl    0.00      1   \n",
       "3041  CCN1C(C)(C)CC(Oc2ccc(C(=O)Nc3ccc(NC(=O)Nc4cc(C...    0.00      1   \n",
       "5897                                Oc1ccnc2cc(Cl)ccc12     nan      0   \n",
       "\n",
       "      len_smiles                                        smiles_list   C  O  \\\n",
       "2722          38  {'C': 8, 'O': 1, 'c': 12, '1': 2, '(': 2, '[':...   8  1   \n",
       "3041          73  {'C': 17, 'N': 4, '1': 2, '(': 11, ')': 11, 'O...  17  3   \n",
       "5897          19  {'O': 1, 'c': 9, '1': 2, 'n': 1, '2': 2, '(': ...   1  1   \n",
       "\n",
       "       c  1  2  ...  7  8  e  A  K  M  g  i  L  9  \n",
       "2722  12  2  2  ...  0  0  0  0  0  0  0  0  0  0  \n",
       "3041  14  2  2  ...  0  0  0  0  0  0  0  0  0  0  \n",
       "5897   9  2  2  ...  0  0  0  0  0  0  0  0  0  0  \n",
       "\n",
       "[3 rows x 50 columns]"
      ]
     },
     "execution_count": 449,
     "metadata": {},
     "output_type": "execute_result"
    }
   ],
   "source": [
    "df.sample(3)"
   ]
  },
  {
   "cell_type": "code",
   "execution_count": 450,
   "id": "7e4a8106",
   "metadata": {},
   "outputs": [
    {
     "data": {
      "text/html": [
       "<div>\n",
       "<style scoped>\n",
       "    .dataframe tbody tr th:only-of-type {\n",
       "        vertical-align: middle;\n",
       "    }\n",
       "\n",
       "    .dataframe tbody tr th {\n",
       "        vertical-align: top;\n",
       "    }\n",
       "\n",
       "    .dataframe thead th {\n",
       "        text-align: right;\n",
       "    }\n",
       "</style>\n",
       "<table border=\"1\" class=\"dataframe\">\n",
       "  <thead>\n",
       "    <tr style=\"text-align: right;\">\n",
       "      <th></th>\n",
       "      <th>Smiles</th>\n",
       "      <th>Active</th>\n",
       "      <th>train</th>\n",
       "      <th>len_smiles</th>\n",
       "      <th>smiles_list</th>\n",
       "      <th>C</th>\n",
       "      <th>O</th>\n",
       "      <th>c</th>\n",
       "      <th>1</th>\n",
       "      <th>2</th>\n",
       "      <th>...</th>\n",
       "      <th>7</th>\n",
       "      <th>8</th>\n",
       "      <th>e</th>\n",
       "      <th>A</th>\n",
       "      <th>K</th>\n",
       "      <th>M</th>\n",
       "      <th>g</th>\n",
       "      <th>i</th>\n",
       "      <th>L</th>\n",
       "      <th>9</th>\n",
       "    </tr>\n",
       "  </thead>\n",
       "  <tbody>\n",
       "    <tr>\n",
       "      <th>4264</th>\n",
       "      <td>CC1(C)CCC(CN2CCN(c3ccc(C(=O)NS(=O)(=O)c4ccc(NC...</td>\n",
       "      <td>0.00</td>\n",
       "      <td>1</td>\n",
       "      <td>118</td>\n",
       "      <td>{'C': 21, '1': 2, '(': 13, ')': 13, 'N': 5, '2...</td>\n",
       "      <td>21</td>\n",
       "      <td>7</td>\n",
       "      <td>25</td>\n",
       "      <td>2</td>\n",
       "      <td>4</td>\n",
       "      <td>...</td>\n",
       "      <td>0</td>\n",
       "      <td>0</td>\n",
       "      <td>0</td>\n",
       "      <td>0</td>\n",
       "      <td>0</td>\n",
       "      <td>0</td>\n",
       "      <td>0</td>\n",
       "      <td>0</td>\n",
       "      <td>0</td>\n",
       "      <td>0</td>\n",
       "    </tr>\n",
       "    <tr>\n",
       "      <th>6311</th>\n",
       "      <td>CN1CCN(CC(=O)N2c3ccccc3C(=O)Nc3cccnc32)CC1</td>\n",
       "      <td>nan</td>\n",
       "      <td>0</td>\n",
       "      <td>42</td>\n",
       "      <td>{'C': 8, 'N': 4, '1': 2, '(': 3, '=': 2, 'O': ...</td>\n",
       "      <td>8</td>\n",
       "      <td>2</td>\n",
       "      <td>11</td>\n",
       "      <td>2</td>\n",
       "      <td>2</td>\n",
       "      <td>...</td>\n",
       "      <td>0</td>\n",
       "      <td>0</td>\n",
       "      <td>0</td>\n",
       "      <td>0</td>\n",
       "      <td>0</td>\n",
       "      <td>0</td>\n",
       "      <td>0</td>\n",
       "      <td>0</td>\n",
       "      <td>0</td>\n",
       "      <td>0</td>\n",
       "    </tr>\n",
       "    <tr>\n",
       "      <th>914</th>\n",
       "      <td>Nc1nc(Nc2ccc3c(c2)CC[C@@H](N2CCCC2)CC3)nn1-c1c...</td>\n",
       "      <td>0.00</td>\n",
       "      <td>1</td>\n",
       "      <td>67</td>\n",
       "      <td>{'N': 3, 'c': 18, '1': 6, 'n': 5, '(': 4, '2':...</td>\n",
       "      <td>12</td>\n",
       "      <td>0</td>\n",
       "      <td>18</td>\n",
       "      <td>6</td>\n",
       "      <td>6</td>\n",
       "      <td>...</td>\n",
       "      <td>0</td>\n",
       "      <td>0</td>\n",
       "      <td>0</td>\n",
       "      <td>0</td>\n",
       "      <td>0</td>\n",
       "      <td>0</td>\n",
       "      <td>0</td>\n",
       "      <td>0</td>\n",
       "      <td>0</td>\n",
       "      <td>0</td>\n",
       "    </tr>\n",
       "  </tbody>\n",
       "</table>\n",
       "<p>3 rows × 50 columns</p>\n",
       "</div>"
      ],
      "text/plain": [
       "                                                 Smiles  Active  train  \\\n",
       "4264  CC1(C)CCC(CN2CCN(c3ccc(C(=O)NS(=O)(=O)c4ccc(NC...    0.00      1   \n",
       "6311         CN1CCN(CC(=O)N2c3ccccc3C(=O)Nc3cccnc32)CC1     nan      0   \n",
       "914   Nc1nc(Nc2ccc3c(c2)CC[C@@H](N2CCCC2)CC3)nn1-c1c...    0.00      1   \n",
       "\n",
       "      len_smiles                                        smiles_list   C  O  \\\n",
       "4264         118  {'C': 21, '1': 2, '(': 13, ')': 13, 'N': 5, '2...  21  7   \n",
       "6311          42  {'C': 8, 'N': 4, '1': 2, '(': 3, '=': 2, 'O': ...   8  2   \n",
       "914           67  {'N': 3, 'c': 18, '1': 6, 'n': 5, '(': 4, '2':...  12  0   \n",
       "\n",
       "       c  1  2  ...  7  8  e  A  K  M  g  i  L  9  \n",
       "4264  25  2  4  ...  0  0  0  0  0  0  0  0  0  0  \n",
       "6311  11  2  2  ...  0  0  0  0  0  0  0  0  0  0  \n",
       "914   18  6  6  ...  0  0  0  0  0  0  0  0  0  0  \n",
       "\n",
       "[3 rows x 50 columns]"
      ]
     },
     "execution_count": 450,
     "metadata": {},
     "output_type": "execute_result"
    }
   ],
   "source": [
    "df.sample(3)"
   ]
  },
  {
   "cell_type": "code",
   "execution_count": 451,
   "id": "bd2321a0",
   "metadata": {},
   "outputs": [],
   "source": [
    "df.drop(['smiles_list'], axis = 1, inplace = True)"
   ]
  },
  {
   "cell_type": "code",
   "execution_count": 452,
   "id": "c3e07d0a",
   "metadata": {},
   "outputs": [],
   "source": [
    "df.set_index(['Smiles'], inplace = True)"
   ]
  },
  {
   "cell_type": "code",
   "execution_count": 453,
   "id": "f173727b",
   "metadata": {},
   "outputs": [
    {
     "data": {
      "text/html": [
       "<div>\n",
       "<style scoped>\n",
       "    .dataframe tbody tr th:only-of-type {\n",
       "        vertical-align: middle;\n",
       "    }\n",
       "\n",
       "    .dataframe tbody tr th {\n",
       "        vertical-align: top;\n",
       "    }\n",
       "\n",
       "    .dataframe thead th {\n",
       "        text-align: right;\n",
       "    }\n",
       "</style>\n",
       "<table border=\"1\" class=\"dataframe\">\n",
       "  <thead>\n",
       "    <tr style=\"text-align: right;\">\n",
       "      <th></th>\n",
       "      <th>Active</th>\n",
       "      <th>train</th>\n",
       "      <th>len_smiles</th>\n",
       "      <th>C</th>\n",
       "      <th>O</th>\n",
       "      <th>c</th>\n",
       "      <th>1</th>\n",
       "      <th>2</th>\n",
       "      <th>[</th>\n",
       "      <th>n</th>\n",
       "      <th>...</th>\n",
       "      <th>7</th>\n",
       "      <th>8</th>\n",
       "      <th>e</th>\n",
       "      <th>A</th>\n",
       "      <th>K</th>\n",
       "      <th>M</th>\n",
       "      <th>g</th>\n",
       "      <th>i</th>\n",
       "      <th>L</th>\n",
       "      <th>9</th>\n",
       "    </tr>\n",
       "    <tr>\n",
       "      <th>Smiles</th>\n",
       "      <th></th>\n",
       "      <th></th>\n",
       "      <th></th>\n",
       "      <th></th>\n",
       "      <th></th>\n",
       "      <th></th>\n",
       "      <th></th>\n",
       "      <th></th>\n",
       "      <th></th>\n",
       "      <th></th>\n",
       "      <th></th>\n",
       "      <th></th>\n",
       "      <th></th>\n",
       "      <th></th>\n",
       "      <th></th>\n",
       "      <th></th>\n",
       "      <th></th>\n",
       "      <th></th>\n",
       "      <th></th>\n",
       "      <th></th>\n",
       "      <th></th>\n",
       "    </tr>\n",
       "  </thead>\n",
       "  <tbody>\n",
       "    <tr>\n",
       "      <th>Cc1ccc(-c2ncccn2)c(C(=O)N2C[C@H](COc3ccc(F)cn3)CC[C@H]2C)c1</th>\n",
       "      <td>nan</td>\n",
       "      <td>0</td>\n",
       "      <td>59</td>\n",
       "      <td>9</td>\n",
       "      <td>2</td>\n",
       "      <td>15</td>\n",
       "      <td>2</td>\n",
       "      <td>4</td>\n",
       "      <td>2</td>\n",
       "      <td>3</td>\n",
       "      <td>...</td>\n",
       "      <td>0</td>\n",
       "      <td>0</td>\n",
       "      <td>0</td>\n",
       "      <td>0</td>\n",
       "      <td>0</td>\n",
       "      <td>0</td>\n",
       "      <td>0</td>\n",
       "      <td>0</td>\n",
       "      <td>0</td>\n",
       "      <td>0</td>\n",
       "    </tr>\n",
       "    <tr>\n",
       "      <th>CC[C@@]1(O)C(=O)OCc2c1cc1n(c2=O)Cc2cc3c(CN(C)C)c(O)ccc3nc2-1.Cl</th>\n",
       "      <td>0.00</td>\n",
       "      <td>1</td>\n",
       "      <td>63</td>\n",
       "      <td>10</td>\n",
       "      <td>5</td>\n",
       "      <td>14</td>\n",
       "      <td>4</td>\n",
       "      <td>4</td>\n",
       "      <td>1</td>\n",
       "      <td>2</td>\n",
       "      <td>...</td>\n",
       "      <td>0</td>\n",
       "      <td>0</td>\n",
       "      <td>0</td>\n",
       "      <td>0</td>\n",
       "      <td>0</td>\n",
       "      <td>0</td>\n",
       "      <td>0</td>\n",
       "      <td>0</td>\n",
       "      <td>0</td>\n",
       "      <td>0</td>\n",
       "    </tr>\n",
       "    <tr>\n",
       "      <th>Cc1ccc2c(c1CCC(=O)O)CC[C@@H](NS(=O)(=O)c1ccc(Cl)cc1)C2</th>\n",
       "      <td>nan</td>\n",
       "      <td>0</td>\n",
       "      <td>54</td>\n",
       "      <td>9</td>\n",
       "      <td>4</td>\n",
       "      <td>12</td>\n",
       "      <td>4</td>\n",
       "      <td>2</td>\n",
       "      <td>1</td>\n",
       "      <td>0</td>\n",
       "      <td>...</td>\n",
       "      <td>0</td>\n",
       "      <td>0</td>\n",
       "      <td>0</td>\n",
       "      <td>0</td>\n",
       "      <td>0</td>\n",
       "      <td>0</td>\n",
       "      <td>0</td>\n",
       "      <td>0</td>\n",
       "      <td>0</td>\n",
       "      <td>0</td>\n",
       "    </tr>\n",
       "  </tbody>\n",
       "</table>\n",
       "<p>3 rows × 48 columns</p>\n",
       "</div>"
      ],
      "text/plain": [
       "                                                    Active  train  len_smiles  \\\n",
       "Smiles                                                                          \n",
       "Cc1ccc(-c2ncccn2)c(C(=O)N2C[C@H](COc3ccc(F)cn3)...     nan      0          59   \n",
       "CC[C@@]1(O)C(=O)OCc2c1cc1n(c2=O)Cc2cc3c(CN(C)C)...    0.00      1          63   \n",
       "Cc1ccc2c(c1CCC(=O)O)CC[C@@H](NS(=O)(=O)c1ccc(Cl...     nan      0          54   \n",
       "\n",
       "                                                     C  O   c  1  2  [  n  \\\n",
       "Smiles                                                                      \n",
       "Cc1ccc(-c2ncccn2)c(C(=O)N2C[C@H](COc3ccc(F)cn3)...   9  2  15  2  4  2  3   \n",
       "CC[C@@]1(O)C(=O)OCc2c1cc1n(c2=O)Cc2cc3c(CN(C)C)...  10  5  14  4  4  1  2   \n",
       "Cc1ccc2c(c1CCC(=O)O)CC[C@@H](NS(=O)(=O)c1ccc(Cl...   9  4  12  4  2  1  0   \n",
       "\n",
       "                                                    ...  7  8  e  A  K  M  g  \\\n",
       "Smiles                                              ...                        \n",
       "Cc1ccc(-c2ncccn2)c(C(=O)N2C[C@H](COc3ccc(F)cn3)...  ...  0  0  0  0  0  0  0   \n",
       "CC[C@@]1(O)C(=O)OCc2c1cc1n(c2=O)Cc2cc3c(CN(C)C)...  ...  0  0  0  0  0  0  0   \n",
       "Cc1ccc2c(c1CCC(=O)O)CC[C@@H](NS(=O)(=O)c1ccc(Cl...  ...  0  0  0  0  0  0  0   \n",
       "\n",
       "                                                    i  L  9  \n",
       "Smiles                                                       \n",
       "Cc1ccc(-c2ncccn2)c(C(=O)N2C[C@H](COc3ccc(F)cn3)...  0  0  0  \n",
       "CC[C@@]1(O)C(=O)OCc2c1cc1n(c2=O)Cc2cc3c(CN(C)C)...  0  0  0  \n",
       "Cc1ccc2c(c1CCC(=O)O)CC[C@@H](NS(=O)(=O)c1ccc(Cl...  0  0  0  \n",
       "\n",
       "[3 rows x 48 columns]"
      ]
     },
     "execution_count": 453,
     "metadata": {},
     "output_type": "execute_result"
    }
   ],
   "source": [
    "df.sample(3)"
   ]
  },
  {
   "cell_type": "code",
   "execution_count": 454,
   "id": "174b02e3",
   "metadata": {},
   "outputs": [],
   "source": [
    "train_new = df[df['train'] == 1]\n",
    "test_new = df[df['train'] == 0]"
   ]
  },
  {
   "cell_type": "code",
   "execution_count": 455,
   "id": "910f7b77",
   "metadata": {},
   "outputs": [
    {
     "name": "stdout",
     "output_type": "stream",
     "text": [
      "<class 'pandas.core.frame.DataFrame'>\n",
      "Index: 5557 entries, COc1ccc2[nH]cc(CCN)c2c1 to CCCCNc1ccc(C(=O)OCCN(C)C)cc1.Cl\n",
      "Data columns (total 48 columns):\n",
      " #   Column      Non-Null Count  Dtype  \n",
      "---  ------      --------------  -----  \n",
      " 0   Active      5557 non-null   float64\n",
      " 1   train       5557 non-null   int64  \n",
      " 2   len_smiles  5557 non-null   int64  \n",
      " 3   C           5557 non-null   int64  \n",
      " 4   O           5557 non-null   int64  \n",
      " 5   c           5557 non-null   int64  \n",
      " 6   1           5557 non-null   int64  \n",
      " 7   2           5557 non-null   int64  \n",
      " 8   [           5557 non-null   int64  \n",
      " 9   n           5557 non-null   int64  \n",
      " 10  H           5557 non-null   int64  \n",
      " 11  ]           5557 non-null   int64  \n",
      " 12  (           5557 non-null   int64  \n",
      " 13  N           5557 non-null   int64  \n",
      " 14  )           5557 non-null   int64  \n",
      " 15  @           5557 non-null   int64  \n",
      " 16  .           5557 non-null   int64  \n",
      " 17  l           5557 non-null   int64  \n",
      " 18  =           5557 non-null   int64  \n",
      " 19  S           5557 non-null   int64  \n",
      " 20  3           5557 non-null   int64  \n",
      " 21  4           5557 non-null   int64  \n",
      " 22  F           5557 non-null   int64  \n",
      " 23  -           5557 non-null   int64  \n",
      " 24  s           5557 non-null   int64  \n",
      " 25  /           5557 non-null   int64  \n",
      " 26  5           5557 non-null   int64  \n",
      " 27  o           5557 non-null   int64  \n",
      " 28  a           5557 non-null   int64  \n",
      " 29  +           5557 non-null   int64  \n",
      " 30  #           5557 non-null   int64  \n",
      " 31  I           5557 non-null   int64  \n",
      " 32  P           5557 non-null   int64  \n",
      " 33  B           5557 non-null   int64  \n",
      " 34  r           5557 non-null   int64  \n",
      " 35  \\           5557 non-null   int64  \n",
      " 36  Z           5557 non-null   int64  \n",
      " 37  6           5557 non-null   int64  \n",
      " 38  7           5557 non-null   int64  \n",
      " 39  8           5557 non-null   int64  \n",
      " 40  e           5557 non-null   int64  \n",
      " 41  A           5557 non-null   int64  \n",
      " 42  K           5557 non-null   int64  \n",
      " 43  M           5557 non-null   int64  \n",
      " 44  g           5557 non-null   int64  \n",
      " 45  i           5557 non-null   int64  \n",
      " 46  L           5557 non-null   int64  \n",
      " 47  9           5557 non-null   int64  \n",
      "dtypes: float64(1), int64(47)\n",
      "memory usage: 2.1+ MB\n"
     ]
    }
   ],
   "source": [
    "train_new.info()"
   ]
  },
  {
   "cell_type": "code",
   "execution_count": 456,
   "id": "3a080520",
   "metadata": {},
   "outputs": [],
   "source": [
    "X = train_new.drop(['Active', 'train', 'len_smiles'], axis = 1)\n",
    "y = train_new['Active']"
   ]
  },
  {
   "cell_type": "code",
   "execution_count": 457,
   "id": "287144e0",
   "metadata": {},
   "outputs": [],
   "source": [
    "from sklearn import model_selection, datasets, metrics, tree "
   ]
  },
  {
   "cell_type": "code",
   "execution_count": 458,
   "id": "f7664a15",
   "metadata": {},
   "outputs": [],
   "source": [
    "train_data, test_data, train_labels, test_labels = model_selection.train_test_split(X, y, \n",
    "                                                                                    test_size=0.30, random_state=42)"
   ]
  },
  {
   "cell_type": "code",
   "execution_count": 459,
   "id": "a6563bd0",
   "metadata": {},
   "outputs": [],
   "source": [
    "from sklearn.ensemble import BaggingClassifier, RandomForestClassifier"
   ]
  },
  {
   "cell_type": "code",
   "execution_count": 460,
   "id": "e24fe1a4",
   "metadata": {},
   "outputs": [
    {
     "data": {
      "text/plain": [
       "DecisionTreeClassifier()"
      ]
     },
     "execution_count": 460,
     "metadata": {},
     "output_type": "execute_result"
    }
   ],
   "source": [
    "clf = tree.DecisionTreeClassifier()\n",
    "clf.fit(train_data, train_labels)"
   ]
  },
  {
   "cell_type": "code",
   "execution_count": 461,
   "id": "bbcc603a",
   "metadata": {},
   "outputs": [
    {
     "data": {
      "text/plain": [
       "0.10144927536231885"
      ]
     },
     "execution_count": 461,
     "metadata": {},
     "output_type": "execute_result"
    }
   ],
   "source": [
    "predictions_clf = clf.predict(test_data)\n",
    "metrics.f1_score(test_labels, predictions_clf)"
   ]
  },
  {
   "cell_type": "code",
   "execution_count": 462,
   "id": "fe1bcc74",
   "metadata": {},
   "outputs": [],
   "source": [
    "bagging_trees = BaggingClassifier(clf, n_estimators = 150)\n",
    "bagging_trees.fit(train_data,train_labels)\n",
    "predictions_bg = bagging_trees.predict(test_data)"
   ]
  },
  {
   "cell_type": "code",
   "execution_count": 463,
   "id": "0da4893b",
   "metadata": {},
   "outputs": [
    {
     "data": {
      "text/plain": [
       "0.05128205128205128"
      ]
     },
     "execution_count": 463,
     "metadata": {},
     "output_type": "execute_result"
    }
   ],
   "source": [
    "metrics.f1_score(test_labels, predictions_bg)"
   ]
  },
  {
   "cell_type": "code",
   "execution_count": 464,
   "id": "02f2305d",
   "metadata": {},
   "outputs": [],
   "source": [
    "from lazypredict.Supervised import LazyClassifier"
   ]
  },
  {
   "cell_type": "code",
   "execution_count": 465,
   "id": "f2ada51c",
   "metadata": {},
   "outputs": [
    {
     "name": "stderr",
     "output_type": "stream",
     "text": [
      "100%|██████████████████████████████████████████████████████████████████████████████████| 29/29 [00:14<00:00,  2.01it/s]\n"
     ]
    }
   ],
   "source": [
    "clf_lc = LazyClassifier(verbose=0,ignore_warnings=True, custom_metric=None)\n",
    "models,predictions = clf_lc.fit(train_data, test_data, train_labels, test_labels)"
   ]
  },
  {
   "cell_type": "code",
   "execution_count": 466,
   "id": "94975a61",
   "metadata": {},
   "outputs": [
    {
     "name": "stdout",
     "output_type": "stream",
     "text": [
      "                               Accuracy  Balanced Accuracy  ROC AUC  F1 Score  \\\n",
      "Model                                                                           \n",
      "NearestCentroid                    0.76               0.54     0.54      0.83   \n",
      "ExtraTreeClassifier                0.93               0.53     0.53      0.93   \n",
      "DecisionTreeClassifier             0.93               0.53     0.53      0.93   \n",
      "LGBMClassifier                     0.96               0.53     0.53      0.94   \n",
      "LabelSpreading                     0.94               0.52     0.52      0.93   \n",
      "LabelPropagation                   0.94               0.52     0.52      0.93   \n",
      "BaggingClassifier                  0.95               0.52     0.52      0.94   \n",
      "ExtraTreesClassifier               0.96               0.51     0.51      0.94   \n",
      "SGDClassifier                      0.95               0.51     0.51      0.94   \n",
      "LinearDiscriminantAnalysis         0.95               0.51     0.51      0.94   \n",
      "Perceptron                         0.95               0.51     0.51      0.94   \n",
      "AdaBoostClassifier                 0.96               0.51     0.51      0.94   \n",
      "LogisticRegression                 0.96               0.51     0.51      0.94   \n",
      "RandomForestClassifier             0.96               0.51     0.51      0.94   \n",
      "BernoulliNB                        0.95               0.50     0.50      0.94   \n",
      "XGBClassifier                      0.95               0.50     0.50      0.94   \n",
      "KNeighborsClassifier               0.95               0.50     0.50      0.94   \n",
      "PassiveAggressiveClassifier        0.95               0.50     0.50      0.94   \n",
      "SVC                                0.96               0.50     0.50      0.94   \n",
      "CalibratedClassifierCV             0.96               0.50     0.50      0.94   \n",
      "RidgeClassifier                    0.96               0.50     0.50      0.94   \n",
      "RidgeClassifierCV                  0.96               0.50     0.50      0.94   \n",
      "LinearSVC                          0.96               0.50     0.50      0.94   \n",
      "DummyClassifier                    0.92               0.50     0.50      0.92   \n",
      "GaussianNB                         0.11               0.47     0.47      0.14   \n",
      "QuadraticDiscriminantAnalysis      0.26               0.46     0.46      0.38   \n",
      "\n",
      "                               Time Taken  \n",
      "Model                                      \n",
      "NearestCentroid                      0.06  \n",
      "ExtraTreeClassifier                  0.05  \n",
      "DecisionTreeClassifier               0.09  \n",
      "LGBMClassifier                       0.23  \n",
      "LabelSpreading                       2.12  \n",
      "LabelPropagation                     1.73  \n",
      "BaggingClassifier                    0.34  \n",
      "ExtraTreesClassifier                 0.71  \n",
      "SGDClassifier                        0.06  \n",
      "LinearDiscriminantAnalysis           0.08  \n",
      "Perceptron                           0.05  \n",
      "AdaBoostClassifier                   0.49  \n",
      "LogisticRegression                   0.17  \n",
      "RandomForestClassifier               0.77  \n",
      "BernoulliNB                          0.05  \n",
      "XGBClassifier                        0.85  \n",
      "KNeighborsClassifier                 0.94  \n",
      "PassiveAggressiveClassifier          0.05  \n",
      "SVC                                  0.60  \n",
      "CalibratedClassifierCV               3.63  \n",
      "RidgeClassifier                      0.05  \n",
      "RidgeClassifierCV                    0.07  \n",
      "LinearSVC                            1.03  \n",
      "DummyClassifier                      0.04  \n",
      "GaussianNB                           0.05  \n",
      "QuadraticDiscriminantAnalysis        0.06  \n"
     ]
    }
   ],
   "source": [
    "print(models)"
   ]
  },
  {
   "cell_type": "code",
   "execution_count": 467,
   "id": "33b4765d",
   "metadata": {},
   "outputs": [],
   "source": [
    "from sklearn.neighbors import NearestCentroid"
   ]
  },
  {
   "cell_type": "code",
   "execution_count": 468,
   "id": "f0ac0b6f",
   "metadata": {},
   "outputs": [],
   "source": [
    "NC_model = NearestCentroid()"
   ]
  },
  {
   "cell_type": "code",
   "execution_count": 469,
   "id": "bff3def7",
   "metadata": {},
   "outputs": [
    {
     "data": {
      "text/plain": [
       "0.09809809809809808"
      ]
     },
     "execution_count": 469,
     "metadata": {},
     "output_type": "execute_result"
    }
   ],
   "source": [
    "train_data, test_data, train_labels, test_labels\n",
    "NC_model.fit(train_data, train_labels)\n",
    "predictions_clf_tree = NC_model.predict(test_data)\n",
    "metrics.f1_score(test_labels, predictions_clf_tree)"
   ]
  },
  {
   "cell_type": "code",
   "execution_count": 470,
   "id": "4ab5358c",
   "metadata": {},
   "outputs": [],
   "source": [
    "test_new_data = test_new.drop(['Active', 'train', 'len_smiles'], axis = 1) "
   ]
  },
  {
   "cell_type": "code",
   "execution_count": 471,
   "id": "3c136c3a",
   "metadata": {},
   "outputs": [],
   "source": [
    "predictions = clf.predict(test_new_data)"
   ]
  },
  {
   "cell_type": "code",
   "execution_count": 472,
   "id": "b4227802",
   "metadata": {},
   "outputs": [],
   "source": [
    "test_new_data['Active'] = predictions"
   ]
  },
  {
   "cell_type": "code",
   "execution_count": 473,
   "id": "d4059e62",
   "metadata": {},
   "outputs": [
    {
     "data": {
      "text/html": [
       "<div>\n",
       "<style scoped>\n",
       "    .dataframe tbody tr th:only-of-type {\n",
       "        vertical-align: middle;\n",
       "    }\n",
       "\n",
       "    .dataframe tbody tr th {\n",
       "        vertical-align: top;\n",
       "    }\n",
       "\n",
       "    .dataframe thead th {\n",
       "        text-align: right;\n",
       "    }\n",
       "</style>\n",
       "<table border=\"1\" class=\"dataframe\">\n",
       "  <thead>\n",
       "    <tr style=\"text-align: right;\">\n",
       "      <th></th>\n",
       "      <th>C</th>\n",
       "      <th>O</th>\n",
       "      <th>c</th>\n",
       "      <th>1</th>\n",
       "      <th>2</th>\n",
       "      <th>[</th>\n",
       "      <th>n</th>\n",
       "      <th>H</th>\n",
       "      <th>]</th>\n",
       "      <th>(</th>\n",
       "      <th>...</th>\n",
       "      <th>8</th>\n",
       "      <th>e</th>\n",
       "      <th>A</th>\n",
       "      <th>K</th>\n",
       "      <th>M</th>\n",
       "      <th>g</th>\n",
       "      <th>i</th>\n",
       "      <th>L</th>\n",
       "      <th>9</th>\n",
       "      <th>Active</th>\n",
       "    </tr>\n",
       "    <tr>\n",
       "      <th>Smiles</th>\n",
       "      <th></th>\n",
       "      <th></th>\n",
       "      <th></th>\n",
       "      <th></th>\n",
       "      <th></th>\n",
       "      <th></th>\n",
       "      <th></th>\n",
       "      <th></th>\n",
       "      <th></th>\n",
       "      <th></th>\n",
       "      <th></th>\n",
       "      <th></th>\n",
       "      <th></th>\n",
       "      <th></th>\n",
       "      <th></th>\n",
       "      <th></th>\n",
       "      <th></th>\n",
       "      <th></th>\n",
       "      <th></th>\n",
       "      <th></th>\n",
       "      <th></th>\n",
       "    </tr>\n",
       "  </thead>\n",
       "  <tbody>\n",
       "    <tr>\n",
       "      <th>O=C(O)CSc1nnc(Br)n1-c1ccc(C2CC2)c2ccccc12</th>\n",
       "      <td>5</td>\n",
       "      <td>2</td>\n",
       "      <td>12</td>\n",
       "      <td>4</td>\n",
       "      <td>4</td>\n",
       "      <td>0</td>\n",
       "      <td>3</td>\n",
       "      <td>0</td>\n",
       "      <td>0</td>\n",
       "      <td>3</td>\n",
       "      <td>...</td>\n",
       "      <td>0</td>\n",
       "      <td>0</td>\n",
       "      <td>0</td>\n",
       "      <td>0</td>\n",
       "      <td>0</td>\n",
       "      <td>0</td>\n",
       "      <td>0</td>\n",
       "      <td>0</td>\n",
       "      <td>0</td>\n",
       "      <td>1.00</td>\n",
       "    </tr>\n",
       "    <tr>\n",
       "      <th>COc1ccc(C(=O)Nc2c(Cl)cncc2Cl)cc1OC1CCCC1</th>\n",
       "      <td>9</td>\n",
       "      <td>3</td>\n",
       "      <td>11</td>\n",
       "      <td>4</td>\n",
       "      <td>2</td>\n",
       "      <td>0</td>\n",
       "      <td>1</td>\n",
       "      <td>0</td>\n",
       "      <td>0</td>\n",
       "      <td>3</td>\n",
       "      <td>...</td>\n",
       "      <td>0</td>\n",
       "      <td>0</td>\n",
       "      <td>0</td>\n",
       "      <td>0</td>\n",
       "      <td>0</td>\n",
       "      <td>0</td>\n",
       "      <td>0</td>\n",
       "      <td>0</td>\n",
       "      <td>0</td>\n",
       "      <td>1.00</td>\n",
       "    </tr>\n",
       "    <tr>\n",
       "      <th>O=C(NCc1ccc(C(F)(F)F)cc1)Nc1cccc2cnccc12</th>\n",
       "      <td>3</td>\n",
       "      <td>1</td>\n",
       "      <td>15</td>\n",
       "      <td>4</td>\n",
       "      <td>2</td>\n",
       "      <td>0</td>\n",
       "      <td>1</td>\n",
       "      <td>0</td>\n",
       "      <td>0</td>\n",
       "      <td>4</td>\n",
       "      <td>...</td>\n",
       "      <td>0</td>\n",
       "      <td>0</td>\n",
       "      <td>0</td>\n",
       "      <td>0</td>\n",
       "      <td>0</td>\n",
       "      <td>0</td>\n",
       "      <td>0</td>\n",
       "      <td>0</td>\n",
       "      <td>0</td>\n",
       "      <td>1.00</td>\n",
       "    </tr>\n",
       "    <tr>\n",
       "      <th>C=CCN(C)CCCCCCOc1ccc(C(=O)c2ccc(Br)cc2)c(F)c1</th>\n",
       "      <td>11</td>\n",
       "      <td>2</td>\n",
       "      <td>12</td>\n",
       "      <td>2</td>\n",
       "      <td>2</td>\n",
       "      <td>0</td>\n",
       "      <td>0</td>\n",
       "      <td>0</td>\n",
       "      <td>0</td>\n",
       "      <td>5</td>\n",
       "      <td>...</td>\n",
       "      <td>0</td>\n",
       "      <td>0</td>\n",
       "      <td>0</td>\n",
       "      <td>0</td>\n",
       "      <td>0</td>\n",
       "      <td>0</td>\n",
       "      <td>0</td>\n",
       "      <td>0</td>\n",
       "      <td>0</td>\n",
       "      <td>0.00</td>\n",
       "    </tr>\n",
       "    <tr>\n",
       "      <th>c1cc(Cc2cnc[nH]2)ccn1</th>\n",
       "      <td>1</td>\n",
       "      <td>0</td>\n",
       "      <td>8</td>\n",
       "      <td>2</td>\n",
       "      <td>2</td>\n",
       "      <td>1</td>\n",
       "      <td>3</td>\n",
       "      <td>1</td>\n",
       "      <td>1</td>\n",
       "      <td>1</td>\n",
       "      <td>...</td>\n",
       "      <td>0</td>\n",
       "      <td>0</td>\n",
       "      <td>0</td>\n",
       "      <td>0</td>\n",
       "      <td>0</td>\n",
       "      <td>0</td>\n",
       "      <td>0</td>\n",
       "      <td>0</td>\n",
       "      <td>0</td>\n",
       "      <td>1.00</td>\n",
       "    </tr>\n",
       "  </tbody>\n",
       "</table>\n",
       "<p>5 rows × 46 columns</p>\n",
       "</div>"
      ],
      "text/plain": [
       "                                                C  O   c  1  2  [  n  H  ]  (  \\\n",
       "Smiles                                                                          \n",
       "O=C(O)CSc1nnc(Br)n1-c1ccc(C2CC2)c2ccccc12       5  2  12  4  4  0  3  0  0  3   \n",
       "COc1ccc(C(=O)Nc2c(Cl)cncc2Cl)cc1OC1CCCC1        9  3  11  4  2  0  1  0  0  3   \n",
       "O=C(NCc1ccc(C(F)(F)F)cc1)Nc1cccc2cnccc12        3  1  15  4  2  0  1  0  0  4   \n",
       "C=CCN(C)CCCCCCOc1ccc(C(=O)c2ccc(Br)cc2)c(F)c1  11  2  12  2  2  0  0  0  0  5   \n",
       "c1cc(Cc2cnc[nH]2)ccn1                           1  0   8  2  2  1  3  1  1  1   \n",
       "\n",
       "                                               ...  8  e  A  K  M  g  i  L  9  \\\n",
       "Smiles                                         ...                              \n",
       "O=C(O)CSc1nnc(Br)n1-c1ccc(C2CC2)c2ccccc12      ...  0  0  0  0  0  0  0  0  0   \n",
       "COc1ccc(C(=O)Nc2c(Cl)cncc2Cl)cc1OC1CCCC1       ...  0  0  0  0  0  0  0  0  0   \n",
       "O=C(NCc1ccc(C(F)(F)F)cc1)Nc1cccc2cnccc12       ...  0  0  0  0  0  0  0  0  0   \n",
       "C=CCN(C)CCCCCCOc1ccc(C(=O)c2ccc(Br)cc2)c(F)c1  ...  0  0  0  0  0  0  0  0  0   \n",
       "c1cc(Cc2cnc[nH]2)ccn1                          ...  0  0  0  0  0  0  0  0  0   \n",
       "\n",
       "                                               Active  \n",
       "Smiles                                                 \n",
       "O=C(O)CSc1nnc(Br)n1-c1ccc(C2CC2)c2ccccc12        1.00  \n",
       "COc1ccc(C(=O)Nc2c(Cl)cncc2Cl)cc1OC1CCCC1         1.00  \n",
       "O=C(NCc1ccc(C(F)(F)F)cc1)Nc1cccc2cnccc12         1.00  \n",
       "C=CCN(C)CCCCCCOc1ccc(C(=O)c2ccc(Br)cc2)c(F)c1    0.00  \n",
       "c1cc(Cc2cnc[nH]2)ccn1                            1.00  \n",
       "\n",
       "[5 rows x 46 columns]"
      ]
     },
     "execution_count": 473,
     "metadata": {},
     "output_type": "execute_result"
    }
   ],
   "source": [
    "test_new_data.sample(5)"
   ]
  },
  {
   "cell_type": "code",
   "execution_count": 474,
   "id": "4726510a",
   "metadata": {},
   "outputs": [],
   "source": [
    "test_new_data.reset_index(inplace = True)"
   ]
  },
  {
   "cell_type": "code",
   "execution_count": 475,
   "id": "0393c149",
   "metadata": {},
   "outputs": [
    {
     "data": {
      "text/html": [
       "<div>\n",
       "<style scoped>\n",
       "    .dataframe tbody tr th:only-of-type {\n",
       "        vertical-align: middle;\n",
       "    }\n",
       "\n",
       "    .dataframe tbody tr th {\n",
       "        vertical-align: top;\n",
       "    }\n",
       "\n",
       "    .dataframe thead th {\n",
       "        text-align: right;\n",
       "    }\n",
       "</style>\n",
       "<table border=\"1\" class=\"dataframe\">\n",
       "  <thead>\n",
       "    <tr style=\"text-align: right;\">\n",
       "      <th></th>\n",
       "      <th>Smiles</th>\n",
       "      <th>C</th>\n",
       "      <th>O</th>\n",
       "      <th>c</th>\n",
       "      <th>1</th>\n",
       "      <th>2</th>\n",
       "      <th>[</th>\n",
       "      <th>n</th>\n",
       "      <th>H</th>\n",
       "      <th>]</th>\n",
       "      <th>...</th>\n",
       "      <th>8</th>\n",
       "      <th>e</th>\n",
       "      <th>A</th>\n",
       "      <th>K</th>\n",
       "      <th>M</th>\n",
       "      <th>g</th>\n",
       "      <th>i</th>\n",
       "      <th>L</th>\n",
       "      <th>9</th>\n",
       "      <th>Active</th>\n",
       "    </tr>\n",
       "  </thead>\n",
       "  <tbody>\n",
       "    <tr>\n",
       "      <th>553</th>\n",
       "      <td>Cc1cc(O)cc2c1O[C@](C)(CCC[C@H](C)CCC[C@H](C)CC...</td>\n",
       "      <td>21</td>\n",
       "      <td>2</td>\n",
       "      <td>6</td>\n",
       "      <td>2</td>\n",
       "      <td>2</td>\n",
       "      <td>3</td>\n",
       "      <td>0</td>\n",
       "      <td>2</td>\n",
       "      <td>3</td>\n",
       "      <td>...</td>\n",
       "      <td>0</td>\n",
       "      <td>0</td>\n",
       "      <td>0</td>\n",
       "      <td>0</td>\n",
       "      <td>0</td>\n",
       "      <td>0</td>\n",
       "      <td>0</td>\n",
       "      <td>0</td>\n",
       "      <td>0</td>\n",
       "      <td>0.00</td>\n",
       "    </tr>\n",
       "    <tr>\n",
       "      <th>105</th>\n",
       "      <td>Clc1cccc(Nc2ncnc3ccccc23)c1</td>\n",
       "      <td>1</td>\n",
       "      <td>0</td>\n",
       "      <td>14</td>\n",
       "      <td>2</td>\n",
       "      <td>2</td>\n",
       "      <td>0</td>\n",
       "      <td>2</td>\n",
       "      <td>0</td>\n",
       "      <td>0</td>\n",
       "      <td>...</td>\n",
       "      <td>0</td>\n",
       "      <td>0</td>\n",
       "      <td>0</td>\n",
       "      <td>0</td>\n",
       "      <td>0</td>\n",
       "      <td>0</td>\n",
       "      <td>0</td>\n",
       "      <td>0</td>\n",
       "      <td>0</td>\n",
       "      <td>1.00</td>\n",
       "    </tr>\n",
       "    <tr>\n",
       "      <th>1313</th>\n",
       "      <td>CN(C)CCN1C(=O)c2cccc3cc(NC(N)=O)cc(c23)C1=O</td>\n",
       "      <td>7</td>\n",
       "      <td>3</td>\n",
       "      <td>10</td>\n",
       "      <td>2</td>\n",
       "      <td>2</td>\n",
       "      <td>0</td>\n",
       "      <td>0</td>\n",
       "      <td>0</td>\n",
       "      <td>0</td>\n",
       "      <td>...</td>\n",
       "      <td>0</td>\n",
       "      <td>0</td>\n",
       "      <td>0</td>\n",
       "      <td>0</td>\n",
       "      <td>0</td>\n",
       "      <td>0</td>\n",
       "      <td>0</td>\n",
       "      <td>0</td>\n",
       "      <td>0</td>\n",
       "      <td>1.00</td>\n",
       "    </tr>\n",
       "    <tr>\n",
       "      <th>828</th>\n",
       "      <td>COc1ccc(Nc2ncnc3ccc(OC)cc23)cc1</td>\n",
       "      <td>2</td>\n",
       "      <td>2</td>\n",
       "      <td>14</td>\n",
       "      <td>2</td>\n",
       "      <td>2</td>\n",
       "      <td>0</td>\n",
       "      <td>2</td>\n",
       "      <td>0</td>\n",
       "      <td>0</td>\n",
       "      <td>...</td>\n",
       "      <td>0</td>\n",
       "      <td>0</td>\n",
       "      <td>0</td>\n",
       "      <td>0</td>\n",
       "      <td>0</td>\n",
       "      <td>0</td>\n",
       "      <td>0</td>\n",
       "      <td>0</td>\n",
       "      <td>0</td>\n",
       "      <td>1.00</td>\n",
       "    </tr>\n",
       "    <tr>\n",
       "      <th>335</th>\n",
       "      <td>CN1N=C(N)c2cn([C@@H]3O[C@H](CO)[C@@H](O)[C@H]3...</td>\n",
       "      <td>7</td>\n",
       "      <td>4</td>\n",
       "      <td>6</td>\n",
       "      <td>2</td>\n",
       "      <td>2</td>\n",
       "      <td>4</td>\n",
       "      <td>3</td>\n",
       "      <td>4</td>\n",
       "      <td>4</td>\n",
       "      <td>...</td>\n",
       "      <td>0</td>\n",
       "      <td>0</td>\n",
       "      <td>0</td>\n",
       "      <td>0</td>\n",
       "      <td>0</td>\n",
       "      <td>0</td>\n",
       "      <td>0</td>\n",
       "      <td>0</td>\n",
       "      <td>0</td>\n",
       "      <td>0.00</td>\n",
       "    </tr>\n",
       "  </tbody>\n",
       "</table>\n",
       "<p>5 rows × 47 columns</p>\n",
       "</div>"
      ],
      "text/plain": [
       "                                                 Smiles   C  O   c  1  2  [  \\\n",
       "553   Cc1cc(O)cc2c1O[C@](C)(CCC[C@H](C)CCC[C@H](C)CC...  21  2   6  2  2  3   \n",
       "105                         Clc1cccc(Nc2ncnc3ccccc23)c1   1  0  14  2  2  0   \n",
       "1313        CN(C)CCN1C(=O)c2cccc3cc(NC(N)=O)cc(c23)C1=O   7  3  10  2  2  0   \n",
       "828                     COc1ccc(Nc2ncnc3ccc(OC)cc23)cc1   2  2  14  2  2  0   \n",
       "335   CN1N=C(N)c2cn([C@@H]3O[C@H](CO)[C@@H](O)[C@H]3...   7  4   6  2  2  4   \n",
       "\n",
       "      n  H  ]  ...  8  e  A  K  M  g  i  L  9  Active  \n",
       "553   0  2  3  ...  0  0  0  0  0  0  0  0  0    0.00  \n",
       "105   2  0  0  ...  0  0  0  0  0  0  0  0  0    1.00  \n",
       "1313  0  0  0  ...  0  0  0  0  0  0  0  0  0    1.00  \n",
       "828   2  0  0  ...  0  0  0  0  0  0  0  0  0    1.00  \n",
       "335   3  4  4  ...  0  0  0  0  0  0  0  0  0    0.00  \n",
       "\n",
       "[5 rows x 47 columns]"
      ]
     },
     "execution_count": 475,
     "metadata": {},
     "output_type": "execute_result"
    }
   ],
   "source": [
    "test_new_data.sample(5)"
   ]
  },
  {
   "cell_type": "code",
   "execution_count": 476,
   "id": "f0dbb6e9",
   "metadata": {},
   "outputs": [],
   "source": [
    "submission = test_new_data[['Smiles', 'Active']]"
   ]
  },
  {
   "cell_type": "code",
   "execution_count": 477,
   "id": "e228a40a",
   "metadata": {},
   "outputs": [
    {
     "data": {
      "text/html": [
       "<div>\n",
       "<style scoped>\n",
       "    .dataframe tbody tr th:only-of-type {\n",
       "        vertical-align: middle;\n",
       "    }\n",
       "\n",
       "    .dataframe tbody tr th {\n",
       "        vertical-align: top;\n",
       "    }\n",
       "\n",
       "    .dataframe thead th {\n",
       "        text-align: right;\n",
       "    }\n",
       "</style>\n",
       "<table border=\"1\" class=\"dataframe\">\n",
       "  <thead>\n",
       "    <tr style=\"text-align: right;\">\n",
       "      <th></th>\n",
       "      <th>Smiles</th>\n",
       "      <th>Active</th>\n",
       "    </tr>\n",
       "  </thead>\n",
       "  <tbody>\n",
       "    <tr>\n",
       "      <th>950</th>\n",
       "      <td>O=C(O)c1ccc[n+]([O-])c1</td>\n",
       "      <td>1.00</td>\n",
       "    </tr>\n",
       "    <tr>\n",
       "      <th>85</th>\n",
       "      <td>O=C(O)CNC(=O)C1C(=O)N(C2CCCCC2)C(=O)N(C2CCCCC2...</td>\n",
       "      <td>0.00</td>\n",
       "    </tr>\n",
       "    <tr>\n",
       "      <th>1217</th>\n",
       "      <td>CCC1(CC)C(=O)C=CNC1=O</td>\n",
       "      <td>0.00</td>\n",
       "    </tr>\n",
       "    <tr>\n",
       "      <th>1458</th>\n",
       "      <td>Cc1c(C)c2c(c(C)c1O)CC[C@@](C)(CCC[C@H](C)CCC[C...</td>\n",
       "      <td>0.00</td>\n",
       "    </tr>\n",
       "  </tbody>\n",
       "</table>\n",
       "</div>"
      ],
      "text/plain": [
       "                                                 Smiles  Active\n",
       "950                             O=C(O)c1ccc[n+]([O-])c1    1.00\n",
       "85    O=C(O)CNC(=O)C1C(=O)N(C2CCCCC2)C(=O)N(C2CCCCC2...    0.00\n",
       "1217                              CCC1(CC)C(=O)C=CNC1=O    0.00\n",
       "1458  Cc1c(C)c2c(c(C)c1O)CC[C@@](C)(CCC[C@H](C)CCC[C...    0.00"
      ]
     },
     "execution_count": 477,
     "metadata": {},
     "output_type": "execute_result"
    }
   ],
   "source": [
    "submission.sample(4)"
   ]
  },
  {
   "cell_type": "code",
   "execution_count": 478,
   "id": "e9ea1fbf",
   "metadata": {},
   "outputs": [],
   "source": [
    "submission['Active'] = submission['Active'].apply(lambda x: int(x))"
   ]
  },
  {
   "cell_type": "code",
   "execution_count": 479,
   "id": "22bb7e78",
   "metadata": {},
   "outputs": [],
   "source": [
    "submission.to_csv('submission.csv', index=False)"
   ]
  }
 ],
 "metadata": {
  "kernelspec": {
   "display_name": "Python 3 (ipykernel)",
   "language": "python",
   "name": "python3"
  },
  "language_info": {
   "codemirror_mode": {
    "name": "ipython",
    "version": 3
   },
   "file_extension": ".py",
   "mimetype": "text/x-python",
   "name": "python",
   "nbconvert_exporter": "python",
   "pygments_lexer": "ipython3",
   "version": "3.8.11"
  }
 },
 "nbformat": 4,
 "nbformat_minor": 5
}
