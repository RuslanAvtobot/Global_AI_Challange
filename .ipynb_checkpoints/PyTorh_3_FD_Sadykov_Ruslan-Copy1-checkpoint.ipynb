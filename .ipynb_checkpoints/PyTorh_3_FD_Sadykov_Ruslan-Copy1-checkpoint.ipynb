{
 "cells": [
  {
   "cell_type": "code",
   "execution_count": 322,
   "id": "7ea6b1dc",
   "metadata": {},
   "outputs": [],
   "source": [
    "import pandas as pd\n",
    "import numpy as np\n",
    "import math\n",
    "\n",
    "from tqdm import tqdm\n",
    "import time\n",
    "\n",
    "import matplotlib.pyplot as plt\n",
    "\n",
    "import torch\n",
    "import torch.nn as nn\n",
    "from torch.autograd import Variable\n",
    "\n",
    "import torchvision\n",
    "import torchvision.transforms as transforms\n",
    "from torch.utils.data import Dataset, DataLoader\n",
    "from sklearn.metrics import confusion_matrix"
   ]
  },
  {
   "cell_type": "code",
   "execution_count": 323,
   "id": "a8eef7ee",
   "metadata": {},
   "outputs": [],
   "source": [
    "RANDOM_SEED = 13022022"
   ]
  },
  {
   "cell_type": "code",
   "execution_count": 324,
   "id": "d878b67f",
   "metadata": {},
   "outputs": [],
   "source": [
    "new_df = pd.read_csv('new_df.csv')"
   ]
  },
  {
   "cell_type": "code",
   "execution_count": 325,
   "id": "d6e989fc",
   "metadata": {},
   "outputs": [
    {
     "data": {
      "text/html": [
       "<div>\n",
       "<style scoped>\n",
       "    .dataframe tbody tr th:only-of-type {\n",
       "        vertical-align: middle;\n",
       "    }\n",
       "\n",
       "    .dataframe tbody tr th {\n",
       "        vertical-align: top;\n",
       "    }\n",
       "\n",
       "    .dataframe thead th {\n",
       "        text-align: right;\n",
       "    }\n",
       "</style>\n",
       "<table border=\"1\" class=\"dataframe\">\n",
       "  <thead>\n",
       "    <tr style=\"text-align: right;\">\n",
       "      <th></th>\n",
       "      <th>Active</th>\n",
       "      <th>train</th>\n",
       "      <th>len</th>\n",
       "      <th>4</th>\n",
       "      <th>5</th>\n",
       "      <th>6</th>\n",
       "      <th>7</th>\n",
       "      <th>8</th>\n",
       "      <th>9</th>\n",
       "      <th>10</th>\n",
       "      <th>...</th>\n",
       "      <th>701</th>\n",
       "      <th>702</th>\n",
       "      <th>703</th>\n",
       "      <th>704</th>\n",
       "      <th>705</th>\n",
       "      <th>706</th>\n",
       "      <th>707</th>\n",
       "      <th>708</th>\n",
       "      <th>709</th>\n",
       "      <th>710</th>\n",
       "    </tr>\n",
       "  </thead>\n",
       "  <tbody>\n",
       "    <tr>\n",
       "      <th>1840</th>\n",
       "      <td>0</td>\n",
       "      <td>1</td>\n",
       "      <td>40</td>\n",
       "      <td>45</td>\n",
       "      <td>45</td>\n",
       "      <td>35</td>\n",
       "      <td>42</td>\n",
       "      <td>45</td>\n",
       "      <td>45</td>\n",
       "      <td>45</td>\n",
       "      <td>...</td>\n",
       "      <td>0</td>\n",
       "      <td>0</td>\n",
       "      <td>0</td>\n",
       "      <td>0</td>\n",
       "      <td>0</td>\n",
       "      <td>0</td>\n",
       "      <td>0</td>\n",
       "      <td>0</td>\n",
       "      <td>0</td>\n",
       "      <td>0</td>\n",
       "    </tr>\n",
       "  </tbody>\n",
       "</table>\n",
       "<p>1 rows × 710 columns</p>\n",
       "</div>"
      ],
      "text/plain": [
       "      Active  train  len   4   5   6   7   8   9  10  ...  701  702  703  704  \\\n",
       "1840       0      1   40  45  45  35  42  45  45  45  ...    0    0    0    0   \n",
       "\n",
       "      705  706  707  708  709  710  \n",
       "1840    0    0    0    0    0    0  \n",
       "\n",
       "[1 rows x 710 columns]"
      ]
     },
     "execution_count": 325,
     "metadata": {},
     "output_type": "execute_result"
    }
   ],
   "source": [
    "new_df.sample()"
   ]
  },
  {
   "cell_type": "code",
   "execution_count": 326,
   "id": "174b02e3",
   "metadata": {},
   "outputs": [],
   "source": [
    "train_new = new_df[new_df['train'] == 1]\n",
    "test_new =new_df[new_df['train'] == 0]"
   ]
  },
  {
   "cell_type": "code",
   "execution_count": 327,
   "id": "3a080520",
   "metadata": {},
   "outputs": [],
   "source": [
    "X = train_new.drop(['Active', 'train'], axis = 1)\n",
    "y = train_new['Active']"
   ]
  },
  {
   "cell_type": "code",
   "execution_count": 328,
   "id": "4a76874f",
   "metadata": {},
   "outputs": [],
   "source": [
    "X_test = test_new.drop(['Active', 'train'], axis = 1)"
   ]
  },
  {
   "cell_type": "code",
   "execution_count": 329,
   "id": "c4c859e0",
   "metadata": {},
   "outputs": [
    {
     "data": {
      "text/html": [
       "<div>\n",
       "<style scoped>\n",
       "    .dataframe tbody tr th:only-of-type {\n",
       "        vertical-align: middle;\n",
       "    }\n",
       "\n",
       "    .dataframe tbody tr th {\n",
       "        vertical-align: top;\n",
       "    }\n",
       "\n",
       "    .dataframe thead th {\n",
       "        text-align: right;\n",
       "    }\n",
       "</style>\n",
       "<table border=\"1\" class=\"dataframe\">\n",
       "  <thead>\n",
       "    <tr style=\"text-align: right;\">\n",
       "      <th></th>\n",
       "      <th>len</th>\n",
       "      <th>4</th>\n",
       "      <th>5</th>\n",
       "      <th>6</th>\n",
       "      <th>7</th>\n",
       "      <th>8</th>\n",
       "      <th>9</th>\n",
       "      <th>10</th>\n",
       "      <th>11</th>\n",
       "      <th>12</th>\n",
       "      <th>...</th>\n",
       "      <th>701</th>\n",
       "      <th>702</th>\n",
       "      <th>703</th>\n",
       "      <th>704</th>\n",
       "      <th>705</th>\n",
       "      <th>706</th>\n",
       "      <th>707</th>\n",
       "      <th>708</th>\n",
       "      <th>709</th>\n",
       "      <th>710</th>\n",
       "    </tr>\n",
       "  </thead>\n",
       "  <tbody>\n",
       "    <tr>\n",
       "      <th>2370</th>\n",
       "      <td>53</td>\n",
       "      <td>45</td>\n",
       "      <td>43</td>\n",
       "      <td>42</td>\n",
       "      <td>43</td>\n",
       "      <td>43</td>\n",
       "      <td>43</td>\n",
       "      <td>41</td>\n",
       "      <td>43</td>\n",
       "      <td>36</td>\n",
       "      <td>...</td>\n",
       "      <td>0</td>\n",
       "      <td>0</td>\n",
       "      <td>0</td>\n",
       "      <td>0</td>\n",
       "      <td>0</td>\n",
       "      <td>0</td>\n",
       "      <td>0</td>\n",
       "      <td>0</td>\n",
       "      <td>0</td>\n",
       "      <td>0</td>\n",
       "    </tr>\n",
       "  </tbody>\n",
       "</table>\n",
       "<p>1 rows × 708 columns</p>\n",
       "</div>"
      ],
      "text/plain": [
       "      len   4   5   6   7   8   9  10  11  12  ...  701  702  703  704  705  \\\n",
       "2370   53  45  43  42  43  43  43  41  43  36  ...    0    0    0    0    0   \n",
       "\n",
       "      706  707  708  709  710  \n",
       "2370    0    0    0    0    0  \n",
       "\n",
       "[1 rows x 708 columns]"
      ]
     },
     "execution_count": 329,
     "metadata": {},
     "output_type": "execute_result"
    }
   ],
   "source": [
    "X.sample()"
   ]
  },
  {
   "cell_type": "code",
   "execution_count": 330,
   "id": "11d5b040",
   "metadata": {},
   "outputs": [],
   "source": [
    "features = np.array(X)"
   ]
  },
  {
   "cell_type": "code",
   "execution_count": 331,
   "id": "d4ff9ffd",
   "metadata": {},
   "outputs": [],
   "source": [
    "test_features = np.array(X_test)"
   ]
  },
  {
   "cell_type": "code",
   "execution_count": 332,
   "id": "13a0a145",
   "metadata": {},
   "outputs": [
    {
     "data": {
      "text/plain": [
       "torch.Size([1614, 708])"
      ]
     },
     "execution_count": 332,
     "metadata": {},
     "output_type": "execute_result"
    }
   ],
   "source": [
    "x_test = torch.tensor(test_features)\n",
    "x_test = x_test.type(torch.FloatTensor)\n",
    "x_test.size()"
   ]
  },
  {
   "cell_type": "code",
   "execution_count": 333,
   "id": "25cb72ac",
   "metadata": {},
   "outputs": [
    {
     "data": {
      "text/plain": [
       "torch.Size([5557, 708])"
      ]
     },
     "execution_count": 333,
     "metadata": {},
     "output_type": "execute_result"
    }
   ],
   "source": [
    "x_train = torch.tensor(features)\n",
    "x_train = x_train.type(torch.FloatTensor)\n",
    "x_train.size()"
   ]
  },
  {
   "cell_type": "code",
   "execution_count": 334,
   "id": "2b3b7417",
   "metadata": {},
   "outputs": [
    {
     "data": {
      "text/plain": [
       "torch.Size([5557])"
      ]
     },
     "execution_count": 334,
     "metadata": {},
     "output_type": "execute_result"
    }
   ],
   "source": [
    "x_labels = torch.tensor(y)\n",
    "x_labels = x_labels.type(torch.FloatTensor)\n",
    "x_labels.size()"
   ]
  },
  {
   "cell_type": "code",
   "execution_count": 335,
   "id": "e9ef27df",
   "metadata": {},
   "outputs": [
    {
     "data": {
      "text/plain": [
       "array([[0, 0, 0, ..., 0, 0, 0]], dtype=int64)"
      ]
     },
     "execution_count": 335,
     "metadata": {},
     "output_type": "execute_result"
    }
   ],
   "source": [
    "train_labels"
   ]
  },
  {
   "cell_type": "code",
   "execution_count": 336,
   "id": "c77aac7e",
   "metadata": {},
   "outputs": [],
   "source": [
    "nX = 708\n",
    "nH1 = 500\n",
    "nH2 = 350\n",
    "nH3 = 150\n",
    "nH4 = 75\n",
    "nH5 = 30\n",
    "nH6 = 15\n",
    "nH7 = 7\n",
    "nY = 1\n",
    " \n",
    "class TwoLayersNet(nn.Module):\n",
    "    def __init__(self, nX, nH1, nH2, nH3, nH4, nH5, nH6, nH7, nY):        \n",
    "        super(TwoLayersNet, self).__init__()     # конструктор предка с этим именем\n",
    "         \n",
    "        self.fc1 = nn.Linear(nX, nH1)             # создаём параметры модели\n",
    "        self.fc2 = nn.Linear(nH1, nH2)             # создаём параметры модели\n",
    "        self.fc3 = nn.Linear(nH2, nH3)             # создаём параметры модели\n",
    "        self.fc4 = nn.Linear(nH3, nH4)             # создаём параметры модели\n",
    "        self.fc5 = nn.Linear(nH4, nH5)             # создаём параметры модели\n",
    "        self.fc6 = nn.Linear(nH5, nH6)             # создаём параметры модели\n",
    "        self.fc7 = nn.Linear(nH6, nH7)             # создаём параметры модели\n",
    "        self.fc8 = nn.Linear(nH7, nY)             # в полносвязных слоях\n",
    "          \n",
    "    def forward(self, x):                        # задаётся прямой проход\n",
    "        x = self.fc1(x)                          # выход первого слоя\n",
    "        x = nn.Sigmoid()(x)                      # пропускаем через Sigmoid\n",
    "        x = self.fc2(x)                          # выход второго слоя\n",
    "        x = nn.Sigmoid()(x)                      # пропускаем через сигмоид \n",
    "        x = self.fc3(x)                          # выход второго слоя\n",
    "        x = nn.Sigmoid()(x)                      # пропускаем через сигмоид \n",
    "        x = self.fc4(x)                          # выход второго слоя\n",
    "        x = nn.Sigmoid()(x)                      # пропускаем через сигмоид \n",
    "        x = self.fc5(x)                          # выход второго слоя\n",
    "        x = nn.Sigmoid()(x)                      # пропускаем через сигмоид \n",
    "        x = self.fc6(x)                          # выход второго слоя\n",
    "        x = nn.Sigmoid()(x)                      # пропускаем через сигмоид \n",
    "        x = self.fc7(x)                          # выход второго слоя\n",
    "        x = nn.Sigmoid()(x)                      # пропускаем через сигмоид \n",
    "        x = self.fc8(x)                          # выход второго слоя\n",
    "        x = nn.Sigmoid()(x)                      # пропускаем через сигмоид \n",
    "        return x\n",
    "          \n",
    "model = TwoLayersNet(nX, nH1, nH2, nH3, nH4, nH5, nH6, nH7, nY)"
   ]
  },
  {
   "cell_type": "code",
   "execution_count": 337,
   "id": "44709df5",
   "metadata": {},
   "outputs": [],
   "source": [
    "model = TwoLayersNet(nX, nH1, nH2, nH3, nH4, nH5, nH6, nH7, nY)                           # экземпляр сети        \n",
    " \n",
    "loss      = nn.BCELoss()\n",
    "optimizer = torch.optim.SGD(model.parameters(),          # параметры модели\n",
    "                            lr=0.5, momentum=0.8) "
   ]
  },
  {
   "cell_type": "code",
   "execution_count": 338,
   "id": "f8fdcff6",
   "metadata": {},
   "outputs": [],
   "source": [
    "def fit(model, x_train,x_labels, batch_size=100, train=True):    \n",
    "    model.train(train)                                 # важно для Dropout, BatchNorm\n",
    "    sumL, sumA, numB = 0, 0, int( len(x_train)/batch_size )  # ошибка, точность, батчей\n",
    "       \n",
    "    for i in range(0, numB*batch_size, batch_size):          \n",
    "        xb = x_train[i: i+batch_size]                          # текущий батч,\n",
    "        yb = x_labels[i: i+batch_size]                          # X,Y - torch тензоры\n",
    "              \n",
    "        y = model(xb)[:,0]                                    # прямое распространение\n",
    "\n",
    "        L = loss(y, yb)                                  # вычисляем ошибку\n",
    "  \n",
    "        if train:                                        # в режиме обучения\n",
    "            optimizer.zero_grad()                        # обнуляем градиенты        \n",
    "            L.backward()                                 # вычисляем градиенты            \n",
    "            optimizer.step()                             # подправляем параметры\n",
    "                                     \n",
    "        sumL += L.item()                                 # суммарная ошибка (item из графа)\n",
    "        sumA += (y.round() == yb).float().mean()         # точность определения класса\n",
    "         \n",
    "    return sumL/numB,  sumA/numB "
   ]
  },
  {
   "cell_type": "code",
   "execution_count": 339,
   "id": "a4d25697",
   "metadata": {
    "scrolled": true
   },
   "outputs": [
    {
     "name": "stderr",
     "output_type": "stream",
     "text": [
      "\r",
      "  0%|                                                                                         | 0/1000 [00:00<?, ?it/s]"
     ]
    },
    {
     "name": "stdout",
     "output_type": "stream",
     "text": [
      "before:      loss: 0.5462 accuracy: 0.9629\n"
     ]
    },
    {
     "name": "stderr",
     "output_type": "stream",
     "text": [
      "\r",
      "  0%|                                                                                 | 1/1000 [00:01<17:48,  1.07s/it]"
     ]
    },
    {
     "name": "stdout",
     "output_type": "stream",
     "text": [
      "epoch:     0 loss: 0.1745 accuracy: 0.9629\n"
     ]
    },
    {
     "name": "stderr",
     "output_type": "stream",
     "text": [
      " 50%|███████████████████████████████████████▌                                       | 501/1000 [08:56<08:25,  1.01s/it]"
     ]
    },
    {
     "name": "stdout",
     "output_type": "stream",
     "text": [
      "epoch:   500 loss: 0.1588 accuracy: 0.9629\n"
     ]
    },
    {
     "name": "stderr",
     "output_type": "stream",
     "text": [
      "100%|██████████████████████████████████████████████████████████████████████████████| 1000/1000 [17:28<00:00,  1.05s/it]"
     ]
    },
    {
     "name": "stdout",
     "output_type": "stream",
     "text": [
      "epoch:   999 loss: 0.1588 accuracy: 0.9629\n"
     ]
    },
    {
     "name": "stderr",
     "output_type": "stream",
     "text": [
      "\n"
     ]
    }
   ],
   "source": [
    "print( \"before:      loss: %.4f accuracy: %.4f\" %  fit(model, x_train,x_labels, train=False) )\n",
    " \n",
    "epochs = 1000                                            # число эпох\n",
    "for epoch in tqdm(range(epochs)):                              # эпоха - проход по всем примерам\n",
    "    L,A = fit(model, x_train, x_labels)                               # одна эпоха\n",
    "     \n",
    "    if epoch % 500 == 0 or epoch == epochs-1:                 \n",
    "        print(f'epoch: {epoch:5d} loss: {L:.4f} accuracy: {A:.4f}' ) "
   ]
  },
  {
   "cell_type": "code",
   "execution_count": 346,
   "id": "374cd621",
   "metadata": {},
   "outputs": [],
   "source": [
    "y_pred = model(x_test)"
   ]
  },
  {
   "cell_type": "code",
   "execution_count": 347,
   "id": "18dff706",
   "metadata": {},
   "outputs": [],
   "source": [
    "y_pred = y_pred[:,0]"
   ]
  },
  {
   "cell_type": "code",
   "execution_count": 348,
   "id": "a56e8f56",
   "metadata": {},
   "outputs": [
    {
     "data": {
      "text/plain": [
       "tensor([0.0409, 0.0409, 0.0409,  ..., 0.0409, 0.0409, 0.0409],\n",
       "       grad_fn=<SelectBackward0>)"
      ]
     },
     "execution_count": 348,
     "metadata": {},
     "output_type": "execute_result"
    }
   ],
   "source": [
    "y_pred"
   ]
  },
  {
   "cell_type": "code",
   "execution_count": 349,
   "id": "f25b6090",
   "metadata": {},
   "outputs": [],
   "source": [
    "test = pd.read_csv('Task/test.csv')\n",
    "test.drop(['Unnamed: 0'], axis = 1, inplace = True)"
   ]
  },
  {
   "cell_type": "code",
   "execution_count": 364,
   "id": "f1bcd819",
   "metadata": {},
   "outputs": [],
   "source": [
    "test['Active'] = y_pred.detach().numpy()"
   ]
  },
  {
   "cell_type": "code",
   "execution_count": 365,
   "id": "552372ec",
   "metadata": {},
   "outputs": [
    {
     "data": {
      "text/html": [
       "<div>\n",
       "<style scoped>\n",
       "    .dataframe tbody tr th:only-of-type {\n",
       "        vertical-align: middle;\n",
       "    }\n",
       "\n",
       "    .dataframe tbody tr th {\n",
       "        vertical-align: top;\n",
       "    }\n",
       "\n",
       "    .dataframe thead th {\n",
       "        text-align: right;\n",
       "    }\n",
       "</style>\n",
       "<table border=\"1\" class=\"dataframe\">\n",
       "  <thead>\n",
       "    <tr style=\"text-align: right;\">\n",
       "      <th></th>\n",
       "      <th>Smiles</th>\n",
       "      <th>Active</th>\n",
       "    </tr>\n",
       "  </thead>\n",
       "  <tbody>\n",
       "    <tr>\n",
       "      <th>716</th>\n",
       "      <td>Cl.Cl.N=C(NCCCCCCNC(=N)NC(=N)Nc1ccc(Cl)cc1)NC(...</td>\n",
       "      <td>0.040947</td>\n",
       "    </tr>\n",
       "  </tbody>\n",
       "</table>\n",
       "</div>"
      ],
      "text/plain": [
       "                                                Smiles    Active\n",
       "716  Cl.Cl.N=C(NCCCCCCNC(=N)NC(=N)Nc1ccc(Cl)cc1)NC(...  0.040947"
      ]
     },
     "execution_count": 365,
     "metadata": {},
     "output_type": "execute_result"
    }
   ],
   "source": [
    "test.sample()"
   ]
  },
  {
   "cell_type": "code",
   "execution_count": 366,
   "id": "cb4e498d",
   "metadata": {},
   "outputs": [],
   "source": [
    "test['Active'] = test['Active'].apply(lambda x: x*1000000-40947)"
   ]
  },
  {
   "cell_type": "code",
   "execution_count": 362,
   "id": "ccff84bf",
   "metadata": {},
   "outputs": [],
   "source": [
    "test['Active'] = test['Active'].apply(lambda x: int(abs(round(x, 0))))"
   ]
  },
  {
   "cell_type": "code",
   "execution_count": 367,
   "id": "64ec4070",
   "metadata": {},
   "outputs": [
    {
     "data": {
      "text/plain": [
       "0.221220    270\n",
       "0.191417    234\n",
       "0.210044    186\n",
       "0.202593    182\n",
       "0.180241    163\n",
       "0.228670    136\n",
       "0.239846     69\n",
       "0.292000     46\n",
       "0.172791     45\n",
       "0.314352     44\n",
       "0.321802     43\n",
       "0.303176     42\n",
       "0.247297     40\n",
       "0.284549     35\n",
       "0.265923     27\n",
       "0.258472     26\n",
       "0.273374     16\n",
       "0.332978      8\n",
       "0.161615      2\n",
       "Name: Active, dtype: int64"
      ]
     },
     "execution_count": 367,
     "metadata": {},
     "output_type": "execute_result"
    }
   ],
   "source": [
    "test['Active'].value_counts()"
   ]
  },
  {
   "cell_type": "code",
   "execution_count": 358,
   "id": "102682de",
   "metadata": {},
   "outputs": [
    {
     "data": {
      "text/html": [
       "<div>\n",
       "<style scoped>\n",
       "    .dataframe tbody tr th:only-of-type {\n",
       "        vertical-align: middle;\n",
       "    }\n",
       "\n",
       "    .dataframe tbody tr th {\n",
       "        vertical-align: top;\n",
       "    }\n",
       "\n",
       "    .dataframe thead th {\n",
       "        text-align: right;\n",
       "    }\n",
       "</style>\n",
       "<table border=\"1\" class=\"dataframe\">\n",
       "  <thead>\n",
       "    <tr style=\"text-align: right;\">\n",
       "      <th></th>\n",
       "      <th>Smiles</th>\n",
       "      <th>Active</th>\n",
       "    </tr>\n",
       "  </thead>\n",
       "  <tbody>\n",
       "    <tr>\n",
       "      <th>68</th>\n",
       "      <td>O=C(NOCCO)c1cc(CN2OCCCC2=O)c(F)c(F)c1Nc1ccc(I)...</td>\n",
       "      <td>0.040947</td>\n",
       "    </tr>\n",
       "    <tr>\n",
       "      <th>915</th>\n",
       "      <td>CC(O)(CC(=O)O)CC(=O)O</td>\n",
       "      <td>0.040947</td>\n",
       "    </tr>\n",
       "    <tr>\n",
       "      <th>1442</th>\n",
       "      <td>CC(C)(C)NC[C@H](O)c1ccc(O)c(CO)c1.Cl</td>\n",
       "      <td>0.040947</td>\n",
       "    </tr>\n",
       "    <tr>\n",
       "      <th>1418</th>\n",
       "      <td>CCOc1cc(N)c(Cl)cc1C(=O)NCC1CN(Cc2ccc(F)cc2)CCO...</td>\n",
       "      <td>0.040947</td>\n",
       "    </tr>\n",
       "    <tr>\n",
       "      <th>702</th>\n",
       "      <td>NC(=O)C1=CN([C@@H]2O[C@H](CO[P@](=O)(O)O[P@@](...</td>\n",
       "      <td>0.040947</td>\n",
       "    </tr>\n",
       "  </tbody>\n",
       "</table>\n",
       "</div>"
      ],
      "text/plain": [
       "                                                 Smiles    Active\n",
       "68    O=C(NOCCO)c1cc(CN2OCCCC2=O)c(F)c(F)c1Nc1ccc(I)...  0.040947\n",
       "915                               CC(O)(CC(=O)O)CC(=O)O  0.040947\n",
       "1442               CC(C)(C)NC[C@H](O)c1ccc(O)c(CO)c1.Cl  0.040947\n",
       "1418  CCOc1cc(N)c(Cl)cc1C(=O)NCC1CN(Cc2ccc(F)cc2)CCO...  0.040947\n",
       "702   NC(=O)C1=CN([C@@H]2O[C@H](CO[P@](=O)(O)O[P@@](...  0.040947"
      ]
     },
     "execution_count": 358,
     "metadata": {},
     "output_type": "execute_result"
    }
   ],
   "source": [
    "test.sample(5)"
   ]
  },
  {
   "cell_type": "code",
   "execution_count": 320,
   "id": "cfb54bf6",
   "metadata": {},
   "outputs": [],
   "source": [
    "test.to_csv('test2.csv', index=False)"
   ]
  },
  {
   "cell_type": "code",
   "execution_count": null,
   "id": "ad73f8ad",
   "metadata": {},
   "outputs": [],
   "source": []
  }
 ],
 "metadata": {
  "kernelspec": {
   "display_name": "Python 3 (ipykernel)",
   "language": "python",
   "name": "python3"
  },
  "language_info": {
   "codemirror_mode": {
    "name": "ipython",
    "version": 3
   },
   "file_extension": ".py",
   "mimetype": "text/x-python",
   "name": "python",
   "nbconvert_exporter": "python",
   "pygments_lexer": "ipython3",
   "version": "3.8.11"
  }
 },
 "nbformat": 4,
 "nbformat_minor": 5
}
