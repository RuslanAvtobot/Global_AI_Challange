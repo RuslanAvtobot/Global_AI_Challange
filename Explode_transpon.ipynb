{
 "cells": [
  {
   "cell_type": "code",
   "execution_count": 474,
   "id": "7ea6b1dc",
   "metadata": {},
   "outputs": [],
   "source": [
    "import pandas as pd\n",
    "import numpy as np\n",
    "import math\n",
    "\n",
    "from tqdm import tqdm\n",
    "import time"
   ]
  },
  {
   "cell_type": "code",
   "execution_count": 475,
   "id": "a8eef7ee",
   "metadata": {},
   "outputs": [],
   "source": [
    "RANDOM_SEED = 13022022"
   ]
  },
  {
   "cell_type": "code",
   "execution_count": 476,
   "id": "f2c4e210",
   "metadata": {},
   "outputs": [],
   "source": [
    "test = pd.read_csv('Task/test.csv')\n",
    "test.drop(['Unnamed: 0'], axis = 1, inplace = True)"
   ]
  },
  {
   "cell_type": "code",
   "execution_count": 477,
   "id": "cf03cb8b",
   "metadata": {},
   "outputs": [
    {
     "name": "stdout",
     "output_type": "stream",
     "text": [
      "<class 'pandas.core.frame.DataFrame'>\n",
      "RangeIndex: 1614 entries, 0 to 1613\n",
      "Data columns (total 1 columns):\n",
      " #   Column  Non-Null Count  Dtype \n",
      "---  ------  --------------  ----- \n",
      " 0   Smiles  1614 non-null   object\n",
      "dtypes: object(1)\n",
      "memory usage: 12.7+ KB\n"
     ]
    }
   ],
   "source": [
    "test.info()"
   ]
  },
  {
   "cell_type": "code",
   "execution_count": 478,
   "id": "9ea40621",
   "metadata": {},
   "outputs": [
    {
     "data": {
      "text/html": [
       "<div>\n",
       "<style scoped>\n",
       "    .dataframe tbody tr th:only-of-type {\n",
       "        vertical-align: middle;\n",
       "    }\n",
       "\n",
       "    .dataframe tbody tr th {\n",
       "        vertical-align: top;\n",
       "    }\n",
       "\n",
       "    .dataframe thead th {\n",
       "        text-align: right;\n",
       "    }\n",
       "</style>\n",
       "<table border=\"1\" class=\"dataframe\">\n",
       "  <thead>\n",
       "    <tr style=\"text-align: right;\">\n",
       "      <th></th>\n",
       "      <th>Smiles</th>\n",
       "    </tr>\n",
       "  </thead>\n",
       "  <tbody>\n",
       "    <tr>\n",
       "      <th>1555</th>\n",
       "      <td>Clc1cccc(Nc2ncnc3sccc23)c1</td>\n",
       "    </tr>\n",
       "    <tr>\n",
       "      <th>1213</th>\n",
       "      <td>Cc1ccc(Oc2nc3cc(-c4ccc5c(ccn5C)c4)c(Cl)cc3[nH]...</td>\n",
       "    </tr>\n",
       "    <tr>\n",
       "      <th>643</th>\n",
       "      <td>CC[C@@]1(O)C(=O)OCc2c1cc1n(c2=O)Cc2c-1nc1cc(F)...</td>\n",
       "    </tr>\n",
       "  </tbody>\n",
       "</table>\n",
       "</div>"
      ],
      "text/plain": [
       "                                                 Smiles\n",
       "1555                         Clc1cccc(Nc2ncnc3sccc23)c1\n",
       "1213  Cc1ccc(Oc2nc3cc(-c4ccc5c(ccn5C)c4)c(Cl)cc3[nH]...\n",
       "643   CC[C@@]1(O)C(=O)OCc2c1cc1n(c2=O)Cc2c-1nc1cc(F)..."
      ]
     },
     "execution_count": 478,
     "metadata": {},
     "output_type": "execute_result"
    }
   ],
   "source": [
    "test.sample(3)"
   ]
  },
  {
   "cell_type": "code",
   "execution_count": 479,
   "id": "74c668b9",
   "metadata": {},
   "outputs": [],
   "source": [
    "train = pd.read_csv('Task/train.csv')\n",
    "train.drop(['Unnamed: 0'], axis = 1, inplace = True)"
   ]
  },
  {
   "cell_type": "code",
   "execution_count": 480,
   "id": "ac798eed",
   "metadata": {},
   "outputs": [
    {
     "name": "stdout",
     "output_type": "stream",
     "text": [
      "<class 'pandas.core.frame.DataFrame'>\n",
      "RangeIndex: 5557 entries, 0 to 5556\n",
      "Data columns (total 2 columns):\n",
      " #   Column  Non-Null Count  Dtype \n",
      "---  ------  --------------  ----- \n",
      " 0   Smiles  5557 non-null   object\n",
      " 1   Active  5557 non-null   bool  \n",
      "dtypes: bool(1), object(1)\n",
      "memory usage: 49.0+ KB\n"
     ]
    }
   ],
   "source": [
    "train.info()"
   ]
  },
  {
   "cell_type": "code",
   "execution_count": 481,
   "id": "8572c95c",
   "metadata": {
    "scrolled": true
   },
   "outputs": [
    {
     "data": {
      "text/html": [
       "<div>\n",
       "<style scoped>\n",
       "    .dataframe tbody tr th:only-of-type {\n",
       "        vertical-align: middle;\n",
       "    }\n",
       "\n",
       "    .dataframe tbody tr th {\n",
       "        vertical-align: top;\n",
       "    }\n",
       "\n",
       "    .dataframe thead th {\n",
       "        text-align: right;\n",
       "    }\n",
       "</style>\n",
       "<table border=\"1\" class=\"dataframe\">\n",
       "  <thead>\n",
       "    <tr style=\"text-align: right;\">\n",
       "      <th></th>\n",
       "      <th>Smiles</th>\n",
       "      <th>Active</th>\n",
       "    </tr>\n",
       "  </thead>\n",
       "  <tbody>\n",
       "    <tr>\n",
       "      <th>3970</th>\n",
       "      <td>CC[C@@H](N)CNc1ccnc(-c2cc(-c3cnn(C)c3)ccc2O)n1</td>\n",
       "      <td>False</td>\n",
       "    </tr>\n",
       "    <tr>\n",
       "      <th>1642</th>\n",
       "      <td>CC(C)(C=O)Cc1cc(C(C)(C)C)c(O)c(C(C)(C)C)c1</td>\n",
       "      <td>False</td>\n",
       "    </tr>\n",
       "    <tr>\n",
       "      <th>5256</th>\n",
       "      <td>NC(Cc1cc(O)c(O)cc1O)C(=O)O</td>\n",
       "      <td>False</td>\n",
       "    </tr>\n",
       "  </tbody>\n",
       "</table>\n",
       "</div>"
      ],
      "text/plain": [
       "                                              Smiles  Active\n",
       "3970  CC[C@@H](N)CNc1ccnc(-c2cc(-c3cnn(C)c3)ccc2O)n1   False\n",
       "1642      CC(C)(C=O)Cc1cc(C(C)(C)C)c(O)c(C(C)(C)C)c1   False\n",
       "5256                      NC(Cc1cc(O)c(O)cc1O)C(=O)O   False"
      ]
     },
     "execution_count": 481,
     "metadata": {},
     "output_type": "execute_result"
    }
   ],
   "source": [
    "train.sample(3)"
   ]
  },
  {
   "cell_type": "code",
   "execution_count": 482,
   "id": "ead5500f",
   "metadata": {},
   "outputs": [
    {
     "data": {
      "text/plain": [
       "[False, True]"
      ]
     },
     "execution_count": 482,
     "metadata": {},
     "output_type": "execute_result"
    }
   ],
   "source": [
    "list(train['Active'].unique())"
   ]
  },
  {
   "cell_type": "code",
   "execution_count": 483,
   "id": "3491251b",
   "metadata": {},
   "outputs": [],
   "source": [
    "list_active = {False: 0, True: 1}"
   ]
  },
  {
   "cell_type": "code",
   "execution_count": 484,
   "id": "dadd7a65",
   "metadata": {},
   "outputs": [],
   "source": [
    "train['Active'] = train['Active'].map(list_active)"
   ]
  },
  {
   "cell_type": "code",
   "execution_count": 485,
   "id": "1167926a",
   "metadata": {},
   "outputs": [
    {
     "data": {
      "text/html": [
       "<div>\n",
       "<style scoped>\n",
       "    .dataframe tbody tr th:only-of-type {\n",
       "        vertical-align: middle;\n",
       "    }\n",
       "\n",
       "    .dataframe tbody tr th {\n",
       "        vertical-align: top;\n",
       "    }\n",
       "\n",
       "    .dataframe thead th {\n",
       "        text-align: right;\n",
       "    }\n",
       "</style>\n",
       "<table border=\"1\" class=\"dataframe\">\n",
       "  <thead>\n",
       "    <tr style=\"text-align: right;\">\n",
       "      <th></th>\n",
       "      <th>Smiles</th>\n",
       "      <th>Active</th>\n",
       "    </tr>\n",
       "  </thead>\n",
       "  <tbody>\n",
       "    <tr>\n",
       "      <th>624</th>\n",
       "      <td>NCCS(=O)(=O)O</td>\n",
       "      <td>0</td>\n",
       "    </tr>\n",
       "  </tbody>\n",
       "</table>\n",
       "</div>"
      ],
      "text/plain": [
       "            Smiles  Active\n",
       "624  NCCS(=O)(=O)O       0"
      ]
     },
     "execution_count": 485,
     "metadata": {},
     "output_type": "execute_result"
    }
   ],
   "source": [
    "train.sample()"
   ]
  },
  {
   "cell_type": "code",
   "execution_count": 486,
   "id": "28d5cece",
   "metadata": {},
   "outputs": [],
   "source": [
    "train['train'] = 1\n",
    "test['train'] = 0"
   ]
  },
  {
   "cell_type": "code",
   "execution_count": 487,
   "id": "2d933d18",
   "metadata": {},
   "outputs": [],
   "source": [
    "df = pd.concat([train, test], ignore_index=True)"
   ]
  },
  {
   "cell_type": "code",
   "execution_count": 488,
   "id": "913866ad",
   "metadata": {},
   "outputs": [
    {
     "name": "stdout",
     "output_type": "stream",
     "text": [
      "<class 'pandas.core.frame.DataFrame'>\n",
      "RangeIndex: 7171 entries, 0 to 7170\n",
      "Data columns (total 3 columns):\n",
      " #   Column  Non-Null Count  Dtype  \n",
      "---  ------  --------------  -----  \n",
      " 0   Smiles  7171 non-null   object \n",
      " 1   Active  5557 non-null   float64\n",
      " 2   train   7171 non-null   int64  \n",
      "dtypes: float64(1), int64(1), object(1)\n",
      "memory usage: 168.2+ KB\n"
     ]
    }
   ],
   "source": [
    "df.info()"
   ]
  },
  {
   "cell_type": "code",
   "execution_count": 489,
   "id": "af577982",
   "metadata": {},
   "outputs": [
    {
     "data": {
      "text/plain": [
       "array([1, 0], dtype=int64)"
      ]
     },
     "execution_count": 489,
     "metadata": {},
     "output_type": "execute_result"
    }
   ],
   "source": [
    "df['train'].unique()"
   ]
  },
  {
   "cell_type": "code",
   "execution_count": 490,
   "id": "5d9289e6",
   "metadata": {},
   "outputs": [
    {
     "data": {
      "text/plain": [
       "0.00    5351\n",
       "1.00     206\n",
       "Name: Active, dtype: int64"
      ]
     },
     "execution_count": 490,
     "metadata": {},
     "output_type": "execute_result"
    }
   ],
   "source": [
    "df[df['train'] == 1]['Active'].value_counts()"
   ]
  },
  {
   "cell_type": "code",
   "execution_count": 491,
   "id": "34837a92",
   "metadata": {},
   "outputs": [],
   "source": [
    "from collections import Counter\n",
    "\n",
    "atoms = Counter()\n",
    "for i in df['Smiles'].unique():\n",
    "    for j in i:\n",
    "        atoms[j] += 1"
   ]
  },
  {
   "cell_type": "code",
   "execution_count": 492,
   "id": "c32f1187",
   "metadata": {},
   "outputs": [
    {
     "data": {
      "text/plain": [
       "45"
      ]
     },
     "execution_count": 492,
     "metadata": {},
     "output_type": "execute_result"
    }
   ],
   "source": [
    "len(atoms.keys())"
   ]
  },
  {
   "cell_type": "code",
   "execution_count": 493,
   "id": "f0527b82",
   "metadata": {},
   "outputs": [],
   "source": [
    "cont = 0\n",
    "for i in atoms.keys():\n",
    "    new_value = len(atoms.keys()) - cont\n",
    "    atoms[i] = new_value\n",
    "    cont += 1"
   ]
  },
  {
   "cell_type": "code",
   "execution_count": 494,
   "id": "cb2b631e",
   "metadata": {
    "scrolled": true
   },
   "outputs": [
    {
     "data": {
      "text/plain": [
       "Counter({'C': 45,\n",
       "         'O': 44,\n",
       "         'c': 43,\n",
       "         '1': 42,\n",
       "         '2': 41,\n",
       "         '[': 40,\n",
       "         'n': 39,\n",
       "         'H': 38,\n",
       "         ']': 37,\n",
       "         '(': 36,\n",
       "         'N': 35,\n",
       "         ')': 34,\n",
       "         '@': 33,\n",
       "         '.': 32,\n",
       "         'l': 31,\n",
       "         '=': 30,\n",
       "         'S': 29,\n",
       "         '3': 28,\n",
       "         '4': 27,\n",
       "         'F': 26,\n",
       "         '-': 25,\n",
       "         's': 24,\n",
       "         '/': 23,\n",
       "         '5': 22,\n",
       "         'o': 21,\n",
       "         'a': 20,\n",
       "         '+': 19,\n",
       "         '#': 18,\n",
       "         'I': 17,\n",
       "         'P': 16,\n",
       "         'B': 15,\n",
       "         'r': 14,\n",
       "         '\\\\': 13,\n",
       "         'Z': 12,\n",
       "         '6': 11,\n",
       "         '7': 10,\n",
       "         '8': 9,\n",
       "         'e': 8,\n",
       "         'A': 7,\n",
       "         'K': 6,\n",
       "         'M': 5,\n",
       "         'g': 4,\n",
       "         'i': 3,\n",
       "         'L': 2,\n",
       "         '9': 1})"
      ]
     },
     "execution_count": 494,
     "metadata": {},
     "output_type": "execute_result"
    }
   ],
   "source": [
    "atoms"
   ]
  },
  {
   "cell_type": "code",
   "execution_count": 495,
   "id": "d06f24bb",
   "metadata": {},
   "outputs": [],
   "source": [
    "df['len'] = df['Smiles'].apply(lambda x: len(x))"
   ]
  },
  {
   "cell_type": "code",
   "execution_count": 496,
   "id": "018e9e25",
   "metadata": {},
   "outputs": [],
   "source": [
    "df['1'] = df['Smiles'].apply(lambda x: list(x))"
   ]
  },
  {
   "cell_type": "code",
   "execution_count": 497,
   "id": "1d4e6972",
   "metadata": {},
   "outputs": [
    {
     "data": {
      "text/html": [
       "<div>\n",
       "<style scoped>\n",
       "    .dataframe tbody tr th:only-of-type {\n",
       "        vertical-align: middle;\n",
       "    }\n",
       "\n",
       "    .dataframe tbody tr th {\n",
       "        vertical-align: top;\n",
       "    }\n",
       "\n",
       "    .dataframe thead th {\n",
       "        text-align: right;\n",
       "    }\n",
       "</style>\n",
       "<table border=\"1\" class=\"dataframe\">\n",
       "  <thead>\n",
       "    <tr style=\"text-align: right;\">\n",
       "      <th></th>\n",
       "      <th>Smiles</th>\n",
       "      <th>Active</th>\n",
       "      <th>train</th>\n",
       "      <th>len</th>\n",
       "      <th>1</th>\n",
       "    </tr>\n",
       "  </thead>\n",
       "  <tbody>\n",
       "    <tr>\n",
       "      <th>4023</th>\n",
       "      <td>O=[N+]([O-])O[C@H]1CO[C@H]2[C@@H]1OC[C@H]2O[N+...</td>\n",
       "      <td>0.00</td>\n",
       "      <td>1</td>\n",
       "      <td>55</td>\n",
       "      <td>[O, =, [, N, +, ], (, [, O, -, ], ), O, [, C, ...</td>\n",
       "    </tr>\n",
       "    <tr>\n",
       "      <th>4256</th>\n",
       "      <td>NCCCCCC(=O)O</td>\n",
       "      <td>0.00</td>\n",
       "      <td>1</td>\n",
       "      <td>12</td>\n",
       "      <td>[N, C, C, C, C, C, C, (, =, O, ), O]</td>\n",
       "    </tr>\n",
       "    <tr>\n",
       "      <th>6929</th>\n",
       "      <td>C=CC[C@]1(O)CC[C@H]2[C@@H]3CCC4=CCCC[C@@H]4[C@...</td>\n",
       "      <td>nan</td>\n",
       "      <td>0</td>\n",
       "      <td>59</td>\n",
       "      <td>[C, =, C, C, [, C, @, ], 1, (, O, ), C, C, [, ...</td>\n",
       "    </tr>\n",
       "  </tbody>\n",
       "</table>\n",
       "</div>"
      ],
      "text/plain": [
       "                                                 Smiles  Active  train  len  \\\n",
       "4023  O=[N+]([O-])O[C@H]1CO[C@H]2[C@@H]1OC[C@H]2O[N+...    0.00      1   55   \n",
       "4256                                       NCCCCCC(=O)O    0.00      1   12   \n",
       "6929  C=CC[C@]1(O)CC[C@H]2[C@@H]3CCC4=CCCC[C@@H]4[C@...     nan      0   59   \n",
       "\n",
       "                                                      1  \n",
       "4023  [O, =, [, N, +, ], (, [, O, -, ], ), O, [, C, ...  \n",
       "4256               [N, C, C, C, C, C, C, (, =, O, ), O]  \n",
       "6929  [C, =, C, C, [, C, @, ], 1, (, O, ), C, C, [, ...  "
      ]
     },
     "execution_count": 497,
     "metadata": {},
     "output_type": "execute_result"
    }
   ],
   "source": [
    "df.sample(3)"
   ]
  },
  {
   "cell_type": "code",
   "execution_count": 498,
   "id": "af9ac883",
   "metadata": {},
   "outputs": [
    {
     "data": {
      "text/plain": [
       "707"
      ]
     },
     "execution_count": 498,
     "metadata": {},
     "output_type": "execute_result"
    }
   ],
   "source": [
    "df['len'].unique().max()"
   ]
  },
  {
   "cell_type": "code",
   "execution_count": 499,
   "id": "3972356c",
   "metadata": {},
   "outputs": [
    {
     "name": "stderr",
     "output_type": "stream",
     "text": [
      "100%|██████████████████████████████████████████████████████████████████████████████| 7171/7171 [06:28<00:00, 18.46it/s]\n"
     ]
    }
   ],
   "source": [
    "new_df = pd.DataFrame()\n",
    "for i in tqdm(range(len(df['1']))):\n",
    "    e = pd.DataFrame(df.loc[i].explode())\n",
    "    e.reset_index(drop=True, inplace=True)\n",
    "    e = e.T\n",
    "    new_df = pd.concat([new_df, e], ignore_index = True)"
   ]
  },
  {
   "cell_type": "code",
   "execution_count": 500,
   "id": "8f1f2cba",
   "metadata": {},
   "outputs": [
    {
     "data": {
      "text/html": [
       "<div>\n",
       "<style scoped>\n",
       "    .dataframe tbody tr th:only-of-type {\n",
       "        vertical-align: middle;\n",
       "    }\n",
       "\n",
       "    .dataframe tbody tr th {\n",
       "        vertical-align: top;\n",
       "    }\n",
       "\n",
       "    .dataframe thead th {\n",
       "        text-align: right;\n",
       "    }\n",
       "</style>\n",
       "<table border=\"1\" class=\"dataframe\">\n",
       "  <thead>\n",
       "    <tr style=\"text-align: right;\">\n",
       "      <th></th>\n",
       "      <th>0</th>\n",
       "      <th>1</th>\n",
       "      <th>2</th>\n",
       "      <th>3</th>\n",
       "      <th>4</th>\n",
       "      <th>5</th>\n",
       "      <th>6</th>\n",
       "      <th>7</th>\n",
       "      <th>8</th>\n",
       "      <th>9</th>\n",
       "      <th>...</th>\n",
       "      <th>701</th>\n",
       "      <th>702</th>\n",
       "      <th>703</th>\n",
       "      <th>704</th>\n",
       "      <th>705</th>\n",
       "      <th>706</th>\n",
       "      <th>707</th>\n",
       "      <th>708</th>\n",
       "      <th>709</th>\n",
       "      <th>710</th>\n",
       "    </tr>\n",
       "  </thead>\n",
       "  <tbody>\n",
       "    <tr>\n",
       "      <th>2117</th>\n",
       "      <td>O=[N+]([O-])C(Br)(CO)CO</td>\n",
       "      <td>1.00</td>\n",
       "      <td>1</td>\n",
       "      <td>23</td>\n",
       "      <td>O</td>\n",
       "      <td>=</td>\n",
       "      <td>[</td>\n",
       "      <td>N</td>\n",
       "      <td>+</td>\n",
       "      <td>]</td>\n",
       "      <td>...</td>\n",
       "      <td>NaN</td>\n",
       "      <td>NaN</td>\n",
       "      <td>NaN</td>\n",
       "      <td>NaN</td>\n",
       "      <td>NaN</td>\n",
       "      <td>NaN</td>\n",
       "      <td>NaN</td>\n",
       "      <td>NaN</td>\n",
       "      <td>NaN</td>\n",
       "      <td>NaN</td>\n",
       "    </tr>\n",
       "    <tr>\n",
       "      <th>1077</th>\n",
       "      <td>CCCCCCCCCCCCCCCC[N+](C)(C)Cc1ccccc1.O.[Cl-]</td>\n",
       "      <td>0.00</td>\n",
       "      <td>1</td>\n",
       "      <td>43</td>\n",
       "      <td>C</td>\n",
       "      <td>C</td>\n",
       "      <td>C</td>\n",
       "      <td>C</td>\n",
       "      <td>C</td>\n",
       "      <td>C</td>\n",
       "      <td>...</td>\n",
       "      <td>NaN</td>\n",
       "      <td>NaN</td>\n",
       "      <td>NaN</td>\n",
       "      <td>NaN</td>\n",
       "      <td>NaN</td>\n",
       "      <td>NaN</td>\n",
       "      <td>NaN</td>\n",
       "      <td>NaN</td>\n",
       "      <td>NaN</td>\n",
       "      <td>NaN</td>\n",
       "    </tr>\n",
       "    <tr>\n",
       "      <th>5022</th>\n",
       "      <td>NC(=O)CNCCC(c1ccccc1)c1ccccc1</td>\n",
       "      <td>0.00</td>\n",
       "      <td>1</td>\n",
       "      <td>29</td>\n",
       "      <td>N</td>\n",
       "      <td>C</td>\n",
       "      <td>(</td>\n",
       "      <td>=</td>\n",
       "      <td>O</td>\n",
       "      <td>)</td>\n",
       "      <td>...</td>\n",
       "      <td>NaN</td>\n",
       "      <td>NaN</td>\n",
       "      <td>NaN</td>\n",
       "      <td>NaN</td>\n",
       "      <td>NaN</td>\n",
       "      <td>NaN</td>\n",
       "      <td>NaN</td>\n",
       "      <td>NaN</td>\n",
       "      <td>NaN</td>\n",
       "      <td>NaN</td>\n",
       "    </tr>\n",
       "    <tr>\n",
       "      <th>334</th>\n",
       "      <td>CCOC(=O)[C@H]1O[C@@H]1C(=O)N[C@@H](CC(C)C)C(=O...</td>\n",
       "      <td>0.00</td>\n",
       "      <td>1</td>\n",
       "      <td>55</td>\n",
       "      <td>C</td>\n",
       "      <td>C</td>\n",
       "      <td>O</td>\n",
       "      <td>C</td>\n",
       "      <td>(</td>\n",
       "      <td>=</td>\n",
       "      <td>...</td>\n",
       "      <td>NaN</td>\n",
       "      <td>NaN</td>\n",
       "      <td>NaN</td>\n",
       "      <td>NaN</td>\n",
       "      <td>NaN</td>\n",
       "      <td>NaN</td>\n",
       "      <td>NaN</td>\n",
       "      <td>NaN</td>\n",
       "      <td>NaN</td>\n",
       "      <td>NaN</td>\n",
       "    </tr>\n",
       "    <tr>\n",
       "      <th>6040</th>\n",
       "      <td>Cn1nnc2c(C(N)=O)ncn2c1=O</td>\n",
       "      <td>NaN</td>\n",
       "      <td>0</td>\n",
       "      <td>24</td>\n",
       "      <td>C</td>\n",
       "      <td>n</td>\n",
       "      <td>1</td>\n",
       "      <td>n</td>\n",
       "      <td>n</td>\n",
       "      <td>c</td>\n",
       "      <td>...</td>\n",
       "      <td>NaN</td>\n",
       "      <td>NaN</td>\n",
       "      <td>NaN</td>\n",
       "      <td>NaN</td>\n",
       "      <td>NaN</td>\n",
       "      <td>NaN</td>\n",
       "      <td>NaN</td>\n",
       "      <td>NaN</td>\n",
       "      <td>NaN</td>\n",
       "      <td>NaN</td>\n",
       "    </tr>\n",
       "  </tbody>\n",
       "</table>\n",
       "<p>5 rows × 711 columns</p>\n",
       "</div>"
      ],
      "text/plain": [
       "                                                    0    1   2   3   4   5    \\\n",
       "2117                            O=[N+]([O-])C(Br)(CO)CO 1.00   1  23   O   =   \n",
       "1077        CCCCCCCCCCCCCCCC[N+](C)(C)Cc1ccccc1.O.[Cl-] 0.00   1  43   C   C   \n",
       "5022                      NC(=O)CNCCC(c1ccccc1)c1ccccc1 0.00   1  29   N   C   \n",
       "334   CCOC(=O)[C@H]1O[C@@H]1C(=O)N[C@@H](CC(C)C)C(=O... 0.00   1  55   C   C   \n",
       "6040                           Cn1nnc2c(C(N)=O)ncn2c1=O  NaN   0  24   C   n   \n",
       "\n",
       "     6   7   8   9    ...  701  702  703  704  705  706  707  708  709  710  \n",
       "2117   [   N   +   ]  ...  NaN  NaN  NaN  NaN  NaN  NaN  NaN  NaN  NaN  NaN  \n",
       "1077   C   C   C   C  ...  NaN  NaN  NaN  NaN  NaN  NaN  NaN  NaN  NaN  NaN  \n",
       "5022   (   =   O   )  ...  NaN  NaN  NaN  NaN  NaN  NaN  NaN  NaN  NaN  NaN  \n",
       "334    O   C   (   =  ...  NaN  NaN  NaN  NaN  NaN  NaN  NaN  NaN  NaN  NaN  \n",
       "6040   1   n   n   c  ...  NaN  NaN  NaN  NaN  NaN  NaN  NaN  NaN  NaN  NaN  \n",
       "\n",
       "[5 rows x 711 columns]"
      ]
     },
     "execution_count": 500,
     "metadata": {},
     "output_type": "execute_result"
    }
   ],
   "source": [
    "new_df.sample(5)"
   ]
  },
  {
   "cell_type": "code",
   "execution_count": 501,
   "id": "66fee6c3",
   "metadata": {},
   "outputs": [],
   "source": [
    "new_df.fillna(0, inplace = True)"
   ]
  },
  {
   "cell_type": "code",
   "execution_count": 502,
   "id": "8a215347",
   "metadata": {},
   "outputs": [],
   "source": [
    "new_df.rename(columns = {0: 'Smiles', 1: 'Active', 2: 'train', 3: 'len'}, inplace = True)\n",
    "new_df = new_df.astype({\"Active\": \"Int64\"})"
   ]
  },
  {
   "cell_type": "code",
   "execution_count": 503,
   "id": "2fab4c98",
   "metadata": {},
   "outputs": [],
   "source": [
    "new_df.set_index(['Smiles', 'Active', 'train', 'len'], inplace = True)"
   ]
  },
  {
   "cell_type": "code",
   "execution_count": 504,
   "id": "85105791",
   "metadata": {},
   "outputs": [
    {
     "data": {
      "text/html": [
       "<div>\n",
       "<style scoped>\n",
       "    .dataframe tbody tr th:only-of-type {\n",
       "        vertical-align: middle;\n",
       "    }\n",
       "\n",
       "    .dataframe tbody tr th {\n",
       "        vertical-align: top;\n",
       "    }\n",
       "\n",
       "    .dataframe thead th {\n",
       "        text-align: right;\n",
       "    }\n",
       "</style>\n",
       "<table border=\"1\" class=\"dataframe\">\n",
       "  <thead>\n",
       "    <tr style=\"text-align: right;\">\n",
       "      <th></th>\n",
       "      <th></th>\n",
       "      <th></th>\n",
       "      <th></th>\n",
       "      <th>4</th>\n",
       "      <th>5</th>\n",
       "      <th>6</th>\n",
       "      <th>7</th>\n",
       "      <th>8</th>\n",
       "      <th>9</th>\n",
       "      <th>10</th>\n",
       "      <th>11</th>\n",
       "      <th>12</th>\n",
       "      <th>13</th>\n",
       "      <th>...</th>\n",
       "      <th>701</th>\n",
       "      <th>702</th>\n",
       "      <th>703</th>\n",
       "      <th>704</th>\n",
       "      <th>705</th>\n",
       "      <th>706</th>\n",
       "      <th>707</th>\n",
       "      <th>708</th>\n",
       "      <th>709</th>\n",
       "      <th>710</th>\n",
       "    </tr>\n",
       "    <tr>\n",
       "      <th>Smiles</th>\n",
       "      <th>Active</th>\n",
       "      <th>train</th>\n",
       "      <th>len</th>\n",
       "      <th></th>\n",
       "      <th></th>\n",
       "      <th></th>\n",
       "      <th></th>\n",
       "      <th></th>\n",
       "      <th></th>\n",
       "      <th></th>\n",
       "      <th></th>\n",
       "      <th></th>\n",
       "      <th></th>\n",
       "      <th></th>\n",
       "      <th></th>\n",
       "      <th></th>\n",
       "      <th></th>\n",
       "      <th></th>\n",
       "      <th></th>\n",
       "      <th></th>\n",
       "      <th></th>\n",
       "      <th></th>\n",
       "      <th></th>\n",
       "      <th></th>\n",
       "    </tr>\n",
       "  </thead>\n",
       "  <tbody>\n",
       "    <tr>\n",
       "      <th>CNC(=O)c1cc(Oc2ccc(NC(=O)Nc3ccc(Cl)c(C(F)(F)F)c3)cc2)ccn1.Cc1ccc(S(=O)(=O)O)cc1</th>\n",
       "      <th>0</th>\n",
       "      <th>1</th>\n",
       "      <th>79</th>\n",
       "      <td>C</td>\n",
       "      <td>N</td>\n",
       "      <td>C</td>\n",
       "      <td>(</td>\n",
       "      <td>=</td>\n",
       "      <td>O</td>\n",
       "      <td>)</td>\n",
       "      <td>c</td>\n",
       "      <td>1</td>\n",
       "      <td>c</td>\n",
       "      <td>...</td>\n",
       "      <td>0</td>\n",
       "      <td>0</td>\n",
       "      <td>0</td>\n",
       "      <td>0</td>\n",
       "      <td>0</td>\n",
       "      <td>0</td>\n",
       "      <td>0</td>\n",
       "      <td>0</td>\n",
       "      <td>0</td>\n",
       "      <td>0</td>\n",
       "    </tr>\n",
       "    <tr>\n",
       "      <th>Cn1cc(C[C@@H](N)C(=O)O)c2ccccc21</th>\n",
       "      <th>0</th>\n",
       "      <th>0</th>\n",
       "      <th>32</th>\n",
       "      <td>C</td>\n",
       "      <td>n</td>\n",
       "      <td>1</td>\n",
       "      <td>c</td>\n",
       "      <td>c</td>\n",
       "      <td>(</td>\n",
       "      <td>C</td>\n",
       "      <td>[</td>\n",
       "      <td>C</td>\n",
       "      <td>@</td>\n",
       "      <td>...</td>\n",
       "      <td>0</td>\n",
       "      <td>0</td>\n",
       "      <td>0</td>\n",
       "      <td>0</td>\n",
       "      <td>0</td>\n",
       "      <td>0</td>\n",
       "      <td>0</td>\n",
       "      <td>0</td>\n",
       "      <td>0</td>\n",
       "      <td>0</td>\n",
       "    </tr>\n",
       "    <tr>\n",
       "      <th>CCCNC(C)(C)COC(=O)c1ccccc1.Cl</th>\n",
       "      <th>0</th>\n",
       "      <th>1</th>\n",
       "      <th>29</th>\n",
       "      <td>C</td>\n",
       "      <td>C</td>\n",
       "      <td>C</td>\n",
       "      <td>N</td>\n",
       "      <td>C</td>\n",
       "      <td>(</td>\n",
       "      <td>C</td>\n",
       "      <td>)</td>\n",
       "      <td>(</td>\n",
       "      <td>C</td>\n",
       "      <td>...</td>\n",
       "      <td>0</td>\n",
       "      <td>0</td>\n",
       "      <td>0</td>\n",
       "      <td>0</td>\n",
       "      <td>0</td>\n",
       "      <td>0</td>\n",
       "      <td>0</td>\n",
       "      <td>0</td>\n",
       "      <td>0</td>\n",
       "      <td>0</td>\n",
       "    </tr>\n",
       "    <tr>\n",
       "      <th>O=C1NC(=O)/C(=C\\c2c[nH]c(=O)c(-c3ccc(N4CCNCC4)nc3)c2)S1</th>\n",
       "      <th>0</th>\n",
       "      <th>1</th>\n",
       "      <th>55</th>\n",
       "      <td>O</td>\n",
       "      <td>=</td>\n",
       "      <td>C</td>\n",
       "      <td>1</td>\n",
       "      <td>N</td>\n",
       "      <td>C</td>\n",
       "      <td>(</td>\n",
       "      <td>=</td>\n",
       "      <td>O</td>\n",
       "      <td>)</td>\n",
       "      <td>...</td>\n",
       "      <td>0</td>\n",
       "      <td>0</td>\n",
       "      <td>0</td>\n",
       "      <td>0</td>\n",
       "      <td>0</td>\n",
       "      <td>0</td>\n",
       "      <td>0</td>\n",
       "      <td>0</td>\n",
       "      <td>0</td>\n",
       "      <td>0</td>\n",
       "    </tr>\n",
       "    <tr>\n",
       "      <th>Cc1cc(C)c(/C=C2\\C(=O)Nc3ccccc32)[nH]1</th>\n",
       "      <th>0</th>\n",
       "      <th>1</th>\n",
       "      <th>37</th>\n",
       "      <td>C</td>\n",
       "      <td>c</td>\n",
       "      <td>1</td>\n",
       "      <td>c</td>\n",
       "      <td>c</td>\n",
       "      <td>(</td>\n",
       "      <td>C</td>\n",
       "      <td>)</td>\n",
       "      <td>c</td>\n",
       "      <td>(</td>\n",
       "      <td>...</td>\n",
       "      <td>0</td>\n",
       "      <td>0</td>\n",
       "      <td>0</td>\n",
       "      <td>0</td>\n",
       "      <td>0</td>\n",
       "      <td>0</td>\n",
       "      <td>0</td>\n",
       "      <td>0</td>\n",
       "      <td>0</td>\n",
       "      <td>0</td>\n",
       "    </tr>\n",
       "  </tbody>\n",
       "</table>\n",
       "<p>5 rows × 707 columns</p>\n",
       "</div>"
      ],
      "text/plain": [
       "                                                                    4   5    \\\n",
       "Smiles                                             Active train len           \n",
       "CNC(=O)c1cc(Oc2ccc(NC(=O)Nc3ccc(Cl)c(C(F)(F)F)c... 0      1     79    C   N   \n",
       "Cn1cc(C[C@@H](N)C(=O)O)c2ccccc21                   0      0     32    C   n   \n",
       "CCCNC(C)(C)COC(=O)c1ccccc1.Cl                      0      1     29    C   C   \n",
       "O=C1NC(=O)/C(=C\\c2c[nH]c(=O)c(-c3ccc(N4CCNCC4)n... 0      1     55    O   =   \n",
       "Cc1cc(C)c(/C=C2\\C(=O)Nc3ccccc32)[nH]1              0      1     37    C   c   \n",
       "\n",
       "                                                                    6   7    \\\n",
       "Smiles                                             Active train len           \n",
       "CNC(=O)c1cc(Oc2ccc(NC(=O)Nc3ccc(Cl)c(C(F)(F)F)c... 0      1     79    C   (   \n",
       "Cn1cc(C[C@@H](N)C(=O)O)c2ccccc21                   0      0     32    1   c   \n",
       "CCCNC(C)(C)COC(=O)c1ccccc1.Cl                      0      1     29    C   N   \n",
       "O=C1NC(=O)/C(=C\\c2c[nH]c(=O)c(-c3ccc(N4CCNCC4)n... 0      1     55    C   1   \n",
       "Cc1cc(C)c(/C=C2\\C(=O)Nc3ccccc32)[nH]1              0      1     37    1   c   \n",
       "\n",
       "                                                                    8   9    \\\n",
       "Smiles                                             Active train len           \n",
       "CNC(=O)c1cc(Oc2ccc(NC(=O)Nc3ccc(Cl)c(C(F)(F)F)c... 0      1     79    =   O   \n",
       "Cn1cc(C[C@@H](N)C(=O)O)c2ccccc21                   0      0     32    c   (   \n",
       "CCCNC(C)(C)COC(=O)c1ccccc1.Cl                      0      1     29    C   (   \n",
       "O=C1NC(=O)/C(=C\\c2c[nH]c(=O)c(-c3ccc(N4CCNCC4)n... 0      1     55    N   C   \n",
       "Cc1cc(C)c(/C=C2\\C(=O)Nc3ccccc32)[nH]1              0      1     37    c   (   \n",
       "\n",
       "                                                                    10  11   \\\n",
       "Smiles                                             Active train len           \n",
       "CNC(=O)c1cc(Oc2ccc(NC(=O)Nc3ccc(Cl)c(C(F)(F)F)c... 0      1     79    )   c   \n",
       "Cn1cc(C[C@@H](N)C(=O)O)c2ccccc21                   0      0     32    C   [   \n",
       "CCCNC(C)(C)COC(=O)c1ccccc1.Cl                      0      1     29    C   )   \n",
       "O=C1NC(=O)/C(=C\\c2c[nH]c(=O)c(-c3ccc(N4CCNCC4)n... 0      1     55    (   =   \n",
       "Cc1cc(C)c(/C=C2\\C(=O)Nc3ccccc32)[nH]1              0      1     37    C   )   \n",
       "\n",
       "                                                                    12  13   \\\n",
       "Smiles                                             Active train len           \n",
       "CNC(=O)c1cc(Oc2ccc(NC(=O)Nc3ccc(Cl)c(C(F)(F)F)c... 0      1     79    1   c   \n",
       "Cn1cc(C[C@@H](N)C(=O)O)c2ccccc21                   0      0     32    C   @   \n",
       "CCCNC(C)(C)COC(=O)c1ccccc1.Cl                      0      1     29    (   C   \n",
       "O=C1NC(=O)/C(=C\\c2c[nH]c(=O)c(-c3ccc(N4CCNCC4)n... 0      1     55    O   )   \n",
       "Cc1cc(C)c(/C=C2\\C(=O)Nc3ccccc32)[nH]1              0      1     37    c   (   \n",
       "\n",
       "                                                                     ... 701  \\\n",
       "Smiles                                             Active train len  ...       \n",
       "CNC(=O)c1cc(Oc2ccc(NC(=O)Nc3ccc(Cl)c(C(F)(F)F)c... 0      1     79   ...   0   \n",
       "Cn1cc(C[C@@H](N)C(=O)O)c2ccccc21                   0      0     32   ...   0   \n",
       "CCCNC(C)(C)COC(=O)c1ccccc1.Cl                      0      1     29   ...   0   \n",
       "O=C1NC(=O)/C(=C\\c2c[nH]c(=O)c(-c3ccc(N4CCNCC4)n... 0      1     55   ...   0   \n",
       "Cc1cc(C)c(/C=C2\\C(=O)Nc3ccccc32)[nH]1              0      1     37   ...   0   \n",
       "\n",
       "                                                                    702 703  \\\n",
       "Smiles                                             Active train len           \n",
       "CNC(=O)c1cc(Oc2ccc(NC(=O)Nc3ccc(Cl)c(C(F)(F)F)c... 0      1     79    0   0   \n",
       "Cn1cc(C[C@@H](N)C(=O)O)c2ccccc21                   0      0     32    0   0   \n",
       "CCCNC(C)(C)COC(=O)c1ccccc1.Cl                      0      1     29    0   0   \n",
       "O=C1NC(=O)/C(=C\\c2c[nH]c(=O)c(-c3ccc(N4CCNCC4)n... 0      1     55    0   0   \n",
       "Cc1cc(C)c(/C=C2\\C(=O)Nc3ccccc32)[nH]1              0      1     37    0   0   \n",
       "\n",
       "                                                                    704 705  \\\n",
       "Smiles                                             Active train len           \n",
       "CNC(=O)c1cc(Oc2ccc(NC(=O)Nc3ccc(Cl)c(C(F)(F)F)c... 0      1     79    0   0   \n",
       "Cn1cc(C[C@@H](N)C(=O)O)c2ccccc21                   0      0     32    0   0   \n",
       "CCCNC(C)(C)COC(=O)c1ccccc1.Cl                      0      1     29    0   0   \n",
       "O=C1NC(=O)/C(=C\\c2c[nH]c(=O)c(-c3ccc(N4CCNCC4)n... 0      1     55    0   0   \n",
       "Cc1cc(C)c(/C=C2\\C(=O)Nc3ccccc32)[nH]1              0      1     37    0   0   \n",
       "\n",
       "                                                                    706 707  \\\n",
       "Smiles                                             Active train len           \n",
       "CNC(=O)c1cc(Oc2ccc(NC(=O)Nc3ccc(Cl)c(C(F)(F)F)c... 0      1     79    0   0   \n",
       "Cn1cc(C[C@@H](N)C(=O)O)c2ccccc21                   0      0     32    0   0   \n",
       "CCCNC(C)(C)COC(=O)c1ccccc1.Cl                      0      1     29    0   0   \n",
       "O=C1NC(=O)/C(=C\\c2c[nH]c(=O)c(-c3ccc(N4CCNCC4)n... 0      1     55    0   0   \n",
       "Cc1cc(C)c(/C=C2\\C(=O)Nc3ccccc32)[nH]1              0      1     37    0   0   \n",
       "\n",
       "                                                                    708 709  \\\n",
       "Smiles                                             Active train len           \n",
       "CNC(=O)c1cc(Oc2ccc(NC(=O)Nc3ccc(Cl)c(C(F)(F)F)c... 0      1     79    0   0   \n",
       "Cn1cc(C[C@@H](N)C(=O)O)c2ccccc21                   0      0     32    0   0   \n",
       "CCCNC(C)(C)COC(=O)c1ccccc1.Cl                      0      1     29    0   0   \n",
       "O=C1NC(=O)/C(=C\\c2c[nH]c(=O)c(-c3ccc(N4CCNCC4)n... 0      1     55    0   0   \n",
       "Cc1cc(C)c(/C=C2\\C(=O)Nc3ccccc32)[nH]1              0      1     37    0   0   \n",
       "\n",
       "                                                                    710  \n",
       "Smiles                                             Active train len      \n",
       "CNC(=O)c1cc(Oc2ccc(NC(=O)Nc3ccc(Cl)c(C(F)(F)F)c... 0      1     79    0  \n",
       "Cn1cc(C[C@@H](N)C(=O)O)c2ccccc21                   0      0     32    0  \n",
       "CCCNC(C)(C)COC(=O)c1ccccc1.Cl                      0      1     29    0  \n",
       "O=C1NC(=O)/C(=C\\c2c[nH]c(=O)c(-c3ccc(N4CCNCC4)n... 0      1     55    0  \n",
       "Cc1cc(C)c(/C=C2\\C(=O)Nc3ccccc32)[nH]1              0      1     37    0  \n",
       "\n",
       "[5 rows x 707 columns]"
      ]
     },
     "execution_count": 504,
     "metadata": {},
     "output_type": "execute_result"
    }
   ],
   "source": [
    "new_df.sample(5)"
   ]
  },
  {
   "cell_type": "code",
   "execution_count": 505,
   "id": "ffbfdac0",
   "metadata": {},
   "outputs": [
    {
     "name": "stderr",
     "output_type": "stream",
     "text": [
      "100%|█████████████████████████████████████████████████████████████████████████████| 7171/7171 [00:12<00:00, 576.88it/s]\n"
     ]
    }
   ],
   "source": [
    "from tqdm import tqdm\n",
    "import time\n",
    "\n",
    "for i in tqdm(range(len(new_df[4]))):\n",
    "    new_df.iloc[i] = new_df.iloc[i].map(atoms)"
   ]
  },
  {
   "cell_type": "code",
   "execution_count": null,
   "id": "badc9e4f",
   "metadata": {},
   "outputs": [],
   "source": []
  },
  {
   "cell_type": "code",
   "execution_count": 506,
   "id": "b00c9d67",
   "metadata": {},
   "outputs": [
    {
     "data": {
      "text/html": [
       "<div>\n",
       "<style scoped>\n",
       "    .dataframe tbody tr th:only-of-type {\n",
       "        vertical-align: middle;\n",
       "    }\n",
       "\n",
       "    .dataframe tbody tr th {\n",
       "        vertical-align: top;\n",
       "    }\n",
       "\n",
       "    .dataframe thead th {\n",
       "        text-align: right;\n",
       "    }\n",
       "</style>\n",
       "<table border=\"1\" class=\"dataframe\">\n",
       "  <thead>\n",
       "    <tr style=\"text-align: right;\">\n",
       "      <th></th>\n",
       "      <th></th>\n",
       "      <th></th>\n",
       "      <th></th>\n",
       "      <th>4</th>\n",
       "      <th>5</th>\n",
       "      <th>6</th>\n",
       "      <th>7</th>\n",
       "      <th>8</th>\n",
       "      <th>9</th>\n",
       "      <th>10</th>\n",
       "      <th>11</th>\n",
       "      <th>12</th>\n",
       "      <th>13</th>\n",
       "      <th>...</th>\n",
       "      <th>701</th>\n",
       "      <th>702</th>\n",
       "      <th>703</th>\n",
       "      <th>704</th>\n",
       "      <th>705</th>\n",
       "      <th>706</th>\n",
       "      <th>707</th>\n",
       "      <th>708</th>\n",
       "      <th>709</th>\n",
       "      <th>710</th>\n",
       "    </tr>\n",
       "    <tr>\n",
       "      <th>Smiles</th>\n",
       "      <th>Active</th>\n",
       "      <th>train</th>\n",
       "      <th>len</th>\n",
       "      <th></th>\n",
       "      <th></th>\n",
       "      <th></th>\n",
       "      <th></th>\n",
       "      <th></th>\n",
       "      <th></th>\n",
       "      <th></th>\n",
       "      <th></th>\n",
       "      <th></th>\n",
       "      <th></th>\n",
       "      <th></th>\n",
       "      <th></th>\n",
       "      <th></th>\n",
       "      <th></th>\n",
       "      <th></th>\n",
       "      <th></th>\n",
       "      <th></th>\n",
       "      <th></th>\n",
       "      <th></th>\n",
       "      <th></th>\n",
       "      <th></th>\n",
       "    </tr>\n",
       "  </thead>\n",
       "  <tbody>\n",
       "    <tr>\n",
       "      <th>O=C(CC(c1ccccc1)c1ccccc1)N1CCN(C(c2ccccc2)c2ccccc2)CC1</th>\n",
       "      <th>0</th>\n",
       "      <th>0</th>\n",
       "      <th>54</th>\n",
       "      <td>44</td>\n",
       "      <td>30</td>\n",
       "      <td>45</td>\n",
       "      <td>36</td>\n",
       "      <td>45</td>\n",
       "      <td>45</td>\n",
       "      <td>36</td>\n",
       "      <td>43</td>\n",
       "      <td>42</td>\n",
       "      <td>43</td>\n",
       "      <td>...</td>\n",
       "      <td>0</td>\n",
       "      <td>0</td>\n",
       "      <td>0</td>\n",
       "      <td>0</td>\n",
       "      <td>0</td>\n",
       "      <td>0</td>\n",
       "      <td>0</td>\n",
       "      <td>0</td>\n",
       "      <td>0</td>\n",
       "      <td>0</td>\n",
       "    </tr>\n",
       "    <tr>\n",
       "      <th>CN(CCCN1c2ccccc2CCc2ccccc21)CC(=O)c1ccc(Cl)cc1</th>\n",
       "      <th>0</th>\n",
       "      <th>0</th>\n",
       "      <th>46</th>\n",
       "      <td>45</td>\n",
       "      <td>35</td>\n",
       "      <td>36</td>\n",
       "      <td>45</td>\n",
       "      <td>45</td>\n",
       "      <td>45</td>\n",
       "      <td>35</td>\n",
       "      <td>42</td>\n",
       "      <td>43</td>\n",
       "      <td>41</td>\n",
       "      <td>...</td>\n",
       "      <td>0</td>\n",
       "      <td>0</td>\n",
       "      <td>0</td>\n",
       "      <td>0</td>\n",
       "      <td>0</td>\n",
       "      <td>0</td>\n",
       "      <td>0</td>\n",
       "      <td>0</td>\n",
       "      <td>0</td>\n",
       "      <td>0</td>\n",
       "    </tr>\n",
       "    <tr>\n",
       "      <th>C[C@@H]1O[C@@H](O[C@@H]2[C@@H](O)[C@H](OCCc3ccc(O)c(O)c3)O[C@H](CO)[C@H]2OC(=O)/C=C/c2ccc(O)c(O)c2)[C@H](O)[C@H](O)[C@H]1O</th>\n",
       "      <th>1</th>\n",
       "      <th>1</th>\n",
       "      <th>122</th>\n",
       "      <td>45</td>\n",
       "      <td>40</td>\n",
       "      <td>45</td>\n",
       "      <td>33</td>\n",
       "      <td>33</td>\n",
       "      <td>38</td>\n",
       "      <td>37</td>\n",
       "      <td>42</td>\n",
       "      <td>44</td>\n",
       "      <td>40</td>\n",
       "      <td>...</td>\n",
       "      <td>0</td>\n",
       "      <td>0</td>\n",
       "      <td>0</td>\n",
       "      <td>0</td>\n",
       "      <td>0</td>\n",
       "      <td>0</td>\n",
       "      <td>0</td>\n",
       "      <td>0</td>\n",
       "      <td>0</td>\n",
       "      <td>0</td>\n",
       "    </tr>\n",
       "    <tr>\n",
       "      <th>C[C@@H]1O[C@@H](O[C@H]2[C@H](O)[C@@H](O[C@@H]3O[C@@H](C)[C@H](O)[C@@H](O)[C@H]3O)[C@H](O[C@H]3CC[C@@]4(C)C(=CC[C@H]5[C@@H]6C[C@@H]7O[C@]8(CC[C@@H](C)CO8)[C@@H](C)[C@@H]7[C@@]6(C)CC[C@@H]54)C3)O[C@@H]2CO)[C@H](O)[C@H](O)[C@H]1O</th>\n",
       "      <th>0</th>\n",
       "      <th>0</th>\n",
       "      <th>226</th>\n",
       "      <td>45</td>\n",
       "      <td>40</td>\n",
       "      <td>45</td>\n",
       "      <td>33</td>\n",
       "      <td>33</td>\n",
       "      <td>38</td>\n",
       "      <td>37</td>\n",
       "      <td>42</td>\n",
       "      <td>44</td>\n",
       "      <td>40</td>\n",
       "      <td>...</td>\n",
       "      <td>0</td>\n",
       "      <td>0</td>\n",
       "      <td>0</td>\n",
       "      <td>0</td>\n",
       "      <td>0</td>\n",
       "      <td>0</td>\n",
       "      <td>0</td>\n",
       "      <td>0</td>\n",
       "      <td>0</td>\n",
       "      <td>0</td>\n",
       "    </tr>\n",
       "    <tr>\n",
       "      <th>c1ccc2c(CCNc3ccc(Nc4ccncc4)cc3)c[nH]c2c1</th>\n",
       "      <th>0</th>\n",
       "      <th>1</th>\n",
       "      <th>40</th>\n",
       "      <td>43</td>\n",
       "      <td>42</td>\n",
       "      <td>43</td>\n",
       "      <td>43</td>\n",
       "      <td>43</td>\n",
       "      <td>41</td>\n",
       "      <td>43</td>\n",
       "      <td>36</td>\n",
       "      <td>45</td>\n",
       "      <td>45</td>\n",
       "      <td>...</td>\n",
       "      <td>0</td>\n",
       "      <td>0</td>\n",
       "      <td>0</td>\n",
       "      <td>0</td>\n",
       "      <td>0</td>\n",
       "      <td>0</td>\n",
       "      <td>0</td>\n",
       "      <td>0</td>\n",
       "      <td>0</td>\n",
       "      <td>0</td>\n",
       "    </tr>\n",
       "  </tbody>\n",
       "</table>\n",
       "<p>5 rows × 707 columns</p>\n",
       "</div>"
      ],
      "text/plain": [
       "                                                                    4   5    \\\n",
       "Smiles                                             Active train len           \n",
       "O=C(CC(c1ccccc1)c1ccccc1)N1CCN(C(c2ccccc2)c2ccc... 0      0     54   44  30   \n",
       "CN(CCCN1c2ccccc2CCc2ccccc21)CC(=O)c1ccc(Cl)cc1     0      0     46   45  35   \n",
       "C[C@@H]1O[C@@H](O[C@@H]2[C@@H](O)[C@H](OCCc3ccc... 1      1     122  45  40   \n",
       "C[C@@H]1O[C@@H](O[C@H]2[C@H](O)[C@@H](O[C@@H]3O... 0      0     226  45  40   \n",
       "c1ccc2c(CCNc3ccc(Nc4ccncc4)cc3)c[nH]c2c1           0      1     40   43  42   \n",
       "\n",
       "                                                                    6   7    \\\n",
       "Smiles                                             Active train len           \n",
       "O=C(CC(c1ccccc1)c1ccccc1)N1CCN(C(c2ccccc2)c2ccc... 0      0     54   45  36   \n",
       "CN(CCCN1c2ccccc2CCc2ccccc21)CC(=O)c1ccc(Cl)cc1     0      0     46   36  45   \n",
       "C[C@@H]1O[C@@H](O[C@@H]2[C@@H](O)[C@H](OCCc3ccc... 1      1     122  45  33   \n",
       "C[C@@H]1O[C@@H](O[C@H]2[C@H](O)[C@@H](O[C@@H]3O... 0      0     226  45  33   \n",
       "c1ccc2c(CCNc3ccc(Nc4ccncc4)cc3)c[nH]c2c1           0      1     40   43  43   \n",
       "\n",
       "                                                                    8   9    \\\n",
       "Smiles                                             Active train len           \n",
       "O=C(CC(c1ccccc1)c1ccccc1)N1CCN(C(c2ccccc2)c2ccc... 0      0     54   45  45   \n",
       "CN(CCCN1c2ccccc2CCc2ccccc21)CC(=O)c1ccc(Cl)cc1     0      0     46   45  45   \n",
       "C[C@@H]1O[C@@H](O[C@@H]2[C@@H](O)[C@H](OCCc3ccc... 1      1     122  33  38   \n",
       "C[C@@H]1O[C@@H](O[C@H]2[C@H](O)[C@@H](O[C@@H]3O... 0      0     226  33  38   \n",
       "c1ccc2c(CCNc3ccc(Nc4ccncc4)cc3)c[nH]c2c1           0      1     40   43  41   \n",
       "\n",
       "                                                                    10  11   \\\n",
       "Smiles                                             Active train len           \n",
       "O=C(CC(c1ccccc1)c1ccccc1)N1CCN(C(c2ccccc2)c2ccc... 0      0     54   36  43   \n",
       "CN(CCCN1c2ccccc2CCc2ccccc21)CC(=O)c1ccc(Cl)cc1     0      0     46   35  42   \n",
       "C[C@@H]1O[C@@H](O[C@@H]2[C@@H](O)[C@H](OCCc3ccc... 1      1     122  37  42   \n",
       "C[C@@H]1O[C@@H](O[C@H]2[C@H](O)[C@@H](O[C@@H]3O... 0      0     226  37  42   \n",
       "c1ccc2c(CCNc3ccc(Nc4ccncc4)cc3)c[nH]c2c1           0      1     40   43  36   \n",
       "\n",
       "                                                                    12  13   \\\n",
       "Smiles                                             Active train len           \n",
       "O=C(CC(c1ccccc1)c1ccccc1)N1CCN(C(c2ccccc2)c2ccc... 0      0     54   42  43   \n",
       "CN(CCCN1c2ccccc2CCc2ccccc21)CC(=O)c1ccc(Cl)cc1     0      0     46   43  41   \n",
       "C[C@@H]1O[C@@H](O[C@@H]2[C@@H](O)[C@H](OCCc3ccc... 1      1     122  44  40   \n",
       "C[C@@H]1O[C@@H](O[C@H]2[C@H](O)[C@@H](O[C@@H]3O... 0      0     226  44  40   \n",
       "c1ccc2c(CCNc3ccc(Nc4ccncc4)cc3)c[nH]c2c1           0      1     40   45  45   \n",
       "\n",
       "                                                                     ... 701  \\\n",
       "Smiles                                             Active train len  ...       \n",
       "O=C(CC(c1ccccc1)c1ccccc1)N1CCN(C(c2ccccc2)c2ccc... 0      0     54   ...   0   \n",
       "CN(CCCN1c2ccccc2CCc2ccccc21)CC(=O)c1ccc(Cl)cc1     0      0     46   ...   0   \n",
       "C[C@@H]1O[C@@H](O[C@@H]2[C@@H](O)[C@H](OCCc3ccc... 1      1     122  ...   0   \n",
       "C[C@@H]1O[C@@H](O[C@H]2[C@H](O)[C@@H](O[C@@H]3O... 0      0     226  ...   0   \n",
       "c1ccc2c(CCNc3ccc(Nc4ccncc4)cc3)c[nH]c2c1           0      1     40   ...   0   \n",
       "\n",
       "                                                                    702 703  \\\n",
       "Smiles                                             Active train len           \n",
       "O=C(CC(c1ccccc1)c1ccccc1)N1CCN(C(c2ccccc2)c2ccc... 0      0     54    0   0   \n",
       "CN(CCCN1c2ccccc2CCc2ccccc21)CC(=O)c1ccc(Cl)cc1     0      0     46    0   0   \n",
       "C[C@@H]1O[C@@H](O[C@@H]2[C@@H](O)[C@H](OCCc3ccc... 1      1     122   0   0   \n",
       "C[C@@H]1O[C@@H](O[C@H]2[C@H](O)[C@@H](O[C@@H]3O... 0      0     226   0   0   \n",
       "c1ccc2c(CCNc3ccc(Nc4ccncc4)cc3)c[nH]c2c1           0      1     40    0   0   \n",
       "\n",
       "                                                                    704 705  \\\n",
       "Smiles                                             Active train len           \n",
       "O=C(CC(c1ccccc1)c1ccccc1)N1CCN(C(c2ccccc2)c2ccc... 0      0     54    0   0   \n",
       "CN(CCCN1c2ccccc2CCc2ccccc21)CC(=O)c1ccc(Cl)cc1     0      0     46    0   0   \n",
       "C[C@@H]1O[C@@H](O[C@@H]2[C@@H](O)[C@H](OCCc3ccc... 1      1     122   0   0   \n",
       "C[C@@H]1O[C@@H](O[C@H]2[C@H](O)[C@@H](O[C@@H]3O... 0      0     226   0   0   \n",
       "c1ccc2c(CCNc3ccc(Nc4ccncc4)cc3)c[nH]c2c1           0      1     40    0   0   \n",
       "\n",
       "                                                                    706 707  \\\n",
       "Smiles                                             Active train len           \n",
       "O=C(CC(c1ccccc1)c1ccccc1)N1CCN(C(c2ccccc2)c2ccc... 0      0     54    0   0   \n",
       "CN(CCCN1c2ccccc2CCc2ccccc21)CC(=O)c1ccc(Cl)cc1     0      0     46    0   0   \n",
       "C[C@@H]1O[C@@H](O[C@@H]2[C@@H](O)[C@H](OCCc3ccc... 1      1     122   0   0   \n",
       "C[C@@H]1O[C@@H](O[C@H]2[C@H](O)[C@@H](O[C@@H]3O... 0      0     226   0   0   \n",
       "c1ccc2c(CCNc3ccc(Nc4ccncc4)cc3)c[nH]c2c1           0      1     40    0   0   \n",
       "\n",
       "                                                                    708 709  \\\n",
       "Smiles                                             Active train len           \n",
       "O=C(CC(c1ccccc1)c1ccccc1)N1CCN(C(c2ccccc2)c2ccc... 0      0     54    0   0   \n",
       "CN(CCCN1c2ccccc2CCc2ccccc21)CC(=O)c1ccc(Cl)cc1     0      0     46    0   0   \n",
       "C[C@@H]1O[C@@H](O[C@@H]2[C@@H](O)[C@H](OCCc3ccc... 1      1     122   0   0   \n",
       "C[C@@H]1O[C@@H](O[C@H]2[C@H](O)[C@@H](O[C@@H]3O... 0      0     226   0   0   \n",
       "c1ccc2c(CCNc3ccc(Nc4ccncc4)cc3)c[nH]c2c1           0      1     40    0   0   \n",
       "\n",
       "                                                                    710  \n",
       "Smiles                                             Active train len      \n",
       "O=C(CC(c1ccccc1)c1ccccc1)N1CCN(C(c2ccccc2)c2ccc... 0      0     54    0  \n",
       "CN(CCCN1c2ccccc2CCc2ccccc21)CC(=O)c1ccc(Cl)cc1     0      0     46    0  \n",
       "C[C@@H]1O[C@@H](O[C@@H]2[C@@H](O)[C@H](OCCc3ccc... 1      1     122   0  \n",
       "C[C@@H]1O[C@@H](O[C@H]2[C@H](O)[C@@H](O[C@@H]3O... 0      0     226   0  \n",
       "c1ccc2c(CCNc3ccc(Nc4ccncc4)cc3)c[nH]c2c1           0      1     40    0  \n",
       "\n",
       "[5 rows x 707 columns]"
      ]
     },
     "execution_count": 506,
     "metadata": {},
     "output_type": "execute_result"
    }
   ],
   "source": [
    "new_df.sample(5)"
   ]
  },
  {
   "cell_type": "code",
   "execution_count": 507,
   "id": "219d7190",
   "metadata": {},
   "outputs": [],
   "source": [
    "new_df.reset_index(inplace = True)\n",
    "new_df.set_index(['Smiles'], inplace = True)"
   ]
  },
  {
   "cell_type": "code",
   "execution_count": 508,
   "id": "e4b60340",
   "metadata": {},
   "outputs": [
    {
     "data": {
      "text/html": [
       "<div>\n",
       "<style scoped>\n",
       "    .dataframe tbody tr th:only-of-type {\n",
       "        vertical-align: middle;\n",
       "    }\n",
       "\n",
       "    .dataframe tbody tr th {\n",
       "        vertical-align: top;\n",
       "    }\n",
       "\n",
       "    .dataframe thead th {\n",
       "        text-align: right;\n",
       "    }\n",
       "</style>\n",
       "<table border=\"1\" class=\"dataframe\">\n",
       "  <thead>\n",
       "    <tr style=\"text-align: right;\">\n",
       "      <th></th>\n",
       "      <th>Active</th>\n",
       "      <th>train</th>\n",
       "      <th>len</th>\n",
       "      <th>4</th>\n",
       "      <th>5</th>\n",
       "      <th>6</th>\n",
       "      <th>7</th>\n",
       "      <th>8</th>\n",
       "      <th>9</th>\n",
       "      <th>10</th>\n",
       "      <th>...</th>\n",
       "      <th>701</th>\n",
       "      <th>702</th>\n",
       "      <th>703</th>\n",
       "      <th>704</th>\n",
       "      <th>705</th>\n",
       "      <th>706</th>\n",
       "      <th>707</th>\n",
       "      <th>708</th>\n",
       "      <th>709</th>\n",
       "      <th>710</th>\n",
       "    </tr>\n",
       "    <tr>\n",
       "      <th>Smiles</th>\n",
       "      <th></th>\n",
       "      <th></th>\n",
       "      <th></th>\n",
       "      <th></th>\n",
       "      <th></th>\n",
       "      <th></th>\n",
       "      <th></th>\n",
       "      <th></th>\n",
       "      <th></th>\n",
       "      <th></th>\n",
       "      <th></th>\n",
       "      <th></th>\n",
       "      <th></th>\n",
       "      <th></th>\n",
       "      <th></th>\n",
       "      <th></th>\n",
       "      <th></th>\n",
       "      <th></th>\n",
       "      <th></th>\n",
       "      <th></th>\n",
       "      <th></th>\n",
       "    </tr>\n",
       "  </thead>\n",
       "  <tbody>\n",
       "    <tr>\n",
       "      <th>CC(C)[C@H](N)C(=O)OCCOCn1cnc2c(=O)nc(N)[nH]c21</th>\n",
       "      <td>0</td>\n",
       "      <td>1</td>\n",
       "      <td>46</td>\n",
       "      <td>45</td>\n",
       "      <td>45</td>\n",
       "      <td>36</td>\n",
       "      <td>45</td>\n",
       "      <td>34</td>\n",
       "      <td>40</td>\n",
       "      <td>45</td>\n",
       "      <td>...</td>\n",
       "      <td>0</td>\n",
       "      <td>0</td>\n",
       "      <td>0</td>\n",
       "      <td>0</td>\n",
       "      <td>0</td>\n",
       "      <td>0</td>\n",
       "      <td>0</td>\n",
       "      <td>0</td>\n",
       "      <td>0</td>\n",
       "      <td>0</td>\n",
       "    </tr>\n",
       "  </tbody>\n",
       "</table>\n",
       "<p>1 rows × 710 columns</p>\n",
       "</div>"
      ],
      "text/plain": [
       "                                                Active  train  len   4   5  \\\n",
       "Smiles                                                                       \n",
       "CC(C)[C@H](N)C(=O)OCCOCn1cnc2c(=O)nc(N)[nH]c21       0      1   46  45  45   \n",
       "\n",
       "                                                 6   7   8   9  10  ... 701  \\\n",
       "Smiles                                                              ...       \n",
       "CC(C)[C@H](N)C(=O)OCCOCn1cnc2c(=O)nc(N)[nH]c21  36  45  34  40  45  ...   0   \n",
       "\n",
       "                                               702 703 704 705 706 707 708  \\\n",
       "Smiles                                                                       \n",
       "CC(C)[C@H](N)C(=O)OCCOCn1cnc2c(=O)nc(N)[nH]c21   0   0   0   0   0   0   0   \n",
       "\n",
       "                                               709 710  \n",
       "Smiles                                                  \n",
       "CC(C)[C@H](N)C(=O)OCCOCn1cnc2c(=O)nc(N)[nH]c21   0   0  \n",
       "\n",
       "[1 rows x 710 columns]"
      ]
     },
     "execution_count": 508,
     "metadata": {},
     "output_type": "execute_result"
    }
   ],
   "source": [
    "new_df.sample()"
   ]
  },
  {
   "cell_type": "code",
   "execution_count": 509,
   "id": "98021bc3",
   "metadata": {},
   "outputs": [],
   "source": [
    "#new_df = new_df.astype({\"Active\": \"Int64\"})"
   ]
  },
  {
   "cell_type": "code",
   "execution_count": 510,
   "id": "174b02e3",
   "metadata": {},
   "outputs": [],
   "source": [
    "train_new = new_df[new_df['train'] == 1]\n",
    "test_new =new_df[new_df['train'] == 0]"
   ]
  },
  {
   "cell_type": "code",
   "execution_count": 511,
   "id": "3a080520",
   "metadata": {},
   "outputs": [],
   "source": [
    "X = train_new.drop(['Active', 'train'], axis = 1)\n",
    "y = train_new['Active']"
   ]
  },
  {
   "cell_type": "code",
   "execution_count": 512,
   "id": "c2b25667",
   "metadata": {},
   "outputs": [
    {
     "name": "stdout",
     "output_type": "stream",
     "text": [
      "<class 'pandas.core.frame.DataFrame'>\n",
      "Index: 5557 entries, COc1ccc2[nH]cc(CCN)c2c1 to CCCCNc1ccc(C(=O)OCCN(C)C)cc1.Cl\n",
      "Columns: 708 entries, len to 710\n",
      "dtypes: int64(1), object(707)\n",
      "memory usage: 30.1+ MB\n"
     ]
    }
   ],
   "source": [
    "X.info()"
   ]
  },
  {
   "cell_type": "code",
   "execution_count": 513,
   "id": "287144e0",
   "metadata": {},
   "outputs": [],
   "source": [
    "from sklearn import model_selection, datasets, metrics, tree \n",
    "from sklearn.ensemble import BaggingClassifier, RandomForestClassifier"
   ]
  },
  {
   "cell_type": "code",
   "execution_count": 514,
   "id": "f7664a15",
   "metadata": {},
   "outputs": [],
   "source": [
    "train_data, test_data, train_labels, test_labels = model_selection.train_test_split(X, y, \n",
    "                                                                                    test_size=0.30, random_state=RANDOM_SEED)"
   ]
  },
  {
   "cell_type": "code",
   "execution_count": 515,
   "id": "02f2305d",
   "metadata": {},
   "outputs": [],
   "source": [
    "from lazypredict.Supervised import LazyClassifier"
   ]
  },
  {
   "cell_type": "code",
   "execution_count": 516,
   "id": "f2ada51c",
   "metadata": {},
   "outputs": [
    {
     "name": "stderr",
     "output_type": "stream",
     "text": [
      "100%|██████████████████████████████████████████████████████████████████████████████████| 29/29 [02:22<00:00,  4.91s/it]\n"
     ]
    }
   ],
   "source": [
    "clf_lc = LazyClassifier(verbose=0,ignore_warnings=True, custom_metric=None)\n",
    "models,predictions = clf_lc.fit(train_data, test_data, train_labels, test_labels)"
   ]
  },
  {
   "cell_type": "code",
   "execution_count": 517,
   "id": "94975a61",
   "metadata": {},
   "outputs": [
    {
     "name": "stdout",
     "output_type": "stream",
     "text": [
      "Empty DataFrame\n",
      "Columns: [Accuracy, Balanced Accuracy, ROC AUC, F1 Score, Time Taken]\n",
      "Index: []\n"
     ]
    }
   ],
   "source": [
    "print(models)"
   ]
  },
  {
   "cell_type": "code",
   "execution_count": 518,
   "id": "e921b11d",
   "metadata": {},
   "outputs": [
    {
     "data": {
      "text/plain": [
       "DecisionTreeClassifier()"
      ]
     },
     "execution_count": 518,
     "metadata": {},
     "output_type": "execute_result"
    }
   ],
   "source": [
    "clf = tree.DecisionTreeClassifier()\n",
    "clf.fit(train_data, train_labels)"
   ]
  },
  {
   "cell_type": "code",
   "execution_count": 519,
   "id": "33a12d45",
   "metadata": {},
   "outputs": [
    {
     "data": {
      "text/plain": [
       "0.0875912408759124"
      ]
     },
     "execution_count": 519,
     "metadata": {},
     "output_type": "execute_result"
    }
   ],
   "source": [
    "predictions_clf = clf.predict(test_data)\n",
    "metrics.f1_score(test_labels, predictions_clf)"
   ]
  },
  {
   "cell_type": "code",
   "execution_count": 520,
   "id": "08ab82e9",
   "metadata": {},
   "outputs": [
    {
     "name": "stdout",
     "output_type": "stream",
     "text": [
      "0.9624582717127705 {'max_depth': 4}\n"
     ]
    }
   ],
   "source": [
    "from sklearn.model_selection import GridSearchCV\n",
    "\n",
    "parameters = {'max_depth':range(3,20)}\n",
    "clf = GridSearchCV(tree.DecisionTreeClassifier(), parameters, n_jobs=4)\n",
    "clf.fit(X=train_data, y=train_labels)\n",
    "tree_model = clf.best_estimator_\n",
    "print (clf.best_score_, clf.best_params_)"
   ]
  },
  {
   "cell_type": "code",
   "execution_count": 522,
   "id": "1a01f730",
   "metadata": {},
   "outputs": [
    {
     "data": {
      "text/plain": [
       "DecisionTreeClassifier(max_depth=4)"
      ]
     },
     "execution_count": 522,
     "metadata": {},
     "output_type": "execute_result"
    }
   ],
   "source": [
    "clf_4 = tree.DecisionTreeClassifier(max_depth = 4)\n",
    "clf_4.fit(train_data, train_labels)"
   ]
  },
  {
   "cell_type": "code",
   "execution_count": 523,
   "id": "8187f98b",
   "metadata": {},
   "outputs": [
    {
     "data": {
      "text/plain": [
       "0.0"
      ]
     },
     "execution_count": 523,
     "metadata": {},
     "output_type": "execute_result"
    }
   ],
   "source": [
    "predictions_clf = clf_4.predict(test_data)\n",
    "metrics.f1_score(test_labels, predictions_clf)"
   ]
  },
  {
   "cell_type": "code",
   "execution_count": null,
   "id": "802f1e8d",
   "metadata": {},
   "outputs": [],
   "source": [
    "bagging_trees = BaggingClassifier(clf, n_estimators = 150)\n",
    "bagging_trees.fit(train_data,train_labels)\n",
    "predictions_bg = bagging_trees.predict(test_data)"
   ]
  },
  {
   "cell_type": "code",
   "execution_count": null,
   "id": "39e232eb",
   "metadata": {},
   "outputs": [],
   "source": [
    "metrics.f1_score(test_labels, predictions_bg)"
   ]
  },
  {
   "cell_type": "code",
   "execution_count": null,
   "id": "33b4765d",
   "metadata": {},
   "outputs": [],
   "source": [
    "from sklearn.neighbors import NearestCentroid"
   ]
  },
  {
   "cell_type": "code",
   "execution_count": null,
   "id": "f0ac0b6f",
   "metadata": {},
   "outputs": [],
   "source": [
    "NC_model = NearestCentroid()"
   ]
  },
  {
   "cell_type": "code",
   "execution_count": null,
   "id": "bff3def7",
   "metadata": {},
   "outputs": [],
   "source": [
    "train_data, test_data, train_labels, test_labels\n",
    "NC_model.fit(train_data, train_labels)\n",
    "predictions_clf_tree = NC_model.predict(test_data)\n",
    "metrics.f1_score(test_labels, predictions_clf_tree)"
   ]
  },
  {
   "cell_type": "code",
   "execution_count": null,
   "id": "be873189",
   "metadata": {},
   "outputs": [],
   "source": [
    "from sklearn.ensemble import RandomForestClassifier\n",
    "\n",
    "clf_rf = RandomForestClassifier()\n"
   ]
  },
  {
   "cell_type": "code",
   "execution_count": null,
   "id": "49bec648",
   "metadata": {},
   "outputs": [],
   "source": [
    "clf_rf.fit(train_data, train_labels)\n",
    "predictions_clf_rf = clf_rf.predict(test_data)\n",
    "metrics.f1_score(test_labels, predictions_clf_rf)"
   ]
  },
  {
   "cell_type": "code",
   "execution_count": null,
   "id": "4ab5358c",
   "metadata": {},
   "outputs": [],
   "source": [
    "test_new_data = test_new.drop(['Active'], axis = 1) "
   ]
  },
  {
   "cell_type": "code",
   "execution_count": null,
   "id": "3c136c3a",
   "metadata": {},
   "outputs": [],
   "source": [
    "predictions = clf.predict(test_new_data)"
   ]
  },
  {
   "cell_type": "code",
   "execution_count": null,
   "id": "b4227802",
   "metadata": {},
   "outputs": [],
   "source": [
    "test_new_data['Active'] = predictions"
   ]
  },
  {
   "cell_type": "code",
   "execution_count": null,
   "id": "d4059e62",
   "metadata": {},
   "outputs": [],
   "source": [
    "test_new_data.sample(5)"
   ]
  },
  {
   "cell_type": "code",
   "execution_count": null,
   "id": "4726510a",
   "metadata": {},
   "outputs": [],
   "source": [
    "test_new_data.reset_index(inplace = True)"
   ]
  },
  {
   "cell_type": "code",
   "execution_count": null,
   "id": "0393c149",
   "metadata": {},
   "outputs": [],
   "source": [
    "test_new_data.sample(5)"
   ]
  },
  {
   "cell_type": "code",
   "execution_count": null,
   "id": "f0dbb6e9",
   "metadata": {},
   "outputs": [],
   "source": [
    "submission = test_new_data[['Smiles', 'Active']]"
   ]
  },
  {
   "cell_type": "code",
   "execution_count": null,
   "id": "e228a40a",
   "metadata": {},
   "outputs": [],
   "source": [
    "submission.sample(4)"
   ]
  },
  {
   "cell_type": "markdown",
   "id": "9de6e950",
   "metadata": {},
   "source": [
    "submission['Active'] = submission['Active'].apply(lambda x: int(x))"
   ]
  },
  {
   "cell_type": "code",
   "execution_count": null,
   "id": "22bb7e78",
   "metadata": {},
   "outputs": [],
   "source": [
    "submission.to_csv('submission_2.csv', index=False)"
   ]
  }
 ],
 "metadata": {
  "kernelspec": {
   "display_name": "Python 3 (ipykernel)",
   "language": "python",
   "name": "python3"
  },
  "language_info": {
   "codemirror_mode": {
    "name": "ipython",
    "version": 3
   },
   "file_extension": ".py",
   "mimetype": "text/x-python",
   "name": "python",
   "nbconvert_exporter": "python",
   "pygments_lexer": "ipython3",
   "version": "3.8.11"
  }
 },
 "nbformat": 4,
 "nbformat_minor": 5
}
